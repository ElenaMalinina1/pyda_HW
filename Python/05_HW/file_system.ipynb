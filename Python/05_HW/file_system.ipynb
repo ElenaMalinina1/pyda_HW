{
 "cells": [
  {
   "cell_type": "markdown",
   "id": "4fe63332-ce2e-4e41-93b3-d9f4b362e940",
   "metadata": {},
   "source": [
    "# Задание 1\n",
    "Переведите содержимое файла purchase_log.txt в словарь purchases вида: {‘1840e0b9d4’: ‘Продукты’, …}"
   ]
  },
  {
   "cell_type": "code",
   "execution_count": 1,
   "id": "acccb81c-6a61-4ea4-bd80-9ad7f535007d",
   "metadata": {},
   "outputs": [],
   "source": [
    "import json"
   ]
  },
  {
   "cell_type": "code",
   "execution_count": 2,
   "id": "5158ced4-7e81-4c42-babd-669cd1b98807",
   "metadata": {},
   "outputs": [],
   "source": [
    "with open ('purchase_log.txt', encoding= 'utf-8') as f:\n",
    "    purchases = {}\n",
    "    for line in f:\n",
    "        key, value =json.loads(line).values()\n",
    "        purchases.setdefault(key, [])\n",
    "        purchases[key].append(value)\n",
    "#     pprint(purchases)"
   ]
  },
  {
   "cell_type": "markdown",
   "id": "986257b9-b28b-47b3-8b2d-a4f80a1c49a6",
   "metadata": {},
   "source": [
    "# Задание 2\n",
    "Для каждого user_id в файле visit_log.csv определите третий столбец с категорией покупки (если покупка была, сам файл visit_log.csv изменять не надо). Запишите в файл funnel.csv визиты из файла visit_log.csv, в которых были покупки с указанием категории. Учтите условия на данные: содержимое purchase_log.txt помещается в оперативную память компьютера содержимое visit_log.csv - нет; используйте только построчную обработку этого файла"
   ]
  },
  {
   "cell_type": "code",
   "execution_count": 3,
   "id": "27789bef-41af-4d56-809f-fe39f5156939",
   "metadata": {},
   "outputs": [
    {
     "name": "stdout",
     "output_type": "stream",
     "text": [
      "<_io.TextIOWrapper name='funnel.csv' mode='w' encoding='utf-8'>\n"
     ]
    }
   ],
   "source": [
    "with open ('visit_log.csv', encoding = 'utf-8') as f2read:\n",
    "    with open('funnel.csv', 'w', encoding = 'utf-8') as f2write:\n",
    "        for string in f2read:\n",
    "            string = string.strip().split(',')\n",
    "#             print(string)\n",
    "            if string[0] in purchases.keys():\n",
    "                el = string\n",
    "                el.append(purchases.get(string[0]))\n",
    "#                 print(el)\n",
    "                f2write.write(str(el) + '\\n')\n",
    "        print(f2write)"
   ]
  },
  {
   "cell_type": "code",
   "execution_count": 5,
   "id": "cc5e515f-bfb6-49d7-9c24-3b440148b298",
   "metadata": {},
   "outputs": [
    {
     "name": "stdout",
     "output_type": "stream",
     "text": [
      "['user_id', 'source', ['category']]\n",
      "\n",
      "['1840e0b9d4', 'other', ['Продукты']]\n",
      "\n",
      "['4e4f90fcfb', 'context', ['Электроника']]\n",
      "\n",
      "['afea8d72fc', 'other', ['Электроника']]\n",
      "\n",
      "['2824221f38', 'email', ['Продукты']]\n",
      "\n",
      "['373a6055fe', 'other', ['Бытовая техника']]\n",
      "\n",
      "['9b2ab046f3', 'other', ['Электроника']]\n",
      "\n",
      "['9f39d307c3', 'context', ['Электроника']]\n",
      "\n"
     ]
    }
   ],
   "source": [
    "a = 0\n",
    "with open ('funnel.csv', encoding = 'utf-8') as d:\n",
    "    for line in d:\n",
    "        print(line)\n",
    "        \n",
    "        a += 1\n",
    "        if a > 7:\n",
    "            break"
   ]
  }
 ],
 "metadata": {
  "kernelspec": {
   "display_name": "Python 3 (ipykernel)",
   "language": "python",
   "name": "python3"
  },
  "language_info": {
   "codemirror_mode": {
    "name": "ipython",
    "version": 3
   },
   "file_extension": ".py",
   "mimetype": "text/x-python",
   "name": "python",
   "nbconvert_exporter": "python",
   "pygments_lexer": "ipython3",
   "version": "3.9.12"
  }
 },
 "nbformat": 4,
 "nbformat_minor": 5
}
