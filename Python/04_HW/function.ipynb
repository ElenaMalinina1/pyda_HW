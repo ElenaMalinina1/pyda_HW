{
 "cells": [
  {
   "cell_type": "markdown",
   "id": "cccd4242-4cf3-4c91-bade-ea7518d0917e",
   "metadata": {},
   "source": [
    "# Задание\n",
    "Вам нужно помочь секретарю автоматизировать работу. Для этого нужно написать программу, которая будет на основе хранимых данных исполнять пользовательские команды. \n",
    "\n",
    "Общие требования к программе:\n",
    "\n",
    "- код должен быть грамотно декомпозирован (каждая функция отвечает за свою конкретную задачу, дублирующийся функционал переиспользуется, а его код не повторяется);\n",
    "- в коде отсутствуют глобальные переменные (за исключением documents и directories);\n",
    "- пользовательский ввод обрабатывается в цикле while до тех пор, пока пользователь явно не завершит программу (вводом команды \"q\")."
   ]
  },
  {
   "cell_type": "code",
   "execution_count": 1,
   "id": "15ea73a1-4363-45ee-ab7b-2b1d05470d69",
   "metadata": {},
   "outputs": [],
   "source": [
    "documents = [\n",
    " {'type': 'passport', 'number': '2207 876234', 'name': 'Василий Гупкин'},\n",
    " {'type': 'invoice', 'number': '11-2', 'name': 'Геннадий Покемонов'},\n",
    " {'type': 'insurance', 'number': '10006', 'name': 'Аристарх Павлов'}\n",
    "]\n",
    "\n",
    "directories = {\n",
    " '1': ['2207 876234', '11-2'],\n",
    " '2': ['10006'],\n",
    " '3': []\n",
    "}"
   ]
  },
  {
   "cell_type": "markdown",
   "id": "dac8dff1-07ff-4e0f-b04b-694d63e9ed8b",
   "metadata": {},
   "source": [
    "# Задание 1\n",
    "Пункт 1. Пользователь по команде \"p\" может узнать владельца документа по его номеру"
   ]
  },
  {
   "cell_type": "code",
   "execution_count": 2,
   "id": "c3a25096-640f-41ea-8c30-2a023a08b0c5",
   "metadata": {},
   "outputs": [
    {
     "name": "stdin",
     "output_type": "stream",
     "text": [
      "Введите команду:  q\n"
     ]
    },
    {
     "name": "stdout",
     "output_type": "stream",
     "text": [
      "До свидания!\n"
     ]
    }
   ],
   "source": [
    "while True:\n",
    "    \"\"\"\n",
    "    Пользователь по команде \"p\" может узнать владельца документа по его номеру;\n",
    "    Пользователь по команде \"s\" может по номеру документа узнать на какой полке он хранится;\n",
    "    Пользователь по команде \"l\" может увидеть полную информацию по всем документам;\n",
    "    Пользователь по команде \"ads\" может добавить новую полку;\n",
    "    Пользователь по команде \"ds\" может удалить существующую полку из данных (только если она пустая);\n",
    "    Пользователь по команде \"q\" может завершить программу.\n",
    "    \"\"\"\n",
    "    command = input('Введите команду: ')\n",
    "    if command == 'p':\n",
    "        print(own_document())\n",
    "    elif command == 's':\n",
    "        print(num_shelf())\n",
    "    elif command == 'l':\n",
    "        print(full_info())\n",
    "    elif command == 'ads':\n",
    "        print(add_shelf())\n",
    "    elif command == 'q':\n",
    "        print('До свидания!')\n",
    "        break"
   ]
  },
  {
   "cell_type": "code",
   "execution_count": 3,
   "id": "04be4687-904d-43ba-935d-3c376c6d52f6",
   "metadata": {},
   "outputs": [],
   "source": [
    "def own_document():\n",
    "    user_input = input('Введите номер документа: ')\n",
    "    for number in documents:\n",
    "        if user_input == number['number']:\n",
    "            return 'Владелец документа: ', number['name']\n",
    "        \n",
    "    return 'Документ не найден в базе'"
   ]
  },
  {
   "cell_type": "markdown",
   "id": "3ba7a7f9-a21e-4bfb-a545-ab3221c7a3bb",
   "metadata": {},
   "source": [
    "# Пункт 2. Пользователь по команде \"s\" может по номеру документа узнать на какой полке он хранится"
   ]
  },
  {
   "cell_type": "code",
   "execution_count": 4,
   "id": "46fed952-4a74-41ad-b96a-632da84380a8",
   "metadata": {},
   "outputs": [],
   "source": [
    "def num_shelf():\n",
    "    user_input = input('Введите номер документа: ')\n",
    "    for key, value in directories.items():\n",
    "        if user_input in value:\n",
    "            return 'Документ хранится на полке: ', key\n",
    "        \n",
    "        return 'Документ не найден в базе'"
   ]
  },
  {
   "cell_type": "markdown",
   "id": "2f22ec52-548f-487e-8305-34af11de2e77",
   "metadata": {},
   "source": [
    "# Пункт 3. Пользователь по команде \"l\" может увидеть полную информацию по всем документам"
   ]
  },
  {
   "cell_type": "code",
   "execution_count": 5,
   "id": "22c92d94-1abb-4a93-b01f-07e9b82ffb2b",
   "metadata": {},
   "outputs": [],
   "source": [
    "def full_info():\n",
    "    for doc in documents:\n",
    "        for key, value in directories.items():\n",
    "            if doc['number'] in value:\n",
    "                return f\"№: {doc['number']}, тип: {doc['type']}, владелец: {doc['name']}, полка хранения: {key}\""
   ]
  },
  {
   "cell_type": "markdown",
   "id": "53a2be02-6856-44aa-ba5b-46279ddb69db",
   "metadata": {},
   "source": [
    "# Пункт 4. Пользователь по команде \"ads\" может добавить новую полку"
   ]
  },
  {
   "cell_type": "code",
   "execution_count": 6,
   "id": "2050a505-b311-497d-a024-cc22999c0799",
   "metadata": {},
   "outputs": [],
   "source": [
    "def add_shelf():\n",
    "    user_input = input('Введите номер полки: ')\n",
    "    for key, value in directories.items():\n",
    "        if user_input not in directories.keys():\n",
    "            directories[user_input] = []\n",
    "            return 'Полка добавлена. Текущий перечень полок:', *directories.keys()\n",
    "        else:\n",
    "            return 'Такая полка уже существует. Текущий перечень полок: ',  *directories.keys()"
   ]
  },
  {
   "cell_type": "markdown",
   "id": "c48aa676-aedb-4e1f-88a9-0de22480f89f",
   "metadata": {},
   "source": [
    "# Пункт 5. Пользователь по команде \"ds\" может удалить существующую полку из данных (только если она пустая)"
   ]
  },
  {
   "cell_type": "code",
   "execution_count": 7,
   "id": "9001eb97-5d15-46a2-92b4-ce2f4b27a255",
   "metadata": {},
   "outputs": [],
   "source": [
    "def del_shelf():\n",
    "    user_input = input('Введите номер полки: ')\n",
    "    if user_input in directories and len(directories[user_input]) == 0:\n",
    "        directories.pop(user_input)\n",
    "        return 'Полка удалена. Текущий перечень полок:', *directories.keys()\n",
    "    else:\n",
    "        return 'На полке есть документа, удалите их перед удалением полки. Текущий перечень полок:', *directories.keys()"
   ]
  }
 ],
 "metadata": {
  "kernelspec": {
   "display_name": "Python 3 (ipykernel)",
   "language": "python",
   "name": "python3"
  },
  "language_info": {
   "codemirror_mode": {
    "name": "ipython",
    "version": 3
   },
   "file_extension": ".py",
   "mimetype": "text/x-python",
   "name": "python",
   "nbconvert_exporter": "python",
   "pygments_lexer": "ipython3",
   "version": "3.9.12"
  }
 },
 "nbformat": 4,
 "nbformat_minor": 5
}
