{
 "cells": [
  {
   "cell_type": "markdown",
   "id": "4c002f36-df95-4a1f-86d1-6d4d4faf9121",
   "metadata": {},
   "source": [
    "# Задачи"
   ]
  },
  {
   "cell_type": "markdown",
   "id": "d64d5d22-295c-4ce3-b7be-88dadf57532e",
   "metadata": {},
   "source": [
    "В этой задаче вам нужно написать программу, которая считывает два вещественных числа и выведет их сумму (подвохов в ней нет). Числа задаются по одному в строке.\n",
    "\n",
    "Напомним, что для преобразования строки в вещественное число используется функция float"
   ]
  },
  {
   "cell_type": "code",
   "execution_count": 13,
   "id": "7aeae815-ab65-449c-a886-cf9530a47bcc",
   "metadata": {},
   "outputs": [
    {
     "name": "stdin",
     "output_type": "stream",
     "text": [
      " 1\n",
      " 2\n"
     ]
    },
    {
     "name": "stdout",
     "output_type": "stream",
     "text": [
      "3.0\n"
     ]
    }
   ],
   "source": [
    "a = float(input())\n",
    "b = float(input())\n",
    "print(a + b)"
   ]
  },
  {
   "cell_type": "markdown",
   "id": "065e7dbe-3bde-4041-aff9-d63f32a2e205",
   "metadata": {},
   "source": [
    "Еще одна задача без подвоха :)\n",
    "\n",
    "Вам необходимо написать программу, которая считает вещественные числа A и B и выведет результат деления A на B.\n",
    "\n",
    "Напомним, что вещественное деление делается с помощью операции / (в отличие от деления нацело, которое делается с помощью операции //)."
   ]
  },
  {
   "cell_type": "code",
   "execution_count": null,
   "id": "8337f1cb-7bac-4665-ae9c-5598f6c72212",
   "metadata": {},
   "outputs": [],
   "source": [
    "a = float(input())\n",
    "b = float(input())\n",
    "print(a / b)"
   ]
  },
  {
   "cell_type": "markdown",
   "id": "035646c0-4a99-4d5f-94ca-f7db6e234069",
   "metadata": {},
   "source": [
    "Дано положительное вещественное число X. Выведите его дробную часть."
   ]
  },
  {
   "cell_type": "code",
   "execution_count": 79,
   "id": "a20a78d6-4eaa-49fd-a473-a453429f6f54",
   "metadata": {},
   "outputs": [
    {
     "name": "stdin",
     "output_type": "stream",
     "text": [
      " 17.9\n"
     ]
    },
    {
     "name": "stdout",
     "output_type": "stream",
     "text": [
      "0.9\n"
     ]
    }
   ],
   "source": [
    "x = float(input())\n",
    "\n",
    "if x % 1 == 0.0:\n",
    "    print(0)\n",
    "else:\n",
    "    x = round(x - int(x), 3)\n",
    "    print(abs(x))"
   ]
  },
  {
   "cell_type": "markdown",
   "id": "e06d9b4d-d610-411a-91fd-8fb4262d9ad1",
   "metadata": {},
   "source": [
    "По российский правилам числа округляются до ближайшего целого числа, а если дробная часть числа равна 0.5, то число округляется вверх.\n",
    "Дано неотрицательное вещественное число X, округлите его по этим правилам.\n",
    "Обратите внимание, что функция round не подходит для этой задачи!"
   ]
  },
  {
   "cell_type": "code",
   "execution_count": 81,
   "id": "9d092dbc-2fa1-4873-ac4f-fecbf64afa1e",
   "metadata": {},
   "outputs": [
    {
     "name": "stdin",
     "output_type": "stream",
     "text": [
      " 3.9999\n"
     ]
    },
    {
     "name": "stdout",
     "output_type": "stream",
     "text": [
      "4\n"
     ]
    }
   ],
   "source": [
    "import math\n",
    "x = abs(float(input()))\n",
    "if x % 1 < 0.5:\n",
    "    print(math.floor(x))\n",
    "else:\n",
    "    print(math.ceil(x))"
   ]
  },
  {
   "cell_type": "markdown",
   "id": "01df5e77-854b-4602-8347-75f399326e04",
   "metadata": {},
   "source": [
    "Процентная ставка по вкладу составляет P процентов годовых, которые прибавляются к сумме вклада. Вклад составляет X рублей Y копеек. Определите размер вклада через год. \n",
    "\n",
    "Программа получает на вход целые числа P, X, Y.\n",
    "\n",
    "Программа должна вывести два числа: величину вклада через год в рублях и копейках. Дробная часть копеек отбрасывается."
   ]
  },
  {
   "cell_type": "code",
   "execution_count": null,
   "id": "487fc100-05b9-4f0d-94ad-4d6f2fe32e0b",
   "metadata": {},
   "outputs": [],
   "source": [
    "p = abs(float(input()))\n",
    "x = abs(float(input()))\n",
    "y = abs(float(input()))\n",
    "\n",
    "cents = x * 100 + y\n",
    "total_in_pennies = cents + cents * p / 100\n",
    "total_in_rubles = total_in_pennies / 100\n",
    "total_in_rubles = str(total_in_rubles)\n",
    "total_in_rubles_list = total_in_rubles.split(sep='.')\n",
    "rubles = int(total_in_rubles_list[0])\n",
    "pennies = str(total_in_rubles_list[1])\n",
    "pennies = int(pennies[:2])\n",
    "print(rubles, pennies)"
   ]
  },
  {
   "cell_type": "markdown",
   "id": "e5c1df29-cf03-4526-9298-00f7acbc5057",
   "metadata": {},
   "source": [
    "Напоминание про работу со строками:\n",
    "\n",
    "len(s) - определить длину строки s\n",
    "\n",
    "s[i] - получить i-ый символ строки (нумерация с нуля, i - положительное), в случае отрицательного i нумерация идет справа-налево, начиная с -1, например, s[-1] - это последний символ строки\n",
    "\n",
    "s[i:j] - получить все символы с i-го включительно по j-ый не включительно\n",
    "\n",
    "s[:i] - все символы до i-го не включительно\n",
    "\n",
    "s[i:] - все символы, начиная с i-го включительно\n",
    "\n",
    "s[i:j:k] - все символы с i-го включитель по j-ый не включительно с шагом k, если шаг отрицательный, то i должно указывать на символ стоящий правее, чем j\n",
    "\n",
    "Задача:\n",
    "\n",
    "Дана строка.\n",
    "\n",
    "Сначала выведите третий символ этой строки (считая, что нумерация символов начинается с 1).\n",
    "\n",
    "Во второй строке выведите предпоследний символ этой строки.\n",
    "\n",
    "В третьей строке выведите первые пять символов этой строки.\n",
    "\n",
    "В четвертой строке выведите всю строку, кроме последних двух символов.\n",
    "\n",
    "В пятой строке выведите все символы с четными индексами (считая, что индексация начинается с 0).\n",
    "\n",
    "В шестой строке выведите все символы с нечетными индексами (считая, что индексация начинается с 0).\n",
    "\n",
    "В седьмой строке выведите все символы в обратном порядке.\n",
    "\n",
    "В восьмой строке выведите все символы строки через один в обратном порядке, начиная с последнего.\n",
    "\n",
    "В девятой строке выведите длину данной строки."
   ]
  },
  {
   "cell_type": "code",
   "execution_count": 158,
   "id": "5fc195c5-eab5-4a76-9dc9-081669451276",
   "metadata": {},
   "outputs": [
    {
     "name": "stdin",
     "output_type": "stream",
     "text": [
      " qwertyuiop\n"
     ]
    },
    {
     "name": "stdout",
     "output_type": "stream",
     "text": [
      "e\n",
      "o\n",
      "qwert\n",
      "qwertyui\n",
      "qetuo\n",
      "wryip\n",
      "poiuytrewq\n",
      "piyrw\n",
      "10\n"
     ]
    }
   ],
   "source": [
    "string = input()\n",
    "print(string[2])\n",
    "print(string[-2])\n",
    "print(string[:5])\n",
    "print(string[0:len(string)-2])\n",
    "print(string[0::2])\n",
    "print(string[1::2])\n",
    "print(string[::-1])\n",
    "print(string[-1::-2])\n",
    "print(len(string))"
   ]
  },
  {
   "cell_type": "markdown",
   "id": "a0b3b037-f2a3-40b7-868b-15dddab6bdd4",
   "metadata": {},
   "source": [
    "Вася интересуется тем, что о нем пишут в интернете. Поэтому он хочет проверить, упоминается ли подстрока Vasya (именно с большой буквы) в строке.\n",
    "\n",
    "Вводится строка. Выведите True если в ней есть хотя бы одна подстрока Vasya и False в противном случае."
   ]
  },
  {
   "cell_type": "code",
   "execution_count": 176,
   "id": "2a2bd802-4f0e-4a3a-8ef0-a2eba3654dd0",
   "metadata": {},
   "outputs": [
    {
     "name": "stdin",
     "output_type": "stream",
     "text": [
      " There is no Vasya here, huh\n"
     ]
    },
    {
     "name": "stdout",
     "output_type": "stream",
     "text": [
      "True\n"
     ]
    }
   ],
   "source": [
    "string = input()\n",
    "sub = 'Vasya'\n",
    "if sub in string:\n",
    "    print(True)\n",
    "else:\n",
    "    print(False)"
   ]
  },
  {
   "cell_type": "markdown",
   "id": "951c834a-8c40-4bf7-a939-2da27b983fee",
   "metadata": {},
   "source": [
    "Дана строка. Если в этом числе буква f встречается только один раз, выведите её индекс. Если она встречается два и более раз, выведите индекс её первого и последнего появления через пробел. Если буква f в данной строке не встречается, ничего не выводите.\n",
    "\n",
    "Для решения задачи могут быть полезны методы:\n",
    "\n",
    "string.find(substring) - возвращает позицию самого левого вхождения подстроки substring в строку string или -1, если подстрока не найдена\n",
    "\n",
    "string.rfind(substring) - возвращает позицию самого правого вхождения подстроки substring в строку string или -1, если подстрока не найдена"
   ]
  },
  {
   "cell_type": "code",
   "execution_count": 183,
   "id": "26f3f63d-67b6-4d0f-8f77-b7b7e3712412",
   "metadata": {},
   "outputs": [
    {
     "name": "stdin",
     "output_type": "stream",
     "text": [
      " comort\n"
     ]
    },
    {
     "name": "stdout",
     "output_type": "stream",
     "text": [
      "\n"
     ]
    }
   ],
   "source": [
    "string = input()\n",
    "subs = 'f'\n",
    "if subs in string:\n",
    "    if string.count(subs) == 1:\n",
    "        print(string.find(subs))\n",
    "    elif string.count(subs) >= 2:\n",
    "        print(string.find(subs), string.rfind(subs))\n",
    "else:\n",
    "    print('')"
   ]
  },
  {
   "cell_type": "markdown",
   "id": "f527bec1-0cab-4028-8ffa-3c5fba45083f",
   "metadata": {},
   "source": [
    "Дана строка, состоящая из слов, разделенных пробелами. Определите, сколько в ней слов.\n",
    "Гарантируется, что в строке не встречается несколько пробелов подряд.\n",
    "\n",
    "Подсказка: у строк есть полезный метод count, а количество слов напрямую связано с количеством пробелов, их разделяющих"
   ]
  },
  {
   "cell_type": "code",
   "execution_count": 185,
   "id": "754b540f-2192-4f95-897c-d84ef50b2465",
   "metadata": {},
   "outputs": [
    {
     "name": "stdin",
     "output_type": "stream",
     "text": [
      " One two three four five\n"
     ]
    },
    {
     "name": "stdout",
     "output_type": "stream",
     "text": [
      "5\n"
     ]
    }
   ],
   "source": [
    "string = input()\n",
    "subs = ' '\n",
    "print(string.count(subs) + 1)"
   ]
  },
  {
   "cell_type": "markdown",
   "id": "d2bd6647-6b8c-469d-bfe0-f006f0009ffa",
   "metadata": {},
   "source": [
    "В введенной строке необходимо заменить все буквы A на B, а все буквы C - на D. Заменять нужно только заглавные буквы."
   ]
  },
  {
   "cell_type": "code",
   "execution_count": 189,
   "id": "6b19454b-4796-4760-89b0-f6ed4577eb95",
   "metadata": {},
   "outputs": [
    {
     "name": "stdin",
     "output_type": "stream",
     "text": [
      " AAAAAAAAAAA\n"
     ]
    },
    {
     "name": "stdout",
     "output_type": "stream",
     "text": [
      "BBBBBBBBBBB\n"
     ]
    }
   ],
   "source": [
    "string = input()\n",
    "replace = string.replace('A', 'B').replace('C', 'D')\n",
    "print(replace)"
   ]
  },
  {
   "cell_type": "markdown",
   "id": "ea81ee30-5d84-474b-802a-1eb81a23beb5",
   "metadata": {},
   "source": [
    "В введенной строке необходимо заменить все буквы A на B, а все буквы B - на A. Заменять нужно только заглавные буквы."
   ]
  },
  {
   "cell_type": "code",
   "execution_count": 248,
   "id": "88de7632-d6d0-4e64-b092-83bedc1257fb",
   "metadata": {},
   "outputs": [
    {
     "name": "stdin",
     "output_type": "stream",
     "text": [
      " ABC\n"
     ]
    },
    {
     "name": "stdout",
     "output_type": "stream",
     "text": [
      "bAC\n"
     ]
    }
   ],
   "source": [
    "string = input()\n",
    "replace = string.replace('A', 'b').replace('B', 'A').replace('b', 'B')\n",
    "print(replace)"
   ]
  },
  {
   "cell_type": "markdown",
   "id": "7e61f599-c7bd-472a-bca5-e473f7e40ade",
   "metadata": {},
   "source": [
    "В первой строке задается строка string\n",
    "\n",
    "Во второй строке задается строка substring\n",
    "\n",
    "Выведите True, если строка string начинается с подстроки substring, и False в противном случае\n",
    "\n",
    "Подсказка: для этого есть готовый метод"
   ]
  },
  {
   "cell_type": "code",
   "execution_count": 250,
   "id": "8c5395b5-deac-464d-ab10-7b9b4ef59a65",
   "metadata": {},
   "outputs": [
    {
     "name": "stdin",
     "output_type": "stream",
     "text": [
      " begin\n",
      " begin\n"
     ]
    },
    {
     "name": "stdout",
     "output_type": "stream",
     "text": [
      "True\n"
     ]
    }
   ],
   "source": [
    "string = input()\n",
    "substring = input()\n",
    "print(string.startswith(substring))"
   ]
  },
  {
   "cell_type": "markdown",
   "id": "72121892-b335-4b44-ae76-a023a6ef76e1",
   "metadata": {},
   "source": [
    "Дана строка. Замените в этой строке все появления буквы h на букву H, кроме первого и последнего вхождения."
   ]
  },
  {
   "cell_type": "code",
   "execution_count": 259,
   "id": "a260c3e7-5c8a-4a29-a358-5b20ac9723b3",
   "metadata": {},
   "outputs": [
    {
     "name": "stdin",
     "output_type": "stream",
     "text": [
      " hah\n"
     ]
    },
    {
     "name": "stdout",
     "output_type": "stream",
     "text": [
      "hah\n"
     ]
    }
   ],
   "source": [
    "string = input()\n",
    "start = string.find('h')\n",
    "finish = string.rfind('h')\n",
    "s_str = string[:start + 1]\n",
    "f_str = string[finish:]\n",
    "string = string[start + 1:finish].replace('h', 'H')\n",
    "print(s_str + string + f_str)"
   ]
  },
  {
   "cell_type": "markdown",
   "id": "61dcf0f3-0b6d-4482-bfa6-a25bc699353f",
   "metadata": {},
   "source": [
    "В форме интернет-магазина пользователю нужно ввести свой номер телефона. Номер телефона состоит из 10 цифр, однако некоторые пользователи вводят его в формате +7123456789, некоторые - 8123456789, а некоторые и вовсе вводят только 9 цифр (без первой) 123456789.\n",
    "\n",
    "Вам необходимо привести номер к стандарту +7123456789"
   ]
  },
  {
   "cell_type": "code",
   "execution_count": 263,
   "id": "60b5fa8d-2711-4e6e-8334-2697e66fdecc",
   "metadata": {},
   "outputs": [
    {
     "name": "stdin",
     "output_type": "stream",
     "text": [
      " +7987654321\n"
     ]
    },
    {
     "name": "stdout",
     "output_type": "stream",
     "text": [
      "+7987654321\n"
     ]
    }
   ],
   "source": [
    "number = input()\n",
    "if number.startswith('+'):\n",
    "    print(number)\n",
    "elif len(number) == 9:\n",
    "    print('+7' + number)\n",
    "elif len(number) == 10 and number.startswith('8'):\n",
    "    print(number.replace('8', '+7', 1))"
   ]
  },
  {
   "cell_type": "code",
   "execution_count": null,
   "id": "5158c654-dc0e-4829-8fe2-9acfc0fb4529",
   "metadata": {},
   "outputs": [],
   "source": []
  }
 ],
 "metadata": {
  "kernelspec": {
   "display_name": "Python 3 (ipykernel)",
   "language": "python",
   "name": "python3"
  },
  "language_info": {
   "codemirror_mode": {
    "name": "ipython",
    "version": 3
   },
   "file_extension": ".py",
   "mimetype": "text/x-python",
   "name": "python",
   "nbconvert_exporter": "python",
   "pygments_lexer": "ipython3",
   "version": "3.9.12"
  }
 },
 "nbformat": 4,
 "nbformat_minor": 5
}
