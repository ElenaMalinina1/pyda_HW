{
 "cells": [
  {
   "cell_type": "markdown",
   "id": "545e2725-35c6-48a8-afed-01898d24e820",
   "metadata": {},
   "source": [
    "# Задачи"
   ]
  },
  {
   "cell_type": "markdown",
   "id": "7ac5f32f-ce92-4912-9648-66d909d31073",
   "metadata": {},
   "source": [
    "Отсортируйте данный массив, используя встроенную сортировку.\n",
    "\n",
    "Первая строка входных данных содержит количество элементов в списке N. Далее идет N целых чисел, выведите эти числа в порядке неубывания (это как по возрастанию, термин \"неубывание\" используется чтобы избежать неоднозначного понимания в случае наличия одинаковых чисел в списке)."
   ]
  },
  {
   "cell_type": "code",
   "execution_count": 13,
   "id": "df6acfc9-58b0-4811-8543-799395062e3c",
   "metadata": {},
   "outputs": [
    {
     "name": "stdin",
     "output_type": "stream",
     "text": [
      " 5\n",
      " 5 4 3 2 1\n"
     ]
    },
    {
     "name": "stdout",
     "output_type": "stream",
     "text": [
      "1 2 3 4 5 "
     ]
    }
   ],
   "source": [
    "count = int(input())\n",
    "numbers = list(map(int, input().split()))\n",
    "print(*sorted(numbers), end= ' ')"
   ]
  },
  {
   "cell_type": "markdown",
   "id": "fc412b55-74aa-491b-8e50-57f6c4c32b1c",
   "metadata": {},
   "source": [
    "В первой строке задаётся количество названий столиц - число N. В следующих N строках задаются названия столиц по одному в строке. Отсортируйте названия столиц в алфавитном порядке и выведите их по одному в строке."
   ]
  },
  {
   "cell_type": "code",
   "execution_count": 48,
   "id": "70c0de4a-494e-49b8-9dc1-bb8660bd9498",
   "metadata": {},
   "outputs": [
    {
     "name": "stdin",
     "output_type": "stream",
     "text": [
      " 3\n",
      " Moscow\n",
      " Washington\n",
      " Berlin\n"
     ]
    },
    {
     "name": "stdout",
     "output_type": "stream",
     "text": [
      "Berlin\n",
      "Moscow\n",
      "Washington\n"
     ]
    }
   ],
   "source": [
    "count_city = int(input())\n",
    "list_name = []\n",
    "for name_city in range(count_city):\n",
    "    name_city = input()\n",
    "    list_name.append(name_city)\n",
    "    list_name = sorted(list_name)\n",
    "print('\\n'.join(list_name))"
   ]
  },
  {
   "cell_type": "markdown",
   "id": "7eb3fb31-623a-4a54-843b-226779b28139",
   "metadata": {},
   "source": [
    "В первой строке задаётся количество названий столиц и государств - число N. В следующих N строках задаются названия столиц и государств по одному в строке, слова разделяются одним пробелом. Отсортируйте названия столиц и государств по названию государства в алфавитном порядке и выведите их по одному в строке."
   ]
  },
  {
   "cell_type": "code",
   "execution_count": 92,
   "id": "f0163a85-b305-4b5f-893a-a935614b142b",
   "metadata": {},
   "outputs": [
    {
     "name": "stdin",
     "output_type": "stream",
     "text": [
      " 2\n",
      " Moscow Russia\n",
      " Vienna Austria\n"
     ]
    },
    {
     "name": "stdout",
     "output_type": "stream",
     "text": [
      "Vienna Austria\n",
      "Moscow Russia\n"
     ]
    }
   ],
   "source": [
    "count = int(input())\n",
    "city_name = []\n",
    "\n",
    "def sorted_city(x):\n",
    "    return x[1]\n",
    "\n",
    "for name in range(count):\n",
    "    name = input()\n",
    "    city_name.append(name)\n",
    "    city_name = sorted(city_name, key=sorted_city)\n",
    "print('\\n'.join(city_name))"
   ]
  },
  {
   "cell_type": "code",
   "execution_count": 126,
   "id": "180df693-091d-45eb-8729-0b052a3ad5af",
   "metadata": {},
   "outputs": [
    {
     "name": "stdin",
     "output_type": "stream",
     "text": [
      " 2\n",
      " Moscow Russia\n",
      " Vienna Austria\n"
     ]
    },
    {
     "name": "stdout",
     "output_type": "stream",
     "text": [
      "Vienna Austria\n",
      "Moscow Russia\n"
     ]
    }
   ],
   "source": [
    "count = int(input())\n",
    "city_name = []\n",
    "my_list = []\n",
    "\n",
    "def sorted_city(x):\n",
    "    return x[1]\n",
    "\n",
    "for i in range(count):\n",
    "    city_name = list(input().split())\n",
    "    my_list.append(city_name)\n",
    "    my_list = sorted(my_list, key=sorted_city)\n",
    "    \n",
    "for el in my_list:\n",
    "    print(*el)"
   ]
  },
  {
   "cell_type": "markdown",
   "id": "59838e54-0c26-45b8-87f9-2d52104c95c4",
   "metadata": {},
   "source": [
    "Дан список чисел. Определите, сколько в нем встречается различных чисел. Не забудьте, что функция len подходит и для множеств."
   ]
  },
  {
   "cell_type": "code",
   "execution_count": 105,
   "id": "ca030e36-9ed3-488d-a43a-a563f2f2a8be",
   "metadata": {},
   "outputs": [
    {
     "name": "stdin",
     "output_type": "stream",
     "text": [
      " 1 2 3 4 5 6 7 8 9 10\n"
     ]
    },
    {
     "name": "stdout",
     "output_type": "stream",
     "text": [
      "10\n"
     ]
    }
   ],
   "source": [
    "numbers = set(map(int, input().split()))\n",
    "\n",
    "print(len(numbers))"
   ]
  },
  {
   "cell_type": "markdown",
   "id": "af59c827-5b8c-48b2-b324-ff630d9b6685",
   "metadata": {},
   "source": [
    "Даны два списка чисел. Посчитайте, сколько чисел содержится одновременно как в первом списке, так и во втором."
   ]
  },
  {
   "cell_type": "code",
   "execution_count": 125,
   "id": "eba875e8-0009-4744-8840-cdc3cf8403f8",
   "metadata": {},
   "outputs": [
    {
     "name": "stdin",
     "output_type": "stream",
     "text": [
      " 1 2 3\n",
      " 4 3 2\n"
     ]
    },
    {
     "name": "stdout",
     "output_type": "stream",
     "text": [
      "2\n"
     ]
    }
   ],
   "source": [
    "numbers_1 = set(map(int, input().split()))\n",
    "numbers_2 = set(map(int, input().split()))\n",
    "count = 0\n",
    "\n",
    "for i in numbers_1:\n",
    "    if i in numbers_2:\n",
    "        count += 1\n",
    "print(count)"
   ]
  },
  {
   "cell_type": "markdown",
   "id": "205e173a-66be-4d34-ae3e-ff976abbbb89",
   "metadata": {},
   "source": [
    "Во входной строке записана последовательность чисел через пробел. Для каждого числа выведите слово YES (в отдельной строке), если это число ранее встречалось в последовательности или NO, если не встречалось."
   ]
  },
  {
   "cell_type": "code",
   "execution_count": 133,
   "id": "46111284-d79f-47af-a348-4e7e9aaef3c6",
   "metadata": {},
   "outputs": [
    {
     "name": "stdin",
     "output_type": "stream",
     "text": [
      " 1 2 3 2 3 4\n"
     ]
    },
    {
     "name": "stdout",
     "output_type": "stream",
     "text": [
      "NO\n",
      "NO\n",
      "NO\n",
      "YES\n",
      "YES\n",
      "NO\n"
     ]
    }
   ],
   "source": [
    "numbers = list(map(int, input().split()))\n",
    "my_set = set()\n",
    "\n",
    "for i in numbers:\n",
    "    if i not in my_set:\n",
    "        my_set.add(i)\n",
    "        print('NO')\n",
    "    else:\n",
    "        print('YES')"
   ]
  },
  {
   "cell_type": "markdown",
   "id": "be49154f-2983-46d9-b866-b89f0fb72107",
   "metadata": {},
   "source": [
    "Даны два списка чисел. Выведите все числа, которые входят как в первый, так и во второй список в порядке возрастания."
   ]
  },
  {
   "cell_type": "code",
   "execution_count": 10,
   "id": "02a9e0cc-aef1-49f9-92e0-c11949c1c6c3",
   "metadata": {},
   "outputs": [
    {
     "name": "stdin",
     "output_type": "stream",
     "text": [
      " 1 3 2\n",
      " 4 3 2\n"
     ]
    },
    {
     "name": "stdout",
     "output_type": "stream",
     "text": [
      "2 3\n"
     ]
    }
   ],
   "source": [
    "numbers_1 = set(map(int, input().split()))\n",
    "numbers_2 = set(map(int, input().split()))\n",
    "numbers_3 = numbers_1 & numbers_2\n",
    "print(*sorted(numbers_3))"
   ]
  },
  {
   "cell_type": "markdown",
   "id": "03b1568a-b88d-4e3f-b4b1-1e947bf921e1",
   "metadata": {},
   "source": [
    "Каждый из N школьников некоторой школы знает Mi языков. Определите, какие языки знают все школьники и языки, которые знает хотя бы один из школьников.\n",
    "\n",
    "Первая строка входных данных содержит количество школьников N. Далее идет N чисел Mi, после каждого из чисел идет Mi строк, содержащих названия языков, которые знает i-й школьник. \n",
    "\n",
    "В первой строке выведите количество языков, которые знают все школьники. Начиная со второй строки - список таких языков, упорядоченный по алфавиту. Затем - количество языков, которые знает хотя бы один школьник, на следующих строках - список таких языков, упорядоченный по алфавиту."
   ]
  },
  {
   "cell_type": "code",
   "execution_count": null,
   "id": "0a57bd7c-56fb-422a-ad35-fbd59731e10f",
   "metadata": {},
   "outputs": [],
   "source": [
    "students = [{input() for j in range(int(input()))} for i in range(int(input()))]\n",
    "known_by_everyone, known_by_someone = set.intersection(*students), set.union(*students)\n",
    "print(len(known_by_everyone), *sorted(known_by_everyone), sep='\\n')\n",
    "print(len(known_by_someone), *sorted(known_by_someone), sep='\\n')"
   ]
  },
  {
   "cell_type": "code",
   "execution_count": null,
   "id": "cb9810ef-5bb0-40ea-89ca-7246e75f31b2",
   "metadata": {},
   "outputs": [],
   "source": [
    "union_set = set()\n",
    "all_set = set()\n",
    "\n",
    "for i in range(int(input())):\n",
    "    for j in range(int(input())):\n",
    "        k = input()\n",
    "        all_set.add(k)\n",
    "    if len(union_set) == 0:\n",
    "        union_set | all_set\n",
    "    else:\n",
    "        union_set & all_set\n",
    "print(len(union_set))\n",
    "print(len(all_set))\n",
    "print(*sorted(all_set),sep='\\n')"
   ]
  },
  {
   "cell_type": "markdown",
   "id": "884e0a70-d4f6-438d-9c53-96df85cdfbf6",
   "metadata": {},
   "source": [
    "Вам дан словарь, состоящий из пар слов. Каждое слово является синонимом к парному ему слову. Все слова в словаре различны. Для одного данного слова определите его синоним.\n",
    "\n",
    "Программа получает на вход количество пар синонимов N. Далее следует N строк, каждая строка содержит ровно два слова-синонима. После этого следует одно слово.\n",
    "\n",
    "Программа должна вывести синоним к данному слову."
   ]
  },
  {
   "cell_type": "code",
   "execution_count": 21,
   "id": "fa72064c-bc76-42ef-b29d-5aebc9e4faf8",
   "metadata": {},
   "outputs": [
    {
     "name": "stdin",
     "output_type": "stream",
     "text": [
      " 1\n",
      " rwwfw732875ry32h 3948198urjak\n",
      " 3948198urjak\n"
     ]
    },
    {
     "name": "stdout",
     "output_type": "stream",
     "text": [
      "rwwfw732875ry32h\n"
     ]
    }
   ],
   "source": [
    "n = int(input())\n",
    "dictionary = {}\n",
    "\n",
    "for word in range(n):\n",
    "    words = input().split()\n",
    "    dictionary[words[0]] = words[1]\n",
    "# print(dictionary)\n",
    "\n",
    "synonym = input()\n",
    "for key in dictionary:\n",
    "    if synonym == dictionary[key]:\n",
    "        print(key)\n",
    "    else:\n",
    "        if synonym == key:\n",
    "            print(dictionary[key])"
   ]
  },
  {
   "cell_type": "markdown",
   "id": "ccfb89ec-2a64-42e6-a48c-f85c4b962383",
   "metadata": {},
   "source": [
    "Дан список стран и городов каждой страны. Затем даны названия городов. Для каждого города укажите, в какой стране он находится.\n",
    "\n",
    "Программа получает на вход количество стран N. Далее идет N строк, каждая строка начинается с названия страны, затем идут названия городов этой страны. В следующей строке записано число M, далее идут M запросов — названия каких-то M городов, перечисленных выше.\n",
    "\n",
    "Для каждого из запроса выведите название страны, в котором находится данный город."
   ]
  },
  {
   "cell_type": "code",
   "execution_count": 45,
   "id": "0a595e80-02a1-4f60-8d5d-cc7725535ade",
   "metadata": {},
   "outputs": [
    {
     "name": "stdin",
     "output_type": "stream",
     "text": [
      " 2\n",
      " Russia Moscow Petersburg Novgorod Kaluga\n",
      " Ukraine Kiev Odessa\n",
      " 3\n",
      " Odessa\n",
      " Moscow\n",
      " Novgorod\n"
     ]
    },
    {
     "name": "stdout",
     "output_type": "stream",
     "text": [
      "Ukraine Russia Russia\n"
     ]
    }
   ],
   "source": [
    "n = int(input())\n",
    "dct = {}\n",
    "\n",
    "for country in range(n):\n",
    "    cities = input().split()\n",
    "    for city in cities[1:]:\n",
    "        dct[city] = cities[0]\n",
    "# print(dct)\n",
    "\n",
    "res = []\n",
    "m = int(input())\n",
    "for i in range(m):\n",
    "    res.append(dct[request])\n",
    "print(*res, sep ='\\n')"
   ]
  },
  {
   "cell_type": "markdown",
   "id": "a20c3af6-658a-4293-9cfe-5c14c39d0e39",
   "metadata": {},
   "source": [
    "На вход подается строка. Словом считается последовательность непробельных символов идущих подряд, слова разделены одним или большим числом пробелов или символами конца строки. Для каждого слова из этого текста подсчитайте, сколько раз оно встречалось в этом тексте ранее."
   ]
  },
  {
   "cell_type": "code",
   "execution_count": 54,
   "id": "3349a86c-2b35-473d-a752-218b0a4e44a7",
   "metadata": {},
   "outputs": [
    {
     "name": "stdin",
     "output_type": "stream",
     "text": [
      " one two one tho three\n"
     ]
    },
    {
     "name": "stdout",
     "output_type": "stream",
     "text": [
      "0 0 1 0 0 "
     ]
    }
   ],
   "source": [
    "stirng = input().split()\n",
    "dictionary = {}\n",
    "\n",
    "for word in stirng:\n",
    "    dictionary[word] = dictionary.get(word, 0) + 1\n",
    "    print(dictionary[word] - 1, end= ' ')"
   ]
  },
  {
   "cell_type": "markdown",
   "id": "4a1cfa45-ae59-4813-914b-ebab0f829445",
   "metadata": {},
   "source": [
    "Дана строка. Выведите слово, которое в этой строке встречается чаще всего. Если таких слов несколько, выведите то, которое меньше в лексикографическом (алфавитном) порядке."
   ]
  },
  {
   "cell_type": "code",
   "execution_count": 112,
   "id": "a8f654a9-19b6-4ae4-8028-420611ac0a69",
   "metadata": {},
   "outputs": [
    {
     "name": "stdin",
     "output_type": "stream",
     "text": [
      " apple orange banana banana orange\n"
     ]
    },
    {
     "name": "stdout",
     "output_type": "stream",
     "text": [
      "banana\n"
     ]
    }
   ],
   "source": [
    "string = input().split()\n",
    "dct = {}\n",
    "\n",
    "for word in string:\n",
    "    dct[word] = dct.get(word, 0) + 1\n",
    "\n",
    "max_count = max(dct.values())\n",
    "for key, value in sorted(dct.items()):\n",
    "    if value == max_count:\n",
    "        print(key)\n",
    "        break"
   ]
  },
  {
   "cell_type": "markdown",
   "id": "79d99608-fcb6-4c64-8175-294fb5b5b4ea",
   "metadata": {},
   "source": [
    "Некоторый банк хочет внедрить систему управления счетами клиентов, поддерживающую следующие операции:\n",
    "\n",
    "Пополнение счета клиента. Снятие денег со счета. Запрос остатка средств на счете. Перевод денег между счетами клиентов. Начисление процентов всем клиентам.\n",
    "\n",
    "Вам необходимо реализовать такую систему. Клиенты банка идентифицируются именами (уникальная строка, не содержащая пробелов). Первоначально у банка нет ни одного клиента. Как только для клиента проводится операция пололнения, снятия или перевода денег, ему заводится счет с нулевым балансом. Все дальнейшие операции проводятся только с этим счетом. Сумма на счету может быть как положительной, так и отрицательной, при этом всегда является целым числом.\n",
    "\n",
    "Входные данные содержат количество и последовательность операций. Возможны следующие операции: DEPOSIT name sum - зачислить сумму sum на счет клиента name. Если у клиента нет счета, то счет создается. WITHDRAW name sum - снять сумму sum со счета клиента name. Если у клиента нет счета, то счет создается. BALANCE name - узнать остаток средств на счету клиента name. TRANSFER name1 name2 sum - перевести сумму sum со счета клиента name1 на счет клиента name2. Если у какого-либо клиента нет счета, то ему создается счет. INCOME p - начислить всем клиентам, у которых открыты счета, p от суммы счета. Проценты начисляются только клиентам с положительным остатком на счету, если у клиента остаток отрицательный, то его счет не меняется. После начисления процентов сумма на счету остается целой, то есть начисляется только целое число денежных единиц. Дробная часть начисленных процентов отбрасывается.\n",
    "\n",
    "Для каждого запроса BALANCE программа должна вывести остаток на счету данного клиента. Если же у клиента с запрашиваемым именем не открыт счет в банке, выведите ERROR."
   ]
  },
  {
   "cell_type": "code",
   "execution_count": 4,
   "id": "47013dac-fec1-4888-85e3-d77cf55e32da",
   "metadata": {},
   "outputs": [
    {
     "name": "stdin",
     "output_type": "stream",
     "text": [
      " 1\n",
      " WITHDRAW ZXKKHIOHASY 1552\n"
     ]
    },
    {
     "name": "stdout",
     "output_type": "stream",
     "text": [
      "\n"
     ]
    }
   ],
   "source": [
    "# код не прошел тест\n",
    "def deposit(name, sum_):\n",
    "        clients[name] = clients.get(name, 0) + sum_\n",
    "    \n",
    "def withdraw(name, inequality):\n",
    "    clients[name] = clients.get(name, 0 ) - inequality\n",
    "            \n",
    "def balance(name):\n",
    "    if name in clients:\n",
    "        res.append(clients[name])\n",
    "    else:\n",
    "        res.append('ERROR')\n",
    "        \n",
    "def income(percent):\n",
    "    for name, balance_income in clients.items():\n",
    "        if balance_income >= 0:\n",
    "            clients[name] = balance_income // 100 * percent\n",
    "        else:\n",
    "            continue\n",
    "\n",
    "\n",
    "def transfer(name_1, name_2, sum_t):\n",
    "    withdraw(name_1, sum_t)\n",
    "    deposit(name_2, sum_t)\n",
    "            \n",
    "clients = {}   \n",
    "n = int(input())\n",
    "res = []\n",
    "for i in range(n):\n",
    "    string = input().split()\n",
    "    if string[0] == 'DEPOSIT':\n",
    "        deposit(string[1], int(string[2]))\n",
    "        \n",
    "    elif string[0] == 'WITHDRAW':\n",
    "        withdraw(string[1], int(string[2]))\n",
    "        \n",
    "    elif string[0] == 'INCOME':\n",
    "        income(int(string[1]))\n",
    "        \n",
    "    elif string[0] == 'BALANCE':\n",
    "        balance(string[1])\n",
    "        \n",
    "    elif string[0] == 'TRANSFER':\n",
    "        transfer(string[1], string[2], int(string[3]))\n",
    "print(*res, sep='\\n')"
   ]
  },
  {
   "cell_type": "code",
   "execution_count": null,
   "id": "a9aea4a1-56c7-45d0-8f10-06eaf438c1ec",
   "metadata": {},
   "outputs": [],
   "source": [
    "# код прошел тест\n",
    "def deposit(name, sum):\n",
    "    bank[name] = bank.get(name, 0) + int(sum)\n",
    "\n",
    "def withdraw(name, sum):\n",
    "    bank[name] = bank.get(name, 0) - int(sum)\n",
    "\n",
    "def balance(name):\n",
    "    if name not in bank:\n",
    "        print('ERROR')\n",
    "    else:\n",
    "        print(bank[name])\n",
    "\n",
    "def income(percent):\n",
    "    for k, v in bank.items():\n",
    "        if v > 0:\n",
    "            bank[k] = int(v * ((int(percent) / 100) + 1))\n",
    "            \n",
    "inFile = open('input.txt', 'w', encoding='utf8')\n",
    "for i in range(int(input())):\n",
    "    line = input()\n",
    "    print(line, file=inFile)\n",
    "\n",
    "bank = dict()\n",
    "inFile = open('input.txt')\n",
    "\n",
    "for line in inFile:\n",
    "    line = line.split()\n",
    "    if 'BALANCE' in line:\n",
    "        balance(line[1])\n",
    "    elif 'DEPOSIT' in line:\n",
    "        deposit(line[1], line[2])\n",
    "    elif 'WITHDRAW' in line:\n",
    "        withdraw(line[1], line[2])\n",
    "    elif 'INCOME' in line:\n",
    "        income(line[1])\n",
    "    else:\n",
    "        withdraw(line[1], line[3])\n",
    "        deposit(line[2], line[3])\n",
    "inFile.close()"
   ]
  }
 ],
 "metadata": {
  "kernelspec": {
   "display_name": "Python 3 (ipykernel)",
   "language": "python",
   "name": "python3"
  },
  "language_info": {
   "codemirror_mode": {
    "name": "ipython",
    "version": 3
   },
   "file_extension": ".py",
   "mimetype": "text/x-python",
   "name": "python",
   "nbconvert_exporter": "python",
   "pygments_lexer": "ipython3",
   "version": "3.9.12"
  }
 },
 "nbformat": 4,
 "nbformat_minor": 5
}
