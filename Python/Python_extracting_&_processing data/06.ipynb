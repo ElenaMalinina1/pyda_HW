{
 "cells": [
  {
   "cell_type": "markdown",
   "id": "7318a47b-ba9e-4d33-85e2-e72942c42dcc",
   "metadata": {},
   "source": [
    "# Задачи"
   ]
  },
  {
   "cell_type": "markdown",
   "id": "706724d3-0228-4077-885f-dcca56b5553e",
   "metadata": {},
   "source": [
    "1.1\n",
    "\n",
    "Ученые нашли табличку с текстом на языке племени Мумба-Юмба. Определите, сколько уникальных слов содержится в этом тексте. Словом считается последовательность непробельных символов идущих подряд, слова разделены одним или большим числом пробелов или символами конца строки. Большие и маленькие буквы считаются различными.\n",
    "\n",
    "В этой и последующих задачах этого занятия вам нужно скачать файл по ссылке, запустить свой скрипт на собственном компьютере и ввести только ответ конкретно для этого файла.\n",
    "\n",
    "В этой задаче вам нужно подсчитать ответ для данного входного файла. Ссылка на файл - https://online.hse.ru/pluginfile.php/604906/question/questiontext/2410843/1/789243/input_6_1_1.txt"
   ]
  },
  {
   "cell_type": "code",
   "execution_count": null,
   "id": "025a70a4-7e82-4836-afed-37212ef00c2b",
   "metadata": {},
   "outputs": [],
   "source": [
    "file = open('input_6_1_1.txt', 'r', encoding='utf8')\n",
    "count = 0\n",
    "words = []\n",
    "for line in file: \n",
    "    for word in line.split():\n",
    "        if word not in words:\n",
    "            words.append(word)\n",
    "print(len(words))"
   ]
  },
  {
   "cell_type": "markdown",
   "id": "b7d2ef32-d36e-4669-8789-759934c92c05",
   "metadata": {},
   "source": [
    "1.2\n",
    "\n",
    "Дан файл, каждая строка которого может содержать одно или несколько целых чисел, разделенных одним или несколькими пробелами.\n",
    "\n",
    "Вычислите сумму чисел в каждой строке и выведите эти суммы через пробел (для каждой строки выводится сумма чисел в этой строке).\n",
    "\n",
    "В этой задаче вам нужно подсчитать ответ для данного входного файла. Ссылка на входной файл: https://online.hse.ru/pluginfile.php/604906/question/questiontext/2410848/1/789245/input_6_1_3.txt\n",
    "\n",
    "Например, если бы содержимое входного файла было следующим:"
   ]
  },
  {
   "cell_type": "code",
   "execution_count": null,
   "id": "bc60354b-980b-419b-8716-9d9b1db2a53c",
   "metadata": {},
   "outputs": [],
   "source": [
    "numbers = open('input_6_1_3.txt', 'r',  encoding = 'utf8')\n",
    "\n",
    "for line in numbers:\n",
    "    num = map(int, line.split())\n",
    "    print(sum(num), end = ' ')"
   ]
  },
  {
   "cell_type": "markdown",
   "id": "1d56a52e-b7a7-49df-aa60-8a5232a711f2",
   "metadata": {},
   "source": [
    "1.3 \n",
    "\n",
    "Дан текст на языке племени Мумба-Юмба. Выведите все слова, встречающиеся в тексте, разделяя их пробелом. Слова должны быть отсортированы по убыванию их количества появления в тексте, а при одинаковой частоте появления — в алфавитном порядке.\n",
    "\n",
    "Подсказка. После того, как вы создадите словарь всех слов, вам захочется отсортировать его по частоте встречаемости слова. Желаемого можно добиться, если создать список, элементами которого будут кортежи из двух элементов: частота встречаемости слова и само слово. Например, [(2, 'hi'), (1, 'what'), (3, 'is')]. Тогда стандартная сортировка будет сортировать список кортежей, при этом кортежи сравниваются по первому элементу, а если они равны — то по второму. Это почти то, что требуется в задаче, а чтобы сделать то что нужно — вспомните про параметр key в сортировке.\n",
    "\n",
    "В этой задачи нужно сдать только ответ для входного файла. Ссылка на входной файл \n",
    "\n",
    "https://online.hse.ru/pluginfile.php/604906/question/questiontext/2410967/1/789246/input_6_1_2.txt"
   ]
  },
  {
   "cell_type": "code",
   "execution_count": null,
   "id": "ca6103bd-da40-43f6-9cc3-9e9a38a6db74",
   "metadata": {},
   "outputs": [],
   "source": [
    "text = open('input_6_1_2.txt', 'r', encoding ='utf8')\n",
    "dct = {}\n",
    "lst = []\n",
    "\n",
    "for line in text.read().split():\n",
    "        dct[line] = dct.setdefault(line, 0) + 1\n",
    "\n",
    "words_sorted = sorted(dct.items(),key= lambda item: (-item[1], item[0]))\n",
    "\n",
    "for p in words_sorted:\n",
    "    print(p[0], end=\" \")\n",
    "text.close()"
   ]
  },
  {
   "cell_type": "markdown",
   "id": "45ed37c9-8c4a-469f-aa35-2418063df5be",
   "metadata": {},
   "source": [
    "Выведите все строки данного входного файла в обратном порядке. Для этого считайте список всех строк при помощи метода readlines().\n",
    "\n",
    "Последняя строка входного файла заканчивается символом '\\n'.\n",
    "\n",
    "Ссылка на входной файл: https://online.hse.ru/pluginfile.php/604906/question/questiontext/2412439/1/789251/input_6_2_1.txt"
   ]
  },
  {
   "cell_type": "code",
   "execution_count": null,
   "id": "5cf23b60-e594-4ac9-a437-08ca4b5c649f",
   "metadata": {},
   "outputs": [],
   "source": [
    "text = open('input_6_2_1_1.txt', 'r', encoding='utf8')\n",
    "string = text.readlines()\n",
    "\n",
    "print(''.join(string[::-1]))\n",
    "text.close()"
   ]
  },
  {
   "cell_type": "markdown",
   "id": "dc732e2e-319c-4172-8cb2-0fc87f426a60",
   "metadata": {},
   "source": [
    "Дан файл. Определите сколько в нем букв (латинского алфавита), слов, строк. Выведите три найденных числа в формате, приведенном в примере. Словом считается последовательность больших и маленьких латинских букв (для проверки того, состоит ли строка только из латинских букв удобно пользоваться методом isalpha()). Все остальные символы считаются разделителями слов.\n",
    "\n",
    "Ссылка на входной файл: https://online.hse.ru/pluginfile.php/604906/question/questiontext/2412445/1/789252/input_6_2_2.txt"
   ]
  },
  {
   "cell_type": "code",
   "execution_count": null,
   "id": "eead3193-ed00-48a8-9af1-93c143b639b7",
   "metadata": {},
   "outputs": [],
   "source": [
    "text = open('input_6_2_2.txt', 'r', encoding='utf8')\n",
    "\n",
    "cnt_letter = 0\n",
    "cnt_word = 0\n",
    "\n",
    "for line in text.read():\n",
    "    for words in line:\n",
    "        cnt_word += 1\n",
    "        for letter in words:\n",
    "            if letter.isalpha():\n",
    "                cnt_letter += 1\n",
    "\n",
    "for string in text:\n",
    "    string = line.split('\\n')\n",
    "    \n",
    "print('Input file contains:')\n",
    "print(cnt_letter, 'letter')\n",
    "print(cnt_word, 'words')\n",
    "print(len(string), 'lines')"
   ]
  },
  {
   "cell_type": "code",
   "execution_count": null,
   "id": "842c15b3-3669-4527-96ba-dd7991f270ac",
   "metadata": {},
   "outputs": [],
   "source": [
    "text = open('input_6_2_2.txt', 'r', encoding='utf8')\n",
    "lines, letters, words = 0, 0, 0\n",
    "word = \"\"\n",
    " \n",
    "for ch in text.read():\n",
    "    if ch == '\\n':\n",
    "        lines += 1\n",
    "    if ch.isalpha():\n",
    "        letters += 1\n",
    "        word += ch\n",
    "    elif word != \"\":\n",
    "        word = \"\"\n",
    "        words += 1\n",
    "text.close()\n",
    "print('Input file contains:')\n",
    "print(letters, 'letters')\n",
    "print(words, 'words')\n",
    "print(lines, 'lines')"
   ]
  },
  {
   "cell_type": "markdown",
   "id": "b642349b-15e3-4402-8950-282bbb703d21",
   "metadata": {},
   "source": [
    "В качестве ответа введите все строки наибольшей длины из входного файла, не меняя их порядок.\n",
    "\n",
    "В данной задаче удобно считать список строк входного файла целиком при помощи метода readlines().\n",
    "\n",
    "Ссылка на входной файл: https://online.hse.ru/pluginfile.php/604906/question/questiontext/2412508/1/789249/input_6_2_3.txt"
   ]
  },
  {
   "cell_type": "code",
   "execution_count": null,
   "id": "14bbd57b-5d8d-4bb1-9840-f9fada0d1de2",
   "metadata": {},
   "outputs": [],
   "source": [
    "text = open(\"input_6_2_3.txt\", \"r\", encoding=\"utf-8\") \n",
    "lines = text.readlines()\n",
    "max_len = max(len(line) for line in lines) # находим максимальную длину строки\n",
    "\n",
    "res = []\n",
    "for line in lines:\n",
    "    if len(line) == max_len: # выбираем строки максимальной длины\n",
    "        res.append(line)\n",
    "        print(*res)"
   ]
  },
  {
   "cell_type": "markdown",
   "id": "f4fab51c-1372-48c1-8785-0507ab6a2ede",
   "metadata": {},
   "source": [
    "Выведите в обратном порядке содержимое всего файла полностью. Для этого считайте файл целиком при помощи метода read().\n",
    "Ссылка на входной файл: https://online.hse.ru/pluginfile.php/604906/question/questiontext/2412543/1/789253/input_6_2_4.txt"
   ]
  },
  {
   "cell_type": "code",
   "execution_count": null,
   "id": "ef0da975-0f0d-4a47-8609-d5b0e6b5fa0d",
   "metadata": {},
   "outputs": [],
   "source": [
    "text = open('input_6_2_4.txt', 'r', encoding='utf8')\n",
    "lines = text.read()\n",
    "print(''.join(lines[::-1]))"
   ]
  },
  {
   "cell_type": "markdown",
   "id": "0d421ae2-43ce-4f64-95e2-364fe276fda8",
   "metadata": {},
   "source": [
    "В csv-файле (разделитель - точка с запятой, кавычки не используются) содержится анонимизированная информация о зарплатах сотрудников в различных компаниях. В первом столбце записано название компании, а во втором - зарплата. Упорядочите компании по возрастанию средней зарплаты. В случае одинаковых средних зарплат в нескольких компаниях их следует упорядочить по алфавиту.\n",
    "Названия компаний следует выводить по одному в строке.\n",
    "\n",
    "Совет: используйте словарь, где ключом будет служить название компании, а в качестве значения будет храниться суммарная зарплата и количество сотрудников.\n",
    "csv-файл доступен по ссылке: https://online.hse.ru/pluginfile.php/604906/question/questiontext/2412623/1/789258/input_6_3_1.csv"
   ]
  },
  {
   "cell_type": "code",
   "execution_count": null,
   "id": "af58d802-14e5-4e69-ae59-fff5e73f4f04",
   "metadata": {},
   "outputs": [],
   "source": [
    "text = open('input_6_3_1.csv', 'r', encoding='utf8')\n",
    "\n",
    "dictionary = {}\n",
    "for lines in text:\n",
    "    line = lines.strip().split(';')\n",
    "    company = line[0]\n",
    "    salary = float(line[1])\n",
    "    # dictionary[company] = dictionary.setdefault(company, []) + [salary]\n",
    "    if company in dictionary:\n",
    "        dictionary[company].append(salary)\n",
    "    else:\n",
    "        dictionary[company] = [salary]\n",
    "# print(dictionary)\n",
    "    \n",
    "average_salary = {}\n",
    "for company in dictionary:\n",
    "    mean_salary = sum(dictionary[company]) / len(dictionary[company])\n",
    "    average_salary[company] = mean_salary\n",
    "# print(average_salary)\n",
    "\n",
    "sorted_company = sorted(average_salary.items(), key= lambda x: (x[1], x[0]))\n",
    "for i in sorted_company:\n",
    "    print(i[0])\n",
    "text.close()"
   ]
  },
  {
   "cell_type": "markdown",
   "id": "27dade1e-9e92-416b-bd2b-51c2efc84bf8",
   "metadata": {},
   "source": [
    "В csv-файле (разделитель - точка с запятой, кавычки не используются) содержится анонимизированная информация о зарплатах сотрудников в различных компаниях. В первом столбце записано название компании, а во втором - зарплата. \n",
    "\n",
    "Поменяйте местами первый и второй столбцы, по-прежнему разделяя значения в ячейках одной строки точкой с запятой. Сохраняйте порядок строк.\n",
    "\n",
    "csv-файл доступен по ссылке: https://online.hse.ru/pluginfile.php/604906/question/questiontext/2414401/1/789255/input_6_3_2.csv"
   ]
  },
  {
   "cell_type": "code",
   "execution_count": null,
   "id": "80918bb2-ee6c-4f69-b0bd-d7040eec4e6c",
   "metadata": {},
   "outputs": [],
   "source": [
    "with open('output_1.csv', 'w', encoding = 'utf8') as f2w:\n",
    "    data = open('input_6_3_2.csv', 'r', encoding='utf8')\n",
    "    for lines in data.readlines():\n",
    "        line = lines.strip().split(';')\n",
    "        line[0], line[1] = line[1], line[0]\n",
    "        f2w.write(';'.join(line) + '\\n')\n",
    "\n",
    "\n",
    "    data.close()\n",
    "f2w.close()"
   ]
  },
  {
   "cell_type": "markdown",
   "id": "b20cacd5-b5e1-4931-b40e-7c1cc46da6d8",
   "metadata": {},
   "source": [
    "\n",
    "Васю назначили завхозом в туристической группе и он подошёл к подготовке ответственно, составив справочник продуктов с указанием калорийности на 100 грамм, а также содержание белков, жиров и углеводов на 100 грамм продукта. Ему не удалось найти всю информацию, поэтому некоторые ячейки остались незаполненными (можно считать их значение равным нулю). Также он использовал какой-то странный офисный пакет и разделял целую и дробную часть чисел запятой. Таблица доступна по ссылке https://online.hse.ru/pluginfile.php/604906/question/questiontext/2414421/1/789259/trekking3_6_6_3.xlsx\n",
    "\n",
    "Вася составил раскладку по продуктам на весь поход (она на листе \"Раскладка\") с указанием номера дня, названия продукта и его количества в граммах. Для каждого дня посчитайте 4 числа: суммарную калорийность и граммы белков, жиров и углеводов. Числа округлите до целых вниз и введите через пробел. Информация о каждом дне должна выводиться в отдельной строке."
   ]
  },
  {
   "cell_type": "code",
   "execution_count": null,
   "id": "a2264437-8800-4587-a942-3ac958aaf2c5",
   "metadata": {},
   "outputs": [
    {
     "name": "stdout",
     "output_type": "stream",
     "text": [
      "2405 82 154 172\n",
      "4963 203 307 302\n",
      "5219 178 267 502\n",
      "4873 241 204 537\n",
      "5278 243 314 367\n",
      "4451 190 188 497\n",
      "4806 205 265 386\n",
      "5738 264 195 720\n",
      "1766 66 90 171\n"
     ]
    }
   ],
   "source": [
    "fin1 = open(\"trekking3_6_6_3_sp.csv\", \"r\", encoding=\"windows-1251\")  #откроем файл со справочной инф.\n",
    "fin2 = open(\"trekking3_6_6_3_r.csv\", \"r\", encoding=\"windows-1251\")  #откроем файл с раскладом по дням.\n",
    "\n",
    "d = {}\n",
    "for line in fin1:\n",
    "    s = line.split(\";\")\n",
    "    name = (s[0])\n",
    "    kkal = (s[1])\n",
    "    proteins = (s[2])\n",
    "    fats = (s[3])\n",
    "    carbohydrates = (s[4])\n",
    "\n",
    "    # заменим \",\" на \".\" и уберем \"\\n\"\n",
    "    kkal = kkal.replace(',', '.')\n",
    "    proteins = proteins.replace(',', '.')\n",
    "    fats = fats.replace(',', '.')\n",
    "    carbohydrates = carbohydrates.replace(',', '.')\n",
    "    carbohydrates = carbohydrates.replace('\\n', '')\n",
    "    \n",
    "    # заполним словарь d значениями\n",
    "    d[name] = kkal, proteins, fats, carbohydrates\n",
    "\n",
    "for i in range(1, 10):\n",
    "    fin2 = open(\"trekking3_6_6_3_r.csv\", \"r\", encoding=\"windows-1251\")  # откроем файл с раскладом по дням.\n",
    "\n",
    "    kal_sum_day_ = 0\n",
    "    proteins_sum_day_ = 0\n",
    "    fats_sum_day_ = 0\n",
    "    carbohydrates_sum_day_ = 0\n",
    "\n",
    "    for line in (fin2):\n",
    "        s2 = line.split(\";\")\n",
    "        day = s2[0]\n",
    "        produkt = s2[1]\n",
    "        weight = s2[2]\n",
    "        weight = weight.replace('\\n', '')\n",
    "        weight = weight.replace('Вес в граммах\\n', '')\n",
    "\n",
    "        kal_sum = 0\n",
    "        proteins_sum = 0\n",
    "        fats_sum = 0\n",
    "        carbohydrates_sum = 0\n",
    "\n",
    "        if day == str(i):\n",
    "            kal_sum = float(d[produkt][0]) * int(weight) / 100 + kal_sum             #каллорийность\n",
    "            proteins_sum = float(d[produkt][1]) * int(weight) / 100 + proteins_sum  #белки\n",
    "            fats_sum = float(d[produkt][2]) * int(weight) / 100 + fats_sum          #жиры\n",
    "            if (d[produkt][3]) != \"\":\n",
    "                carbohydrates_sum = float(d[produkt][3]) * int(weight) / 100 + carbohydrates_sum    #углеводы\n",
    "            else:\n",
    "                0\n",
    "        kal_sum_day_ = kal_sum_day_ + kal_sum\n",
    "        proteins_sum_day_ = proteins_sum_day_ + proteins_sum\n",
    "        fats_sum_day_ = fats_sum_day_ + fats_sum\n",
    "        carbohydrates_sum_day_ = carbohydrates_sum_day_ + carbohydrates_sum\n",
    "\n",
    "    print(int(kal_sum_day_), end=\" \")\n",
    "    print(int(proteins_sum_day_), end=\" \")\n",
    "    print(int(fats_sum_day_), end=\" \")\n",
    "    print(int(carbohydrates_sum_day_))\n",
    "\n",
    "fin1.close()\n",
    "fin2.close()"
   ]
  },
  {
   "cell_type": "markdown",
   "id": "3526444e-b8df-45a4-8dfe-516c5fbb5175",
   "metadata": {},
   "source": [
    "Вася составил таблицу с ценами на продукты в разных магазинах. В первой строке таблицы (кроме первой ячейки) записаны названия продуктов. Во всех строках, начиная со второй, записана информация о ценах в магазине. В первой ячейке написано название магазина, а в ячейках, начиная со второй - цена на товар, название которого записано в первой строке соответствующего столбца.\n",
    "\n",
    "Таблица задана как csv-файл, разделителем ячеек выступает точка с запятой, а строковые константы не окружаются кавычками.\n",
    "\n",
    "Вася очень хочет поесть, но денег у него мало. Поэтому помогите ему определить самый дешевый продукт и в каком магазине он продается. Название продукта и название магазина следует записать через пробел. Если несколько товаров стоят одинаково, то выведите то название, которое раньше в алфавитном порядке. Если этот товар продается в нескольких магазинах по одной минимальной цене, то выведите минимальное в алфавитном порядке название магазина.\n",
    "\n",
    "Ссылка на csv-файл: https://online.hse.ru/pluginfile.php/604906/question/questiontext/2415926/1/789257/input_6_3_4.csv"
   ]
  },
  {
   "cell_type": "code",
   "execution_count": null,
   "id": "3af32107-4bbb-48f2-96cf-b6768a81043b",
   "metadata": {},
   "outputs": [],
   "source": [
    "data = open(\"input_6_3_4.csv\", \"r\", encoding=\"utf-8\")  #откроем файл со справочной инф.\n",
    "\n",
    "min_price = []\n",
    "for lines in data:\n",
    "    line = lines.strip().split(\";\")\n",
    "    if \"\" not in line:\n",
    "        min_price.append(int(min(line)))\n",
    "# print(min_price)\n",
    "\n",
    "data = open(\"input_6_3_4.csv\", \"r\", encoding=\"utf-8\")  #откроем файл со справочной инф.\n",
    "\n",
    "dct_products = {}\n",
    "for lines in data:\n",
    "    line = lines.strip().split(\";\")\n",
    "    for product in range(len(line)):\n",
    "        if line[product] == '100':\n",
    "            data = open(\"input_6_3_4.csv\", \"r\", encoding=\"utf-8\")  # откроем файл со справочной инф.\n",
    "            string_0 = data.readline().strip().split(\";\") #выберем первую строку с наименованием товаров\n",
    "            dct_products[string_0[product]] = line[0]    #словарь из порядкового номера продукта и магазина\n",
    "\n",
    "for product in dct_products:\n",
    "    print(product, dct_products[product])\n",
    "    break\n",
    "\n",
    "data.close()"
   ]
  },
  {
   "cell_type": "markdown",
   "id": "8f54a69d-caa8-482c-85ab-23771bc1e7bf",
   "metadata": {},
   "source": [
    "Для решения этой задачи необходимо установить библиотеку openpyxl, скачать файл https://online.hse.ru/pluginfile.php/604906/question/questiontext/2416188/1/789260/tab_6_4_1.xlsx и создать в папке с этим файлом скрипт со следующем содержанием:\n"
   ]
  },
  {
   "cell_type": "code",
   "execution_count": null,
   "id": "d25f4945-9e2f-44fd-b664-62c6196a3200",
   "metadata": {},
   "outputs": [],
   "source": [
    "import openpyxl\n",
    "\n",
    "wb = openpyxl.load_workbook('tab_6_4_1.xlsx')\n",
    "sh = wb.active\n",
    "nmin = sh.cell(row=7, column=2).value\n",
    "for rownum in range(8, 28):\n",
    "    nmin = min(nmin, sh.cell(row=rownum, column=2).value)\n",
    "print(nmin)"
   ]
  },
  {
   "cell_type": "markdown",
   "id": "e692ae23-9161-43a9-bccc-4ae6b218bd71",
   "metadata": {},
   "source": [
    "Главный бухгалтер компании \"Рога и копыта\" случайно удалил ведомость с начисленной зарплатой. К счастью, у него сохранились расчётные листки всех сотрудников. Помогите по этим расчётным листкам восстановить зарплатную ведомость. Архив с расчётными листками доступен по ссылке https://online.hse.ru/pluginfile.php/604906/question/questiontext/2416191/1/789262/rogaikopyta_6_4_2.zip (вы можете скачать и распаковать его вручную или самостоятельно научиться делать это с помощью скрипта на Питоне).\n",
    "\n",
    "Ведомость должна содержать 1000 строк, в каждой строке должно быть указано ФИО сотрудника и, через пробел, его зарплата. Сотрудники должны быть упорядочены по алфавиту."
   ]
  },
  {
   "cell_type": "code",
   "execution_count": null,
   "id": "a40e0ccd-a11c-4518-ae48-eb2aad25be96",
   "metadata": {},
   "outputs": [],
   "source": [
    "import glob\n",
    "import openpyxl\n",
    "\n",
    "vedomost = {}\n",
    "\n",
    "path = \"C:\\\\Users\\\\myaut\\\\pyda_18\\\\Python\\\\Python_extracting_&_processing data\\\\tmp\"\n",
    "file_identifier = \"*.xlsx\"\n",
    "\n",
    "for f in glob.glob(path + \"/*\" + file_identifier):\n",
    "    wb = openpyxl.load_workbook(f)\n",
    "    sh = wb.active\n",
    "    b = sh['B2'].value\n",
    "    d = sh['D2'].value\n",
    "    vedomost[b] = d\n",
    "    \n",
    "    \n",
    "vedomost1 = sorted(vedomost.items())\n",
    "for i in vedomost1:\n",
    "    print(i[0], i[1])"
   ]
  },
  {
   "cell_type": "markdown",
   "id": "f10a1c04-3dbe-4214-be10-bddd9455fbbc",
   "metadata": {},
   "source": [
    "Вася планирует карьеру и переезд. Для это составил таблицу, в которой для каждого региона записал зарплаты для разных интересные ему профессий. Таблица доступна по ссылке https://online.hse.ru/pluginfile.php/604906/question/questiontext/2421004/1/789263/salaries_6_5_1.xlsx. Выведите название региона с самой высокой медианной зарплатой (медианой называется элемент, стоящий в середине массива после его упорядочивания) и, через пробел, название профессии с самой высокой средней зарплатой по всем регионам. "
   ]
  },
  {
   "cell_type": "code",
   "execution_count": 14,
   "id": "aa9ce74c-a260-4b2a-b47a-4f3ef66a0386",
   "metadata": {},
   "outputs": [
    {
     "name": "stdout",
     "output_type": "stream",
     "text": [
      "Куала-Лумпур Собачий парикмахер\n"
     ]
    }
   ],
   "source": [
    "import openpyxl\n",
    "\n",
    "xl = openpyxl.load_workbook(\"salaries_6_5_1.xlsx\", read_only=True)\n",
    "sh = xl.active\n",
    "\n",
    "median_city = []\n",
    "for cell_obj in sh[\"B2\":\"H9\"]:  # находим медиану по городу и составляем список (начинаем со 2 -й строки)\n",
    "    list_city = []\n",
    "    for cell in cell_obj:\n",
    "        list_city.append(cell.value)\n",
    "    list_city.sort()\n",
    "    median_city.append(list_city[3])\n",
    "# print(median_city)\n",
    "\n",
    "max_med = max(median_city)\n",
    "for i in range(len(median_city)):\n",
    "    if median_city[i] == max_med:\n",
    "        number_city = i\n",
    "\n",
    "city_list = []  # делаем список из первого и второго столбца, начиная со второй строки\n",
    "for cell_obj in sh[\"A2\" : \"B9\"]:\n",
    "    for cell in cell_obj:\n",
    "        city_list.append(cell.value)\n",
    "# print(city_list)\n",
    "        \n",
    "only_city = []\n",
    "for i in range(0, len(city_list), 2):\n",
    "    only_city.append(city_list[i])\n",
    "# print(only_city)\n",
    "\n",
    "\n",
    "dct = {}\n",
    "for i in range(2, sh.max_row):\n",
    "    for j in range(2, sh.max_column):\n",
    "        name = sh.cell(row=1, column=i).value\n",
    "        salary = sh.cell(row=j, column=i).value\n",
    "        dct[name] = dct.setdefault(name, []) + [salary]\n",
    "# print(dct)\n",
    "\n",
    "for key in dct:\n",
    "    dct[key] = sum(dct[key]) // len(dct[key])\n",
    "x = max(dct, key=dct.get)\n",
    "print(only_city[number_city], x)"
   ]
  },
  {
   "cell_type": "code",
   "execution_count": null,
   "id": "8a3afb34-4bcf-426b-8452-0d5f70e0a747",
   "metadata": {},
   "outputs": [],
   "source": [
    "import openpyxl\n",
    "from statistics import median, mean\n",
    " \n",
    "wb = openpyxl.load_workbook('salaries_6_5_1.xlsx')\n",
    "sheet = wb['Лист1']\n",
    "rows = sheet.max_row\n",
    "columns = sheet.max_column\n",
    "salary_mean = [0] * (columns - 1)\n",
    "salary_median = []\n",
    "prof = [sheet.cell(row=1, column=i).value for i in range(2, columns + 1)]\n",
    "region = [sheet.cell(row=i, column=1).value for i in range(2, rows + 1)]\n",
    " \n",
    "for i in range(2,rows + 1):\n",
    "    tmp = []\n",
    "    for j in range(2,columns + 1):\n",
    "        tmp.append(sheet.cell(row=i, column=j).value)\n",
    "        salary_mean[j - 2] += sheet.cell(row=i, column=j).value\n",
    "    salary_median.append((region[i - 2], median(tmp)))\n",
    "    \n",
    "salary_mean = [(prof[i], int(salary_mean[i] / (rows - 1))) for i in range(columns - 1)]\n",
    " \n",
    "print(*sorted(salary_median, key = lambda x: x[1])[-1])\n",
    "print(*sorted(salary_mean, key = lambda x: x[1])[-1])"
   ]
  },
  {
   "cell_type": "markdown",
   "id": "9778af99-c7e1-4832-8909-5099b86ec88c",
   "metadata": {},
   "source": [
    "Васю назначили завхозом в туристической группе и он подошёл к подготовке ответственно, составив справочник продуктов с указанием калорийности на 100 грамм, а также содержание белков, жиров и углеводов на 100 грамм продукта. Ему не удалось найти всю информацию, поэтому некоторые ячейки остались незаполненными (можно считать их значение равным нулю). Также он использовал какой-то странный офисный пакет и разделял целую и дробную часть чисел запятой. Таблица доступа по ссылке https://learnonline.hse.ru/pluginfile.php/604906/question/questiontext/2424681/1/789264/trekking1_6_6_1.xlsx\n",
    "\n",
    "Вася хочет минимизировать вес продуктов и для этого брать самые калорийные продукты. Помогите ему и упорядочите продукты по убыванию калорийности. В случае, если продукты имеют одинаковую калорийность - упорядочите их по названию. В качестве ответа необходимо сдать названия продуктов, по одному в строке."
   ]
  },
  {
   "cell_type": "code",
   "execution_count": 69,
   "id": "64d1da6e-afe2-4c17-974b-08b090da07bd",
   "metadata": {},
   "outputs": [
    {
     "name": "stdout",
     "output_type": "stream",
     "text": [
      "Шоколад молочный какао\n",
      "Шоколад молочный миндаль\n",
      "Сухофрукты\n",
      "Омлет с копченостями галагала\n",
      "Свинина сублимрованная\n",
      "Шоколад ремесленный\n",
      "Козинак подсолнечный\n",
      "Омлет с грибами галагала\n",
      "Козинак арахисовый\n",
      "Хлебцы льняные \"Тайские\"\n",
      "Колбаса с/к \"Еврейская полусухая\"\n",
      "Говядина сублимрованная\n",
      "Сухарики ржаные с семечками\n",
      "Хлебцы льняные Морские\n",
      "Суп говяжий с картофелем галагала\n",
      "Суп гороховый с копченостями\n",
      "Суп гороховый с копченостями галагала\n",
      "Суп куриный с картофелем галагала\n",
      "Суп-гуляш галагала\n",
      "Суп-харчо \"Острый\"\n",
      "Сыр Маасдам\n",
      "Сыр Чеддер\n",
      "Борщ Московский Галагала\n",
      "Крупа гречневая\n",
      "Рис пропаренный Увелка\n",
      "Свинина Кронидов\n",
      "Сухарики ржаные Finn Crisp\n",
      "Капеллини Макфа\n",
      "Сыр Гауда\n",
      "Кус Кус\n",
      "Каша Быстров\n",
      "Картофель сушеный\n",
      "Говядина Кронидов\n",
      "Хлебцы с чесноком и луком\n",
      "Суп томатный с рисом\n",
      "Балык \"Королевский\"\n",
      "Паутина\n"
     ]
    }
   ],
   "source": [
    "import openpyxl\n",
    "wb = openpyxl.load_workbook('trekking1_6_6_1.xlsx')\n",
    "sheet = wb['Справочник']\n",
    "\n",
    "dct = {}\n",
    "for i in range(2, sheet.max_row + 1):\n",
    "    for j in range(1, sheet.max_column + 1):\n",
    "        product = sheet.cell(row = i, column=1).value\n",
    "        kkal = sheet.cell(row = i, column=2).value\n",
    "        dct[product] = kkal\n",
    "\n",
    "sorted_dct = sorted(dct.items(), key = lambda x: (-x[1], x[0]))\n",
    "# print(sorted_dct)\n",
    "\n",
    "for f in sorted_dct:\n",
    "    print(f[0])"
   ]
  },
  {
   "cell_type": "markdown",
   "id": "9c1cda24-16f8-4e84-9f95-98b55ba7bcfc",
   "metadata": {},
   "source": [
    "Васю назначили завхозом в туристической группе и он подошёл к подготовке ответственно, составив справочник продуктов с указанием калорийности на 100 грамм, а также содержание белков, жиров и углеводов на 100 грамм продукта. Ему не удалось найти всю информацию, поэтому некоторые ячейки остались незаполненными (можно считать их значение равным нулю). Также он использовал какой-то странный офисный пакет и разделял целую и дробную часть чисел запятой. Таблица доступна по ссылке https://learnonline.hse.ru/pluginfile.php/604906/question/questiontext/2424730/1/789265/trekking2_6_6_2.xlsx\n",
    "\n",
    "Вася составил раскладку по продуктам на один день (она на листе \"Раскладка\") с указанием названия продукта и его количества в граммах. Посчитайте 4 числа: суммарную калорийность и граммы белков, жиров и углеводов. Числа округлите до целых вниз и введите через пробел."
   ]
  },
  {
   "cell_type": "code",
   "execution_count": 237,
   "id": "717a6667-3b5e-4248-8ad3-30b796f9bdf7",
   "metadata": {},
   "outputs": [
    {
     "name": "stdout",
     "output_type": "stream",
     "text": [
      "4963 203 307 302\n"
     ]
    }
   ],
   "source": [
    "import openpyxl\n",
    "import math\n",
    "wb = openpyxl.load_workbook('trekking2_6_6_2.xlsx')\n",
    "sheet = wb['Раскладка']\n",
    "sheet_2 = wb['Справочник']\n",
    "kkal_sum, proteins_sum, fats_sum, carbohydrates_sum = 0, 0, 0, 0\n",
    "\n",
    "\n",
    "dictionary_s = {} #dict  с кбжу\n",
    "for i in range(2, sheet_2.max_row + 1):\n",
    "    for j in range(1, sheet_2.max_column + 1):\n",
    "        product = sheet_2.cell(row = i, column=1).value\n",
    "        kkal = sheet_2.cell(row = i, column=2).value\n",
    "        proteins = sheet_2.cell(row = i, column=3).value\n",
    "        fats = sheet_2.cell(row = i, column=4).value\n",
    "        carbohydrates = sheet_2.cell(row = i, column=5).value\n",
    "        dictionary_s[product] = [kkal, proteins, fats, carbohydrates]\n",
    "# print(dictionary_s)\n",
    "\n",
    "\n",
    "for i in range(2, sheet.max_row + 1):\n",
    "    for j in range(2, sheet.max_column + 1):\n",
    "        product = sheet.cell(row= i, column= 1).value\n",
    "        weight = sheet.cell(row=i, column= 2).value\n",
    "        if product in dictionary_s:\n",
    "            kkal_sum += weight * float(dictionary_s[product][0]) / 100\n",
    "            proteins_sum += weight * float(dictionary_s[product][1]) / 100\n",
    "            fats_sum += weight * float(dictionary_s[product][2]) / 100\n",
    "        if dictionary_s[product][3] != None:\n",
    "            carbohydrates_sum += weight * float(dictionary_s[product][3]) / 100\n",
    "print(math.floor(kkal_sum), math.floor(proteins_sum), math.floor(fats_sum), math.floor(carbohydrates_sum))"
   ]
  },
  {
   "cell_type": "markdown",
   "id": "a9e020de-069c-4639-af7b-008a820cc351",
   "metadata": {},
   "source": [
    "Васю назначили завхозом в туристической группе и он подошёл к подготовке ответственно, составив справочник продуктов с указанием калорийности на 100 грамм, а также содержание белков, жиров и углеводов на 100 грамм продукта. Ему не удалось найти всю информацию, поэтому некоторые ячейки остались незаполненными (можно считать их значение равным нулю). Также он использовал какой-то странный офисный пакет и разделял целую и дробную часть чисел запятой. Таблица доступна по ссылке https://learnonline.hse.ru/pluginfile.php/604906/question/questiontext/2424813/1/789266/trekking3_6_6_3.xlsx\n",
    "\n",
    "Вася составил раскладку по продуктам на весь поход (она на листе \"Раскладка\") с указанием номера дня, названия продукта и его количества в граммах. Для каждого дня посчитайте 4 числа: суммарную калорийность и граммы белков, жиров и углеводов. Числа округлите до целых вниз и введите через пробел. Информация о каждом дне должна выводиться в отдельной строке."
   ]
  },
  {
   "cell_type": "code",
   "execution_count": 236,
   "id": "bc2d2b97-c34f-42a8-8032-154febbf9d8b",
   "metadata": {},
   "outputs": [
    {
     "name": "stdout",
     "output_type": "stream",
     "text": [
      "2405 82 154 172\n",
      "4963 203 307 302\n",
      "5219 178 267 502\n",
      "4873 241 204 537\n",
      "5278 243 314 367\n",
      "4451 190 188 497\n",
      "4806 205 265 386\n",
      "5738 264 195 720\n",
      "1766 66 90 171\n"
     ]
    }
   ],
   "source": [
    "from openpyxl import load_workbook\n",
    "\n",
    "wb = load_workbook(\"trekking3_6_6_3.xlsx\", read_only=True)\n",
    "sheet = wb[\"Справочник\"]\n",
    "d = {}  # словарь блюд c параметрами\n",
    "\n",
    "# заполнения словарю блюд значениями\n",
    "for i in range(2, sheet.max_row + 1):\n",
    "    product = sheet.cell(row=i, column=1).value\n",
    "    kkal = sheet.cell(row=i, column=2).value\n",
    "    proteins = sheet.cell(row=i, column=3).value\n",
    "    fats = sheet.cell(row=i, column=4).value\n",
    "    carbohydrates = sheet.cell(row=i, column=5).value\n",
    "    d[product] = kkal, proteins, fats, carbohydrates\n",
    "\n",
    "sheet = wb[\"Раскладка\"]\n",
    "\n",
    "for number_day in range(1, 10):\n",
    "    kal_sum_day_ = 0\n",
    "    proteins_sum_day_ = 0\n",
    "    fats_sum_day_ = 0\n",
    "    carbohydrates_sum_day_ = 0\n",
    "\n",
    "    for i in range(2, sheet.max_row + 1):\n",
    "        day = sheet.cell(row=i, column=1).value\n",
    "        product = sheet.cell(row=i, column=2).value\n",
    "        weight = sheet.cell(row=i, column=3).value\n",
    "\n",
    "        kal_sum = 0\n",
    "        proteins_sum = 0\n",
    "        fats_sum = 0\n",
    "        carbohydrates_sum = 0\n",
    "\n",
    "        if day == number_day:\n",
    "            kal_sum = weight * d[product][0] / 100 + kal_sum  # каллории\n",
    "            if d[product][1] is not None:\n",
    "                proteins_sum = weight * d[product][1] / 100 + proteins_sum  # белки\n",
    "            if d[product][2] is not None:\n",
    "                fats_sum = weight * d[product][2] / 100 + fats_sum  # жиры\n",
    "            if d[product][3] is not None:\n",
    "                carbohydrates_sum = weight * d[product][3] / 100 + carbohydrates_sum  # углеводы\n",
    "\n",
    "            kal_sum_day_ = kal_sum_day_ + kal_sum\n",
    "            proteins_sum_day_ = proteins_sum_day_ + proteins_sum\n",
    "            fats_sum_day_ = fats_sum_day_ + fats_sum\n",
    "            carbohydrates_sum_day_ = carbohydrates_sum_day_ + carbohydrates_sum\n",
    "    print(int(kal_sum_day_), end=\" \")\n",
    "    print(int(proteins_sum_day_), end=\" \")\n",
    "    print(int(fats_sum_day_), end=\" \")\n",
    "    print(int(carbohydrates_sum_day_))"
   ]
  }
 ],
 "metadata": {
  "kernelspec": {
   "display_name": "Python 3 (ipykernel)",
   "language": "python",
   "name": "python3"
  },
  "language_info": {
   "codemirror_mode": {
    "name": "ipython",
    "version": 3
   },
   "file_extension": ".py",
   "mimetype": "text/x-python",
   "name": "python",
   "nbconvert_exporter": "python",
   "pygments_lexer": "ipython3",
   "version": "3.10.9"
  }
 },
 "nbformat": 4,
 "nbformat_minor": 5
}
