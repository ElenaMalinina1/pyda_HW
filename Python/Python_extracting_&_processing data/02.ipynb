{
 "cells": [
  {
   "cell_type": "markdown",
   "id": "38e42cf6-f241-4ed5-b1f4-7c8ab290e409",
   "metadata": {},
   "source": [
    "# Задачи"
   ]
  },
  {
   "cell_type": "code",
   "execution_count": null,
   "id": "19196061-6832-44cb-8e7b-6aaf1b460926",
   "metadata": {},
   "outputs": [],
   "source": [
    "now = int(input())\n",
    "sum_ = 0\n",
    "while now != 0:\n",
    "    sum_ += now\n",
    "    now = int(input())\n",
    "    if now < 0:\n",
    "        break\n",
    "print(sum_)"
   ]
  },
  {
   "cell_type": "code",
   "execution_count": null,
   "id": "996e5029-f054-4e7f-af8f-52aa988e3df7",
   "metadata": {},
   "outputs": [],
   "source": [
    "i = 1\n",
    "flag = False\n",
    "\n",
    "while i <= 10:\n",
    "    j = 1\n",
    "    while j <= 10:\n",
    "        print(i * j, end= ' | ')\n",
    "        if i * j == 42:\n",
    "            flag == True\n",
    "            break\n",
    "        j += 1\n",
    "    if flag:\n",
    "        break\n",
    "    print()\n",
    "    i += 1"
   ]
  },
  {
   "cell_type": "code",
   "execution_count": null,
   "id": "d0a1faa9-b0f1-415f-8454-60f8dae6f809",
   "metadata": {},
   "outputs": [],
   "source": [
    "i = 0\n",
    "\n",
    "while i <= 100:\n",
    "    i += 2\n",
    "    print(i)"
   ]
  },
  {
   "cell_type": "code",
   "execution_count": null,
   "id": "36dc8d5b-77db-4e5a-bb29-c96b8c187ee6",
   "metadata": {},
   "outputs": [],
   "source": [
    "i = 1\n",
    "\n",
    "while i <= 100:\n",
    "    i += 1\n",
    "    if i % 2 != 0:\n",
    "        continue\n",
    "    print(i)"
   ]
  },
  {
   "cell_type": "code",
   "execution_count": null,
   "id": "5e5e898b-7865-4e9c-8492-ed17b93ccfb1",
   "metadata": {},
   "outputs": [],
   "source": [
    "i = 0\n",
    "while i <= 99:\n",
    "    i += 1\n",
    "    print(i)\n",
    "else:\n",
    "    print('else')"
   ]
  },
  {
   "cell_type": "code",
   "execution_count": null,
   "id": "c9ab9940-e2a8-4b16-b540-1b320a9f2612",
   "metadata": {},
   "outputs": [],
   "source": []
  },
  {
   "cell_type": "code",
   "execution_count": null,
   "id": "62810ed4-f8e5-40d3-b502-d73b740218d4",
   "metadata": {},
   "outputs": [],
   "source": []
  },
  {
   "cell_type": "code",
   "execution_count": null,
   "id": "aad65093-020f-4e7c-b425-e9bee3ffc9fd",
   "metadata": {},
   "outputs": [],
   "source": []
  },
  {
   "cell_type": "markdown",
   "id": "301929f8-1294-4254-b98b-5386ab46ff65",
   "metadata": {},
   "source": [
    "Вася уехал учиться по обмену на один семестр в Италию. Единственный магазин в городе открыт с 6 до 8 утра и с 16 до 17 вечера (включительно). Вася не мог попасть в магазин уже несколько дней и страдает от голода. Он может прийти в магазин в X часов. Если магазин открыт в X часов, то выведите True, а если закрыт - выведите False.\n",
    "\n",
    "В единственной строке входных данных вводится целое число X, число находится в пределах от 0 до 23."
   ]
  },
  {
   "cell_type": "code",
   "execution_count": null,
   "id": "1b73dd6f-4a12-4b0f-8aa6-8699b6af406c",
   "metadata": {},
   "outputs": [],
   "source": [
    "x = int(input())\n",
    "market = 6 <= x <= 8 or 16 <= x <= 17\n",
    "print(market)"
   ]
  },
  {
   "cell_type": "markdown",
   "id": "6f8ecf55-71ba-4182-aa75-4790d902f664",
   "metadata": {},
   "source": [
    "Вася не смог попасть в магазин в Италии. Несмотря на удачно подобранное время посещения магазина в этот день в городе праздновался день броколетти (цветной капусты) и магазин был закрыт по случаю праздника. Зато Вася смог купить билет до Испании за сущие копейки. В Испании есть магазин, который открыт с A до B часов включительно. Испания - жаркая страна, поэтому с C до D часов включительно наступает сиеста, когда все заведения, включая магазин, закрыты. При этом A < B, C < D. Обратите внимание, что время сиесты не обязательно полностью содержится в интервале работы магазина. Вася может прийти в испанский магазин в X часов. Выведите True если магазин открыт в это время и False, если он закрыт.\n",
    "\n",
    "Числа A, B, C, D, X вводятся по одному в строке и находятся в пределах от 0 до 23."
   ]
  },
  {
   "cell_type": "code",
   "execution_count": null,
   "id": "d86fa1b8-55c8-492b-bf48-1e013c49cc66",
   "metadata": {},
   "outputs": [],
   "source": [
    "a = int(input())\n",
    "b = int(input())\n",
    "c = int(input())\n",
    "d = int(input())\n",
    "x = int(input())\n",
    "market = a <= x <= b\n",
    "siesta = not c <= x <= d\n",
    "time = market and siesta\n",
    "print(time)"
   ]
  },
  {
   "cell_type": "markdown",
   "id": "e1b6384a-f10b-437e-8642-fec03397432c",
   "metadata": {},
   "source": [
    "Вася закупился продуктами в Испании и ему больше не грозит голодная смерть. Однако, он потратил все деньги и был вынужден устроиться на работу свинопасом в Доломитовых Альпах с графиком сутки через двое. Вася работает начиная с первого дня (т.е. работает в день 1, отдыхает в дни 2 и 3, работает в день 4, отдыхает в дни 5 и 6 и т.д.). Выведите True, если в день X Вася должен работать и False в противном случае.\n",
    "\n",
    "В единственной строке входных данных вводится целое положительное число X. Оно может быть сколь угодно большим.\n",
    "\n",
    "Подсказка: Внимательно изучите остаток от деления номера дня на период работы Васи."
   ]
  },
  {
   "cell_type": "code",
   "execution_count": null,
   "id": "3be48ba3-6643-41d4-af57-72cc1839c754",
   "metadata": {},
   "outputs": [],
   "source": [
    "x = int(input())\n",
    "work = (x % 3) % 2 != 0\n",
    "print(work)"
   ]
  },
  {
   "cell_type": "markdown",
   "id": "0e925a30-a607-4151-b5f7-9a8d529e03b8",
   "metadata": {},
   "source": [
    "На узких улицах Турина Вася увидел автомобиль Lacia Ypsilon 1997 года выпуска и был поражен его красотой.\n",
    "\n",
    "\n",
    "Чтобы заработать денег на этот автомобиль он взял себе еще одну подработку: пасти гусей сутки через трое. Таким образом, начиная с первого дня Вася пасет свиней с графиком сутки через двое (т.е. в дни 1, 4, 7 и т.д.), а также с первого дня пасет гусей с графиком сутки через трое (т.е. в дни 1, 5, 9 и т.д.). Выведите True, если в день X Вася пасет свиней и гусей одновременно и False в противном случае.\n",
    "\n",
    "В единственной строке входных данных вводится целое положительное число X, которое может быть сколь угодно большим."
   ]
  },
  {
   "cell_type": "code",
   "execution_count": null,
   "id": "9e91b9c2-11e3-412a-b6bc-5223d9c80c30",
   "metadata": {},
   "outputs": [],
   "source": [
    "x = int(input())\n",
    "work_p = x % 2 != 0\n",
    "work_g = x % 3 != 0\n",
    "print(work_p == work_g)"
   ]
  },
  {
   "cell_type": "code",
   "execution_count": null,
   "id": "f3bda837-9d9e-4e1e-bdaf-744f222155a4",
   "metadata": {},
   "outputs": [],
   "source": [
    "x = int(input())\n",
    "work_p = x % 3 == 1 and x % 4 == 1\n",
    "print(work_p)"
   ]
  },
  {
   "cell_type": "markdown",
   "id": "473a3ef8-26ad-4e57-839d-7dbcd0e95772",
   "metadata": {},
   "source": [
    "Выведите слово One (обязательно с большой буквы!), если было введено число 1 и не выводите ничего если было введено любое другое число."
   ]
  },
  {
   "cell_type": "code",
   "execution_count": null,
   "id": "18613682-b19a-42af-be87-9c3f1ff7cfc0",
   "metadata": {},
   "outputs": [],
   "source": [
    "x = int(input())\n",
    "if x == 1:\n",
    "    print('One')\n",
    "print('')\n"
   ]
  },
  {
   "cell_type": "markdown",
   "id": "b3b3f2ee-f77d-4bb5-88b0-bdc2601e5ac7",
   "metadata": {},
   "source": [
    "Выведите слово One (обязательно с большой буквы!), если было введено число 1, выводите фразу Not one (также обязательно с большой буквы) если было введено любое другое число."
   ]
  },
  {
   "cell_type": "code",
   "execution_count": null,
   "id": "e12cbd4e-ac8b-447c-8921-0e5a4a80c2b9",
   "metadata": {},
   "outputs": [],
   "source": [
    "x = int(input())\n",
    "if x == 1:\n",
    "    print('One')\n",
    "else:\n",
    "    print('Not one')"
   ]
  },
  {
   "cell_type": "markdown",
   "id": "a628ba07-069f-4843-8198-8504f6761288",
   "metadata": {},
   "source": [
    "Напишите программу, которая считывает два целых числа A и B и выводит наибольшее значение из них. Числа — целые от 1 до 1000."
   ]
  },
  {
   "cell_type": "code",
   "execution_count": null,
   "id": "e5d7b4bb-b395-4cb8-b4e9-8cc68ef46374",
   "metadata": {},
   "outputs": [],
   "source": [
    "a = int(input())\n",
    "b = int(input())\n",
    "if a > b:\n",
    "    print(a)\n",
    "else:\n",
    "    print(b)"
   ]
  },
  {
   "cell_type": "markdown",
   "id": "dd882c56-a387-40c9-81d6-9fb4750d8642",
   "metadata": {},
   "source": [
    "Даны два целых числа. Программа должна вывести число 1, если первое число больше второго, число 2, если второе больше первого или число 0, если они равны.\n",
    "\n",
    "Эту задачу нужно решить с помощью конструкций if-elif"
   ]
  },
  {
   "cell_type": "code",
   "execution_count": null,
   "id": "264b5d98-aa46-41ce-8534-efa5441bb58a",
   "metadata": {},
   "outputs": [],
   "source": [
    "a = int(input())\n",
    "b = int(input())\n",
    "if a > b:\n",
    "    print(1)\n",
    "elif a < b:\n",
    "    print(2)\n",
    "elif a == b:\n",
    "    print(0)"
   ]
  },
  {
   "cell_type": "markdown",
   "id": "0cfc670b-ffe3-4070-8c94-ef0af3673283",
   "metadata": {},
   "source": [
    "В математике функция sign(x) (знак числа) определена так:\n",
    "\n",
    "sign(x) = 1, если x > 0,\n",
    "sign(x) = -1, если x < 0,\n",
    "sign(x) = 0, если x = 0.\n",
    "\n",
    "Для данного числа x выведите значение sign(x)."
   ]
  },
  {
   "cell_type": "code",
   "execution_count": null,
   "id": "f9d8a932-9c75-4b09-9ddc-2bdd2198f078",
   "metadata": {},
   "outputs": [],
   "source": [
    "x = int(input())\n",
    "if x > 0:\n",
    "    print(1)\n",
    "elif x < 0:\n",
    "    print(-1)\n",
    "elif x == 0:\n",
    "    print(0)"
   ]
  },
  {
   "cell_type": "markdown",
   "id": "559300fc-1e75-4ade-8a3b-6ba19fba9ebf",
   "metadata": {},
   "source": [
    "Даны три целых числа. Найдите наибольшее из них (программа должна вывести ровно одно целое число)."
   ]
  },
  {
   "cell_type": "code",
   "execution_count": null,
   "id": "640d0084-2870-4338-9e90-11f29f303b23",
   "metadata": {},
   "outputs": [],
   "source": [
    "a = int(input())\n",
    "b = int(input())\n",
    "c = int(input())\n",
    "if b <= a >= c:\n",
    "    print(a)\n",
    "elif a <= b >= c:\n",
    "    print(b)\n",
    "else:\n",
    "    print(c)"
   ]
  },
  {
   "cell_type": "markdown",
   "id": "735bc9d1-eb62-4212-9150-9da091176d9f",
   "metadata": {},
   "source": [
    "Дано натуральное число. Требуется определить, является ли год с данным номером високосным. Если год является високосным, то выведите YES, иначе выведите NO. Напомним, что в соответствии с григорианским календарем, год является високосным, если его номер кратен 4, но не кратен 100, а также если он кратен 400."
   ]
  },
  {
   "cell_type": "code",
   "execution_count": null,
   "id": "63585f9f-c026-4028-b96d-da075d3e05ac",
   "metadata": {},
   "outputs": [],
   "source": [
    "year = int(input())\n",
    "if year % 4 == 0 and year % 100 != 0 or year % 400 == 0:\n",
    "    print('YES')\n",
    "else:\n",
    "    print('NO')"
   ]
  },
  {
   "cell_type": "markdown",
   "id": "2a2c1b54-d845-4ffa-ae96-1b3addcfcceb",
   "metadata": {},
   "source": [
    "Даны три целых числа A, B, C. Выведите YES, есть ли среди них хотя бы одно четное и хотя бы одно нечетное, и NO в противном случае."
   ]
  },
  {
   "cell_type": "code",
   "execution_count": null,
   "id": "48bda3ba-f337-4304-988d-f0714b93ffcb",
   "metadata": {},
   "outputs": [],
   "source": [
    "a = int(input())\n",
    "b = int(input())\n",
    "c = int(input())\n",
    "if (a % 2 == 0 or b % 2 == 0 or c % 2 == 0) and (a % 2 != 0 or b % 2 != 0 or c % 2 != 0):\n",
    "        print('YES')\n",
    "else:\n",
    "    print(\"NO\")"
   ]
  },
  {
   "cell_type": "markdown",
   "id": "57c1b7d5-4fb8-479f-96bb-8698fe30d683",
   "metadata": {},
   "source": [
    "По данному целому числу N распечатайте все квадраты натуральных (целых, положительных) чисел, не превосходящие N, в порядке возрастания. Обратите внимание, что если N является полным квадратом, то его тоже нужно печатать."
   ]
  },
  {
   "cell_type": "code",
   "execution_count": null,
   "id": "e4d44005-c7f5-4d35-9d98-2ac7fb792fa1",
   "metadata": {},
   "outputs": [],
   "source": [
    "n = int(input())\n",
    "i = 1\n",
    "while i ** 2 <= n:\n",
    "    print(i ** 2)\n",
    "    i += 1"
   ]
  },
  {
   "cell_type": "markdown",
   "id": "1f9f3e8b-45ee-41ff-9ef6-dd3987f9b398",
   "metadata": {},
   "source": [
    "По данному числу N распечатайте все целые степени двойки, не превосходящие N, в порядке возрастания. Если число N является степенью двойки, то его также необходимо вывести."
   ]
  },
  {
   "cell_type": "code",
   "execution_count": null,
   "id": "13b5b7eb-5988-4b07-be2d-c6eaec3d3948",
   "metadata": {},
   "outputs": [],
   "source": [
    "n = int(input())\n",
    "i = 1\n",
    "while i  <= n:\n",
    "    print(i, end=' ')\n",
    "    i *= 2"
   ]
  },
  {
   "cell_type": "markdown",
   "id": "c82fb88d-9a2e-4014-990d-f6ee34e151ee",
   "metadata": {},
   "source": [
    "Последовательность состоит из натуральных чисел, не превосходящих 109, и завершается числом 0. Определите значение наибольшего элемента последовательности.\n",
    "\n",
    "Формат ввода\n",
    "Вводится последовательность целых чисел, оканчивающаяся числом 0 (само число 0 в последовательность не входит, а служит как признак ее окончания).\n",
    "\n",
    "Формат вывода\n",
    "Выведите ответ на задачу."
   ]
  },
  {
   "cell_type": "code",
   "execution_count": null,
   "id": "975e60e6-3f1a-4f54-8335-bc0983f230e7",
   "metadata": {},
   "outputs": [],
   "source": [
    "num = int(input())\n",
    "max_num = 0\n",
    "while num != 0:\n",
    "    if num > max_num:\n",
    "        max_num = num\n",
    "    num = int(input())\n",
    "print(max_num)"
   ]
  },
  {
   "cell_type": "markdown",
   "id": "f9d35d90-13e5-4ff5-ae37-02ec8bcb6165",
   "metadata": {},
   "source": [
    "Последовательность состоит из натуральных чисел и завершается числом 0. Определите, сколько элементов этой последовательности больше предыдущего элемента.\n",
    "\n",
    "Формат ввода\n",
    "Вводится последовательность целых чисел, оканчивающаяся числом 0 (само число 0 в последовательность не входит, а служит как признак ее окончания).\n",
    "\n",
    "Формат вывода\n",
    "Выведите ответ на задачу.\n",
    "\n",
    "Подсказка\n",
    "Обработайте первое число до цикла и сохраните его в отдельную переменную (предыдущее число). Проверьте, что ваша программа правильно работает для пустой последовательности."
   ]
  },
  {
   "cell_type": "code",
   "execution_count": null,
   "id": "b0b83072-a233-4bc6-bf62-7a89f4e91092",
   "metadata": {},
   "outputs": [],
   "source": [
    "# previous = int(input())\n",
    "# next_ = int(input())\n",
    "# count = 0\n",
    "\n",
    "# if next_ > previous:\n",
    "#     count += 1\n",
    "# next_ = previous\n",
    "\n",
    "# while next_ != 0:\n",
    "#     next_ = int(input())\n",
    "#     if next_ > previous:\n",
    "#         count += 1\n",
    "#     previous = next_\n",
    "# print(count)"
   ]
  },
  {
   "cell_type": "code",
   "execution_count": null,
   "id": "0d21cd9f-8000-40d1-9d9e-994f72776eeb",
   "metadata": {},
   "outputs": [],
   "source": [
    "previous = int(input())\n",
    "next_ = int(input())\n",
    "count = 0\n",
    "\n",
    "while next_ != 0:\n",
    "    if next_ > previous:\n",
    "        count += 1\n",
    "    previous = next_\n",
    "    next_ = int(input())\n",
    "print(count)"
   ]
  },
  {
   "cell_type": "markdown",
   "id": "773a3098-c7cb-47ac-9862-53cb976cc217",
   "metadata": {},
   "source": [
    "Последовательность состоит из натуральных чисел и завершается числом 0. Определите, какое количество элементов этой последовательности, равны ее наибольшему элементу.\n",
    "\n",
    "Формат ввода\n",
    "Вводится последовательность целых чисел, оканчивающаяся числом 0 (само число 0 в последовательность не входит, а служит как признак ее окончания).\n",
    "\n",
    "Формат вывода\n",
    "Выведите ответ на задачу.\n",
    "\n",
    "Подсказка\n",
    "Обработайте первое число до цикла. Проверьте случай пустой последовательности. Не забывайте устанавливать счетчик максимальных элементов в единицу при обновлении максимума. "
   ]
  },
  {
   "cell_type": "code",
   "execution_count": null,
   "id": "791515b6-f9e7-45c5-acf6-7425eab9780d",
   "metadata": {},
   "outputs": [],
   "source": [
    "number = int(input())\n",
    "max_number = number\n",
    "count = 0\n",
    "\n",
    "while number != 0 and number != ' ':\n",
    "    number = int(input())\n",
    "    if number > max_number:\n",
    "        max_number = number\n",
    "        count = 1\n",
    "    elif number == max_number:\n",
    "        count += 1\n",
    "print(count)"
   ]
  },
  {
   "cell_type": "markdown",
   "id": "80155efe-605e-40d7-9d9b-2480e3f32a9c",
   "metadata": {},
   "source": [
    "Дано несколько чисел. Подсчитайте, сколько из них равны нулю, и выведите это количество.\n",
    "\n",
    "Формат ввода\n",
    "Cначала вводится число N, затем вводится ровно N целых чисел.\n",
    "\n",
    "Формат вывода\n",
    "Выведите ответ на задачу."
   ]
  },
  {
   "cell_type": "code",
   "execution_count": 11,
   "id": "1d357267-abef-4f0b-9443-0a5063c6c82e",
   "metadata": {},
   "outputs": [
    {
     "name": "stdin",
     "output_type": "stream",
     "text": [
      " 4\n",
      " 0\n",
      " 6\n",
      " 2\n",
      " 0\n"
     ]
    },
    {
     "name": "stdout",
     "output_type": "stream",
     "text": [
      "2\n"
     ]
    }
   ],
   "source": [
    "numbers = int(input()) \n",
    "count_n = 0\n",
    "count_l = 0\n",
    "\n",
    "while count_l < numbers:\n",
    "    if int(input()) == 0:\n",
    "        count_n += 1\n",
    "    count_l += 1\n",
    "print(count_n)"
   ]
  },
  {
   "cell_type": "markdown",
   "id": "cde34ef4-30d3-40db-bc65-4cdd58550c95",
   "metadata": {},
   "source": [
    "По данному натуральному n≤9 выведите лесенку из n ступенек, i-я ступенька состоит из чисел от 1 до i без пробелов.\n",
    "\n",
    "Формат ввода\n",
    "Вводится натуральное число.\n",
    "\n",
    "Формат вывода\n",
    "Выведите ответ на задачу."
   ]
  },
  {
   "cell_type": "code",
   "execution_count": 78,
   "id": "7f34a7ec-9492-49a5-9842-a4f6fe4bfc1c",
   "metadata": {},
   "outputs": [
    {
     "name": "stdin",
     "output_type": "stream",
     "text": [
      " 6\n"
     ]
    },
    {
     "name": "stdout",
     "output_type": "stream",
     "text": [
      "1\n",
      "12\n",
      "123\n",
      "1234\n",
      "12345\n",
      "123456\n"
     ]
    }
   ],
   "source": [
    "n = int(input())\n",
    "i = 1\n",
    "\n",
    "while i <= n:\n",
    "    j = 1\n",
    "    while j <= i:\n",
    "        print(j, end='')\n",
    "        j += 1\n",
    "    print()\n",
    "    i += 1"
   ]
  },
  {
   "cell_type": "markdown",
   "id": "bf0e8b5c-ffa4-4434-bcdf-f2b1da2d004d",
   "metadata": {},
   "source": [
    "Даны два целых числа A и B (при этом A≤B). Выведите все числа от A до B включительно.\n",
    "\n",
    "Формат ввода\n",
    "Вводятся два целых числа.\n",
    "\n",
    "Формат вывода\n",
    "Выведите ответ на задачу."
   ]
  },
  {
   "cell_type": "code",
   "execution_count": 101,
   "id": "776aaef4-b39d-431e-b8d5-e041992532b9",
   "metadata": {},
   "outputs": [
    {
     "name": "stdin",
     "output_type": "stream",
     "text": [
      " -100\n",
      " 100\n"
     ]
    },
    {
     "name": "stdout",
     "output_type": "stream",
     "text": [
      "-100 -99 -98 -97 -96 -95 -94 -93 -92 -91 -90 -89 -88 -87 -86 -85 -84 -83 -82 -81 -80 -79 -78 -77 -76 -75 -74 -73 -72 -71 -70 -69 -68 -67 -66 -65 -64 -63 -62 -61 -60 -59 -58 -57 -56 -55 -54 -53 -52 -51 -50 -49 -48 -47 -46 -45 -44 -43 -42 -41 -40 -39 -38 -37 -36 -35 -34 -33 -32 -31 -30 -29 -28 -27 -26 -25 -24 -23 -22 -21 -20 -19 -18 -17 -16 -15 -14 -13 -12 -11 -10 -9 -8 -7 -6 -5 -4 -3 -2 -1 0 1 2 3 4 5 6 7 8 9 10 11 12 13 14 15 16 17 18 19 20 21 22 23 24 25 26 27 28 29 30 31 32 33 34 35 36 37 38 39 40 41 42 43 44 45 46 47 48 49 50 51 52 53 54 55 56 57 58 59 60 61 62 63 64 65 66 67 68 69 70 71 72 73 74 75 76 77 78 79 80 81 82 83 84 85 86 87 88 89 90 91 92 93 94 95 96 97 98 99 100 "
     ]
    }
   ],
   "source": [
    "number_1 = int(input())\n",
    "number_2 = int(input())\n",
    "\n",
    "while number_1 <= number_2:\n",
    "    number_1 += 1\n",
    "    print(number_1 - 1, end=' ')"
   ]
  },
  {
   "cell_type": "code",
   "execution_count": null,
   "id": "ce168402-5517-45dc-aa62-1709f06abff0",
   "metadata": {},
   "outputs": [],
   "source": []
  }
 ],
 "metadata": {
  "kernelspec": {
   "display_name": "Python 3 (ipykernel)",
   "language": "python",
   "name": "python3"
  },
  "language_info": {
   "codemirror_mode": {
    "name": "ipython",
    "version": 3
   },
   "file_extension": ".py",
   "mimetype": "text/x-python",
   "name": "python",
   "nbconvert_exporter": "python",
   "pygments_lexer": "ipython3",
   "version": "3.9.12"
  }
 },
 "nbformat": 4,
 "nbformat_minor": 5
}
