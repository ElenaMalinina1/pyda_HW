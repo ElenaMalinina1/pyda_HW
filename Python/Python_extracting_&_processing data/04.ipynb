{
 "cells": [
  {
   "cell_type": "markdown",
   "id": "753f81f1-3b21-42de-ba4e-d3488cf90b83",
   "metadata": {},
   "source": [
    "# Задачи"
   ]
  },
  {
   "cell_type": "markdown",
   "id": "583f5ea8-d554-4f00-8466-30d02c7146d8",
   "metadata": {},
   "source": [
    "Вводится целое положительное число N. Выведите все числа по убыванию от N до 1 включительно через пробел."
   ]
  },
  {
   "cell_type": "code",
   "execution_count": 2,
   "id": "af8453fa-99df-4fe1-9832-0127a474baec",
   "metadata": {},
   "outputs": [
    {
     "name": "stdin",
     "output_type": "stream",
     "text": [
      " 6\n"
     ]
    },
    {
     "name": "stdout",
     "output_type": "stream",
     "text": [
      "6 5 4 3 2 1 "
     ]
    }
   ],
   "source": [
    "n = int(input())\n",
    "for num in range(n, 0, -1):\n",
    "    print(num, end=' ')"
   ]
  },
  {
   "cell_type": "markdown",
   "id": "3134cf2e-f66f-4149-862e-a5afcef6751f",
   "metadata": {},
   "source": [
    "Вводится число целое положительное число N. Напечатайте все N-значные нечетные целые положительные числа в порядке убывания. Например, если вводится число 3, то необходимо печать трёхзначные числа (состоящие из трех цифр).\n",
    "\n",
    "Подсказка: Вспомните про возведение 10 в степень."
   ]
  },
  {
   "cell_type": "code",
   "execution_count": 6,
   "id": "4b4342c6-02be-4dc5-b1d2-bf290fd49b66",
   "metadata": {},
   "outputs": [
    {
     "name": "stdin",
     "output_type": "stream",
     "text": [
      " 1\n"
     ]
    },
    {
     "name": "stdout",
     "output_type": "stream",
     "text": [
      "9 7 5 3 1 "
     ]
    }
   ],
   "source": [
    "n = int(input())\n",
    "for num in range(10 ** n - 1, 10 ** (n - 1) - 1, -2):\n",
    "    print(num, end=' ')"
   ]
  },
  {
   "cell_type": "markdown",
   "id": "73206724-db60-4732-a57f-4851a4a9d130",
   "metadata": {},
   "source": [
    "По введенному целому положительному числу N посчитайте N! (N факториал).\n",
    "\n",
    "Фавториалом числа N называется произведение всех чисел от 1 до N."
   ]
  },
  {
   "cell_type": "code",
   "execution_count": 108,
   "id": "00d252f5-d088-4ea7-b113-4bff721d1db0",
   "metadata": {},
   "outputs": [
    {
     "name": "stdin",
     "output_type": "stream",
     "text": [
      " 4\n"
     ]
    },
    {
     "name": "stdout",
     "output_type": "stream",
     "text": [
      "24\n"
     ]
    }
   ],
   "source": [
    "n = int(input())\n",
    "factorial = 1\n",
    "for num in range(2, n + 1):\n",
    "    factorial  *= num\n",
    "print(factorial)"
   ]
  },
  {
   "cell_type": "markdown",
   "id": "c6eb6676-a0a0-4ed0-90e7-a81342c6f65f",
   "metadata": {},
   "source": [
    "По введенному целому положительному N вычислите сумму 1! + 2! + 3! + ... + N!\n",
    "\n",
    "Эту задачу было бы здорово решить используя только один цикл."
   ]
  },
  {
   "cell_type": "code",
   "execution_count": 107,
   "id": "9fb88734-fb3e-4647-9b0c-e1df2775b1e0",
   "metadata": {},
   "outputs": [
    {
     "name": "stdin",
     "output_type": "stream",
     "text": [
      " 3\n"
     ]
    },
    {
     "name": "stdout",
     "output_type": "stream",
     "text": [
      "9\n"
     ]
    }
   ],
   "source": [
    "n = int(input())\n",
    "factorial = 1\n",
    "sum_factorial = 0\n",
    "for num in range(1, n + 1):\n",
    "    factorial *= num\n",
    "    sum_factorial += factorial\n",
    "print(sum_factorial)"
   ]
  },
  {
   "cell_type": "markdown",
   "id": "e49210b5-c581-4215-8f4f-dd18172a1fba",
   "metadata": {},
   "source": [
    "Вводится строка, состоящая из слов, разделенных одним пробелом. Выведите все слова по одному в строке (пробелы выводить не нужно).\n",
    "\n",
    "Эта задача удобно решается с помощью методов split и join. Напомним, что перевод строки обозначается как \\n внутри строковой константы."
   ]
  },
  {
   "cell_type": "code",
   "execution_count": 3,
   "id": "1afb7c6f-53ec-4d2a-90b6-c0e6b5d23c5d",
   "metadata": {},
   "outputs": [
    {
     "name": "stdin",
     "output_type": "stream",
     "text": [
      " First second third\n"
     ]
    },
    {
     "name": "stdout",
     "output_type": "stream",
     "text": [
      "First\n",
      "second\n",
      "third\n"
     ]
    }
   ],
   "source": [
    "string = input().split()\n",
    "for word in string:\n",
    "    print(word)"
   ]
  },
  {
   "cell_type": "markdown",
   "id": "8ac45975-cd26-4f38-a176-3d61d82fadcd",
   "metadata": {},
   "source": [
    "В первой строке вводится строка-разделитель.\n",
    "\n",
    "Во второй строке вводится текст, состоящий из слов, разделенных пробелом.\n",
    "\n",
    "Выведите слова из текста, разделяя их строкой-разделителем."
   ]
  },
  {
   "cell_type": "code",
   "execution_count": 48,
   "id": "b54b6037-c50d-4165-b03d-f2503d93d78f",
   "metadata": {},
   "outputs": [
    {
     "name": "stdin",
     "output_type": "stream",
     "text": [
      " 123\n",
      " A B Cd Efg\n"
     ]
    },
    {
     "name": "stdout",
     "output_type": "stream",
     "text": [
      "A123B123Cd123Efg"
     ]
    }
   ],
   "source": [
    "sep = input()\n",
    "text = input()\n",
    "for word in text:\n",
    "    word = word.split(' ')\n",
    "    print(sep.join(map(str, word)), end='')"
   ]
  },
  {
   "cell_type": "markdown",
   "id": "180e9e36-23e8-4b78-865f-b5a6acf1d61f",
   "metadata": {},
   "source": [
    "Выведите все элементы списка с четными индексами (то есть A[0], A[2], A[4], ...). Постарайтесь не использовать if, а придумать правильные параметры для range."
   ]
  },
  {
   "cell_type": "code",
   "execution_count": 131,
   "id": "325d41cb-edbd-43de-851e-417efe454e54",
   "metadata": {},
   "outputs": [
    {
     "name": "stdin",
     "output_type": "stream",
     "text": [
      " 1 2 3 4 5\n"
     ]
    },
    {
     "name": "stdout",
     "output_type": "stream",
     "text": [
      "1 3 5 "
     ]
    }
   ],
   "source": [
    "my_list = input().split()\n",
    "\n",
    "for element in range(0, len(my_list), 2):\n",
    "    print(my_list[element], end=' ')"
   ]
  },
  {
   "cell_type": "markdown",
   "id": "b82685a3-356e-472e-840f-c6ab72b991c3",
   "metadata": {},
   "source": [
    "Выведите все четные элементы списка."
   ]
  },
  {
   "cell_type": "code",
   "execution_count": 12,
   "id": "b4488d83-052e-4469-8b0d-6cb5e2e36c4f",
   "metadata": {},
   "outputs": [
    {
     "name": "stdin",
     "output_type": "stream",
     "text": [
      " 1 2 3 4 5\n"
     ]
    },
    {
     "name": "stdout",
     "output_type": "stream",
     "text": [
      "2 4 "
     ]
    }
   ],
   "source": [
    "n = list(map(int, input().split()))\n",
    "for i in n:\n",
    "    if i % 2 == 0:\n",
    "        print(i, end = ' ')"
   ]
  },
  {
   "cell_type": "markdown",
   "id": "6c9e705a-8432-44f5-8520-2141928956df",
   "metadata": {},
   "source": [
    "Дан список чисел. Выведите значение наибольшего элемента в списке, а затем индекс этого элемента в списке. Если наибольших элементов несколько, выведите индекс первого из них."
   ]
  },
  {
   "cell_type": "code",
   "execution_count": 65,
   "id": "dedeb812-a0c2-4d27-b90e-95bb7fc25162",
   "metadata": {},
   "outputs": [
    {
     "name": "stdin",
     "output_type": "stream",
     "text": [
      " 1 2 3 2 1\n"
     ]
    },
    {
     "name": "stdout",
     "output_type": "stream",
     "text": [
      "3 2\n"
     ]
    }
   ],
   "source": [
    "n = list(map(int, input().split()))\n",
    "\n",
    "print(max(n), n.index(max(n)))"
   ]
  },
  {
   "cell_type": "markdown",
   "id": "c12a882f-e3ee-429c-95af-84cb38e69f21",
   "metadata": {},
   "source": [
    "Дан список чисел. Выведите все элементы списка, которые больше предыдущего элемента."
   ]
  },
  {
   "cell_type": "code",
   "execution_count": 108,
   "id": "f400338b-3616-46dc-9aca-0f8700d87e5b",
   "metadata": {
    "tags": []
   },
   "outputs": [
    {
     "name": "stdin",
     "output_type": "stream",
     "text": [
      " 5 1 5 1 5\n"
     ]
    },
    {
     "name": "stdout",
     "output_type": "stream",
     "text": [
      "5 5 "
     ]
    }
   ],
   "source": [
    "n = list(map(int, input().split()))\n",
    "\n",
    "for i in range(1, len(n)):\n",
    "     if n[i - 1] < n[i]:\n",
    "        print(n[i], end=' ')"
   ]
  },
  {
   "cell_type": "markdown",
   "id": "9e9475d3-1d6f-4cc7-920a-4dfc28fb0bf7",
   "metadata": {},
   "source": [
    "Дан список чисел. Определите, сколько в этом списке элементов, которые больше двух своих соседей и выведите количество таких элементов."
   ]
  },
  {
   "cell_type": "code",
   "execution_count": 113,
   "id": "8364f00f-728a-4d6e-ae01-200e5f8bcfaa",
   "metadata": {},
   "outputs": [
    {
     "name": "stdin",
     "output_type": "stream",
     "text": [
      " 1 1 1 5 1\n"
     ]
    },
    {
     "name": "stdout",
     "output_type": "stream",
     "text": [
      "1\n"
     ]
    }
   ],
   "source": [
    "n = list(map(int, input().split()))\n",
    "count = 0\n",
    "\n",
    "for i in range(1, len(n) - 1):\n",
    "    if n[i - 1] < n[i] > n[i + 1]:\n",
    "        count += 1\n",
    "print(count)"
   ]
  },
  {
   "cell_type": "markdown",
   "id": "61b60837-5ba5-476d-a9bf-cd7e07d3f7e2",
   "metadata": {},
   "source": [
    "Выведите значение наименьшего из всех положительных элементов в списке.\n",
    "Известно, что в списке есть хотя бы один положительный элемент, а значения всех элементов списка по модулю не превосходят 1000."
   ]
  },
  {
   "cell_type": "code",
   "execution_count": 137,
   "id": "f43c84a6-754d-4579-a37d-1c184edc27d7",
   "metadata": {},
   "outputs": [
    {
     "name": "stdin",
     "output_type": "stream",
     "text": [
      " -1 -2 -3 -4 100\n"
     ]
    },
    {
     "name": "stdout",
     "output_type": "stream",
     "text": [
      "100\n",
      "100\n"
     ]
    }
   ],
   "source": [
    "n = list(map(int, input().split()))\n",
    "my_list = []\n",
    "for i in range(len(n)):\n",
    "    if n[i] > 0:\n",
    "        my_list.append(n[i])\n",
    "print(min(my_list))"
   ]
  },
  {
   "cell_type": "markdown",
   "id": "b1e21152-9a1f-4fb5-a3a9-a9cf4befdd92",
   "metadata": {},
   "source": [
    "В списке все элементы различны. Поменяйте местами минимальный и максимальный элемент этого списка."
   ]
  },
  {
   "cell_type": "code",
   "execution_count": 118,
   "id": "886bd0af-89ba-4162-a569-8a63ef674dbc",
   "metadata": {},
   "outputs": [
    {
     "name": "stdin",
     "output_type": "stream",
     "text": [
      " 10 9 8 7 6 5 4 3 2 1\n"
     ]
    },
    {
     "name": "stdout",
     "output_type": "stream",
     "text": [
      "1 9 8 7 6 5 4 3 2 10\n"
     ]
    }
   ],
   "source": [
    "numbers = list(map(int, input().split()))\n",
    "\n",
    "def change_max_min(numbers):\n",
    "    for i in range(len(numbers)):\n",
    "        max_num = max(numbers)\n",
    "        min_num = min(numbers)\n",
    "        max_num_indx = numbers.index(max_num)\n",
    "        min_num_indx = numbers.index(min_num)\n",
    "    numbers[min_num_indx], numbers[max_num_indx] = numbers[max_num_indx], numbers[min_num_indx]\n",
    "    return ' '.join(map(str, numbers))\n",
    "\n",
    "print(change_max_min(numbers))"
   ]
  },
  {
   "cell_type": "markdown",
   "id": "cff38874-fc06-4ddd-9473-a4675be807c4",
   "metadata": {},
   "source": [
    "Напишите функцию xor(x, y) реализующую функцию \"Исключающее ИЛИ\" двух логических переменных x и y.\n",
    "\n",
    "Функция xor должна возвращать True, если ровно один из ее аргументов x или y, но не оба одновременно равны True.\n",
    "\n",
    "Воспользуйтесь этой функцией для решения задачи.\n",
    "\n",
    "Вводится 2 числа - x и y (x и y равны 0 или 1, 0 соответствует значению False, 1 соответствует значению True).\n",
    "\n",
    "Необходимо вывести 0 или 1 - значение функции xor от x и y."
   ]
  },
  {
   "cell_type": "code",
   "execution_count": 137,
   "id": "538701c8-72e4-4103-8bd4-eb877cce27fb",
   "metadata": {},
   "outputs": [
    {
     "name": "stdin",
     "output_type": "stream",
     "text": [
      " 0\n",
      " 1\n"
     ]
    },
    {
     "name": "stdout",
     "output_type": "stream",
     "text": [
      "1\n"
     ]
    }
   ],
   "source": [
    "x = int(input())\n",
    "y = int(input())\n",
    "\n",
    "def xor(x, y):\n",
    "    if bool(x) != bool(y):\n",
    "        return 1\n",
    "    return 0\n",
    "print(xor(x, y))"
   ]
  },
  {
   "cell_type": "markdown",
   "id": "602e7755-157a-4160-b7aa-19defa683ef3",
   "metadata": {},
   "source": [
    "Даны два действительных числа x и y. Проверьте, принадлежит ли точка с координатами (x,y) заштрихованному квадрату (включая его границу). Если точка принадлежит квадрату, выведите слово YES, иначе выведите слово NO. На рисунке сетка проведена с шагом 1.\n",
    "\n",
    "\n",
    "\n",
    "Решение должно содержать функцию isPointInSquare(x, y), возвращающую True, если точка принадлежит квадрату и False, если не принадлежит. Основная программа должна считать координаты точки, вызвать функцию isPointInSquare и в зависимости от возвращенного значения вывести на экран необходимое сообщение. Функция isPointInSquare не должна содержать инструкцию if.\n",
    "\n",
    "Вводятся два действительных числа.\n",
    "\n",
    "Выведите ответ на задачу."
   ]
  },
  {
   "cell_type": "code",
   "execution_count": 14,
   "id": "972cd9c4-bb4a-48f3-b813-253f93035e6d",
   "metadata": {},
   "outputs": [
    {
     "name": "stdin",
     "output_type": "stream",
     "text": [
      " 1\n",
      " -1\n"
     ]
    },
    {
     "name": "stdout",
     "output_type": "stream",
     "text": [
      "NO\n"
     ]
    }
   ],
   "source": [
    "def isPointInSquare(x, y):\n",
    "    return abs(x) <= 1 and abs(y) <= 1\n",
    "\n",
    "x = float(input())\n",
    "y = float(input())\n",
    "\n",
    "if isPointInSquare(x, y):\n",
    "    print('YES')\n",
    "else:\n",
    "    print('NO')"
   ]
  },
  {
   "cell_type": "markdown",
   "id": "0cd2ce6e-9283-4760-9b19-73e1bbb76fa4",
   "metadata": {},
   "source": [
    "Напишите функцию sort3, которая принимает 3 параметра a, b, c, переставляет их так чтобы  a <= b <= c и возвращает тройку чисел a, b, c.\n",
    "\n",
    "Дано три числа по одному в строке. Воспользуйтесь функцией sort3 чтобы упорядочить эти три числа. "
   ]
  },
  {
   "cell_type": "code",
   "execution_count": 42,
   "id": "a5a55ccd-3dba-4bc3-86ea-33e1d057367e",
   "metadata": {},
   "outputs": [
    {
     "name": "stdin",
     "output_type": "stream",
     "text": [
      " 1\n",
      " 2\n",
      " 1\n"
     ]
    },
    {
     "name": "stdout",
     "output_type": "stream",
     "text": [
      "1 1 2 "
     ]
    }
   ],
   "source": [
    "def sort3(a, b, c):\n",
    "    list_ = [a, b, c]\n",
    "    return sorted(list_)\n",
    "\n",
    "x = int(input())\n",
    "y = int(input())\n",
    "z = int(input())\n",
    "\n",
    "\n",
    "print(*sort3(x, y, z), end = ' ')"
   ]
  },
  {
   "cell_type": "code",
   "execution_count": null,
   "id": "52e5b36f-8271-42b4-8a9d-2ba746701683",
   "metadata": {},
   "outputs": [],
   "source": []
  }
 ],
 "metadata": {
  "kernelspec": {
   "display_name": "Python 3 (ipykernel)",
   "language": "python",
   "name": "python3"
  },
  "language_info": {
   "codemirror_mode": {
    "name": "ipython",
    "version": 3
   },
   "file_extension": ".py",
   "mimetype": "text/x-python",
   "name": "python",
   "nbconvert_exporter": "python",
   "pygments_lexer": "ipython3",
   "version": "3.9.12"
  }
 },
 "nbformat": 4,
 "nbformat_minor": 5
}
