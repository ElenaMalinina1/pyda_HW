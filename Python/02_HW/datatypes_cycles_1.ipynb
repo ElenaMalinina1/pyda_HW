{
 "cells": [
  {
   "cell_type": "markdown",
   "id": "c129547b-69cc-45dd-93ad-de6124a72212",
   "metadata": {},
   "source": [
    "# Задание 1\n",
    "Дана переменная, в которой хранится слово из латинских букв. Напишите код, который выводит на экран:\n",
    "\n",
    "- среднюю букву, если число букв в слове нечетное;\n",
    "- две средних буквы, если число букв четное."
   ]
  },
  {
   "cell_type": "code",
   "execution_count": null,
   "id": "cba95c4c-ee4f-4b51-ac91-b354e1ae082c",
   "metadata": {},
   "outputs": [],
   "source": [
    "word = input('Введите слово: ')\n",
    "lenght = int(len(word) // 2)\n",
    "\n",
    "if lenght % 2 == 0:\n",
    "    print(word[lenght - 1 : lenght + 1])\n",
    "else:\n",
    "    if lenght % 2 != 0:\n",
    "        print(word[lenght])"
   ]
  },
  {
   "cell_type": "markdown",
   "id": "d523317c-e916-4e69-b906-9b9d9f339dd2",
   "metadata": {},
   "source": [
    "# Задание 2\n",
    "Напишите программу, которая последовательно запрашивает у пользователя числа (по одному за раз) и после первого нуля выводит сумму всех ранее введенных чисел."
   ]
  },
  {
   "cell_type": "code",
   "execution_count": null,
   "id": "5f7af53f-f377-498e-b4bd-d7e4c1d70877",
   "metadata": {},
   "outputs": [],
   "source": [
    "numbers = []\n",
    "\n",
    "while numbers != 0:\n",
    "    user_number = int(input('Введите число: '))\n",
    "    numbers.append(user_number)\n",
    "    if user_number == 0:\n",
    "        print(sum(numbers))\n",
    "        break"
   ]
  },
  {
   "cell_type": "markdown",
   "id": "0d1dbd04-dc47-40a1-ad8c-4f03bd988dc3",
   "metadata": {},
   "source": [
    "# Задание 3\n",
    "Мы делаем MVP dating-сервиса, и у нас есть список парней и девушек.\n",
    "Выдвигаем гипотезу: лучшие рекомендации мы получим, если просто отсортируем имена по алфавиту и познакомим людей с одинаковыми индексами после сортировки! Но мы не будем никого знакомить, если кто-то может остаться без пары."
   ]
  },
  {
   "cell_type": "code",
   "execution_count": null,
   "id": "93a98645-94ba-4436-b890-bb47648faa83",
   "metadata": {},
   "outputs": [],
   "source": [
    "boys = ['Peter', 'Alex', 'John', 'Arthur', 'Richard']\n",
    "girls = ['Kate', 'Liza', 'Kira', 'Emma', 'Trisha']\n",
    "\n",
    "\n",
    "if len(sorted(boys)) == len(sorted(girls)):\n",
    "    print(list(zip(boys, girls)))\n",
    "else:\n",
    "    print('Кто-то может остаться без пары')  "
   ]
  },
  {
   "cell_type": "markdown",
   "id": "e96a520b-ac89-4bab-8bd2-16415185b47b",
   "metadata": {},
   "source": [
    "# Задание 4\n",
    "У нас есть список, содержащий информацию о среднедневной температуре в Фаренгейтах за произвольный период по странам (структура данных в примере). Необходимо написать код, который рассчитает среднюю температуру за период в Цельсиях(!) для каждой страны."
   ]
  },
  {
   "cell_type": "code",
   "execution_count": null,
   "id": "d72c093f-9852-454f-be97-203bcf7b112a",
   "metadata": {},
   "outputs": [],
   "source": [
    "countries_temperature = [\n",
    "    ['Thailand', [75.2, 77, 78.8, 73.4, 68, 75.2, 77]],\n",
    "    ['Germany', [57.2, 55.4, 59, 59, 53.6]],\n",
    "    ['Russia', [35.6, 37.4, 39.2, 41, 42.8, 39.2, 35.6]],\n",
    "    ['Poland', [50, 50, 53.6, 57.2, 55.4, 55.4]]\n",
    "]"
   ]
  },
  {
   "cell_type": "code",
   "execution_count": null,
   "id": "a5f86a7f-9cf7-4e6c-b7db-f410f87a5efc",
   "metadata": {},
   "outputs": [],
   "source": [
    "for country, tempt in countries_temperature:\n",
    "    fahrenheit = sum(tempt) / len(tempt)\n",
    "    celsius = 5 * (fahrenheit - 32) / 9\n",
    "    print(f'{country} - {celsius:.1f} C')"
   ]
  },
  {
   "cell_type": "markdown",
   "id": "641e26c6-b4f6-42f5-ade3-c18ab1f5528d",
   "metadata": {},
   "source": [
    "# Задание 5 (необязательное)\n",
    "Дан поток логов по количеству просмотренных страниц для каждого пользователя. Вам необходимо написать алгоритм, который считает среднее значение просмотров на пользователя. Т. е. надо посчитать отношение суммы всех просмотров к количеству уникальных пользователей."
   ]
  },
  {
   "cell_type": "code",
   "execution_count": 154,
   "id": "14376335-3bb9-4ca9-ae66-c14a73fcc069",
   "metadata": {},
   "outputs": [
    {
     "name": "stdout",
     "output_type": "stream",
     "text": [
      "Среднее количество просмотров на уникального пользователя: 23.25\n"
     ]
    }
   ],
   "source": [
    "stream = [\n",
    "    '2018-01-01,user1,3',\n",
    "    '2018-01-07,user1,4',\n",
    "    '2018-03-29,user1,1',\n",
    "    '2018-04-04,user1,13',\n",
    "    '2018-01-05,user2,7',\n",
    "    '2018-06-14,user3,4',\n",
    "    '2018-07-02,user3,10',\n",
    "    '2018-03-21,user4,19',\n",
    "    '2018-03-22,user4,4',\n",
    "    '2018-04-22,user4,8',\n",
    "    '2018-05-03,user4,9',\n",
    "    '2018-05-11,user4,11',\n",
    "]\n",
    "user_list = {}\n",
    "views = 0\n",
    "\n",
    "for element in stream:\n",
    "    stream_list = element.split(',')\n",
    "    views += int(stream_list[2])\n",
    "    if stream_list[1] in stream_list[1]:\n",
    "        user_list.setdefault(stream_list[1])\n",
    "        view = views / len(user_list)\n",
    "print(f'Среднее количество просмотров на уникального пользователя: {view}')"
   ]
  },
  {
   "cell_type": "markdown",
   "id": "fdf26167-5a3b-4acb-8d9d-025c4be9b213",
   "metadata": {},
   "source": [
    "# Задание 6 (необязательное)\n",
    "Необходимо у пользователя запрашивать набор чисел разделенных пробелом. В результате в отсортированном порядке должны выводиться числа, которые повторяются в вводе более одного раза."
   ]
  },
  {
   "cell_type": "code",
   "execution_count": 194,
   "id": "c22c05f1-5b07-4f2a-89d6-9b4cf2095407",
   "metadata": {},
   "outputs": [
    {
     "name": "stdin",
     "output_type": "stream",
     "text": [
      "Введите числа:  1 2 3 4 5 325 5313 1 2 3\n"
     ]
    },
    {
     "name": "stdout",
     "output_type": "stream",
     "text": [
      "1  2  3  325  4  5  5313  "
     ]
    }
   ],
   "source": [
    "numbers = input('Введите числа: ' )\n",
    "numbers_count = sorted(list(set(numbers.split())))\n",
    "for num in numbers_count:\n",
    "    print(num + ' ' , end = ' ')"
   ]
  }
 ],
 "metadata": {
  "kernelspec": {
   "display_name": "Python 3 (ipykernel)",
   "language": "python",
   "name": "python3"
  },
  "language_info": {
   "codemirror_mode": {
    "name": "ipython",
    "version": 3
   },
   "file_extension": ".py",
   "mimetype": "text/x-python",
   "name": "python",
   "nbconvert_exporter": "python",
   "pygments_lexer": "ipython3",
   "version": "3.9.12"
  }
 },
 "nbformat": 4,
 "nbformat_minor": 5
}
