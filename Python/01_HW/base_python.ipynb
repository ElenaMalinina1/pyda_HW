{
 "cells": [
  {
   "cell_type": "markdown",
   "id": "3b0632c1-3ce1-40f2-b651-0152a81ccc6a",
   "metadata": {},
   "source": [
    "# Задание 1\n",
    "Даны 2 переменных, в которых хранятся строки произвольной длины: phrase_1 и phrase_2.\n",
    "Напишите код, который проверяет какая из этих строк длиннее."
   ]
  },
  {
   "cell_type": "code",
   "execution_count": 3,
   "id": "19027dca-f172-40c4-83bd-176b3da8eb03",
   "metadata": {},
   "outputs": [
    {
     "name": "stdout",
     "output_type": "stream",
     "text": [
      "Фраза 1 длиннее фразы 2\n"
     ]
    }
   ],
   "source": [
    "phrase_1 = 'Насколько проще было бы писать программы, если бы не заказчики'\n",
    "phrase_2 = '640Кб должно хватить для любых задач. Билл Гейтс (по легенде)'\n",
    "\n",
    "if len(phrase_1) > len(phrase_2):\n",
    "    print('Фраза 1 длиннее фразы 2')\n",
    "else:\n",
    "    print('Фраза 2 длиннее фразы 1')"
   ]
  },
  {
   "cell_type": "markdown",
   "id": "d1a8aa9b-1533-41b4-9ec3-d2de6c845c92",
   "metadata": {},
   "source": [
    "# Задание 2\n",
    "Дана переменная, в которой хранится число (год). Необходимо написать программу, которая выведет, является ли данный год високосным или обычным."
   ]
  },
  {
   "cell_type": "code",
   "execution_count": 32,
   "id": "5617c3ab-9e75-4093-b446-0c0843dad509",
   "metadata": {},
   "outputs": [
    {
     "name": "stdout",
     "output_type": "stream",
     "text": [
      "Високосный год\n"
     ]
    }
   ],
   "source": [
    "year = 2024\n",
    "\n",
    "if (year % 4 == 0) or (year % 100 == 0) and (year % 400 ==0):\n",
    "    print('Високосный год')\n",
    "else:\n",
    "    print('Обычный год')"
   ]
  },
  {
   "cell_type": "markdown",
   "id": "d440cc86-cec9-41cf-be42-49938cf516a7",
   "metadata": {},
   "source": [
    "# Задание 3\n",
    "Необходимо написать программу, которая будет запрашивать у пользователя месяц и дату рождения и выводить соответствующий знак зодиака."
   ]
  },
  {
   "cell_type": "code",
   "execution_count": 2,
   "id": "0438641e-56d1-4f22-8501-f74af58fdb15",
   "metadata": {},
   "outputs": [
    {
     "name": "stdin",
     "output_type": "stream",
     "text": [
      "Введите месяц рождения: январь\n",
      "Введите дату рождения: 2\n"
     ]
    },
    {
     "name": "stdout",
     "output_type": "stream",
     "text": [
      "Козерог\n"
     ]
    }
   ],
   "source": [
    "month = input('Введите месяц рождения:').strip()\n",
    "date = int(input('Введите дату рождения:'))\n",
    "\n",
    "if  (month == 'декабрь' and date > 23) or (month == 'январь'  and date <= 19):\n",
    "    print('Козерог')\n",
    "elif  (month == 'январь' and date > 19) or (month == 'февраль' and  date <= 19):\n",
    "    print('Водолей')\n",
    "elif (month == 'февраль' and  date > 19) or  (month == 'март' and  date <= 20):\n",
    "    print('Рыбы')\n",
    "elif (month == 'март' and date > 20) or (month == 'апрель' and date <= 19):\n",
    "    print('Овен')\n",
    "elif (month == 'апрель' and date > 19) or (month == 'май' and date <= 20):\n",
    "    ('Телец')\n",
    "elif (month == 'май' and date > 20) or (month == 'июнь' and date <= 20):\n",
    "    print('Близнецы')\n",
    "elif (month == 'июнь' and date > 20) or (month == 'июль' and date <= 22):\n",
    "    print('Рак')\n",
    "elif (month == 'июль' and date > 22) or (month == 'август' and date <= 23):\n",
    "    print('Лев')\n",
    "elif (month == 'август' and date > 23) or (month == 'сентябрь' and date <= 23):\n",
    "    print('Дева')\n",
    "elif (month == 'сентябрь' and date > 23) or (month == 'октябрь' and date <= 22):\n",
    "    print('Весы')\n",
    "elif (month == 'октябрь' and date > 22) or (month == 'ноябрь' and date <= 22):\n",
    "    print('Скорпион')\n",
    "elif (month == 'ноябрь' and date > 22) or (month == 'декабрь' and date <= 23):\n",
    "    print('Стрелец')"
   ]
  },
  {
   "cell_type": "markdown",
   "id": "adc79ecb-fef1-4039-8b6f-a55769ac0eba",
   "metadata": {},
   "source": [
    "# Задание 4\n",
    "Вам нужно написать программу для подбора упаковок по размерам товара. Размеры (ширина, длина, высота) хранятся в переменных (в сантиметрах):\n",
    "\n",
    "Используйте следующие правила:\n",
    "\n",
    "- если каждое из трех измерений менее или равно 15 сантиметрам, то выведите на экран “Коробка №1”;\n",
    "- если хотя бы одно из измерений больше 15 сантиметров, но менее 50 сантиметров, то выводите “Коробка №2”;\n",
    "- если длина товара больше 2 метров, то выводите “Упаковка для лыж”;\n",
    "- во всех остальных случаях выводите “Стандартная коробка №3”."
   ]
  },
  {
   "cell_type": "code",
   "execution_count": 29,
   "id": "cb22c3f3-3388-4b46-ad88-a7aabc8c2299",
   "metadata": {},
   "outputs": [
    {
     "name": "stdin",
     "output_type": "stream",
     "text": [
      "Введите ширину(см):  2131\n",
      "Введите высоту(см):  150\n",
      "Введите длину(см):  231\n"
     ]
    },
    {
     "name": "stdout",
     "output_type": "stream",
     "text": [
      "Стандартная коробка №3\n"
     ]
    }
   ],
   "source": [
    "width =  int(input('Введите ширину(см): '))\n",
    "length  = int(input('Введите высоту(см): '))\n",
    "height  = int(input('Введите длину(см): '))\n",
    "\n",
    "if (width <= 15) or (length >= 200) or (height <= 15):\n",
    "    print('Упаковка для лыж')\n",
    "elif (width <= 15) or (length <= 15) or (height <= 15):\n",
    "    print('Коробка №1')\n",
    "elif (15 < width < 50) or (15 < length < 50) or (15 < height < 50):\n",
    "    print('Коробка №2')\n",
    "else:\n",
    "    print('Стандартная коробка №3')"
   ]
  },
  {
   "cell_type": "markdown",
   "id": "d4c77895-3620-46da-a8ac-63334d8ada90",
   "metadata": {},
   "source": [
    "# Задание 5 (необязательное)\n",
    "Дана переменная, в которой хранится шестизначное число (номер проездного билета). Напишите программу, которая будет определять, является ли данный билет “счастливым”.\n",
    "Билет считается счастливым, если сумма первых трех цифр совпадает с суммой последних трех цифр номера."
   ]
  },
  {
   "cell_type": "code",
   "execution_count": 33,
   "id": "2dbf5339-6448-49cc-9390-52e4738dc57e",
   "metadata": {},
   "outputs": [
    {
     "name": "stdin",
     "output_type": "stream",
     "text": [
      "Введите номер билета:  123321\n"
     ]
    },
    {
     "name": "stdout",
     "output_type": "stream",
     "text": [
      "Счастливый билет\n"
     ]
    }
   ],
   "source": [
    "number = int(input('Введите номер билета: '))\n",
    "\n",
    "num_1 = number // 100000\n",
    "num_2 = number // 10000 % 10 \n",
    "num_3 = number // 1000 % 100 % 10\n",
    "num_4 = number // 100 % 10\n",
    "num_5 = number // 10 % 10\n",
    "num_6 = number % 10\n",
    "\n",
    "if (num_1 + num_2 + num_3) == (num_4 + num_5 + num_6):\n",
    "    print('Счастливый билет')\n",
    "else:\n",
    "    print('Несчастливый билет')"
   ]
  },
  {
   "cell_type": "markdown",
   "id": "9b877a68-9af1-4dbb-9f27-696254a665fe",
   "metadata": {},
   "source": [
    "# Задание 6\n",
    "Напишите программу, которая сможет вычислять площади трех фигур (круг, треугольник и прямоугольник). Тип фигуры запрашиваем через пользовательский ввод, после чего делаем запрос характеристик фигуры:\n",
    "\n",
    "- если пользователь выбрал круг, запрашиваем его радиус, \n",
    "- если треугольник – длины трех его сторон; \n",
    "- если прямоугольник – длины двух его сторон."
   ]
  },
  {
   "cell_type": "code",
   "execution_count": 37,
   "id": "ac3c42d2-f1d1-4c1c-b249-8fdd08dc0bd9",
   "metadata": {},
   "outputs": [
    {
     "name": "stdin",
     "output_type": "stream",
     "text": [
      "Введите тип фигуры:  прямоугольник\n",
      "Введите сторону a 15\n",
      "Введите сторону b 13\n"
     ]
    },
    {
     "name": "stdout",
     "output_type": "stream",
     "text": [
      "Площадь =  195.0\n"
     ]
    }
   ],
   "source": [
    "type_figure = input('Введите тип фигуры: ')\n",
    "\n",
    "if type_figure == 'круг':\n",
    "    radius = float(input('Введите радиус: '))\n",
    "    S = 3.14 * radius ** 2\n",
    "    print('Площадь = ', S)\n",
    "elif type_figure == 'треугольник':\n",
    "    a = float(input('Введите сторону a'))\n",
    "    b = float(input('Введите сторону b'))\n",
    "    c = float(input('Введите сторону c'))\n",
    "    S = (a + b + c) / 2\n",
    "    print('Площадь = ', S)\n",
    "elif type_figure == 'прямоугольник':\n",
    "    a = float(input('Введите сторону a'))\n",
    "    b = float(input('Введите сторону b'))\n",
    "    S = a * b\n",
    "    print('Площадь = ', S)"
   ]
  }
 ],
 "metadata": {
  "kernelspec": {
   "display_name": "Python 3 (ipykernel)",
   "language": "python",
   "name": "python3"
  },
  "language_info": {
   "codemirror_mode": {
    "name": "ipython",
    "version": 3
   },
   "file_extension": ".py",
   "mimetype": "text/x-python",
   "name": "python",
   "nbconvert_exporter": "python",
   "pygments_lexer": "ipython3",
   "version": "3.9.12"
  }
 },
 "nbformat": 4,
 "nbformat_minor": 5
}
