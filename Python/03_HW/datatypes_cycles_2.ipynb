{
 "cells": [
  {
   "cell_type": "markdown",
   "id": "c89e4ed7-1a48-46e1-98c4-c76af3803aab",
   "metadata": {},
   "source": [
    "# Задание 1\n",
    "Дана переменная, в которой хранится словарь, содержащий гео-метки для каждого пользователя (пример структуры данных приведен ниже). Вам необходимо написать программу, которая выведет на экран множество уникальных гео-меток всех пользователей."
   ]
  },
  {
   "cell_type": "code",
   "execution_count": 38,
   "id": "f1510a9c-1929-4b06-87f6-47ccdcad9f46",
   "metadata": {},
   "outputs": [
    {
     "name": "stdout",
     "output_type": "stream",
     "text": [
      "{98, 35, 15, 213, 54, 119}\n"
     ]
    }
   ],
   "source": [
    "ids = {'user1': [213, 213, 213, 15, 213], \n",
    "       'user2': [54, 54, 119, 119, 119], \n",
    "       'user3': [213, 98, 98, 35]}\n",
    "\n",
    "geo = set()\n",
    "for value in ids.values():\n",
    "    for mark in value:\n",
    "        if mark in value:\n",
    "            geo.add(mark)\n",
    "print(geo)"
   ]
  },
  {
   "cell_type": "markdown",
   "id": "bc8e1c35-ba20-41e1-bd93-7f295d055580",
   "metadata": {},
   "source": [
    "# Задание 2\n",
    "Дана переменная, в которой хранится список поисковых запросов пользователя (пример структуры данных приведен ниже). Вам необходимо написать программу, которая выведет на экран распределение количества слов в запросах в требуемом виде."
   ]
  },
  {
   "cell_type": "code",
   "execution_count": 8,
   "id": "243d67b2-1898-4039-8673-dfd4eb30b4ff",
   "metadata": {},
   "outputs": [],
   "source": [
    "queries = [\n",
    "    'смотреть сериалы онлайн',\n",
    "    'новости спорта',\n",
    "    'афиша кино',\n",
    "    'курс доллара',\n",
    "    'сериалы этим летом',\n",
    "    'курс по питону',\n",
    "    'сериалы про спорт',\n",
    "]"
   ]
  },
  {
   "cell_type": "code",
   "execution_count": 9,
   "id": "1d5ebdd4-dd99-4429-b412-7e6655ba876a",
   "metadata": {},
   "outputs": [
    {
     "name": "stdout",
     "output_type": "stream",
     "text": [
      "Поисковых запросов, содержащих 3 слов(а): 57.14 %\n",
      "Поисковых запросов, содержащих 2 слов(а): 42.86 %\n"
     ]
    }
   ],
   "source": [
    "dict_queries = {}\n",
    "\n",
    "for key in queries:\n",
    "    key = len(key.split())\n",
    "    if key in dict_queries:\n",
    "        dict_queries[key] += 1\n",
    "    else:\n",
    "        dict_queries[key] = 1\n",
    "\n",
    "# print(dict_queries)\n",
    "        \n",
    "for key_2, value in dict_queries.items():\n",
    "    percent = round(value / len(queries) * 100, 2)\n",
    "    print(f'Поисковых запросов, содержащих {key_2} слов(а): {percent} %')"
   ]
  },
  {
   "cell_type": "markdown",
   "id": "558c7cbe-b1a9-4315-a729-b737586762f0",
   "metadata": {},
   "source": [
    "# Задание 3\n",
    "Дана переменная, в которой хранится информация о затратах и доходе рекламных кампаний по различным источникам. Необходимо дополнить исходную структуру показателем ROI, который рассчитаем по формуле: (revenue / cost - 1) * 100"
   ]
  },
  {
   "cell_type": "code",
   "execution_count": 112,
   "id": "94d59b11-63cb-4cc5-be21-885aa9b0b744",
   "metadata": {},
   "outputs": [],
   "source": [
    "results = {\n",
    "    'vk': {'revenue': 103, 'cost': 98},\n",
    "    'yandex': {'revenue': 179, 'cost': 153},\n",
    "    'facebook': {'revenue': 103, 'cost': 110},\n",
    "    'adwords': {'revenue': 35, 'cost': 34},\n",
    "    'twitter': {'revenue': 11, 'cost': 24},\n",
    "}"
   ]
  },
  {
   "cell_type": "code",
   "execution_count": 64,
   "id": "bc01765d-a2b7-4277-9aa2-8874a878a6ff",
   "metadata": {},
   "outputs": [
    {
     "name": "stdout",
     "output_type": "stream",
     "text": [
      "vk {'revenue': 103, 'cost': 98, 'ROI': 5.1}\n",
      "yandex {'revenue': 179, 'cost': 153, 'ROI': 16.99}\n",
      "facebook {'revenue': 103, 'cost': 110, 'ROI': -6.36}\n",
      "adwords {'revenue': 35, 'cost': 34, 'ROI': 2.94}\n",
      "twitter {'revenue': 11, 'cost': 24, 'ROI': -54.17}\n"
     ]
    }
   ],
   "source": [
    "for key, value in results.items():\n",
    "    value['ROI'] = round((value['revenue'] / value['cost'] - 1) * 100, 2)\n",
    "    print(key, value)"
   ]
  },
  {
   "cell_type": "markdown",
   "id": "a61f84fc-f9a8-488f-98fa-c8f9ba6a07a5",
   "metadata": {},
   "source": [
    "# Задание 4\n",
    "Дана переменная, в которой хранится статистика рекламных каналов по объемам продаж (пример структуры данных приведен ниже). Напишите программу, которая возвращает название канала с максимальным объемом продаж."
   ]
  },
  {
   "cell_type": "code",
   "execution_count": 1,
   "id": "b767388a-3096-49e5-ba40-c8a637fa39c1",
   "metadata": {},
   "outputs": [],
   "source": [
    "stats = {'facebook': 55, 'yandex': 115, 'vk': 120, 'google': 99, 'email': 42, 'ok': 98}"
   ]
  },
  {
   "cell_type": "code",
   "execution_count": 110,
   "id": "287097e1-54d5-4634-8caf-773267cd205f",
   "metadata": {},
   "outputs": [
    {
     "name": "stdout",
     "output_type": "stream",
     "text": [
      "Максимальный объем продаж на рекламном канале: vk\n"
     ]
    }
   ],
   "source": [
    "print('Максимальный объем продаж на рекламном канале:', max(stats, key = stats.get))"
   ]
  },
  {
   "cell_type": "markdown",
   "id": "b70f511c-22de-4009-850b-2264e6b769b7",
   "metadata": {},
   "source": [
    "# Задание 5 (необязательно)\n",
    "Дан список произвольной длины. Необходимо написать код, который на основе исходного списка составит словарь такого уровня вложенности, какова длина исхондого списка."
   ]
  },
  {
   "cell_type": "code",
   "execution_count": 14,
   "id": "8f4b56f3-0c04-4c1c-9d44-2146c9f23875",
   "metadata": {},
   "outputs": [],
   "source": [
    "# my_list = ['2018-01-01', 'yandex', 'cpc', 100]\n",
    "my_list = ['a', 'b', 'c', 'd', 'e', 'f']"
   ]
  },
  {
   "cell_type": "code",
   "execution_count": 15,
   "id": "de8bfb56-1748-43a2-bccb-a2043d808325",
   "metadata": {},
   "outputs": [
    {
     "name": "stdout",
     "output_type": "stream",
     "text": [
      "{'a': {'b': {'c': {'d': {'e': 'f'}}}}}\n"
     ]
    }
   ],
   "source": [
    "res = my_list[-1]\n",
    "for element in reversed(my_list[:-1]):\n",
    "    res = {element:res}\n",
    "print(res)"
   ]
  },
  {
   "cell_type": "markdown",
   "id": "9f3ae6e5-883f-4e2b-8aa3-623825cdabd8",
   "metadata": {},
   "source": [
    "# Задание 6 (необязательно)\n",
    "Дана книга рецептов с информацией о том, сколько ингредиентов нужно для приготовления блюда в расчете на одну порцию (пример данных представлен ниже).\n",
    "Напишите программу, которая будет запрашивать у пользователя количество порций для приготовления этих блюд и отображать информацию о суммарном количестве требуемых ингредиентов в указанном виде.\n",
    "Внимание! Одинаковые ингридиенты с разными размерностями нужно считать раздельно!"
   ]
  },
  {
   "cell_type": "code",
   "execution_count": 50,
   "id": "e5e241cd-4ca9-45a5-8a0f-0e37957e759b",
   "metadata": {},
   "outputs": [],
   "source": [
    "cook_book = {\n",
    "  'салат': [\n",
    "     {'ingridient_name': 'сыр', 'quantity': 50, 'measure': 'гр'},\n",
    "     {'ingridient_name': 'томаты', 'quantity': 2, 'measure': 'шт'},\n",
    "     {'ingridient_name': 'огурцы', 'quantity': 20, 'measure': 'гр'},\n",
    "     {'ingridient_name': 'маслины', 'quantity': 10, 'measure': 'гр'},\n",
    "     {'ingridient_name': 'оливковое масло', 'quantity': 20, 'measure': 'мл'},\n",
    "     {'ingridient_name': 'салат', 'quantity': 10, 'measure': 'гр'},\n",
    "     {'ingridient_name': 'перец', 'quantity': 20, 'measure': 'гр'}\n",
    "    ],\n",
    "  'пицца': [\n",
    "     {'ingridient_name': 'сыр', 'quantity': 20, 'measure': 'гр'},\n",
    "     {'ingridient_name': 'колбаса', 'quantity': 30, 'measure': 'гр'},\n",
    "     {'ingridient_name': 'бекон', 'quantity': 30, 'measure': 'гр'},\n",
    "     {'ingridient_name': 'оливки', 'quantity': 10, 'measure': 'гр'},\n",
    "     {'ingridient_name': 'томаты', 'quantity': 20, 'measure': 'гр'},\n",
    "     {'ingridient_name': 'тесто', 'quantity': 100, 'measure': 'гр'},   \n",
    "    ],\n",
    "  'лимонад': [\n",
    "     {'ingridient_name': 'лимон', 'quantity': 1, 'measure': 'шт'},\n",
    "     {'ingridient_name': 'вода', 'quantity': 200, 'measure': 'мл'},\n",
    "     {'ingridient_name': 'сахар', 'quantity': 10, 'measure': 'гр'},\n",
    "     {'ingridient_name': 'лайм', 'quantity': 20, 'measure': 'гр'},    \n",
    "    ]\n",
    "}"
   ]
  },
  {
   "cell_type": "code",
   "execution_count": 82,
   "id": "a0ecacd1-0ed8-459f-80aa-6882cabe3ec8",
   "metadata": {},
   "outputs": [
    {
     "name": "stdin",
     "output_type": "stream",
     "text": [
      "Количество персон:  4\n"
     ]
    },
    {
     "name": "stdout",
     "output_type": "stream",
     "text": [
      "Сыр: 280 гр\n",
      "Томаты: 8 шт\n",
      "Огурцы: 80 гр\n",
      "Маслины: 40 гр\n",
      "Оливковое масло: 80 мл\n",
      "Салат: 40 гр\n",
      "Перец: 80 гр\n",
      "Колбаса: 120 гр\n",
      "Бекон: 120 гр\n",
      "Оливки: 40 гр\n",
      "Томаты: 80 гр\n",
      "Тесто: 400 гр\n",
      "Лимон: 4 шт\n",
      "Вода: 800 мл\n",
      "Сахар: 40 гр\n",
      "Лайм: 80 гр\n"
     ]
    }
   ],
   "source": [
    "persons = int(input('Количество персон: '))\n",
    "my_dict = {}\n",
    "\n",
    "for key, value in cook_book.items():\n",
    "    for ingr in value:\n",
    "        if (ingr['ingridient_name'], ingr['measure']) not in my_dict:\n",
    "            my_dict[(ingr['ingridient_name'], ingr['measure'])] = {'quantity' : ingr['quantity'] * persons}\n",
    "        else:\n",
    "            my_dict[(ingr['ingridient_name'], ingr['measure'])]['quantity'] += ingr['quantity'] * persons\n",
    "for count, name in my_dict.items():\n",
    "    print(f\"{count[0].capitalize()}: {name['quantity']} {count[1]}\")"
   ]
  },
  {
   "cell_type": "code",
   "execution_count": null,
   "id": "e8b9644a-23a9-4212-bc08-1946cb39b231",
   "metadata": {},
   "outputs": [],
   "source": []
  }
 ],
 "metadata": {
  "kernelspec": {
   "display_name": "Python 3 (ipykernel)",
   "language": "python",
   "name": "python3"
  },
  "language_info": {
   "codemirror_mode": {
    "name": "ipython",
    "version": 3
   },
   "file_extension": ".py",
   "mimetype": "text/x-python",
   "name": "python",
   "nbconvert_exporter": "python",
   "pygments_lexer": "ipython3",
   "version": "3.9.12"
  }
 },
 "nbformat": 4,
 "nbformat_minor": 5
}
