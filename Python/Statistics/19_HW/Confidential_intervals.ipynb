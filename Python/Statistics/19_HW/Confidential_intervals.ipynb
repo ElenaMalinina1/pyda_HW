{
 "cells": [
  {
   "cell_type": "code",
   "execution_count": 1,
   "id": "68ff5773-667b-4fd8-94dd-50bd276e92ba",
   "metadata": {},
   "outputs": [],
   "source": [
    "import math\n",
    "import numpy as np  \n",
    "import pandas as pd  # для работы с таблицами\n",
    "from scipy import stats # для работы со статистикой\n",
    "import matplotlib.pyplot as plt  # Библиотека для визуализации результатов \n",
    "import seaborn as sns # Более продвинутая библиотека для визуализации"
   ]
  },
  {
   "cell_type": "markdown",
   "id": "1db7923c-012c-4daf-bfce-400d7d6beeba",
   "metadata": {},
   "source": [
    "# Задание № 0\n",
    "\n",
    "Найдите минимально необходимый объем выборки для построения интервальной оценки среднего.\n",
    "\n",
    "- желаемая точность $\\Delta$ = 3;\n",
    "- дисперсия $\\sigma^2$  = 225;\n",
    "- уровень доверия $\\beta$ = 0.95.\n",
    "    \n",
    "Ответ округлите до целого"
   ]
  },
  {
   "cell_type": "code",
   "execution_count": 2,
   "id": "cc9f651b-39d0-4f33-8146-b3ed0236f597",
   "metadata": {},
   "outputs": [
    {
     "name": "stdout",
     "output_type": "stream",
     "text": [
      "Минимально необходимый объем выборки: 68\n"
     ]
    }
   ],
   "source": [
    "sigma = 15  # Стандартное отклонение\n",
    "Z = stats.norm.ppf(0.95)  #  % Квантиль нормального распределения. \n",
    "Delta = 3  # Погрешность\n",
    "\n",
    "N = round(((sigma * Z) / Delta) ** 2)\n",
    "print(f'Минимально необходимый объем выборки: {N}')"
   ]
  },
  {
   "cell_type": "markdown",
   "id": "74bf77a2-5add-43c8-8c56-b3a6d9dbcce0",
   "metadata": {},
   "source": [
    "# Задание № 1\n",
    "\n",
    "Постройте `98% доверительный интервал` для среднего значения, если известно, что\n",
    "\n",
    "- объем выборки n = 25;\n",
    "- среднее значение по выборке $\\overline x$ = 130;\n",
    "- Из достоверных источников известно стандартное отклонение $\\sigma = 15$.\n",
    "    \n",
    "В ответ укажите длину полученного доверительного интервала (разницу между правым и левым концом), окруленную до целого"
   ]
  },
  {
   "cell_type": "code",
   "execution_count": 3,
   "id": "500943e4-ef4e-4808-a690-d1c001435a85",
   "metadata": {},
   "outputs": [
    {
     "name": "stdout",
     "output_type": "stream",
     "text": [
      "Длина полученного доверительного интервала: 12\n"
     ]
    }
   ],
   "source": [
    "n = 25\n",
    "x = 130\n",
    "std = 15\n",
    "disp = 0.02\n",
    "z = stats.norm.ppf(0.98)\n",
    "\n",
    "accuracy = (std / math.sqrt(n)) * z\n",
    "CI_left = 130 - accuracy\n",
    "CI_right = 130 + accuracy\n",
    "\n",
    "L = round(CI_right - CI_left)\n",
    "print(f'Длина полученного доверительного интервала: {L}')"
   ]
  },
  {
   "cell_type": "markdown",
   "id": "7e015ff3-88bd-4b29-983e-f9257608c3f9",
   "metadata": {},
   "source": [
    "# Задание № 2\n",
    "\n",
    "Даны две выборки роста мужчин и женщин. \n",
    "- Докажите, используя `t-Тест Стьдента`, что различие между выборками незначительно, если уровень значимости равен $\\alpha$ `= 0.001`.\n",
    "- Покажите различия визуально"
   ]
  },
  {
   "cell_type": "code",
   "execution_count": 4,
   "id": "9afa0a95-be14-4bb0-b627-332121376e2a",
   "metadata": {},
   "outputs": [
    {
     "name": "stdout",
     "output_type": "stream",
     "text": [
      "0.02962765741379924\n",
      "2.1750330978778973\n",
      "Различия значительны\n"
     ]
    }
   ],
   "source": [
    "np.random.seed(99) #фиксация случайности\n",
    "\n",
    "population_men  = stats.norm.rvs(loc=19, scale=171, size=11000000)  # Выборка мужчин со средним ростом 171\n",
    "population_women = stats.norm.rvs(loc=16, scale=165, size=12000)  # Выборка женщин со средним ростом 165\n",
    "\n",
    "# В двух строчках выше генерируется две выбороки, где loc это среднее значение, а scale это дисперсия\n",
    "α = 0.002\n",
    "t, p_value = stats.ttest_ind(population_men, population_women) #Критерий Стьюдента (t-test)\n",
    "print(p_value)\n",
    "print(t)\n",
    "\n",
    "if p_value < α:\n",
    "    print('Различия незначительны')\n",
    "else:\n",
    "    print('Различия значительны')"
   ]
  },
  {
   "cell_type": "code",
   "execution_count": 5,
   "id": "4cfe4546-2f4d-4295-8430-e89bfca0b7af",
   "metadata": {},
   "outputs": [
    {
     "data": {
      "image/png": "[encoded data removed]",
      "text/plain": [
       "<Figure size 432x288 with 1 Axes>"
      ]
     },
     "metadata": {
      "needs_background": "light"
     },
     "output_type": "display_data"
    },
    {
     "data": {
      "image/png": "[encoded data removed]",
      "text/plain": [
       "<Figure size 432x288 with 1 Axes>"
      ]
     },
     "metadata": {
      "needs_background": "light"
     },
     "output_type": "display_data"
    }
   ],
   "source": [
    "plt.hist(population_men, bins=100); #Выборка mens\n",
    "plt.hist(population_women, bins=100);  #Выборка womens\n",
    "plt.show()\n",
    "plt.boxplot(population_men);\n",
    "plt.boxplot(population_women);"
   ]
  },
  {
   "cell_type": "markdown",
   "id": "375acde5-8a0b-4599-a51a-27620b181dc2",
   "metadata": {},
   "source": [
    "# Задание № 3\n",
    "\n",
    "Определите объем необходимой выборки для исследования среднего чека за кофе в случайном городе если известно, что в этом городе:\n",
    "\n",
    "- стандартное отклонение $\\sigma = 150$;\n",
    "- уровень доверия $\\beta$  = 95%;\n",
    "- Погрешность $\\Delta = 50$ рублей."
   ]
  },
  {
   "cell_type": "code",
   "execution_count": 6,
   "id": "b986cd67-fe5c-4dae-a85c-d8b75c5b66b3",
   "metadata": {},
   "outputs": [
    {
     "name": "stdout",
     "output_type": "stream",
     "text": [
      "Минимально необходимый объем выборки: 24\n"
     ]
    }
   ],
   "source": [
    "sigma = 150  # Стандартное отклонение\n",
    "Z = stats.norm.ppf(0.95)  #  % Квантиль нормального распределения. \n",
    "Delta = 50  # Погрешность\n",
    "\n",
    "N = round(((sigma * Z) / Delta) ** 2)\n",
    "print(f'Минимально необходимый объем выборки: {N}')"
   ]
  },
  {
   "cell_type": "markdown",
   "id": "54b164d9-65f7-4cbd-af7c-4a5d3c756ae4",
   "metadata": {},
   "source": [
    "# Задание № 4\n",
    "\n",
    "Представьте, что вы хотите разоблачить \"волшебника\" который считает, что умеет предсказывать погоду на завтра, отвечая просто: дождь или солнце. Вы пронаблюдали за ответами \"волшебника\" в течении какого-то периода времени и получили некие результаты (см.ниже).\n",
    "\n",
    "Можно ли сказать, что маг действительно умеет предсказывать погоду? Уровень значимости принять за `0.05` ($\\alpha=0.05$)."
   ]
  },
  {
   "cell_type": "code",
   "execution_count": 7,
   "id": "21cd32c8-72e9-42f7-8874-f4ba8e6c06a7",
   "metadata": {},
   "outputs": [
    {
     "data": {
      "text/html": [
       "<div>\n",
       "<style scoped>\n",
       "    .dataframe tbody tr th:only-of-type {\n",
       "        vertical-align: middle;\n",
       "    }\n",
       "\n",
       "    .dataframe tbody tr th {\n",
       "        vertical-align: top;\n",
       "    }\n",
       "\n",
       "    .dataframe thead th {\n",
       "        text-align: right;\n",
       "    }\n",
       "</style>\n",
       "<table border=\"1\" class=\"dataframe\">\n",
       "  <thead>\n",
       "    <tr style=\"text-align: right;\">\n",
       "      <th></th>\n",
       "      <th>Ответ волшебника</th>\n",
       "      <th>Реальность</th>\n",
       "    </tr>\n",
       "  </thead>\n",
       "  <tbody>\n",
       "    <tr>\n",
       "      <th>Дождь</th>\n",
       "      <td>10</td>\n",
       "      <td>15</td>\n",
       "    </tr>\n",
       "    <tr>\n",
       "      <th>Солнце</th>\n",
       "      <td>39</td>\n",
       "      <td>34</td>\n",
       "    </tr>\n",
       "  </tbody>\n",
       "</table>\n",
       "</div>"
      ],
      "text/plain": [
       "        Ответ волшебника  Реальность\n",
       "Дождь                 10          15\n",
       "Солнце                39          34"
      ]
     },
     "execution_count": 7,
     "metadata": {},
     "output_type": "execute_result"
    }
   ],
   "source": [
    "observations = pd.DataFrame([[10,15],[39,34]],\n",
    "                            index=['Дождь','Солнце'],\n",
    "                            columns=['Ответ волшебника','Реальность'])\n",
    "observations"
   ]
  },
  {
   "cell_type": "code",
   "execution_count": 8,
   "id": "e4c41dc5-2cea-461f-8112-e82060674ac4",
   "metadata": {},
   "outputs": [
    {
     "data": {
      "text/plain": [
       "(0.5811965811965812, 0.35417955365927367)"
      ]
     },
     "execution_count": 8,
     "metadata": {},
     "output_type": "execute_result"
    }
   ],
   "source": [
    "# Учтите, что у тестов, в том чилсле и точного теста Фишера под нелевой гипотезой подразумевается случайность/отсутсвие эффекта\n",
    "\n",
    "\n",
    "oddsratio, p_value = stats.fisher_exact(observations) # Возможно пригодится эта функция.\n",
    "oddsratio, p_value"
   ]
  },
  {
   "cell_type": "markdown",
   "id": "96d250f4-f776-43cd-b732-18ea0f236fb8",
   "metadata": {},
   "source": [
    "p_value = 0.35417955365927367 при уровне значимости $\\alpha=0.05$, принимается нулевая гипотеза"
   ]
  },
  {
   "cell_type": "markdown",
   "id": "f682f606-23d0-4d4a-a3f0-afd2a850ac64",
   "metadata": {},
   "source": [
    "# Задание № 5\n",
    "\n",
    "Используя функцию mean_confidence_interval(data, confidence), постройте доверительный интервал с уровнем доверия $\\beta = 90\\%$ для выборки:"
   ]
  },
  {
   "cell_type": "code",
   "execution_count": 9,
   "id": "2bb37647-0c93-48cf-b145-9facf20dcc55",
   "metadata": {},
   "outputs": [
    {
     "name": "stdout",
     "output_type": "stream",
     "text": [
      "(6.074074746111319, 6.628571428571429, 7.183068111031539)\n"
     ]
    }
   ],
   "source": [
    "data = [4,5,8,9,6,7,5,6,7,8,5,6,7,0,9,8,4,6,\n",
    "        7,9,8,6,5,7,8,9,6,7,5,8,6,7,9,5,10]\n",
    "\n",
    "def mean_confidence_interval(data, confidence=0.95):   \n",
    "    n = len(data)\n",
    "    m, se = np.mean(data), stats.sem(data)\n",
    "    h = se * stats.t.ppf((1 + confidence) / 2, n)  #  функция ppf из scipy возвращает нам перцентиль\n",
    "    return m-h, m, m+h  #,h\n",
    "\n",
    "print(mean_confidence_interval(data, 0.90))"
   ]
  },
  {
   "cell_type": "markdown",
   "id": "9d0cd278-122a-4f82-91c6-233fa41a8aa4",
   "metadata": {},
   "source": [
    "# Задание № 6\n",
    "\n",
    "Принадлежат ли выборки data_1 и data_2 одному множеству? \n",
    "    \n",
    "- Оцените это с помощью известных вам тестов для проверок статистических гипотез;\n",
    "- Покажите различия визуально."
   ]
  },
  {
   "cell_type": "code",
   "execution_count": 10,
   "id": "cd5f3ff1-0e86-46a7-9a37-41092a267f25",
   "metadata": {},
   "outputs": [
    {
     "name": "stdout",
     "output_type": "stream",
     "text": [
      "Выборки принадлежат одному множеству\n"
     ]
    }
   ],
   "source": [
    "data_1 = [4,5,8,9,6,7,5,6,7,8,5,6,7,0,9,8,4,\n",
    "          6,7,9,8,6,5,7,8,9,6,7,5,8,6,7,9,5,10]\n",
    "\n",
    "data_2 = [8,5,6,7,0,1,8,4,6,7,0,2,6,5,7,5,3,5,3,\n",
    "          5,3,5,5,8,7,6,4,5,3,5,4,6,4,5,3,2,6,4,\n",
    "          2,6,1,0,4,3,5,4,3,4,5,4,3,4,5,4,3,4,5,\n",
    "          3,4,4,1,2,4,3,1,2,4,3,2,1,5,3,4,6,4,5,\n",
    "          3,2,4,5,6,4,3,1,3,5,3,4,4,4,2,5,3]\\\n",
    "\n",
    "α = 0.05\n",
    "t, p_value = stats.ttest_ind(data_1, data_2)\n",
    "\n",
    "if p_value < α:\n",
    "    print('Выборки принадлежат одному множеству')\n",
    "else:\n",
    "    print('Выборки не принадлежат одному множеству')"
   ]
  },
  {
   "cell_type": "code",
   "execution_count": 11,
   "id": "490c4360-d281-485e-b4da-b8f30b4b80c4",
   "metadata": {},
   "outputs": [
    {
     "data": {
      "image/png": "[encoded data removed]",
      "text/plain": [
       "<Figure size 432x288 with 1 Axes>"
      ]
     },
     "metadata": {
      "needs_background": "light"
     },
     "output_type": "display_data"
    },
    {
     "data": {
      "image/png": "[encoded data removed]",
      "text/plain": [
       "<Figure size 432x288 with 1 Axes>"
      ]
     },
     "metadata": {
      "needs_background": "light"
     },
     "output_type": "display_data"
    }
   ],
   "source": [
    "plt.hist(data_1, bins=6); #Выборка B\n",
    "plt.hist(data_2, bins=6);  #Выборка A\n",
    "plt.show()\n",
    "plt.boxplot(data_1);\n",
    "plt.boxplot(data_2);"
   ]
  },
  {
   "cell_type": "markdown",
   "id": "0566f859-95bf-4007-9c0f-6beddc1bc99b",
   "metadata": {},
   "source": [
    "# Задание № 7 (задание без подвоха)\n",
    "\n",
    "На примере датасета про жилье в New York City, мы сталкивались с примером, когда переменная имеет не совсем нормальное распределение. \n",
    "\n",
    "- Предположим, Вы сформировали две гипотезы:\n",
    "    - нулевая гипотеза - распределение нормальное;\n",
    "    - альтернативная гипотеза - распределение ненормальное.\n",
    "- допустим, вы применили какой-то тест (сейчас неважно какой), который показал уровень значимости  `p-value = 0.03`. Каковы будут ваши выводы? Будем считать что у нас нормальное распределение или все-таки нет?)"
   ]
  },
  {
   "cell_type": "code",
   "execution_count": 12,
   "id": "dc0cf5d6-136a-47a9-a017-3d598d1fda0c",
   "metadata": {},
   "outputs": [
    {
     "name": "stdout",
     "output_type": "stream",
     "text": [
      "Отвергаем H0\n"
     ]
    }
   ],
   "source": [
    "#H0 - распределение нормальное\n",
    "#H1 - распределение ненормальное\n",
    "p_value = 0.03\n",
    "α = 0.05 #пусть так, я решила, что цена ошибки не велика)\n",
    "\n",
    "if p_value < α:\n",
    "    print('Отвергаем H0')\n",
    "else:\n",
    "    print('Не отвергаем H0 - распределение нормальное')"
   ]
  },
  {
   "cell_type": "markdown",
   "id": "d83f6c2a-5cae-4aad-a5ce-9f296125dd03",
   "metadata": {},
   "source": [
    "# Задание № 8\n",
    "    \n",
    "Первая выборка — это пациенты, которых лечили препаратом `А`.  Вторая выборка — пациенты, которых лечили препаратом `B`.\n",
    "\n",
    "Значения в выборках — это некоторая характеристика эффективности лечения (уровень метаболита в крови, температура через три дня после начала лечения, срок выздоровления, число койко-дней, и т.д.) \n",
    "\n",
    "- Требуется выяснить, имеется ли значимое различие эффективности препаратов `А` и `B`, или различия являются чисто случайными и объясняются «естественной» дисперсией выбранной характеристики?  (`уровень значимости принять за 0.05 (5%)`)\n",
    "\n",
    "- При каком минимальном p-value различия были бы уже значимы? \n",
    "    \n",
    "- Если выборки незначительно отличаются, то продемонстрируйте это визуально"
   ]
  },
  {
   "cell_type": "code",
   "execution_count": 13,
   "id": "f7fff490-e4f7-492a-ad6e-58ebfa69b68d",
   "metadata": {},
   "outputs": [
    {
     "name": "stdout",
     "output_type": "stream",
     "text": [
      "0.10875223988971396\n",
      "Не отвергаем H0 - различий нет\n"
     ]
    }
   ],
   "source": [
    "np.random.seed(99) #фиксация случайности\n",
    "\n",
    "A = stats.norm.rvs(scale=15,loc=169,size=300)\n",
    "B = stats.norm.rvs(scale=14,loc=171.4,size=300)\n",
    "\n",
    "α = 0.05\n",
    "stat, p_value = stats.ttest_rel(A,B)\n",
    "print(p_value)\n",
    "\n",
    "#H0 - различий нет\n",
    "#H1 - различия есть\n",
    "if p_value < α:\n",
    "    print('Отвергаем H0')\n",
    "else:\n",
    "    print('Не отвергаем H0 - различий нет')"
   ]
  },
  {
   "cell_type": "code",
   "execution_count": 14,
   "id": "58a3ea63-c44e-4526-abbc-d8e77bdf0f1c",
   "metadata": {},
   "outputs": [
    {
     "data": {
      "image/png": "[encoded data removed]",
      "text/plain": [
       "<Figure size 432x288 with 1 Axes>"
      ]
     },
     "metadata": {
      "needs_background": "light"
     },
     "output_type": "display_data"
    },
    {
     "data": {
      "image/png": "[encoded data removed]",
      "text/plain": [
       "<Figure size 432x288 with 1 Axes>"
      ]
     },
     "metadata": {
      "needs_background": "light"
     },
     "output_type": "display_data"
    }
   ],
   "source": [
    "plt.hist(A, bins=30); #Выборка B\n",
    "plt.hist(B, bins=30);  #Выборка A\n",
    "plt.show()\n",
    "plt.boxplot(A);\n",
    "plt.boxplot(B);"
   ]
  },
  {
   "cell_type": "markdown",
   "id": "fa39d2fb-453b-43a0-a8d7-6728978f9021",
   "metadata": {},
   "source": [
    "При p = α, думаю, уже можно было бы говорить о значимом различии или неоднозначности и нужны еще тесты"
   ]
  }
 ],
 "metadata": {
  "kernelspec": {
   "display_name": "Python 3 (ipykernel)",
   "language": "python",
   "name": "python3"
  },
  "language_info": {
   "codemirror_mode": {
    "name": "ipython",
    "version": 3
   },
   "file_extension": ".py",
   "mimetype": "text/x-python",
   "name": "python",
   "nbconvert_exporter": "python",
   "pygments_lexer": "ipython3",
   "version": "3.9.12"
  }
 },
 "nbformat": 4,
 "nbformat_minor": 5
}
