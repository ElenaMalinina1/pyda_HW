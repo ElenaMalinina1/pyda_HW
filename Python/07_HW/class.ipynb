{
 "cells": [
  {
   "cell_type": "markdown",
   "id": "f50394e2-9a81-43de-8f1c-d414bda482ad",
   "metadata": {},
   "source": [
    "# Задание 1\n",
    "Напишите функцию, которая возвращает название валюты (поле ‘Name’) с максимальным значением курса с помощью сервиса https://www.cbr-xml-daily.ru/daily_json.js"
   ]
  },
  {
   "cell_type": "code",
   "execution_count": 1,
   "id": "26dfb856-0c98-40db-8a98-685818883d1f",
   "metadata": {},
   "outputs": [],
   "source": [
    "import requests"
   ]
  },
  {
   "cell_type": "code",
   "execution_count": 2,
   "id": "2109aa0c-99c6-496d-b0dd-da1f0e1efde5",
   "metadata": {},
   "outputs": [
    {
     "data": {
      "text/plain": [
       "'XDR'"
      ]
     },
     "execution_count": 2,
     "metadata": {},
     "output_type": "execute_result"
    }
   ],
   "source": [
    "def get_name_with_max_value():\n",
    "    max_value = 0\n",
    "    request = requests.get('https://www.cbr-xml-daily.ru/daily_json.js').json()['Valute']\n",
    "    return max(request, key = lambda key : request[key]['Value'] / request[key]['Nominal'])\n",
    "\n",
    "get_name_with_max_value()"
   ]
  },
  {
   "cell_type": "markdown",
   "id": "e924444f-8f15-4dc8-a8e8-d38d2ecee3e2",
   "metadata": {},
   "source": [
    "# Задание 2\n",
    "Добавьте в класс Rate параметр diff (со значениями True или False), который в случае значения True в методах курсов валют (eur, usd итд) будет возвращать не курс валюты, а изменение по сравнению в прошлым значением. Считайте, self.diff будет принимать значение True только при возврате значения курса. При отображении всей информации о валюте он не используется."
   ]
  },
  {
   "cell_type": "code",
   "execution_count": 3,
   "id": "869596c2-5d29-45f8-a7d4-1c74f846bb48",
   "metadata": {},
   "outputs": [],
   "source": [
    "class Rate:\n",
    "    def __init__(self, format_='value', diff = False):\n",
    "        self.format = format_\n",
    "        \n",
    "    def exchange_rates(self):\n",
    "        \"\"\"\n",
    "        Возвращает ответ сервиса с информацией о валютах в виде:\n",
    "        \n",
    "        {\n",
    "            'AMD': {\n",
    "                'CharCode': 'AMD',\n",
    "                'ID': 'R01060',\n",
    "                'Name': 'Армянских драмов',\n",
    "                'Nominal': 100,\n",
    "                'NumCode': '051',\n",
    "                'Previous': 14.103,\n",
    "                'Value': 14.0879\n",
    "                },\n",
    "            ...\n",
    "        }\n",
    "        \"\"\"\n",
    "        self.r = requests.get('https://www.cbr-xml-daily.ru/daily_json.js')\n",
    "        return self.r.json()['Valute']\n",
    "    \n",
    "    def make_format(self, currency):\n",
    "        \"\"\"\n",
    "        Возвращает информацию о валюте currency в двух вариантах:\n",
    "        - полная информация о валюте при self.format = 'full':\n",
    "        Rate('full').make_format('EUR')\n",
    "        {\n",
    "            'CharCode': 'EUR',\n",
    "            'ID': 'R01239',\n",
    "            'Name': 'Евро',\n",
    "            'Nominal': 1,\n",
    "            'NumCode': '978',\n",
    "            'Previous': 79.6765,\n",
    "            'Value': 79.4966\n",
    "        }\n",
    "        \n",
    "        Rate('value').make_format('EUR')\n",
    "        79.4966\n",
    "        \"\"\"\n",
    "        response = self.exchange_rates()\n",
    "        \n",
    "        if currency in response:\n",
    "            if self.format == 'full':\n",
    "                return response[currency]\n",
    "            \n",
    "            if self.format == 'value':\n",
    "                return response[currency]['Value']\n",
    "        \n",
    "        return 'Error'\n",
    "    \n",
    "    \n",
    "    def diff(self, currency, diff = True):\n",
    "        \"\"\"\n",
    "        Возвращает изменение по сравнению с прошлым значением(разницу)\"\"\"\n",
    "        \n",
    "        response = self.exchange_rates()\n",
    "        \n",
    "        if currency in response:\n",
    "                return response[currency]['Value'] - response[currency]['Previous']\n",
    "                \n",
    "             \n",
    "    \n",
    "    def eur(self, diff = True):\n",
    "        \"\"\"Возвращает разницу курса евро на сегодня по сравнению с прошлым значением (Value - Previous)\"\"\"\n",
    "        return self.diff('EUR')\n",
    "    \n",
    "    def usd(self, diff = True):\n",
    "        \"\"\"Возвращает разницу курса доллара на сегодня по сравнению с прошлым значением (Value - Previous)\"\"\"\n",
    "        return self.diff('USD')\n",
    "    \n",
    "    def brl(self, diff = True):\n",
    "        \"\"\"Возвращает курс бразильского реала на сегодня по сравнению с прошлым значением (Value - Previous)\"\"\"\n",
    "        return self.diff('BRL')"
   ]
  },
  {
   "cell_type": "code",
   "execution_count": 4,
   "id": "c604a87a-8035-484f-a573-ec367143d801",
   "metadata": {},
   "outputs": [],
   "source": [
    "r = Rate()"
   ]
  },
  {
   "cell_type": "code",
   "execution_count": 5,
   "id": "a0d60f98-0f18-45ee-aa44-52c69c02379a",
   "metadata": {},
   "outputs": [
    {
     "data": {
      "text/plain": [
       "0.0367999999999995"
      ]
     },
     "execution_count": 5,
     "metadata": {},
     "output_type": "execute_result"
    }
   ],
   "source": [
    "r.brl()"
   ]
  },
  {
   "cell_type": "code",
   "execution_count": 6,
   "id": "a643d00d-4576-47f6-93ba-23016e0f3bc1",
   "metadata": {},
   "outputs": [
    {
     "data": {
      "text/plain": [
       "11.3856"
      ]
     },
     "execution_count": 6,
     "metadata": {},
     "output_type": "execute_result"
    }
   ],
   "source": [
    "r.make_format('BRL')"
   ]
  },
  {
   "cell_type": "markdown",
   "id": "e1bcbb30-a2f4-486c-9fd9-383e000e95d3",
   "metadata": {},
   "source": [
    "# Задание 3\n",
    "Напишите класс Designer, который учитывает количество международных премий. Подсказки в коде занятия в разделе “Домашнее задание задача 3”.\n",
    "\n",
    "Комментарий по классу Designer такой:\n",
    "Напишите класс Designer, который учитывает количество международных премий для дизайнеров (из презентации: “Повышение на 1 грейд за каждые 7 баллов. Получение международной премии – это +2 балла”). Считайте, что при выходе на работу сотрудник уже имеет две премии и их количество не меняется со стажем (конечно если хотите это можно вручную менять)."
   ]
  },
  {
   "cell_type": "code",
   "execution_count": 7,
   "id": "b5a3d9c8-42a0-403d-b840-4a3cd63978f8",
   "metadata": {},
   "outputs": [],
   "source": [
    "class Employee:\n",
    "    def __init__(self, name, seniority):\n",
    "        self.name = name\n",
    "        self.seniority = seniority\n",
    "        \n",
    "        self.grade = 1\n",
    "    \n",
    "    def grade_up(self):\n",
    "        \"\"\"Повышает уровень сотрудника\"\"\"\n",
    "        self.grade += 1\n",
    "    \n",
    "    def publish_grade(self):\n",
    "        \"\"\"Публикация результатов аккредитации сотрудников\"\"\"\n",
    "        print(self.name, self.grade)\n",
    "    \n",
    "    def check_if_it_is_time_for_upgrade(self):\n",
    "        pass"
   ]
  },
  {
   "cell_type": "code",
   "execution_count": 8,
   "id": "54d1ab55-002f-4ed1-9e4b-6bba47fd9a11",
   "metadata": {},
   "outputs": [],
   "source": [
    "class Designer(Employee):\n",
    "    def __init__(self, name, seniority, awards):\n",
    "        super().__init__(name, seniority + awards)\n",
    "        \n",
    "        self.awards = awards\n",
    "    \n",
    "    def if_it_is_time_for_upgrade_designer(self):\n",
    "        self.seniority += 1\n",
    "        self.awards += 2\n",
    "        \n",
    "        if self.seniority % 7 == 0:\n",
    "            self.grade_up()\n",
    "            \n",
    "        return self.publish_grade()"
   ]
  },
  {
   "cell_type": "code",
   "execution_count": 9,
   "id": "6910e935-3c21-4586-b04f-6b0de402f9df",
   "metadata": {},
   "outputs": [],
   "source": [
    "alex = Designer('Alex', 0, awards=2)"
   ]
  },
  {
   "cell_type": "code",
   "execution_count": 10,
   "id": "36ee22fa-dc17-4b87-90a8-4e7aee2bd0a3",
   "metadata": {},
   "outputs": [
    {
     "name": "stdout",
     "output_type": "stream",
     "text": [
      "Alex 1\n",
      "Alex 1\n",
      "Alex 1\n",
      "Alex 1\n",
      "Alex 2\n",
      "Alex 2\n",
      "Alex 2\n",
      "Alex 2\n",
      "Alex 2\n",
      "Alex 2\n",
      "Alex 2\n",
      "Alex 3\n",
      "Alex 3\n",
      "Alex 3\n",
      "Alex 3\n",
      "Alex 3\n",
      "Alex 3\n",
      "Alex 3\n",
      "Alex 4\n",
      "Alex 4\n"
     ]
    }
   ],
   "source": [
    "for i in range(20):\n",
    "    alex.if_it_is_time_for_upgrade_designer()"
   ]
  },
  {
   "cell_type": "code",
   "execution_count": 11,
   "id": "6a461f1f-3448-4fd0-9f32-9fb97bb151b8",
   "metadata": {},
   "outputs": [
    {
     "name": "stdout",
     "output_type": "stream",
     "text": [
      "Jonh 1\n",
      "Jonh 1\n",
      "Jonh 1\n",
      "Jonh 1\n",
      "Jonh 1\n",
      "Jonh 1\n",
      "Jonh 2\n",
      "Jonh 2\n",
      "Jonh 2\n",
      "Jonh 2\n",
      "Jonh 2\n",
      "Jonh 2\n",
      "Jonh 2\n",
      "Jonh 3\n",
      "Jonh 3\n",
      "Jonh 3\n",
      "Jonh 3\n",
      "Jonh 3\n",
      "Jonh 3\n",
      "Jonh 3\n"
     ]
    }
   ],
   "source": [
    "jonh = Designer('Jonh', 0, awards = 0)\n",
    "\n",
    "for j in range(20):\n",
    "    jonh.if_it_is_time_for_upgrade_designer()"
   ]
  }
 ],
 "metadata": {
  "kernelspec": {
   "display_name": "Python 3 (ipykernel)",
   "language": "python",
   "name": "python3"
  },
  "language_info": {
   "codemirror_mode": {
    "name": "ipython",
    "version": 3
   },
   "file_extension": ".py",
   "mimetype": "text/x-python",
   "name": "python",
   "nbconvert_exporter": "python",
   "pygments_lexer": "ipython3",
   "version": "3.9.12"
  }
 },
 "nbformat": 4,
 "nbformat_minor": 5
}
