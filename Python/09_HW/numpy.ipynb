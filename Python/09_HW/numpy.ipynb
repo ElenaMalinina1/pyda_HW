{
 "cells": [
  {
   "cell_type": "markdown",
   "id": "974e91af-3895-42c4-b8ae-4af2fb192f2b",
   "metadata": {},
   "source": [
    "# Задание 1\n",
    "Создайте numpy array с элементами от числа N до 0"
   ]
  },
  {
   "cell_type": "code",
   "execution_count": 1,
   "id": "fd4cc246-edf8-455c-a3f2-ae2fbae1fbdc",
   "metadata": {},
   "outputs": [],
   "source": [
    "import numpy as np\n",
    "from numpy import linalg"
   ]
  },
  {
   "cell_type": "code",
   "execution_count": 2,
   "id": "14f26fbb-e609-4b63-a720-f7d096ee58b5",
   "metadata": {},
   "outputs": [
    {
     "data": {
      "text/plain": [
       "array([10,  9,  8,  7,  6,  5,  4,  3,  2,  1,  0])"
      ]
     },
     "execution_count": 2,
     "metadata": {},
     "output_type": "execute_result"
    }
   ],
   "source": [
    "N = 10\n",
    "np.arange(N, -1, -1)"
   ]
  },
  {
   "cell_type": "markdown",
   "id": "b299f419-d097-434f-867f-8643c8ac0d98",
   "metadata": {},
   "source": [
    "# Задание 2\n",
    "Создайте диагональную матрицу с элементами от N до 0. Посчитайте сумму ее значений на диагонали."
   ]
  },
  {
   "cell_type": "code",
   "execution_count": 3,
   "id": "0b80c759-4480-4cdc-90a1-a2e94e9d1c39",
   "metadata": {},
   "outputs": [
    {
     "data": {
      "text/plain": [
       "55"
      ]
     },
     "execution_count": 3,
     "metadata": {},
     "output_type": "execute_result"
    }
   ],
   "source": [
    "N = 10\n",
    "matrix = np.diag(np.arange(N, 0, -1))\n",
    "# создаем единичную матрицу\n",
    "sum([column[row] for row, column in enumerate(matrix)])\n",
    "# считаем сумму по диагонали"
   ]
  },
  {
   "cell_type": "markdown",
   "id": "be0c1dfe-6b0d-4b39-9b12-51ced867c7cc",
   "metadata": {},
   "source": [
    "# Задание 3\n",
    "Решите систему уравнений:\n",
    "\n",
    "    4x + 2y + z = 4\n",
    "    x + 3y = 12\n",
    "    5y + 4z = -3"
   ]
  },
  {
   "cell_type": "code",
   "execution_count": 4,
   "id": "623ca336-734d-4e74-add0-714365aace82",
   "metadata": {},
   "outputs": [
    {
     "data": {
      "text/plain": [
       "array([-3.8,  4. , 11.2])"
      ]
     },
     "execution_count": 4,
     "metadata": {},
     "output_type": "execute_result"
    }
   ],
   "source": [
    "a = np.array( [ [4, 2, 1], [0, 3, 0], [5, 4, 0] ] )\n",
    "# коэффициенты из левой части\n",
    "b = np.array( [4, 12, -3] )\n",
    "# значения из правой части\n",
    "np.linalg.solve(a, b)"
   ]
  },
  {
   "cell_type": "code",
   "execution_count": 5,
   "id": "d470df46-18e8-446c-95b9-a26e3ac84a85",
   "metadata": {},
   "outputs": [
    {
     "data": {
      "text/plain": [
       "True"
      ]
     },
     "execution_count": 5,
     "metadata": {},
     "output_type": "execute_result"
    }
   ],
   "source": [
    "# проверка на корректность\n",
    "np.allclose(np.dot(a, linalg.solve(a, b)), b)"
   ]
  },
  {
   "cell_type": "markdown",
   "id": "4c406e38-0372-408b-8c99-dcd233931524",
   "metadata": {},
   "source": [
    "# Задание 4\n",
    "В материалах занятия раздел “Задача 4 домашнего задания”\n",
    "\n",
    "Найдите самого похожего пользователя. Т. е. посчитайте косинусное сходство между этим пользователем и всеми пользователями из массива user_stats"
   ]
  },
  {
   "cell_type": "code",
   "execution_count": 6,
   "id": "5a9e0987-68b4-4d2e-8b25-0829482544e5",
   "metadata": {},
   "outputs": [
    {
     "data": {
      "text/plain": [
       "array([0.09534626, 0.47673129, 0.19069252, 0.47673129, 0.19069252,\n",
       "       0.        , 0.        , 0.28603878, 0.        , 0.        ])"
      ]
     },
     "execution_count": 6,
     "metadata": {},
     "output_type": "execute_result"
    }
   ],
   "source": [
    "users_stats = np.array(\n",
    "    [\n",
    "        [2, 1, 0, 0, 0, 0],\n",
    "        [1, 1, 2, 1, 0, 0],\n",
    "        [2, 0, 1, 0, 0, 0],\n",
    "        [1, 1, 2, 1, 0, 1],\n",
    "        [0, 0, 1, 2, 0, 0],\n",
    "        [0, 0, 0, 0, 0, 5],\n",
    "        [1, 0, 0, 0, 0, 0],\n",
    "        [0, 1, 1, 0, 0, 0],\n",
    "        [0, 0, 0, 1, 1, 3],\n",
    "        [1, 0, 0, 2, 1, 4]\n",
    "    ], \n",
    "    np.int32\n",
    ")\n",
    "next_user_stats = np.array([0, 1, 2, 0, 0, 0])\n",
    "\n",
    "def cosine():\n",
    "    for vector in users_stats:\n",
    "#         обращение к каждому вектору\n",
    "        users_stats_len = np.linalg.norm(vector)\n",
    "        next_user_stats_len = np.linalg.norm(next_user_stats)\n",
    "#         опеределение длины векторов \n",
    "    return np.dot(users_stats, next_user_stats) / (users_stats_len * next_user_stats_len)\n",
    "# подсчет конусного сходства\n",
    "cosine()"
   ]
  }
 ],
 "metadata": {
  "kernelspec": {
   "display_name": "Python 3 (ipykernel)",
   "language": "python",
   "name": "python3"
  },
  "language_info": {
   "codemirror_mode": {
    "name": "ipython",
    "version": 3
   },
   "file_extension": ".py",
   "mimetype": "text/x-python",
   "name": "python",
   "nbconvert_exporter": "python",
   "pygments_lexer": "ipython3",
   "version": "3.9.12"
  }
 },
 "nbformat": 4,
 "nbformat_minor": 5
}
