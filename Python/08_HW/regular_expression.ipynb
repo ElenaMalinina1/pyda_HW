{
 "cells": [
  {
   "cell_type": "markdown",
   "id": "3fd99598-9a46-4667-bdcd-1717ef970ace",
   "metadata": {},
   "source": [
    "# Задание 1\n",
    "Напишите функцию, которая принимает на вход строку и проверяет является ли она валидным транспортным номером (1 буква, 3 цифры, 2 буквы, 2-3 цифры). Обратите внимание, что не все буквы кириллического алфавита используются в транспортных номерах."
   ]
  },
  {
   "cell_type": "code",
   "execution_count": 1,
   "id": "145acc68-8085-4dff-9b87-17d2d35723b4",
   "metadata": {},
   "outputs": [],
   "source": [
    "import re\n",
    "import json"
   ]
  },
  {
   "cell_type": "code",
   "execution_count": 2,
   "id": "ca823554-69b4-448a-920a-f0cd01c01c52",
   "metadata": {},
   "outputs": [],
   "source": [
    "def reg_ex(car_id):\n",
    "    rexp = (r'\\w{1}\\d{3}\\w{2}\\d{2,3}')\n",
    "    if re.findall(rexp, car_id):\n",
    "        # ищем шаблон\n",
    "        return f'Номер {car_id} валиден'\n",
    "    else:\n",
    "        return f'Номер {car_id} не валиден' "
   ]
  },
  {
   "cell_type": "code",
   "execution_count": 3,
   "id": "2db97980-8a30-419d-9807-baff6a4fd013",
   "metadata": {},
   "outputs": [
    {
     "data": {
      "text/plain": [
       "'Номер A222BC95 валиден'"
      ]
     },
     "execution_count": 3,
     "metadata": {},
     "output_type": "execute_result"
    }
   ],
   "source": [
    "reg_ex('A222BC95')"
   ]
  },
  {
   "cell_type": "code",
   "execution_count": 4,
   "id": "455ed51a-d924-4298-a1db-30a7cd26bb17",
   "metadata": {},
   "outputs": [
    {
     "data": {
      "text/plain": [
       "'Номер A222BC9 не валиден'"
      ]
     },
     "execution_count": 4,
     "metadata": {},
     "output_type": "execute_result"
    }
   ],
   "source": [
    "reg_ex('A222BC9')"
   ]
  },
  {
   "cell_type": "markdown",
   "id": "33fb7d49-528c-4919-9e44-74f44f7dd446",
   "metadata": {},
   "source": [
    "# Задание 2\n",
    "Напишите функцию, которая будет удалять все последовательные повторы слов из заданной строки при помощи регулярных выражений."
   ]
  },
  {
   "cell_type": "code",
   "execution_count": 5,
   "id": "ffd21f5f-9fd4-4c8e-b13c-2f369d40e77b",
   "metadata": {},
   "outputs": [],
   "source": [
    "some_string = 'Напишите функцию функцию, которая будет будет будет будет удалять все все  все все последовательные повторы слов из из из из заданной строки строки при помощи регулярных выражений'\n",
    "\n",
    "def del_repeat(some_string):\n",
    "    reg_exp = re.sub(r'\\b([\\w\\d]+)(\\s+\\1)+\\b', r'\\1', some_string)\n",
    "    # замена шаблона \n",
    "    return reg_exp"
   ]
  },
  {
   "cell_type": "code",
   "execution_count": 6,
   "id": "00bdacf0-18fc-4ee4-9017-1886ff82e9c8",
   "metadata": {},
   "outputs": [
    {
     "data": {
      "text/plain": [
       "'Напишите функцию, которая будет удалять все последовательные повторы слов из заданной строки при помощи регулярных выражений'"
      ]
     },
     "execution_count": 6,
     "metadata": {},
     "output_type": "execute_result"
    }
   ],
   "source": [
    "del_repeat(some_string)"
   ]
  },
  {
   "cell_type": "markdown",
   "id": "00f16fe3-3429-4405-9877-8691977cf9ea",
   "metadata": {},
   "source": [
    "# Задание 3\n",
    "Напишите функцию, которая будет возвращать акроним по переданной в нее строке со словами."
   ]
  },
  {
   "cell_type": "code",
   "execution_count": 7,
   "id": "68ba7af0-50f4-4bfe-af2d-e2f02033b466",
   "metadata": {},
   "outputs": [],
   "source": [
    "some_words = 'Near Field Communication'\n",
    "\n",
    "def make_acronym(some_words):\n",
    "    acronym = re.sub(r'\\b(\\w)\\w+', r'\\1', some_words).upper().replace(' ', '')\n",
    "    return acronym"
   ]
  },
  {
   "cell_type": "code",
   "execution_count": 8,
   "id": "48cde337-04ca-4cd5-a686-d2f165ff1b24",
   "metadata": {},
   "outputs": [
    {
     "data": {
      "text/plain": [
       "'NFC'"
      ]
     },
     "execution_count": 8,
     "metadata": {},
     "output_type": "execute_result"
    }
   ],
   "source": [
    "make_acronym(some_words)"
   ]
  },
  {
   "cell_type": "markdown",
   "id": "20509263-48f0-4bf5-8e0c-5f47d4b29966",
   "metadata": {},
   "source": [
    "# Задание 4\n",
    "Напишите функцию, которая будет принимать на вход список email-адресов и выводить их распределение по доменным зонам."
   ]
  },
  {
   "cell_type": "code",
   "execution_count": 9,
   "id": "cbebafc4-bba3-4be7-9e14-2f2f13d54c49",
   "metadata": {},
   "outputs": [],
   "source": [
    "emails = ['test@gmail.com', 'xyz@test.in', 'test@ya.ru', 'xyz@mail.ru', 'xyz@ya.ru', 'xyz@gmail.com']\n",
    "\n",
    "def domen_zone(emails):\n",
    "    string = ' '.join(emails)\n",
    "    # первод списка в строку\n",
    "    find_domen = re.findall(r'\\w+\\.\\w+(?!\\w+\\@)', string)\n",
    "    # поиск шаблона\n",
    "    count_domen = {domen : find_domen.count(domen) for domen in find_domen}\n",
    "    # подсчет доменов\n",
    "    print(json.dumps(count_domen, indent = 4))"
   ]
  },
  {
   "cell_type": "code",
   "execution_count": 10,
   "id": "fe7add5c-a02b-4f48-a23d-5ffe61b3e884",
   "metadata": {},
   "outputs": [
    {
     "name": "stdout",
     "output_type": "stream",
     "text": [
      "{\n",
      "    \"gmail.com\": 2,\n",
      "    \"test.in\": 1,\n",
      "    \"ya.ru\": 2,\n",
      "    \"mail.ru\": 1\n",
      "}\n"
     ]
    }
   ],
   "source": [
    "domen_zone(emails)"
   ]
  }
 ],
 "metadata": {
  "kernelspec": {
   "display_name": "Python 3 (ipykernel)",
   "language": "python",
   "name": "python3"
  },
  "language_info": {
   "codemirror_mode": {
    "name": "ipython",
    "version": 3
   },
   "file_extension": ".py",
   "mimetype": "text/x-python",
   "name": "python",
   "nbconvert_exporter": "python",
   "pygments_lexer": "ipython3",
   "version": "3.9.12"
  }
 },
 "nbformat": 4,
 "nbformat_minor": 5
}
