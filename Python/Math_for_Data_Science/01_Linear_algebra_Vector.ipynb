{
 "cells": [
  {
   "cell_type": "markdown",
   "metadata": {
    "id": "ps2GywThE8XL"
   },
   "source": [
    "# Задание 1.\n",
    "Даны вектора x = (1,1), y = (2, 0) и z = (0,2)\n",
    "\n",
    "Надо:\n",
    "\n",
    "    Изобразить вектора на экране\n",
    "    Изобразить точку x + y + z\n",
    "    Найти угол между векторами x и y"
   ]
  },
  {
   "cell_type": "code",
   "execution_count": 1,
   "metadata": {
    "executionInfo": {
     "elapsed": 249,
     "status": "ok",
     "timestamp": 1657811238458,
     "user": {
      "displayName": "Vixen",
      "userId": "12443801616054990678"
     },
     "user_tz": -180
    },
    "id": "sRKDHF71E5d4"
   },
   "outputs": [],
   "source": [
    "import numpy as np\n",
    "import matplotlib.pyplot as plt"
   ]
  },
  {
   "cell_type": "code",
   "execution_count": 2,
   "metadata": {
    "colab": {
     "base_uri": "https://localhost:8080/"
    },
    "executionInfo": {
     "elapsed": 263,
     "status": "ok",
     "timestamp": 1657811245885,
     "user": {
      "displayName": "Vixen",
      "userId": "12443801616054990678"
     },
     "user_tz": -180
    },
    "id": "UUqcHPqtHIvo",
    "outputId": "3eb71dbe-0f2d-44f9-889b-222913cfad07"
   },
   "outputs": [],
   "source": [
    "x = np.array([1,1])\n",
    "y = np.array([2,0])\n",
    "z = np.array([0,2])"
   ]
  },
  {
   "cell_type": "code",
   "execution_count": 3,
   "metadata": {
    "colab": {
     "base_uri": "https://localhost:8080/"
    },
    "executionInfo": {
     "elapsed": 2,
     "status": "ok",
     "timestamp": 1657811246160,
     "user": {
      "displayName": "Vixen",
      "userId": "12443801616054990678"
     },
     "user_tz": -180
    },
    "id": "7_aoxplSPvGI",
    "outputId": "9a1b47f6-8dda-4999-f068-71978fa8547b"
   },
   "outputs": [
    {
     "data": {
      "image/png": "[encoded data removed]",
      "text/plain": [
       "<Figure size 432x288 with 1 Axes>"
      ]
     },
     "metadata": {
      "needs_background": "light"
     },
     "output_type": "display_data"
    }
   ],
   "source": [
    "plt.scatter(x[0], x[1])\n",
    "plt.scatter(y[0], y[1])\n",
    "plt.scatter(z[0], z[1])\n",
    "plt.grid()\n",
    "plt.title('Координаты векторов x, y, z')\n",
    "plt.show()"
   ]
  },
  {
   "cell_type": "code",
   "execution_count": 4,
   "metadata": {
    "colab": {
     "base_uri": "https://localhost:8080/"
    },
    "executionInfo": {
     "elapsed": 4,
     "status": "ok",
     "timestamp": 1657811246912,
     "user": {
      "displayName": "Vixen",
      "userId": "12443801616054990678"
     },
     "user_tz": -180
    },
    "id": "BSOWtzc5P6lc",
    "outputId": "d148d8c0-ff1c-404b-97d3-36f2ea90f640"
   },
   "outputs": [
    {
     "data": {
      "image/png": "[encoded data removed]",
      "text/plain": [
       "<Figure size 432x288 with 1 Axes>"
      ]
     },
     "metadata": {
      "needs_background": "light"
     },
     "output_type": "display_data"
    }
   ],
   "source": [
    "v = x + y + z\n",
    "plt.scatter(v[0], v[1])\n",
    "plt.grid()\n",
    "plt.title('Координаты вектора x + y + z')\n",
    "plt.show()"
   ]
  },
  {
   "cell_type": "code",
   "execution_count": 5,
   "metadata": {
    "colab": {
     "base_uri": "https://localhost:8080/"
    },
    "executionInfo": {
     "elapsed": 2,
     "status": "ok",
     "timestamp": 1657811248140,
     "user": {
      "displayName": "Vixen",
      "userId": "12443801616054990678"
     },
     "user_tz": -180
    },
    "id": "5qW9oZsfP8bN",
    "outputId": "b5e85bb5-2d7b-4e10-c8bf-bba7f2b68943"
   },
   "outputs": [
    {
     "name": "stdout",
     "output_type": "stream",
     "text": [
      "Угол между векторами x и y: 45.00000000000001\n"
     ]
    }
   ],
   "source": [
    "# Получаем косинус угла между векторами\n",
    "v_cos = np.dot(x, y) / (np.linalg.norm(x) * np.linalg.norm(y))\n",
    "# Находим угол между векторами с помощью арккосинуса и переводим значения в градусы\n",
    "v_angle = np.degrees(np.arccos(v_cos))\n",
    "\n",
    "print('Угол между векторами x и y:', v_angle)"
   ]
  }
 ],
 "metadata": {
  "colab": {
   "authorship_tag": "ABX9TyMiilrEQTue98BhaHjXGPBN",
   "collapsed_sections": [],
   "name": "Линейная алгебра. Матрицы.ipynb",
   "provenance": []
  },
  "kernelspec": {
   "display_name": "Python 3 (ipykernel)",
   "language": "python",
   "name": "python3"
  },
  "language_info": {
   "codemirror_mode": {
    "name": "ipython",
    "version": 3
   },
   "file_extension": ".py",
   "mimetype": "text/x-python",
   "name": "python",
   "nbconvert_exporter": "python",
   "pygments_lexer": "ipython3",
   "version": "3.9.12"
  }
 },
 "nbformat": 4,
 "nbformat_minor": 4
}
