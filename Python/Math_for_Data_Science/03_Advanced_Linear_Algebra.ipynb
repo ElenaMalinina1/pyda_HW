{
 "cells": [
  {
   "cell_type": "markdown",
   "metadata": {
    "id": "gMP1Gr6zIONi"
   },
   "source": [
    "# Уровень 0:\n",
    "Придумайте матрицы, которые обладают следующими свойствами:\n",
    "\n",
    "**a) Диагональная, ортогональная, но не единичная(!)**"
   ]
  },
  {
   "cell_type": "code",
   "execution_count": 1,
   "metadata": {},
   "outputs": [],
   "source": [
    "import pandas as pd\n",
    "import numpy as np\n",
    "from sklearn.datasets import load_digits\n",
    "from sklearn.decomposition import PCA\n",
    "from sklearn.metrics import mean_squared_error\n",
    "import matplotlib.pyplot as plt"
   ]
  },
  {
   "cell_type": "code",
   "execution_count": 2,
   "metadata": {
    "colab": {
     "base_uri": "https://localhost:8080/",
     "height": 286
    },
    "executionInfo": {
     "elapsed": 433,
     "status": "ok",
     "timestamp": 1657808849226,
     "user": {
      "displayName": "Vixen",
      "userId": "12443801616054990678"
     },
     "user_tz": -180
    },
    "id": "AyaLyX6cIFh7",
    "outputId": "da18689a-5c42-45b1-df3f-33e0c80e1775"
   },
   "outputs": [
    {
     "data": {
      "text/plain": [
       "array([[-1,  0,  0],\n",
       "       [ 0, -1,  0],\n",
       "       [ 0,  0, -1]])"
      ]
     },
     "execution_count": 2,
     "metadata": {},
     "output_type": "execute_result"
    }
   ],
   "source": [
    "m = np.array([[-1,0,0],[0,-1,0],[0,0,-1]])\n",
    "m"
   ]
  },
  {
   "cell_type": "code",
   "execution_count": 3,
   "metadata": {
    "colab": {
     "base_uri": "https://localhost:8080/",
     "height": 286
    },
    "executionInfo": {
     "elapsed": 402,
     "status": "ok",
     "timestamp": 1657808452230,
     "user": {
      "displayName": "Vixen",
      "userId": "12443801616054990678"
     },
     "user_tz": -180
    },
    "id": "9BVXnS6XIj5I",
    "outputId": "e486fefd-3fc1-4ee3-e2dc-ffbb12f048cc"
   },
   "outputs": [
    {
     "data": {
      "text/plain": [
       "array([[1, 0, 0],\n",
       "       [0, 1, 0],\n",
       "       [0, 0, 1]])"
      ]
     },
     "execution_count": 3,
     "metadata": {},
     "output_type": "execute_result"
    }
   ],
   "source": [
    "m@m.T"
   ]
  },
  {
   "cell_type": "markdown",
   "metadata": {},
   "source": [
    "**b) Верхнетреугольная, ортогональная**"
   ]
  },
  {
   "cell_type": "code",
   "execution_count": 4,
   "metadata": {},
   "outputs": [
    {
     "data": {
      "text/plain": [
       "array([[ 1,  0,  0],\n",
       "       [ 0, -1,  0],\n",
       "       [ 0,  0, -1]])"
      ]
     },
     "execution_count": 4,
     "metadata": {},
     "output_type": "execute_result"
    }
   ],
   "source": [
    "m = np.array([[1,0,0],[0,-1,0],[0,0,-1]])\n",
    "m"
   ]
  },
  {
   "cell_type": "code",
   "execution_count": 5,
   "metadata": {
    "colab": {
     "base_uri": "https://localhost:8080/"
    },
    "executionInfo": {
     "elapsed": 393,
     "status": "ok",
     "timestamp": 1657808686674,
     "user": {
      "displayName": "Vixen",
      "userId": "12443801616054990678"
     },
     "user_tz": -180
    },
    "id": "13waM9zUNWcQ",
    "outputId": "691e8a8e-4b07-4d51-a80b-622de09f56c2"
   },
   "outputs": [
    {
     "data": {
      "text/plain": [
       "array([[1, 0, 0],\n",
       "       [0, 1, 0],\n",
       "       [0, 0, 1]])"
      ]
     },
     "execution_count": 5,
     "metadata": {},
     "output_type": "execute_result"
    }
   ],
   "source": [
    "m@m.T"
   ]
  },
  {
   "cell_type": "markdown",
   "metadata": {},
   "source": [
    "**c) Нижнетреугольная, ортогональная**"
   ]
  },
  {
   "cell_type": "code",
   "execution_count": 6,
   "metadata": {
    "colab": {
     "base_uri": "https://localhost:8080/",
     "height": 286
    },
    "executionInfo": {
     "elapsed": 417,
     "status": "ok",
     "timestamp": 1657808926293,
     "user": {
      "displayName": "Vixen",
      "userId": "12443801616054990678"
     },
     "user_tz": -180
    },
    "id": "0hxigeoLGh7g",
    "outputId": "313b20c5-0591-4985-ce5b-aeddd0686d37"
   },
   "outputs": [
    {
     "data": {
      "text/plain": [
       "array([[ 1,  0,  0],\n",
       "       [ 0, -1,  0],\n",
       "       [ 0,  0,  1]])"
      ]
     },
     "execution_count": 6,
     "metadata": {},
     "output_type": "execute_result"
    }
   ],
   "source": [
    "m = np.array([[1,0,0],[0,-1,0],[0,0,1]])\n",
    "m"
   ]
  },
  {
   "cell_type": "code",
   "execution_count": 7,
   "metadata": {
    "colab": {
     "base_uri": "https://localhost:8080/",
     "height": 286
    },
    "executionInfo": {
     "elapsed": 405,
     "status": "ok",
     "timestamp": 1657809029142,
     "user": {
      "displayName": "Vixen",
      "userId": "12443801616054990678"
     },
     "user_tz": -180
    },
    "id": "pGDR59x8GcpG",
    "outputId": "61bedd11-6140-4c55-e980-f023e55d1271"
   },
   "outputs": [
    {
     "data": {
      "text/plain": [
       "array([[1, 0, 0],\n",
       "       [0, 1, 0],\n",
       "       [0, 0, 1]])"
      ]
     },
     "execution_count": 7,
     "metadata": {},
     "output_type": "execute_result"
    }
   ],
   "source": [
    "m@m.T"
   ]
  },
  {
   "cell_type": "markdown",
   "metadata": {},
   "source": [
    "**d) Матрица, у которой определитель = 1, и все элементы не равны 0**"
   ]
  },
  {
   "cell_type": "code",
   "execution_count": 8,
   "metadata": {},
   "outputs": [
    {
     "data": {
      "text/plain": [
       "1.0"
      ]
     },
     "execution_count": 8,
     "metadata": {},
     "output_type": "execute_result"
    }
   ],
   "source": [
    "m = np.array([[5,  0.9],\n",
    "              [10, 2  ]])\n",
    "np.linalg.det(m)"
   ]
  },
  {
   "cell_type": "markdown",
   "metadata": {},
   "source": [
    "**Найдите собственные значения и собственные вектора матриц:**"
   ]
  },
  {
   "cell_type": "code",
   "execution_count": 9,
   "metadata": {},
   "outputs": [
    {
     "name": "stdout",
     "output_type": "stream",
     "text": [
      "[[2 2]\n",
      " [1 3]]\n"
     ]
    }
   ],
   "source": [
    "m = np.array([[2, 2],\n",
    "              [1, 3]])\n",
    "print(m)"
   ]
  },
  {
   "cell_type": "code",
   "execution_count": 10,
   "metadata": {},
   "outputs": [
    {
     "name": "stdout",
     "output_type": "stream",
     "text": [
      "Собственное число - 1.0, соответствующий собственный вектор - [-0.89442719 -0.70710678]\n",
      "Собственное число - 4.0, соответствующий собственный вектор - [ 0.4472136  -0.70710678]\n"
     ]
    }
   ],
   "source": [
    "w, v = np.linalg.eig(m)\n",
    "for index in range(len(w)):\n",
    "    print(f'Собственное число - {w[index]}, соответствующий собственный вектор - {v[index]}')"
   ]
  },
  {
   "cell_type": "markdown",
   "metadata": {
    "id": "5MD_R7NfIvfL"
   },
   "source": [
    "# Уровень 1:\n",
    "Найдите спектральное разложение матрицы:"
   ]
  },
  {
   "cell_type": "code",
   "execution_count": 11,
   "metadata": {
    "id": "myC0eu3qJFFF"
   },
   "outputs": [
    {
     "name": "stdout",
     "output_type": "stream",
     "text": [
      "[[1 2]\n",
      " [2 3]]\n"
     ]
    }
   ],
   "source": [
    "m = np.array([[1, 2],\n",
    "              [2,3]])\n",
    "print(m)"
   ]
  },
  {
   "cell_type": "code",
   "execution_count": 12,
   "metadata": {
    "colab": {
     "base_uri": "https://localhost:8080/"
    },
    "executionInfo": {
     "elapsed": 380,
     "status": "ok",
     "timestamp": 1657809133970,
     "user": {
      "displayName": "Vixen",
      "userId": "12443801616054990678"
     },
     "user_tz": -180
    },
    "id": "4pF2WQhUJJk9",
    "outputId": "f4363959-90ce-4746-e4ff-10cc0f555d21"
   },
   "outputs": [],
   "source": [
    "w, v = np.linalg.eig(m)\n",
    "matrix_D = np.diag(w)"
   ]
  },
  {
   "cell_type": "code",
   "execution_count": 13,
   "metadata": {
    "id": "LB9kZkhyH95G"
   },
   "outputs": [
    {
     "data": {
      "text/plain": [
       "array([[1., 2.],\n",
       "       [2., 3.]])"
      ]
     },
     "execution_count": 13,
     "metadata": {},
     "output_type": "execute_result"
    }
   ],
   "source": [
    "# По формуле спектрального разложения найдем исходную матрицу, должна совпасть с заданной\n",
    "v @ matrix_D @ v.T"
   ]
  },
  {
   "cell_type": "markdown",
   "metadata": {
    "colab": {
     "base_uri": "https://localhost:8080/"
    },
    "executionInfo": {
     "elapsed": 2,
     "status": "ok",
     "timestamp": 1657809189541,
     "user": {
      "displayName": "Vixen",
      "userId": "12443801616054990678"
     },
     "user_tz": -180
    },
    "id": "LOrGBmRcIKz5",
    "outputId": "731b9485-e417-4657-dd3b-2b52a51925b7"
   },
   "source": [
    "**Постройте зависимость качества восстановления рукописных цифр (MNIST) в зависимости от различного количества компонент PCA. В качестве метрики различия предлагаю использовать MSE.**"
   ]
  },
  {
   "cell_type": "code",
   "execution_count": 14,
   "metadata": {
    "colab": {
     "base_uri": "https://localhost:8080/"
    },
    "executionInfo": {
     "elapsed": 2,
     "status": "ok",
     "timestamp": 1657809190913,
     "user": {
      "displayName": "Vixen",
      "userId": "12443801616054990678"
     },
     "user_tz": -180
    },
    "id": "t3lc6CG7ILTs",
    "outputId": "5368eebc-2050-4996-dd20-b80169cd0a02"
   },
   "outputs": [
    {
     "data": {
      "image/png": "[encoded data removed]",
      "text/plain": [
       "<Figure size 288x288 with 1 Axes>"
      ]
     },
     "metadata": {
      "needs_background": "light"
     },
     "output_type": "display_data"
    }
   ],
   "source": [
    "X, y = load_digits(return_X_y=True)\n",
    "digit = X[2]\n",
    "digit = digit.reshape((8, 8))\n",
    "plt.matshow(digit, cmap = 'gray')\n",
    "plt.show()"
   ]
  },
  {
   "cell_type": "markdown",
   "metadata": {
    "colab": {
     "base_uri": "https://localhost:8080/"
    },
    "executionInfo": {
     "elapsed": 10,
     "status": "ok",
     "timestamp": 1657809218971,
     "user": {
      "displayName": "Vixen",
      "userId": "12443801616054990678"
     },
     "user_tz": -180
    },
    "id": "tAHN_cPFILpR",
    "outputId": "45a3696b-645f-4119-9777-d8c63e8c434b"
   },
   "source": [
    "Качество модели будем оценивать следующими способами:\n",
    "\n",
    "Чем больше исходных данных, которые могут описать наши главные компоненты, тем модель лучше.\n",
    "В данном случае собственные числа в матричном разложении - максимальный размер дисперсии на определенном пространственном уровне. За 100% берем сумму всех максимальных дисперсий в каждом измерении исходных данных. При выборе количества главных компонент меньше уровня изначальных измерений, мы отбрасываем уровни с наименьшей дисперисей. В результате наши главные компоненты будут описывать модель уже не на 100%, а меньше. Считается оптимальным выбором, если главные компоненты содержат в себе 95-99% всей дисперсии из исходных данных.\n",
    "\n",
    "Оптимальная модель не должна включать в себя собственные значения (дисперсии) меньше 1. Условие не жесткое, зависит от ситуации.\n",
    "\n",
    "Невысокий уровень MSE"
   ]
  },
  {
   "cell_type": "code",
   "execution_count": 15,
   "metadata": {
    "colab": {
     "base_uri": "https://localhost:8080/"
    },
    "executionInfo": {
     "elapsed": 4,
     "status": "ok",
     "timestamp": 1657809234774,
     "user": {
      "displayName": "Vixen",
      "userId": "12443801616054990678"
     },
     "user_tz": -180
    },
    "id": "JNvasNgoISbb",
    "outputId": "4858a207-b418-4654-a18f-683dd5916393"
   },
   "outputs": [
    {
     "name": "stdout",
     "output_type": "stream",
     "text": [
      "Количество факторов: 1\n",
      "MSE 6.1\n",
      "Процент исходной информации в главных компонентах: 61.96%\n",
      "Дисперсия наименьшего главного компонента: 90.82\n",
      "===============================================\n",
      "Количество факторов: 2\n",
      "MSE 3.53\n",
      "Процент исходной информации в главных компонентах: 77.97%\n",
      "Дисперсия наименьшего главного компонента: 23.47\n",
      "===============================================\n",
      "Количество факторов: 3\n",
      "MSE 1.53\n",
      "Процент исходной информации в главных компонентах: 90.44%\n",
      "Дисперсия наименьшего главного компонента: 18.28\n",
      "===============================================\n",
      "Количество факторов: 4\n",
      "MSE 0.4\n",
      "Процент исходной информации в главных компонентах: 97.52%\n",
      "Дисперсия наименьшего главного компонента: 10.38\n",
      "===============================================\n",
      "Количество факторов: 5\n",
      "MSE 0.15\n",
      "Процент исходной информации в главных компонентах: 99.07%\n",
      "Дисперсия наименьшего главного компонента: 2.27\n",
      "===============================================\n",
      "Количество факторов: 6\n",
      "MSE 0.0\n",
      "Процент исходной информации в главных компонентах: 100.0%\n",
      "Дисперсия наименьшего главного компонента: 1.36\n",
      "===============================================\n",
      "Количество факторов: 7\n",
      "MSE 0.0\n",
      "Процент исходной информации в главных компонентах: 100.0%\n",
      "Дисперсия наименьшего главного компонента: 0.0\n",
      "===============================================\n",
      "Количество факторов: 8\n",
      "MSE 0.0\n",
      "Процент исходной информации в главных компонентах: 100.0%\n",
      "Дисперсия наименьшего главного компонента: 0.0\n",
      "===============================================\n"
     ]
    }
   ],
   "source": [
    "mse_stat = []\n",
    "orig_inf_percent_stat = []\n",
    "for number_factors in range(1, 9):\n",
    "    pca = PCA(n_components=number_factors)\n",
    "    pca_digit = pca.fit_transform(digit)\n",
    "    pca_digit_recover = pca.inverse_transform(pca_digit)\n",
    "    mse = round(mean_squared_error(pca_digit_recover, digit), 2)\n",
    "    \n",
    "    # Общий процент исходной информации, которые могут описать наши главные компоненты\n",
    "    orig_inf_percent = round(sum(pca.explained_variance_ratio_)*100, 2)\n",
    "    # Минимальное значение дисперсии главных компонент\n",
    "    minimal_var = round(pca.explained_variance_[-1], 2)\n",
    "    \n",
    "    mse_stat.append((number_factors, mse))\n",
    "    orig_inf_percent_stat.append((number_factors, orig_inf_percent))\n",
    "    \n",
    "    print(f'Количество факторов: {number_factors}')\n",
    "    print(f'MSE {mse}')\n",
    "    print(f'Процент исходной информации в главных компонентах: {orig_inf_percent}%')\n",
    "    print(f'Дисперсия наименьшего главного компонента: {minimal_var}')\n",
    "    print(f'===============================================')\n",
    "    \n",
    "mse_stat = np.array(mse_stat)\n",
    "orig_inf_percent_stat = np.array(orig_inf_percent_stat)"
   ]
  },
  {
   "cell_type": "code",
   "execution_count": 16,
   "metadata": {
    "colab": {
     "base_uri": "https://localhost:8080/"
    },
    "executionInfo": {
     "elapsed": 368,
     "status": "ok",
     "timestamp": 1657809251238,
     "user": {
      "displayName": "Vixen",
      "userId": "12443801616054990678"
     },
     "user_tz": -180
    },
    "id": "jNc5HW_QIWST",
    "outputId": "cbf4cfc9-c0ad-4948-802c-7140b021ac39"
   },
   "outputs": [
    {
     "data": {
      "image/png": "[encoded data removed]",
      "text/plain": [
       "<Figure size 432x288 with 1 Axes>"
      ]
     },
     "metadata": {
      "needs_background": "light"
     },
     "output_type": "display_data"
    }
   ],
   "source": [
    "plt.plot(mse_stat[:,0], mse_stat[:,1])\n",
    "plt.xlabel(\"Количество главных компонент\")\n",
    "plt.ylabel(\"MSE\")\n",
    "plt.title('Зависимость MSE от количества главных компонент')\n",
    "plt.grid()\n",
    "plt.show()"
   ]
  },
  {
   "cell_type": "code",
   "execution_count": 17,
   "metadata": {
    "colab": {
     "base_uri": "https://localhost:8080/"
    },
    "executionInfo": {
     "elapsed": 8,
     "status": "ok",
     "timestamp": 1657809261128,
     "user": {
      "displayName": "Vixen",
      "userId": "12443801616054990678"
     },
     "user_tz": -180
    },
    "id": "ykPe0g7bIaad",
    "outputId": "4ebbc985-78bc-45e3-da86-31673b390bdf"
   },
   "outputs": [
    {
     "data": {
      "image/png": "[encoded data removed]",
      "text/plain": [
       "<Figure size 432x288 with 1 Axes>"
      ]
     },
     "metadata": {
      "needs_background": "light"
     },
     "output_type": "display_data"
    }
   ],
   "source": [
    "plt.plot(orig_inf_percent_stat[:,0], orig_inf_percent_stat[:,1])\n",
    "plt.xlabel(\"Количество главных компонент\")\n",
    "plt.ylabel(\"% исходной информации\")\n",
    "plt.title('Зависимость кол-ва исходной информации в главных компонентах от их количества')\n",
    "plt.grid()\n",
    "plt.show()"
   ]
  },
  {
   "cell_type": "markdown",
   "metadata": {
    "colab": {
     "base_uri": "https://localhost:8080/"
    },
    "executionInfo": {
     "elapsed": 4,
     "status": "ok",
     "timestamp": 1657809291038,
     "user": {
      "displayName": "Vixen",
      "userId": "12443801616054990678"
     },
     "user_tz": -180
    },
    "id": "cHfFEiZJIcyu",
    "outputId": "37fddb27-021a-4675-b8c4-7e5fd3b39188"
   },
   "source": [
    "Из полученных результатов можно сделать вывод:\n",
    "\n",
    "для 100% восстановления изображения нам необходимо не более 6 главных компонент, 2 из 8 измерения имеют нулевую дисперсию и вообще не важны для восстановления данных, также MSE = 0\n",
    "оптимальное количество главных компонент - 4, четыре компоненты могут описать исходные данные с точностью 97%. MSE < 1.\n",
    "один фактор может описать исходные данные на 61%, что не является достаточным."
   ]
  }
 ],
 "metadata": {
  "colab": {
   "authorship_tag": "ABX9TyOz1LtwUsdQ7PTdkNwy2TdF",
   "collapsed_sections": [],
   "name": "Домашнее задание №2 - Продвинутая линейная алгебра\".ipynb",
   "provenance": []
  },
  "kernelspec": {
   "display_name": "Python 3 (ipykernel)",
   "language": "python",
   "name": "python3"
  },
  "language_info": {
   "codemirror_mode": {
    "name": "ipython",
    "version": 3
   },
   "file_extension": ".py",
   "mimetype": "text/x-python",
   "name": "python",
   "nbconvert_exporter": "python",
   "pygments_lexer": "ipython3",
   "version": "3.9.12"
  }
 },
 "nbformat": 4,
 "nbformat_minor": 4
}
