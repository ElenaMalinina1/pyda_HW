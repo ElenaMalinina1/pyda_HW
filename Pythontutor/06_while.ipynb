{
 "cells": [
  {
   "cell_type": "markdown",
   "id": "3de25b5e-472e-4185-b17e-24bbeed61876",
   "metadata": {},
   "source": [
    "## Занятие 6. Цикл while\n",
    "### Задача «Список квадратов»\n",
    "#### Условие\n",
    "По данному целому числу $N$ распечатайте все квадраты натуральных чисел, не превосходящие $N$, в порядке возрастания."
   ]
  },
  {
   "cell_type": "code",
   "execution_count": 1,
   "id": "b2100792-e74c-47c4-9d46-b542f4192aa1",
   "metadata": {},
   "outputs": [
    {
     "name": "stdin",
     "output_type": "stream",
     "text": [
      " 1\n"
     ]
    }
   ],
   "source": [
    "# N = int(input())\n",
    "# q = 0\n",
    "# i = 1\n",
    "# while q <= N:\n",
    "#     q = i ** 2\n",
    "#     i += 1\n",
    "#     if q > N:\n",
    "#         break\n",
    "#     print(q)\n",
    "    \n",
    "N = int(input())\n",
    "i = 1\n",
    "while i ** 2 < N:\n",
    "    print(i ** 2)\n",
    "    i += 1"
   ]
  },
  {
   "cell_type": "markdown",
   "id": "1dec7e97-4a00-4900-9001-6ec6f22ddb77",
   "metadata": {},
   "source": [
    "### Задача «Минимальный делитель»\n",
    "#### Условие\n",
    "Дано целое число, не меньшее 2. Выведите его наименьший натуральный делитель, отличный от 1."
   ]
  },
  {
   "cell_type": "code",
   "execution_count": 2,
   "id": "379141ce-dd30-4b6f-b6cd-d8f4e2a88397",
   "metadata": {},
   "outputs": [
    {
     "name": "stdin",
     "output_type": "stream",
     "text": [
      " 1\n"
     ]
    }
   ],
   "source": [
    "n = int(input())\n",
    "i = 1\n",
    "while i <= n:\n",
    "    i += 1\n",
    "    if n % i == 0:\n",
    "        print(i)\n",
    "        break\n",
    "\n",
    "# n = int(input())\n",
    "# i = 2\n",
    "# while n % i != 0:\n",
    "#     i += 1\n",
    "# print(i)"
   ]
  },
  {
   "cell_type": "markdown",
   "id": "f5f76950-aa32-4ce3-adf5-1433969665e6",
   "metadata": {},
   "source": [
    "### Задача «Степень двойки»\n",
    "#### Условие\n",
    "По данному натуральному числу N найдите наибольшую целую степень двойки, не превосходящую N. Выведите показатель степени и саму степень.\n",
    "\n",
    "Операцией возведения в степень пользоваться нельзя!"
   ]
  },
  {
   "cell_type": "code",
   "execution_count": 3,
   "id": "61604784-2f1e-46ee-adf5-8df25dc82ed1",
   "metadata": {},
   "outputs": [
    {
     "name": "stdin",
     "output_type": "stream",
     "text": [
      " 2\n"
     ]
    },
    {
     "name": "stdout",
     "output_type": "stream",
     "text": [
      "1 2\n"
     ]
    }
   ],
   "source": [
    "N = int(input())\n",
    "k = 0\n",
    "p = 1\n",
    "while p * 2 <= N:\n",
    "    p *= 2\n",
    "    k += 1\n",
    "print(k, p)"
   ]
  },
  {
   "cell_type": "markdown",
   "id": "7aae8929-5a6f-4930-8a2f-36ee82bf07fd",
   "metadata": {},
   "source": [
    "### Задача «Утренняя пробежка»\n",
    "#### Условие\n",
    "В первый день спортсмен пробежал $x$ километров, а затем он каждый день увеличивал пробег на 10% от предыдущего значения. По данному числу $y$ определите номер дня, на который пробег спортсмена составит не менее $y$ километров.\n",
    "\n",
    "Программа получает на вход действительные числа $x$ и $y$ и должна вывести одно натуральное число."
   ]
  },
  {
   "cell_type": "code",
   "execution_count": 4,
   "id": "1871227b-75f3-4074-b515-e6a4875f31dd",
   "metadata": {},
   "outputs": [
    {
     "name": "stdin",
     "output_type": "stream",
     "text": [
      " 3\n",
      " 4\n"
     ]
    },
    {
     "name": "stdout",
     "output_type": "stream",
     "text": [
      "5\n"
     ]
    }
   ],
   "source": [
    "x, y = [int(input()) for  i in range(2)]\n",
    "day = 1\n",
    "while x < y:\n",
    "    x *= 1.1\n",
    "    day += 1\n",
    "print(day)"
   ]
  },
  {
   "cell_type": "markdown",
   "id": "4b8f6593-3099-4b60-881b-c2c5d0473d24",
   "metadata": {},
   "source": [
    "### Задача «Длина последовательности»\n",
    "#### Условие\n",
    "Программа получает на вход последовательность целых неотрицательных чисел, каждое число записано в отдельной строке. Последовательность завершается числом 0, при считывании которого программа должна закончить свою работу и вывести количество членов последовательности (не считая завершающего числа 0). Числа, следующие за числом 0, считывать не нужно."
   ]
  },
  {
   "cell_type": "code",
   "execution_count": 5,
   "id": "5ae76618-e224-49f6-affd-f305ab16d819",
   "metadata": {},
   "outputs": [
    {
     "name": "stdin",
     "output_type": "stream",
     "text": [
      " 5\n",
      " 4\n",
      " 6\n",
      " 0\n"
     ]
    },
    {
     "name": "stdout",
     "output_type": "stream",
     "text": [
      "3\n"
     ]
    }
   ],
   "source": [
    "n = int(input())\n",
    "len_ = 0\n",
    "while n != 0:\n",
    "    len_ += 1\n",
    "    n = int(input())\n",
    "print(len_)"
   ]
  },
  {
   "cell_type": "markdown",
   "id": "62f24ca5-2ca3-4f78-8ac8-ef46343e2125",
   "metadata": {},
   "source": [
    "### Задача «Сумма последовательности»\n",
    "#### Условие\n",
    "Определите сумму всех элементов последовательности, завершающейся числом 0. В этой и во всех следующих задачах числа, следующие за первым нулем, учитывать не нужно."
   ]
  },
  {
   "cell_type": "code",
   "execution_count": 6,
   "id": "02979299-8c3b-4410-b342-5fd670fc2e10",
   "metadata": {},
   "outputs": [
    {
     "name": "stdin",
     "output_type": "stream",
     "text": [
      " 7\n",
      " 5\n",
      " 0\n"
     ]
    },
    {
     "name": "stdout",
     "output_type": "stream",
     "text": [
      "12\n"
     ]
    }
   ],
   "source": [
    "n = int(input())\n",
    "sum_ = 0\n",
    "while n != 0:\n",
    "    sum_ += n\n",
    "    n = int(input()) \n",
    "print(sum_)"
   ]
  },
  {
   "cell_type": "markdown",
   "id": "91f7c1b1-02e3-49c7-98a9-97c9b4ba0b52",
   "metadata": {},
   "source": [
    "### Задача «Среднее значение последовательности»\n",
    "#### Условие\n",
    "Определите среднее значение всех элементов последовательности, завершающейся числом 0."
   ]
  },
  {
   "cell_type": "code",
   "execution_count": 7,
   "id": "740642cc-37f7-44bd-9fe6-12580e71145f",
   "metadata": {},
   "outputs": [
    {
     "name": "stdin",
     "output_type": "stream",
     "text": [
      " 4\n",
      " 6\n",
      " 7\n",
      " 0\n"
     ]
    },
    {
     "name": "stdout",
     "output_type": "stream",
     "text": [
      "5.666666666666667\n"
     ]
    }
   ],
   "source": [
    "n = int(input())\n",
    "sum_ = 0\n",
    "count = 0\n",
    "while n != 0:\n",
    "    sum_ += n\n",
    "    count += 1\n",
    "    n = int(input())\n",
    "print(sum_ / count)"
   ]
  },
  {
   "cell_type": "markdown",
   "id": "3e6f113b-974a-4f99-ae96-b9e225f05064",
   "metadata": {},
   "source": [
    "### Задача «Максимум последовательности»\n",
    "#### Условие\n",
    "Последовательность состоит из натуральных чисел и завершается числом 0. Определите значение наибольшего элемента последовательности."
   ]
  },
  {
   "cell_type": "code",
   "execution_count": 8,
   "id": "18b48b63-0c7d-480e-8923-38c1c1fd2feb",
   "metadata": {},
   "outputs": [
    {
     "name": "stdin",
     "output_type": "stream",
     "text": [
      " 5\n",
      " 7\n",
      " 5\n",
      " 0\n"
     ]
    },
    {
     "name": "stdout",
     "output_type": "stream",
     "text": [
      "7\n"
     ]
    }
   ],
   "source": [
    "n = int(input())\n",
    "max_elemet = 0\n",
    "while n != 0:\n",
    "    if max_elemet < n:\n",
    "        max_elemet = n\n",
    "    n = int(input())\n",
    "print(max_elemet)"
   ]
  },
  {
   "cell_type": "markdown",
   "id": "1b623332-46cb-4c3b-a763-791622a47150",
   "metadata": {},
   "source": [
    "### Задача «Индекс максимума последовательности»\n",
    "### Условие\n",
    "Последовательность состоит из натуральных чисел и завершается числом 0. Определите индекс наибольшего элемента последовательности. Если наибольших элементов несколько, выведите индекс первого из них. Нумерация элементов начинается с нуля."
   ]
  },
  {
   "cell_type": "code",
   "execution_count": 9,
   "id": "13d821c1-8ee9-49c5-a8dd-f7eedebab381",
   "metadata": {},
   "outputs": [
    {
     "name": "stdin",
     "output_type": "stream",
     "text": [
      " 3\n",
      " 564\n",
      " 7\n",
      " 0\n"
     ]
    },
    {
     "name": "stdout",
     "output_type": "stream",
     "text": [
      "1\n"
     ]
    }
   ],
   "source": [
    "n = int(input())\n",
    "max_elemet = 0\n",
    "index = -1\n",
    "pos = 0\n",
    "while n != 0:\n",
    "    index += 1\n",
    "    if n > max_elemet:\n",
    "        max_elemet = n\n",
    "        pos = index\n",
    "    n = int(input())\n",
    "print(pos)"
   ]
  },
  {
   "cell_type": "markdown",
   "id": "290b38c5-d811-47a0-8fc8-b1c63e0a6e3d",
   "metadata": {},
   "source": [
    "### Задача «Количество четных элементов последовательности»\n",
    "##### Условие\n",
    "Определите количество четных элементов в последовательности, завершающейся числом 0."
   ]
  },
  {
   "cell_type": "code",
   "execution_count": 10,
   "id": "ab40ca7c-53d8-437d-aefd-1a1114b1902f",
   "metadata": {},
   "outputs": [
    {
     "name": "stdin",
     "output_type": "stream",
     "text": [
      " 4\n",
      " 35\n",
      " 0\n"
     ]
    },
    {
     "name": "stdout",
     "output_type": "stream",
     "text": [
      "1\n"
     ]
    }
   ],
   "source": [
    "n = int(input())\n",
    "count = 0\n",
    "while n != 0:\n",
    "    if n % 2 == 0:\n",
    "        count += 1\n",
    "    n = int(input())\n",
    "print(count)"
   ]
  },
  {
   "cell_type": "markdown",
   "id": "93b12aea-d354-4a5c-b2d9-634b70e4291c",
   "metadata": {},
   "source": [
    "### Задача «Количество элементов, которые больше предыдущего»\n",
    "#### Условие\n",
    "Последовательность состоит из натуральных чисел и завершается числом 0. Определите, сколько элементов этой последовательности больше предыдущего элемента."
   ]
  },
  {
   "cell_type": "code",
   "execution_count": 11,
   "id": "aaa60771-ce22-4549-a72b-db6c003610a1",
   "metadata": {},
   "outputs": [
    {
     "name": "stdin",
     "output_type": "stream",
     "text": [
      " 556\n",
      " 77\n",
      " 0\n"
     ]
    },
    {
     "name": "stdout",
     "output_type": "stream",
     "text": [
      "0\n"
     ]
    }
   ],
   "source": [
    "prev = int(input())\n",
    "n = int(input())\n",
    "count = 0\n",
    "while n != 0:\n",
    "    if prev < n:\n",
    "        count += 1\n",
    "    prev = n\n",
    "    n = int(input())\n",
    "print(count)"
   ]
  },
  {
   "cell_type": "markdown",
   "id": "0f7e3aab-58e9-4021-9226-f7238bbdcb0c",
   "metadata": {},
   "source": [
    "### Задача «Второй максимум»\n",
    "#### Условие\n",
    "Последовательность состоит из различных натуральных чисел и завершается числом 0. Определите значение второго по величине элемента в этой последовательности. Гарантируется, что в последовательности есть хотя бы два элемента."
   ]
  },
  {
   "cell_type": "code",
   "execution_count": 12,
   "id": "f6a17f17-2e28-40f7-a291-039b3cfe612d",
   "metadata": {},
   "outputs": [
    {
     "name": "stdin",
     "output_type": "stream",
     "text": [
      " 4\n",
      " 3\n",
      " 0\n"
     ]
    },
    {
     "name": "stdout",
     "output_type": "stream",
     "text": [
      "3\n"
     ]
    }
   ],
   "source": [
    "max_1 = 0\n",
    "max_2 = 0\n",
    "n = int(input())\n",
    "while n != 0:\n",
    "    if n > max_1:\n",
    "        max_2 = max_1\n",
    "        max_1 = n\n",
    "    elif n > max_2:\n",
    "        max_2 = n\n",
    "    n = int(input())\n",
    "print(max_2)"
   ]
  },
  {
   "cell_type": "markdown",
   "id": "3e73ce3a-efc2-457d-a35d-a0b77ccc089b",
   "metadata": {},
   "source": [
    "### Задача «Количество элементов, равных максимуму»\n",
    "#### Условие\n",
    "Последовательность состоит из натуральных чисел и завершается числом 0. Определите, сколько элементов этой последовательности равны ее наибольшему элементу."
   ]
  },
  {
   "cell_type": "code",
   "execution_count": 13,
   "id": "79b4f829-ee3c-4fd9-87b6-abe8ce6542d6",
   "metadata": {},
   "outputs": [
    {
     "name": "stdin",
     "output_type": "stream",
     "text": [
      " 3\n",
      " 7\n",
      " 0\n"
     ]
    },
    {
     "name": "stdout",
     "output_type": "stream",
     "text": [
      "1\n"
     ]
    }
   ],
   "source": [
    "n = int(input())\n",
    "max_ = 0\n",
    "count = 0\n",
    "while n != 0:\n",
    "    if n > max_:\n",
    "        max_ = n\n",
    "        count = 1\n",
    "    elif max_ == n:\n",
    "        count += 1\n",
    "    n = int(input())\n",
    "print(count)"
   ]
  },
  {
   "cell_type": "markdown",
   "id": "7e97c650-17b0-4746-995c-3a7ee10c61a5",
   "metadata": {},
   "source": [
    "### Задача «Числа Фибоначчи»\n",
    "#### Условие\n",
    "Последовательность Фибоначчи определяется так:\n",
    "$$φ0 = 0,  φ1 = 1,  φn = φn−1 + φn−2.$$\n",
    "\n",
    "По данному числу $n$ определите $n-е$ число Фибоначчи $φn$.\n",
    "\n",
    "Эту задачу можно решать и циклом for."
   ]
  },
  {
   "cell_type": "code",
   "execution_count": 14,
   "id": "20a36dcc-21d7-4315-9200-d9db7f7819d6",
   "metadata": {},
   "outputs": [
    {
     "name": "stdin",
     "output_type": "stream",
     "text": [
      " 76\n"
     ]
    },
    {
     "name": "stdout",
     "output_type": "stream",
     "text": [
      "3416454622906707\n"
     ]
    }
   ],
   "source": [
    "n = int(input())\n",
    "if n < 2:\n",
    "    print(n)\n",
    "else:\n",
    "    present = 1\n",
    "    prev = 0\n",
    "    for i in range(2, n + 1):\n",
    "        n = prev + present\n",
    "        prev = present\n",
    "        present = n\n",
    "    print(n)"
   ]
  },
  {
   "cell_type": "markdown",
   "id": "b44345c1-ecda-41cd-bb10-07ea58b2ca66",
   "metadata": {},
   "source": [
    "### Задача «Номер числа Фибоначчи»\n",
    "#### Условие\n",
    "Дано натуральное число $A$. Определите, каким по счету числом Фибоначчи оно является, то есть выведите такое число $n$, что $φn = A$. Если $А$ не является числом Фибоначчи, выведите число -1."
   ]
  },
  {
   "cell_type": "code",
   "execution_count": 15,
   "id": "e145a386-8d58-4be1-bc8c-b2c771704d5c",
   "metadata": {},
   "outputs": [
    {
     "name": "stdin",
     "output_type": "stream",
     "text": [
      " 75\n"
     ]
    },
    {
     "name": "stdout",
     "output_type": "stream",
     "text": [
      "-1\n"
     ]
    }
   ],
   "source": [
    "a = int(input())\n",
    "if a == 1:\n",
    "    print(a)\n",
    "else:\n",
    "    next_ = 1\n",
    "    prev = 0\n",
    "    count = 1\n",
    "    while next_ <= a:\n",
    "        if next_ == a:\n",
    "            print(count)\n",
    "            break\n",
    "        prev, next_ = next_, prev + next_\n",
    "        count += 1\n",
    "    else: \n",
    "        print(-1)"
   ]
  },
  {
   "cell_type": "markdown",
   "id": "8eb6c521-8fab-4b21-a8fb-24823af8bed4",
   "metadata": {},
   "source": [
    "### Задача «Максимальное число идущих подряд равных элементов»\n",
    "#### Условие\n",
    "Дана последовательность натуральных чисел, завершающаяся числом 0. Определите, какое наибольшее число подряд идущих элементов этой последовательности равны друг другу."
   ]
  },
  {
   "cell_type": "code",
   "execution_count": 17,
   "id": "3826ae78-4ae6-4d60-8d29-fee5992d5b95",
   "metadata": {},
   "outputs": [
    {
     "name": "stdin",
     "output_type": "stream",
     "text": [
      " 56\n",
      " 7\n",
      " 0\n"
     ]
    },
    {
     "name": "stdout",
     "output_type": "stream",
     "text": [
      "1\n"
     ]
    }
   ],
   "source": [
    "prev = -1\n",
    "curr_rep_len = 0\n",
    "max_rep_len = 0\n",
    "element = int(input())\n",
    "while element != 0:\n",
    "    if prev == element:\n",
    "        curr_rep_len += 1\n",
    "    else:\n",
    "        prev = element\n",
    "        max_rep_len = max(max_rep_len, curr_rep_len)\n",
    "        curr_rep_len = 1\n",
    "    element = int(input())\n",
    "max_rep_len = max(max_rep_len, curr_rep_len)\n",
    "print(max_rep_len)"
   ]
  },
  {
   "cell_type": "markdown",
   "id": "c77821cb-68c1-4a90-b67d-00e81778b402",
   "metadata": {},
   "source": [
    "### Задача «Стандартное отклонение»\n",
    "#### Условие\n",
    "Дана последовательность натуральных чисел $x1\n",
    ", x2\n",
    ", ..., xn$\n",
    ". Стандартным отклонением называется величина\n",
    "$$σ=(x1−s)2+(x2−s)2+…+(xn−s)2n−1$$\n",
    "где $s=x1+x2+…+xnn$\n",
    " — среднее арифметическое последовательности.\n",
    "\n",
    "Определите стандартное отклонение для данной последовательности натуральных чисел, завершающейся числом 0."
   ]
  },
  {
   "cell_type": "code",
   "execution_count": 18,
   "id": "15dab1e0-70f9-4653-8e45-f875e21af3e2",
   "metadata": {},
   "outputs": [
    {
     "name": "stdin",
     "output_type": "stream",
     "text": [
      " 6\n",
      " 7\n",
      " 8\n",
      " 5\n",
      " 0\n"
     ]
    },
    {
     "name": "stdout",
     "output_type": "stream",
     "text": [
      "1.2909944487358056\n"
     ]
    }
   ],
   "source": [
    "x = int(input())\n",
    "x_square = 0\n",
    "x_sum = 0\n",
    "n = 0\n",
    "while x != 0:\n",
    "    n += 1\n",
    "    x_square += x ** 2\n",
    "    x_sum += x\n",
    "    x = int(input())\n",
    "sigma = ((x_square - 2 / n * x_sum ** 2 + x_sum ** 2 / n) / (n - 1)) ** 0.5\n",
    "print(sigma)"
   ]
  }
 ],
 "metadata": {
  "kernelspec": {
   "display_name": "Python 3 (ipykernel)",
   "language": "python",
   "name": "python3"
  },
  "language_info": {
   "codemirror_mode": {
    "name": "ipython",
    "version": 3
   },
   "file_extension": ".py",
   "mimetype": "text/x-python",
   "name": "python",
   "nbconvert_exporter": "python",
   "pygments_lexer": "ipython3",
   "version": "3.9.12"
  }
 },
 "nbformat": 4,
 "nbformat_minor": 5
}
