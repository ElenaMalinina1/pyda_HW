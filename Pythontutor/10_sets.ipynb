{
 "cells": [
  {
   "cell_type": "markdown",
   "id": "335e9be7-4a28-4200-be22-b894e5fa6c2b",
   "metadata": {},
   "source": [
    "# Занятие 10. Множества\n",
    "### Задача «Количество различных чисел»\n",
    "#### Условие\n",
    "Дан список чисел. Определите, сколько в нем встречается различных чисел.\n",
    "\n",
    "Примечание. Эту задачу на Питоне можно решить в одну строчку."
   ]
  },
  {
   "cell_type": "code",
   "execution_count": 12,
   "id": "0992c712-80df-4ada-b32c-984dfbc6b894",
   "metadata": {},
   "outputs": [
    {
     "name": "stdin",
     "output_type": "stream",
     "text": [
      " 1 2 3 4 5 6 7 8 9 10\n"
     ]
    },
    {
     "name": "stdout",
     "output_type": "stream",
     "text": [
      "10\n"
     ]
    }
   ],
   "source": [
    "print(int(len(set(input().split()))))"
   ]
  },
  {
   "cell_type": "markdown",
   "id": "85964888-5599-41e1-8f8b-a10a56507dc6",
   "metadata": {},
   "source": [
    "### Задача «Количество совпадающих чисел»\n",
    "#### Условие\n",
    "Даны два списка чисел. Посчитайте, сколько чисел содержится одновременно как в первом списке, так и во втором.\n",
    "\n",
    "Примечание. Эту задачу на Питоне можно решить в одну строчку."
   ]
  },
  {
   "cell_type": "code",
   "execution_count": 68,
   "id": "bc9fe769-90a7-4ba5-9570-cb0400e19a36",
   "metadata": {},
   "outputs": [
    {
     "name": "stdin",
     "output_type": "stream",
     "text": [
      " 1 3 2\n",
      " 3 2 1\n"
     ]
    },
    {
     "name": "stdout",
     "output_type": "stream",
     "text": [
      "3\n"
     ]
    }
   ],
   "source": [
    "# a = set(input().split())\n",
    "# b = set(input().split())\n",
    "print(len(set(input().split()).intersection(set(input().split()))))"
   ]
  },
  {
   "cell_type": "markdown",
   "id": "ce577f40-432a-4555-8c73-d138d9199aa0",
   "metadata": {},
   "source": [
    "### Задача «Пересечение множеств»\n",
    "#### Условие\n",
    "Даны два списка чисел. Найдите все числа, которые входят как в первый, так и во второй список и выведите их в порядке возрастания.\n",
    "\n",
    "Примечание. И даже эту задачу на Питоне можно решить в одну строчку."
   ]
  },
  {
   "cell_type": "code",
   "execution_count": 78,
   "id": "5a0ba943-f728-4cb1-85d0-60ab704b6c5b",
   "metadata": {},
   "outputs": [
    {
     "name": "stdin",
     "output_type": "stream",
     "text": [
      " 1 2 3\n",
      " 3 2 1\n"
     ]
    },
    {
     "name": "stdout",
     "output_type": "stream",
     "text": [
      "1 2 3\n"
     ]
    }
   ],
   "source": [
    "# print(*sorted(set(input().split())).intersection(set(input().split()), key = int))\n",
    "\n",
    "a = set([int(x) for x in input().split()])\n",
    "b = set([int(x) for x in input().split()])\n",
    "c = (set(a.intersection(b)))\n",
    "\n",
    "c = list(c)\n",
    "c.sort()\n",
    "\n",
    "print(*c) #print(' '.join([str(i) for i in c]))"
   ]
  },
  {
   "cell_type": "markdown",
   "id": "4683382a-0153-40aa-8963-d72a7663173d",
   "metadata": {},
   "source": [
    "### Задача «Встречалось ли число раньше»\n",
    "#### Условие\n",
    "Во входной строке записана последовательность чисел через пробел. Для каждого числа выведите слово YES (в отдельной строке), если это число ранее встречалось в последовательности или NO, если не встречалось."
   ]
  },
  {
   "cell_type": "code",
   "execution_count": 81,
   "id": "cf41e946-a4c0-40ed-9268-d1f8875a198b",
   "metadata": {},
   "outputs": [
    {
     "name": "stdin",
     "output_type": "stream",
     "text": [
      " 1 2 3 2 3 4\n"
     ]
    },
    {
     "name": "stdout",
     "output_type": "stream",
     "text": [
      "YES\n",
      "YES\n",
      "YES\n",
      "NO\n",
      "NO\n",
      "YES\n"
     ]
    }
   ],
   "source": [
    "s = input().split()\n",
    "a = set()\n",
    "for elem in s:\n",
    "    if elem in a:\n",
    "        print('YES')\n",
    "    else:\n",
    "        print('NO')\n",
    "        a.add(elem)"
   ]
  },
  {
   "cell_type": "markdown",
   "id": "7d9348dc-4905-4a58-acd8-1b2dfdf431cc",
   "metadata": {},
   "source": [
    "### Задача «Кубики»\n",
    "#### Условие\n",
    "Аня и Боря любят играть в разноцветные кубики, причем у каждого из них свой набор и в каждом наборе все кубики различны по цвету. Однажды дети заинтересовались, сколько существуют цветов таких, что кубики каждого цвета присутствуют в обоих наборах. Для этого они занумеровали все цвета случайными числами от 0 до 108. На этом их энтузиазм иссяк, поэтому вам предлагается помочь им в оставшейся части.\n",
    "\n",
    "В первой строке входных данных записаны числа N и M — число кубиков у Ани и Бори. В следующих N строках заданы номера цветов кубиков Ани. В последних M строках номера цветов Бори.\n",
    "\n",
    "Найдите три множества: номера цветов кубиков, которые есть в обоих наборах; номера цветов кубиков, которые есть только у Ани и номера цветов кубиков, которые есть только у Бори. Для каждого из множеств выведите сначала количество элементов в нем, а затем сами элементы, отсортированные по возрастанию."
   ]
  },
  {
   "cell_type": "code",
   "execution_count": null,
   "id": "05eca292-7f9a-4e9c-b5bf-8a4cab97ce3c",
   "metadata": {},
   "outputs": [],
   "source": [
    "m, n = ([int(i) for i in input().split()])\n",
    "a, b = set(), set()\n",
    "for i in range(m):\n",
    "    a.add(int(input()))\n",
    "for e in range(n):\n",
    "    b.add(int(input()))\n",
    "    \n",
    "print(len(a.intersection(b)))\n",
    "print(*sorted(a.intersection(b)))\n",
    "print(len(a.difference(b)))\n",
    "print(*sorted(a.difference(b)))\n",
    "print(len(b.difference(a)))\n",
    "print(*sorted(b.difference(a)))"
   ]
  },
  {
   "cell_type": "markdown",
   "id": "34dab83c-5a33-4e5a-a9c3-38b5d6d3ba48",
   "metadata": {},
   "source": [
    "### Задача «Количество слов в тексте»\n",
    "#### Условие\n",
    "Дан текст: в первой строке записано число строк, далее идут сами строки. Определите, сколько различных слов содержится в этом тексте.\n",
    "\n",
    "Словом считается последовательность непробельных символов идущих подряд, слова разделены одним или большим числом пробелов или символами конца строки."
   ]
  },
  {
   "cell_type": "code",
   "execution_count": 117,
   "id": "44160ee6-1b47-4c42-9160-c0d00f0fa794",
   "metadata": {},
   "outputs": [
    {
     "name": "stdin",
     "output_type": "stream",
     "text": [
      " 3\n",
      " Not much chance, completely cut loose from purpose, He was a young man riding a bus through North Carolina on the way to somewhere. And it began to snow. And the bus stopped at a little cafe in the hills and the passengers entered. And he sat at the counter with the others, and he ordered, the food arrived. And the meal was particularly good. And the coffee. The waitress was unlike the women he had known. She was unaffected, and there was a natural humor which came from her. And the fry cook said crazy things. And the dishwasher in back laughed a good clean pleasant laugh. And the young man watched the snow through the window. And he wanted to stay in that cafe forever. The curious feeling swam through him that everything was beautiful there. And it would always stay beautiful there. And then the bus driver told the passengers that it was time to board. And the young man thought: “I’ll just stay here, I’ll just stay here.” And then he rose and he followed the others into the bus. He found his seat and looked at the cafe through the window. And then the bus moved off, down a curve, downward, out of the hills. And the young man looked straight forward. And he heard the other passengers speaking of other things, or they were reading or trying to sleep. And they hadn’t noticed the magic. And the young man put his head to one side, closed his eyes, and pretended to sleep. There was nothing else to do, just to listen to the sound of the engine, and the sound of the tires in the snow.\n"
     ]
    },
    {
     "name": "stdout",
     "output_type": "stream",
     "text": [
      "148\n"
     ]
    }
   ],
   "source": [
    "num = int(input())\n",
    "text = input()\n",
    "sets = set()\n",
    "for word in text.split():\n",
    "    sets.add(word)\n",
    "print(len(sets))\n",
    "\n",
    "# num = int(input())\n",
    "# text = set()\n",
    "\n",
    "# for word in input():\n",
    "#     text.update(set(input().split()))\n",
    "# print(len(text))"
   ]
  },
  {
   "cell_type": "markdown",
   "id": "eed741b8-91d4-4a2a-af64-7162a9439d3d",
   "metadata": {},
   "source": [
    "### Задача «Угадай число»\n",
    "#### Условие\n",
    "Август и Беатриса играют в игру. Август загадал натуральное число от 1 до n. Беатриса пытается угадать это число, для этого она называет некоторые множества натуральных чисел. Август отвечает Беатрисе YES, если среди названных ей чисел есть задуманное или NO в противном случае. После нескольких заданныъх вопросов Беатриса запуталась в том, какие вопросы она задавала и какие ответы получила и просит вас помочь ей определить, какие числа мог задумать Август.\n",
    "\n",
    "В первой строке задано n - максимальное число, которое мог загадать Август. Далее каждая строка содержит вопрос Беатрисы (множество чисел, разделенных пробелом) и ответ Августа на этот вопрос.\n",
    "\n",
    "Вы должны вывести через пробел, в порядке возрастания, все числа, которые мог задумать Август."
   ]
  },
  {
   "cell_type": "code",
   "execution_count": null,
   "id": "a0c77684-57bf-48ee-9bed-1e2329ff24ca",
   "metadata": {},
   "outputs": [],
   "source": [
    "n = int(input())\n",
    "a = [k for k in range(1, n + 1)]\n",
    "s = set(a)\n",
    "while True:\n",
    "    num = input()\n",
    "    if num == 'HELP':\n",
    "        break\n",
    "    answer = input()\n",
    "    if answer == 'NO':\n",
    "        s.difference_update(set(num.split()))\n",
    "    elif answer == 'YES':\n",
    "        s.intersection_update(set(num.split()))\n",
    "print(*s)"
   ]
  },
  {
   "cell_type": "markdown",
   "id": "0e4d4111-c148-473e-9f85-d9dd2372b8c0",
   "metadata": {},
   "source": [
    "### Задача «Угадай число - 2»\n",
    "#### Условие\n",
    "Август и Беатриса продолжают играть в игру, но Август начал жульничать. На каждый из вопросов Беатрисы он выбирает такой вариант ответа YES или NO, чтобы множество возможных задуманных чисел оставалось как можно больше. Например, если Август задумал число от 1 до 5, а Беатриса спросила про числа 1 и 2, то Август ответит NO, а если Беатриса спросит про 1, 2, 3, то Август ответит YES.\n",
    "\n",
    "Если же Бетриса в своем вопросе перечисляет ровно половину из задуманных чисел, то Август из вредности всегда отвечает NO. Наконец, Август при ответе учитывает все предыдущие вопросы Беатрисы и свои ответы на них, то есть множество возможных задуманных чисел уменьшается.\n",
    "\n",
    "Первая строка содержит наибольшее число, которое мог загадать Август. Каждая следующая строка содержит очередной вопрос Беатрисы: набор чисел, разделенных пробелами. Последняя строка входных данных содержит одно слово HELP.\n",
    "\n",
    "Для каждого вопроса Беатрисы выведите ответ Августа на этот вопрос. После этого выведите через пробел, в порядке возрастания, все числа, которые мог загадать Август после ответа на все вопросы Беатрисы."
   ]
  },
  {
   "cell_type": "code",
   "execution_count": null,
   "id": "d9ab9879-d2a0-4f24-a381-5bf64f1e9ec5",
   "metadata": {},
   "outputs": [],
   "source": [
    "n = int(input())\n",
    "all_nums = set(range(1, n + 1))\n",
    "\n",
    "while True:\n",
    "    possible = input()\n",
    "    if possible == 'HELP':\n",
    "        break\n",
    "    possible = set(int(x) for x in possible.split())\n",
    "    if len(all_nums.intersection(possible)) > len(all_nums) / 2:\n",
    "        print('YES')\n",
    "        all_nums.intersection_update(possible)\n",
    "    else:\n",
    "        print('NO')\n",
    "        all_nums.intersection_update(all_nums - possible)\n",
    "        \n",
    "print(*all_nums)"
   ]
  },
  {
   "cell_type": "markdown",
   "id": "7d0e3089-6de5-4e98-a176-c5214f0911d8",
   "metadata": {},
   "source": [
    "### Задача «Полиглоты»\n",
    "#### Условие\n",
    "Каждый из некоторого множества школьников некоторой школы знает некоторое количество языков. Нужно определить сколько языков знают все школьники, и сколько языков знает хотя бы один из школьников.\n",
    "\n",
    "В первой строке задано количество школьников. Для каждого из школьников сперва записано количество языков, которое он знает, а затем - названия языков, по одному в строке.\n",
    "\n",
    "В первой строке выведите количество языков, которые знают все школьники. Начиная со второй строки - список таких языков. Затем - количество языков, которые знает хотя бы один школьник, на следующих строках - список таких языков. Языки нужно выводить в лексикографическом порядке, по одному на строке."
   ]
  },
  {
   "cell_type": "code",
   "execution_count": null,
   "id": "21ace78f-6e90-42b5-96ca-44aecb154bdd",
   "metadata": {},
   "outputs": [],
   "source": [
    "n = int(input())\n",
    "language = []\n",
    "\n",
    "for i in range(n):\n",
    "    count_lan = int(input())\n",
    "    buff = set()\n",
    "    for r in range(count_lan):\n",
    "        buff.add(input())\n",
    "    language.append(buff)\n",
    "\n",
    "uni = set.union(*language)\n",
    "intersec = set.intersection(*language)\n",
    "\n",
    "print(len(intersec), '\\n'.join(sorted(intersec)), len(unic), '\\n'.join(sorted(unic)), sep='\\n')"
   ]
  },
  {
   "cell_type": "markdown",
   "id": "8f40f89b-78ef-4701-9498-6ebc3e6d8fc2",
   "metadata": {},
   "source": [
    "### Задача «Забастовки»\n",
    "#### Условие\n",
    "Политическая жизнь одной страны очень оживленная. В стране действует K политических партий, каждая из которых регулярно объявляет национальную забастовку. Дни, когда хотя бы одна из партий объявляет забастовку, при условии, что это не суббота или воскресенье (когда и так никто не работает), наносят большой ущерб экономике страны.\n",
    "\n",
    "i-я партия объявляет забастовки строго каждые b_i дней, начиная с дня с номером a_i. То есть i-я партия объявляет забастовки в дни a_i, a_i + b_i, a_i + 2 * b_i и т.д. Если в какой-то день несколько партий объявляет забастовку, то это считается одной общенациональной забастовкой.\n",
    "\n",
    "В календаре страны N дней, пронумерованных, начиная с единицы. Первый день года является понедельником, шестой и седьмой дни года — выходные, неделя состоит из семи дней.\n",
    "\n",
    "В первой строке даны числа N и K. Далее идет K строк, описывающие графики проведения забастовок. i-я строка содержит числа a_i и b_i. Вам нужно определить число забастовок, произошедших в этой стране в течении года."
   ]
  },
  {
   "cell_type": "code",
   "execution_count": null,
   "id": "6e90dedb-737c-4be6-ae56-5facf62442e4",
   "metadata": {},
   "outputs": [],
   "source": [
    "# N, K = [int(i) for i in input().split()]\n",
    "# strikes = [[int(i) for i in input().split()] for i in range(K)]\n",
    "\n",
    "# day_strike = set()\n",
    "\n",
    "# for i in range(K):\n",
    "#     for j in range(strikes[i][0], N+1, strikes[i][1]):\n",
    "#         if j % 7 != 0 and j % 7 != 6:\n",
    "#             day_strike.add(j)\n",
    "# print(len(day_strike))\n",
    "\n",
    "N, K = [int(i) for i in input().split()]\n",
    "strikes = set()\n",
    "for i in range(K):\n",
    "    C, D = [int(i) for i in input().split()]\n",
    "    for j in range(C, N + 1, K):\n",
    "        z = z|{j}\n",
    "for i in range (6, N + 1,7):\n",
    "    z-={i}\n",
    "for i in range (7, N + 1 ,7):\n",
    "    z-={i}\n",
    "print(len(z))"
   ]
  }
 ],
 "metadata": {
  "kernelspec": {
   "display_name": "Python 3 (ipykernel)",
   "language": "python",
   "name": "python3"
  },
  "language_info": {
   "codemirror_mode": {
    "name": "ipython",
    "version": 3
   },
   "file_extension": ".py",
   "mimetype": "text/x-python",
   "name": "python",
   "nbconvert_exporter": "python",
   "pygments_lexer": "ipython3",
   "version": "3.9.12"
  }
 },
 "nbformat": 4,
 "nbformat_minor": 5
}
