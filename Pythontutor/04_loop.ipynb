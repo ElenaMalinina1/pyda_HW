{
 "cells": [
  {
   "cell_type": "markdown",
   "id": "0dae53e3-be7c-460c-a04b-409b3067810f",
   "metadata": {},
   "source": [
    "## Занятие 4. Цикл for\n",
    "### Задача «Ряд - 1»\n",
    "### Условие\n",
    "Даны два целых числа $A$ и $B$ (при этом $A$ ≤ $B$). Выведите все числа от $A$ до $B$ включительно."
   ]
  },
  {
   "cell_type": "code",
   "execution_count": 7,
   "id": "bad23f1f-f5ab-4a3b-9ea5-20f90aa687e1",
   "metadata": {},
   "outputs": [
    {
     "name": "stdin",
     "output_type": "stream",
     "text": [
      " 4\n",
      " 54\n"
     ]
    },
    {
     "name": "stdout",
     "output_type": "stream",
     "text": [
      "4\n",
      "5\n",
      "6\n",
      "7\n",
      "8\n",
      "9\n",
      "10\n",
      "11\n",
      "12\n",
      "13\n",
      "14\n",
      "15\n",
      "16\n",
      "17\n",
      "18\n",
      "19\n",
      "20\n",
      "21\n",
      "22\n",
      "23\n",
      "24\n",
      "25\n",
      "26\n",
      "27\n",
      "28\n",
      "29\n",
      "30\n",
      "31\n",
      "32\n",
      "33\n",
      "34\n",
      "35\n",
      "36\n",
      "37\n",
      "38\n",
      "39\n",
      "40\n",
      "41\n",
      "42\n",
      "43\n",
      "44\n",
      "45\n",
      "46\n",
      "47\n",
      "48\n",
      "49\n",
      "50\n",
      "51\n",
      "52\n",
      "53\n",
      "54\n"
     ]
    }
   ],
   "source": [
    "A = int(input())\n",
    "B = int(input())\n",
    "step = B + A\n",
    "\n",
    "for i in range(A, B + 1):\n",
    "    print(i)"
   ]
  },
  {
   "cell_type": "markdown",
   "id": "c79cdd75-32a2-410a-b348-7d1afa5995bb",
   "metadata": {},
   "source": [
    "### Задача «Ряд - 2»\n",
    "### Условие\n",
    "Даны два целых числа $A$ и $В$. Выведите все числа от $A$ до $B$ включительно, в порядке возрастания, если $A$ < $B$, или в порядке убывания в противном случае."
   ]
  },
  {
   "cell_type": "code",
   "execution_count": 8,
   "id": "3c20e6a2-de53-4c47-881c-e23501daa004",
   "metadata": {},
   "outputs": [
    {
     "name": "stdin",
     "output_type": "stream",
     "text": [
      " 34\n",
      " 3\n"
     ]
    },
    {
     "name": "stdout",
     "output_type": "stream",
     "text": [
      "34\n",
      "33\n",
      "32\n",
      "31\n",
      "30\n",
      "29\n",
      "28\n",
      "27\n",
      "26\n",
      "25\n",
      "24\n",
      "23\n",
      "22\n",
      "21\n",
      "20\n",
      "19\n",
      "18\n",
      "17\n",
      "16\n",
      "15\n",
      "14\n",
      "13\n",
      "12\n",
      "11\n",
      "10\n",
      "9\n",
      "8\n",
      "7\n",
      "6\n",
      "5\n",
      "4\n",
      "3\n"
     ]
    }
   ],
   "source": [
    "a = int(input())\n",
    "b = int(input())\n",
    "\n",
    "if a < b:\n",
    "    for i in range(a, b + 1):\n",
    "        print(i)\n",
    "        \n",
    "else:\n",
    "    for i in range(a, b - 1, - 1):\n",
    "        print(i)"
   ]
  },
  {
   "cell_type": "markdown",
   "id": "84899250-288c-405e-b81f-097e9b50284b",
   "metadata": {},
   "source": [
    "### Задача «Ряд - 3»\n",
    "### Условие\n",
    "Даны два целых числа $A$ и $В$, $A$>$B$\n",
    ". Выведите все нечётные числа от $A$ до $B$ включительно, в порядке убывания. В этой задаче можно обойтись без инструкции if."
   ]
  },
  {
   "cell_type": "code",
   "execution_count": 9,
   "id": "89718961-6f94-46a6-bf4d-1e0317aaed57",
   "metadata": {},
   "outputs": [
    {
     "name": "stdin",
     "output_type": "stream",
     "text": [
      " 23\n",
      " 1\n"
     ]
    },
    {
     "name": "stdout",
     "output_type": "stream",
     "text": [
      "23\n",
      "21\n",
      "19\n",
      "17\n",
      "15\n",
      "13\n",
      "11\n",
      "9\n",
      "7\n",
      "5\n",
      "3\n",
      "1\n"
     ]
    }
   ],
   "source": [
    "a, b = [int(input()) for i in range(2)]\n",
    "\n",
    "for i in range(a + a % 2 - 1, b - 1, -2):\n",
    "    print(i)"
   ]
  },
  {
   "cell_type": "markdown",
   "id": "61fabde0-2e35-4d6e-944a-7708ad8bd485",
   "metadata": {},
   "source": [
    "### Задача «Сумма десяти чисел»\n",
    "### Условие\n",
    "Дано 10 целых чисел. Вычислите их сумму. Напишите программу, использующую наименьшее число переменных."
   ]
  },
  {
   "cell_type": "code",
   "execution_count": 10,
   "id": "754600b7-8bf4-4da3-b436-d04168be05f8",
   "metadata": {},
   "outputs": [
    {
     "name": "stdin",
     "output_type": "stream",
     "text": [
      " 4\n",
      " 32\n",
      " 1\n",
      " 1\n",
      " 4\n",
      " 32\n",
      " 1\n",
      " 4\n",
      " 2\n",
      " 2\n"
     ]
    },
    {
     "name": "stdout",
     "output_type": "stream",
     "text": [
      "83\n"
     ]
    }
   ],
   "source": [
    "sum = 0\n",
    "n = [int(input()) for i in range(10)]\n",
    "\n",
    "for i in n:\n",
    "    sum+=i\n",
    "print(sum)"
   ]
  },
  {
   "cell_type": "markdown",
   "id": "82aeb9e0-65cd-4d0f-9f21-51d649818755",
   "metadata": {},
   "source": [
    "### Задача «Сумма N чисел»\n",
    "### Условие\n",
    "Дано несколько чисел. Вычислите их сумму. Сначала вводите количество чисел $N$, затем вводится ровно N целых чисел. Какое наименьшее число переменных нужно для решения этой задачи?"
   ]
  },
  {
   "cell_type": "code",
   "execution_count": 11,
   "id": "d71d7adf-8a6c-42db-b867-66f495ac36c9",
   "metadata": {},
   "outputs": [
    {
     "name": "stdin",
     "output_type": "stream",
     "text": [
      " 2\n",
      " 34\n",
      " 1\n"
     ]
    },
    {
     "name": "stdout",
     "output_type": "stream",
     "text": [
      "35\n"
     ]
    }
   ],
   "source": [
    "n = int(input())\n",
    "sum = 0\n",
    "for i in range(n):\n",
    "    sum += int(input())\n",
    "print(sum)"
   ]
  },
  {
   "cell_type": "markdown",
   "id": "a1e71317-1429-4ac2-8342-f173a9ecf42e",
   "metadata": {},
   "source": [
    "### Задача «Сумма кубов»\n",
    "### Условие\n",
    "По данному натуральному n вычислите сумму $1^3+2^3+3^3+...+n^3$."
   ]
  },
  {
   "cell_type": "code",
   "execution_count": 13,
   "id": "35b27e52-c5db-4249-8793-e270f0ea3efc",
   "metadata": {},
   "outputs": [
    {
     "name": "stdin",
     "output_type": "stream",
     "text": [
      " 2\n"
     ]
    },
    {
     "name": "stdout",
     "output_type": "stream",
     "text": [
      "9\n"
     ]
    }
   ],
   "source": [
    "n = int(input())\n",
    "sum = 0\n",
    "for i in range(1, n + 1):\n",
    "    sum += i ** 3\n",
    "print(sum)"
   ]
  },
  {
   "cell_type": "markdown",
   "id": "3a25aa91-f7c8-4dd7-bd84-0c801a1f7ffd",
   "metadata": {},
   "source": [
    "### Задача «Факториал»\n",
    "### Условие\n",
    "Факториалом числа n называется произведение $1 * 2 *  ...  *  n$. Обозначение: $n!$.\n",
    "По данному натуральному n вычислите значение $n!$. Пользоваться математической библиотекой math в этой задаче запрещено."
   ]
  },
  {
   "cell_type": "code",
   "execution_count": 14,
   "id": "af38a49f-785e-432a-b37f-72ba3253c012",
   "metadata": {},
   "outputs": [
    {
     "name": "stdin",
     "output_type": "stream",
     "text": [
      " 4\n"
     ]
    },
    {
     "name": "stdout",
     "output_type": "stream",
     "text": [
      "24\n"
     ]
    }
   ],
   "source": [
    "n = int(input())\n",
    "sum = 1\n",
    "\n",
    "for i in range(1, n + 1):\n",
    "    sum *= i\n",
    "print(sum)"
   ]
  },
  {
   "cell_type": "markdown",
   "id": "bb89da70-31ec-4a04-a59c-a2f4e3539bb7",
   "metadata": {},
   "source": [
    "### Задача «Сумма факториалов»\n",
    "### Условие\n",
    "По данному натуральном $n$\n",
    " вычислите сумму $1!+2!+3!+...+n!$\n",
    ". В решении этой задачи можно использовать только один цикл. Пользоваться математической библиотекой math в этой задаче запрещено."
   ]
  },
  {
   "cell_type": "code",
   "execution_count": 16,
   "id": "d2d3af2a-48a8-4686-9f8e-2afa3e7b68ca",
   "metadata": {},
   "outputs": [
    {
     "name": "stdin",
     "output_type": "stream",
     "text": [
      " 5\n"
     ]
    },
    {
     "name": "stdout",
     "output_type": "stream",
     "text": [
      "153\n"
     ]
    }
   ],
   "source": [
    "n = int(input())\n",
    "\n",
    "fac = 1\n",
    "sum = 0\n",
    "\n",
    "for i in range(1, n + 1):\n",
    "    fac *= i\n",
    "    sum += fac\n",
    "print(sum)"
   ]
  },
  {
   "cell_type": "markdown",
   "id": "191610a3-cfa4-4ab2-8ca8-0e0cff6410c5",
   "metadata": {},
   "source": [
    "### Задача «Количество нулей»\n",
    "### Условие\n",
    "Дано $N$ чисел: сначала вводится число $N$, затем вводится ровно $N$ целых чисел. Подсчитайте количество нулей среди введенных чисел и выведите это количество. Вам нужно подсчитать количество чисел, равных нулю, а не количество цифр."
   ]
  },
  {
   "cell_type": "code",
   "execution_count": 19,
   "id": "b3500e94-47cc-4ce6-8dbd-accb5f12ee74",
   "metadata": {},
   "outputs": [
    {
     "name": "stdin",
     "output_type": "stream",
     "text": [
      " 4\n",
      " 6\n",
      " 3\n",
      " 0\n",
      " 5\n"
     ]
    },
    {
     "name": "stdout",
     "output_type": "stream",
     "text": [
      "1\n"
     ]
    }
   ],
   "source": [
    "n = int(input())\n",
    "sum_n = 0\n",
    "\n",
    "for i in range(n):\n",
    "    if int(input()) == 0:\n",
    "        sum_n += 1\n",
    "print(sum_n)"
   ]
  },
  {
   "cell_type": "markdown",
   "id": "40d9b72e-b550-4e2e-af9d-cc8505f6acac",
   "metadata": {},
   "source": [
    "### Задача «Лесенка»\n",
    "### Условие\n",
    "По данному натуральному $n ≤ 9$ выведите лесенку из $n$ ступенек, i-я ступенька состоит из чисел от 1 до i без пробелов."
   ]
  },
  {
   "cell_type": "code",
   "execution_count": 21,
   "id": "e7b63206-7f34-42ae-ae50-b65c7dfb1a3f",
   "metadata": {},
   "outputs": [
    {
     "name": "stdin",
     "output_type": "stream",
     "text": [
      " 4\n"
     ]
    },
    {
     "name": "stdout",
     "output_type": "stream",
     "text": [
      "1\n",
      "12\n",
      "123\n",
      "1234\n"
     ]
    }
   ],
   "source": [
    "n = int(input())\n",
    "t = i=1\n",
    "for i in range(1, n + 1):\n",
    "    for t in range(1, i +1):\n",
    "        print(t, sep = '', end = '')\n",
    "    print()"
   ]
  },
  {
   "cell_type": "markdown",
   "id": "a2cbaaa4-926f-4317-926f-cd3012487721",
   "metadata": {},
   "source": [
    "### Задача «Потерянная карточка»\n",
    "### Условие\n",
    "Для настольной игры используются карточки с номерами от 1 до N. Одна карточка потерялась. Найдите ее, зная номера оставшихся карточек.\n",
    "Дано число $N$, далее N − 1 номер оставшихся карточек (различные числа от 1 до N). Программа должна вывести номер потерянной карточки.\n",
    "\n",
    "Для самых умных: массивами и аналогичными структурами данных пользоваться нельзя."
   ]
  },
  {
   "cell_type": "code",
   "execution_count": 22,
   "id": "f7d4fa4b-fabc-40d7-b0a7-811ecedc70e2",
   "metadata": {},
   "outputs": [
    {
     "name": "stdin",
     "output_type": "stream",
     "text": [
      " 4\n",
      " 7\n",
      " 8\n",
      " 9\n"
     ]
    },
    {
     "name": "stdout",
     "output_type": "stream",
     "text": [
      "-14\n"
     ]
    }
   ],
   "source": [
    "n = int(input())\n",
    "sum = 0\n",
    "for i in range(1, n + 1):\n",
    "    sum += i\n",
    "# можно доказать формулу:\n",
    "# sum == n * (n + 1) // 2\n",
    "# но мы посчитаем это значение циклом\n",
    "for i in range(n - 1):\n",
    "    sum -= int(input())\n",
    "print(sum)"
   ]
  }
 ],
 "metadata": {
  "kernelspec": {
   "display_name": "Python 3 (ipykernel)",
   "language": "python",
   "name": "python3"
  },
  "language_info": {
   "codemirror_mode": {
    "name": "ipython",
    "version": 3
   },
   "file_extension": ".py",
   "mimetype": "text/x-python",
   "name": "python",
   "nbconvert_exporter": "python",
   "pygments_lexer": "ipython3",
   "version": "3.9.12"
  }
 },
 "nbformat": 4,
 "nbformat_minor": 5
}
