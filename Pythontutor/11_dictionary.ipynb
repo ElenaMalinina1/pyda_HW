{
 "cells": [
  {
   "cell_type": "markdown",
   "id": "11af28e9-98d8-4d9a-93ab-6f1f47b248b2",
   "metadata": {},
   "source": [
    "# Занятие 11. Словари\n",
    "### Задача «Номер появления слова»\n",
    "#### Условие\n",
    "В единственной строке записан текст. Для каждого слова из данного текста подсчитайте, сколько раз оно встречалось в этом тексте ранее.\n",
    "\n",
    "Словом считается последовательность непробельных символов идущих подряд, слова разделены одним или большим числом пробелов или символами конца строки."
   ]
  },
  {
   "cell_type": "code",
   "execution_count": 40,
   "id": "cc6b8941-cc3a-4d0e-b5be-b311e1a7164d",
   "metadata": {},
   "outputs": [
    {
     "name": "stdin",
     "output_type": "stream",
     "text": [
      " one two one tho three\n"
     ]
    },
    {
     "name": "stdout",
     "output_type": "stream",
     "text": [
      "0 0 1 0 0 "
     ]
    }
   ],
   "source": [
    "string = input().split()\n",
    "dictionary = dict()\n",
    "for word in string:\n",
    "    if word not in dictionary:\n",
    "        dictionary[word] = 0\n",
    "    else:\n",
    "        dictionary[word] += 1\n",
    "    print(dictionary[word], end = ' ')"
   ]
  },
  {
   "cell_type": "markdown",
   "id": "61519d22-b1b1-4cff-bdfc-a03338d0a851",
   "metadata": {},
   "source": [
    "### Задача «Словарь синонимов»\n",
    "#### Условие\n",
    "Вам дан словарь, состоящий из пар слов. Каждое слово является синонимом к парному ему слову. Все слова в словаре различны.\n",
    "\n",
    "Для слова из словаря, записанного в последней строке, определите его синоним."
   ]
  },
  {
   "cell_type": "code",
   "execution_count": 9,
   "id": "2f506389-ac63-4b0f-b83b-e42a26448cae",
   "metadata": {},
   "outputs": [
    {
     "name": "stdin",
     "output_type": "stream",
     "text": [
      " 3\n",
      " Hello Hi\n",
      " Bye Goodbye\n",
      " List Array\n",
      " Goodbye\n"
     ]
    },
    {
     "name": "stdout",
     "output_type": "stream",
     "text": [
      "Bye\n"
     ]
    }
   ],
   "source": [
    "num = int(input())\n",
    "dictionary = {}\n",
    "for word in range(num):\n",
    "    word = input().split()\n",
    "    dictionary[word[0]] = word[1]\n",
    "# print(dictionary)\n",
    "words = input()\n",
    "for key, value in dictionary.items():\n",
    "    if key == words:\n",
    "        print(dictionary[key])\n",
    "    else:\n",
    "        if dictionary[key] == words:\n",
    "            print(key)"
   ]
  },
  {
   "cell_type": "markdown",
   "id": "a578a09f-0903-4b1e-8eb0-e8b8982b7fba",
   "metadata": {},
   "source": [
    "### Задача «Выборы в США»\n",
    "#### Условие\n",
    "Как известно, в США президент выбирается не прямым голосованием, а путем двухуровневого голосования. Сначала проводятся выборы в каждом штате и определяется победитель выборов в данном штате. Затем проводятся государственные выборы: на этих выборах каждый штат имеет определенное число голосов — число выборщиков от этого штата. На практике, все выборщики от штата голосуют в соответствии с результами голосования внутри штата, то есть на заключительной стадии выборов в голосовании участвуют штаты, имеющие различное число голосов.\n",
    "\n",
    "В первой строке дано количество записей. Далее, каждая запись содержит фамилию кандидата и число голосов, отданных за него в одном из штатов. Подведите итоги выборов: для каждого из участника голосования определите число отданных за него голосов. Участников нужно выводить в алфавитном порядке."
   ]
  },
  {
   "cell_type": "code",
   "execution_count": 10,
   "id": "70d6292a-1f14-4f4b-a5bd-800c62b5bd63",
   "metadata": {},
   "outputs": [
    {
     "name": "stdin",
     "output_type": "stream",
     "text": [
      " 5\n",
      " McCain 10\n",
      " McCain 5\n",
      " Obama 9\n",
      " Obama 8\n",
      " McCain 1\n"
     ]
    },
    {
     "name": "stdout",
     "output_type": "stream",
     "text": [
      "McCain 16\n",
      "Obama 17\n"
     ]
    }
   ],
   "source": [
    "num = int(input())\n",
    "dictionary = {}\n",
    "for president in range(num):\n",
    "    key, value = input().split()\n",
    "    if key in dictionary:\n",
    "        dictionary[key] += int(value)\n",
    "    else:\n",
    "        dictionary[key] = int(value)\n",
    "    #print(key, value)\n",
    "for key, value in sorted(dictionary.items()):\n",
    "    print(key, value)"
   ]
  },
  {
   "cell_type": "markdown",
   "id": "85f36f92-3074-48ef-b0f7-41fa4ee3f420",
   "metadata": {},
   "source": [
    "### Задача «Самое частое слово»\n",
    "#### Условие\n",
    "Дан текст: в первой строке задано число строк, далее идут сами строки. Выведите слово, которое в этом тексте встречается чаще всего. Если таких слов несколько, выведите то, которое меньше в лексикографическом порядке."
   ]
  },
  {
   "cell_type": "code",
   "execution_count": 11,
   "id": "43a09bf6-9ff3-4917-b974-d567f076008f",
   "metadata": {},
   "outputs": [
    {
     "name": "stdin",
     "output_type": "stream",
     "text": [
      " 1\n",
      " apple orange banana banana orange\n"
     ]
    },
    {
     "name": "stdout",
     "output_type": "stream",
     "text": [
      "banana\n"
     ]
    }
   ],
   "source": [
    "num = int(input())\n",
    "max_ = 0\n",
    "dictionary = {}\n",
    "for i in range(num):\n",
    "    for word in input().split():\n",
    "        if word in dictionary:\n",
    "            dictionary[word] += 1\n",
    "        else:\n",
    "            dictionary[word] = 1\n",
    "        if dictionary[word] > max_:\n",
    "            max_ = dictionary[word]\n",
    "   # print(dictionary)\n",
    "for key, value in sorted(dictionary.items()):\n",
    "    if value == max_:\n",
    "        print(key)\n",
    "        break"
   ]
  },
  {
   "cell_type": "markdown",
   "id": "eef92c04-dc18-4400-943c-5338b0adfb41",
   "metadata": {},
   "source": [
    "### Задача «Права доступа»\n",
    "#### Условие\n",
    "В файловую систему одного суперкомпьютера проник вирус, который сломал контроль за правами доступа к файлам. Для каждого файла известно, с какими действиями можно к нему обращаться:\n",
    "\n",
    "- запись W,\n",
    "- чтение R,\n",
    "- запуск X.\n",
    "\n",
    "В первой строке содержится число N — количество файлов содержащихся в данной файловой системе. В следующих N строчках содержатся имена файлов и допустимых с ними операций, разделенные пробелами. Далее указано чиcло M — количество запросов к файлам. В последних M строках указан запрос вида Операция Файл. К одному и тому же файлу может быть применено любое колличество запросов.\n",
    "\n",
    "Вам требуется восстановить контроль над правами доступа к файлам (ваша программа для каждого запроса должна будет возвращать OK если над файлом выполняется допустимая операция, или же Access denied, если операция недопустима."
   ]
  },
  {
   "cell_type": "code",
   "execution_count": 12,
   "id": "b994f1d9-1d32-4a67-9327-dcab06138b55",
   "metadata": {},
   "outputs": [
    {
     "name": "stdin",
     "output_type": "stream",
     "text": [
      " 4\n",
      " helloworld.exe R X\n",
      " pinglog W R\n",
      " nya R\n",
      " goodluck X W R\n",
      " 5\n",
      " read nya\n"
     ]
    },
    {
     "name": "stdout",
     "output_type": "stream",
     "text": [
      "OK\n"
     ]
    },
    {
     "name": "stdin",
     "output_type": "stream",
     "text": [
      " write helloworld.exe\n"
     ]
    },
    {
     "name": "stdout",
     "output_type": "stream",
     "text": [
      "Access denied\n"
     ]
    },
    {
     "name": "stdin",
     "output_type": "stream",
     "text": [
      " execute nya\n"
     ]
    },
    {
     "name": "stdout",
     "output_type": "stream",
     "text": [
      "Access denied\n"
     ]
    },
    {
     "name": "stdin",
     "output_type": "stream",
     "text": [
      " read pinglog\n"
     ]
    },
    {
     "name": "stdout",
     "output_type": "stream",
     "text": [
      "OK\n"
     ]
    },
    {
     "name": "stdin",
     "output_type": "stream",
     "text": [
      " write pinglog\n"
     ]
    },
    {
     "name": "stdout",
     "output_type": "stream",
     "text": [
      "OK\n"
     ]
    }
   ],
   "source": [
    "dictionary = {}\n",
    "num = int(input())\n",
    "for i in range(num):\n",
    "    log = input().split()\n",
    "    dictionary[log[0]] = set(log[1:])\n",
    "    # print(dictionary)\n",
    "for i in range(int(input())): # M\n",
    "    operation, file = input().split()\n",
    "    if operation == 'read':\n",
    "        operation = 'R'\n",
    "    if operation == 'write':\n",
    "        operation = 'W'\n",
    "    if operation == 'execute':\n",
    "        operation = 'X'\n",
    "    if operation in dictionary[file]:\n",
    "        print('OK')\n",
    "    else:\n",
    "        print('Access denied')"
   ]
  },
  {
   "cell_type": "markdown",
   "id": "782ae544-e951-472b-99df-e86f002158d2",
   "metadata": {},
   "source": [
    "### Задача «Частотный анализ»\n",
    "#### Условие\n",
    "Дан текст: в первой строке записано количество строк в тексте, а затем сами строки. Выведите все слова, встречающиеся в тексте, по одному на каждую строку. Слова должны быть отсортированы по убыванию их количества появления в тексте, а при одинаковой частоте появления — в лексикографическом порядке.\n",
    "\n",
    "Указание. После того, как вы создадите словарь всех слов, вам захочется отсортировать его по частоте встречаемости слова. Желаемого можно добиться, если создать список, элементами которого будут кортежи из двух элементов: частота встречаемости слова и само слово. Например, [(2, 'hi'), (1, 'what'), (3, 'is')]. Тогда стандартная сортировка будет сортировать список кортежей, при этом кортежи сравниваются по первому элементу, а если они равны — то по второму. Это почти то, что требуется в задаче."
   ]
  },
  {
   "cell_type": "code",
   "execution_count": 13,
   "id": "9c79837b-7b22-4052-82a2-1e9495f754dd",
   "metadata": {},
   "outputs": [
    {
     "name": "stdin",
     "output_type": "stream",
     "text": [
      " 9\n",
      " hi\n",
      " hi\n",
      " what is your name\n",
      " my name is bond\n",
      " james bond\n",
      " my name is damme\n",
      " van damme\n",
      " claude van damme\n",
      " jean claude van damme\n"
     ]
    },
    {
     "name": "stdout",
     "output_type": "stream",
     "text": [
      "damme\n",
      "is\n",
      "name\n",
      "van\n",
      "bond\n",
      "claude\n",
      "hi\n",
      "my\n",
      "james\n",
      "jean\n",
      "what\n",
      "your\n"
     ]
    }
   ],
   "source": [
    "counter = {}\n",
    "for _ in range(int(input())):\n",
    "    line = input().split()\n",
    "    for word in line:\n",
    "        counter[word] = counter.get(word, 0) + 1\n",
    "\n",
    "for word in sorted(counter.items(), key=lambda x:(-x[1], x[0])): \n",
    "    print(word[0])"
   ]
  },
  {
   "cell_type": "code",
   "execution_count": 14,
   "id": "20c91bc8-9c3d-45ab-98dd-b61aadee3c82",
   "metadata": {},
   "outputs": [
    {
     "ename": "SyntaxError",
     "evalue": "unexpected character after line continuation character (3502132651.py, line 1)",
     "output_type": "error",
     "traceback": [
      "\u001b[1;36m  Input \u001b[1;32mIn [14]\u001b[1;36m\u001b[0m\n\u001b[1;33m    \\binom{a}{3}\u001b[0m\n\u001b[1;37m     ^\u001b[0m\n\u001b[1;31mSyntaxError\u001b[0m\u001b[1;31m:\u001b[0m unexpected character after line continuation character\n"
     ]
    }
   ],
   "source": [
    "\\binom{a}{3}"
   ]
  },
  {
   "cell_type": "markdown",
   "id": "920c9fc5-84e0-48d1-ab1b-52797141fcd9",
   "metadata": {},
   "source": [
    "Обозначим количество четных чисел, которые написал Вася, как $a$, а количество чисел, делящихся на 3, как $b$. Тогда $a+b$ - это количество всех чисел, которые написал Вася. \n",
    "\n",
    "Так как часть чисел делятся на 2, а другая часть на 3, то $a$ и $b$ не пересекаются, то есть $a$ четно, а $b$ нечетно. \n",
    "\n",
    "Количество способов выбрать три числа так, чтобы среди них было как минимум одно четное и как минимум одно, делящееся на 3, равно сумме количества способов выбрать три четных числа и количества способов выбрать три числа, не делящихся на 2 или 3 (это будет количество способов выбрать три кратных 6 чисел). \n",
    "\n",
    "Количество способов выбрать три четных числа равно $\\binom{a}{3}$, а количество способов выбрать три числа, не делящихся на 2 или 3, равно $\\binom{b}{3}$. Таким образом, имеем уравнение: \n",
    "\n",
    "$$\\binom{a}{3} + \\binom{b}{3} = 25$$ \n",
    "\n",
    "Перебором можно убедиться, что для такого уравнения единственное решение - $a=4$, $b=5$. Значит, Вася написал $a+b=9$ чисел."
   ]
  },
  {
   "cell_type": "code",
   "execution_count": null,
   "id": "47829110-ee13-45fa-9bbd-f904f989f807",
   "metadata": {},
   "outputs": [],
   "source": []
  }
 ],
 "metadata": {
  "kernelspec": {
   "display_name": "Python 3 (ipykernel)",
   "language": "python",
   "name": "python3"
  },
  "language_info": {
   "codemirror_mode": {
    "name": "ipython",
    "version": 3
   },
   "file_extension": ".py",
   "mimetype": "text/x-python",
   "name": "python",
   "nbconvert_exporter": "python",
   "pygments_lexer": "ipython3",
   "version": "3.9.12"
  }
 },
 "nbformat": 4,
 "nbformat_minor": 5
}
