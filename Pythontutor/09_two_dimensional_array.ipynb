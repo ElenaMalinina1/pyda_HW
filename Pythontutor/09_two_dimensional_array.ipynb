{
 "cells": [
  {
   "cell_type": "markdown",
   "id": "179cf135-031e-4b4a-a201-bdb7cbc6ff0f",
   "metadata": {
    "tags": []
   },
   "source": [
    "# Занятие 9. Двумерные массивы\n",
    "### Задача «Максимум»\n",
    "#### Условие\n",
    "Найдите индексы первого вхождения максимального элемента. Выведите два числа: номер строки и номер столбца, в которых стоит наибольший элемент в двумерном массиве. Если таких элементов несколько, то выводится тот, у которого меньше номер строки, а если номера строк равны то тот, у которого меньше номер столбца.\n",
    "\n",
    "Программа получает на вход размеры массива $n$ и $m$, затем $n$ строк по $m$ чисел в каждой."
   ]
  },
  {
   "cell_type": "code",
   "execution_count": 14,
   "id": "17c0b15c-4775-42c0-971f-608ee18ba7e9",
   "metadata": {},
   "outputs": [
    {
     "name": "stdin",
     "output_type": "stream",
     "text": [
      " 3 4\n",
      " 1 2 3 4\n",
      " 1 2 3 4\n",
      " 12 3 4\n"
     ]
    },
    {
     "name": "stdout",
     "output_type": "stream",
     "text": [
      "2 0\n"
     ]
    }
   ],
   "source": [
    "n, m = input().split()\n",
    "arr = list()\n",
    " \n",
    "for _ in range(int(n)):\n",
    "    arr.append(list(map(int, input().split())))\n",
    "m = max(e for n in arr for e in n)\n",
    " \n",
    "for i, r in enumerate(arr):\n",
    "    if m in r:\n",
    "        print(i, r.index(m))\n",
    "        break"
   ]
  },
  {
   "cell_type": "markdown",
   "id": "115a9241-cf68-478a-afdb-1294dd1fb4d1",
   "metadata": {},
   "source": [
    "### Задача «Снежинка»\n",
    "#### Условие\n",
    "Дано нечетное число $n$. Создайте двумерный массив из $n × n$ элементов, заполнив его символами \".\" (каждый элемент массива является строкой из одного символа). Затем заполните символами \"*\" среднюю строку массива, средний столбец массива, главную диагональ и побочную диагональ. В результате единицы в массиве должны образовывать изображение звездочки. Выведите полученный массив на экран, разделяя элементы массива пробелами."
   ]
  },
  {
   "cell_type": "code",
   "execution_count": 27,
   "id": "8bbbb617-8239-4410-a110-ec1a42a94eaf",
   "metadata": {},
   "outputs": [
    {
     "name": "stdin",
     "output_type": "stream",
     "text": [
      " 17\n"
     ]
    },
    {
     "name": "stdout",
     "output_type": "stream",
     "text": [
      "* . . . . . . . * . . . . . . . *\n",
      ". * . . . . . . * . . . . . . * .\n",
      ". . * . . . . . * . . . . . * . .\n",
      ". . . * . . . . * . . . . * . . .\n",
      ". . . . * . . . * . . . * . . . .\n",
      ". . . . . * . . * . . * . . . . .\n",
      ". . . . . . * . * . * . . . . . .\n",
      ". . . . . . . * * * . . . . . . .\n",
      "* * * * * * * * * * * * * * * * *\n",
      ". . . . . . . * * * . . . . . . .\n",
      ". . . . . . * . * . * . . . . . .\n",
      ". . . . . * . . * . . * . . . . .\n",
      ". . . . * . . . * . . . * . . . .\n",
      ". . . * . . . . * . . . . * . . .\n",
      ". . * . . . . . * . . . . . * . .\n",
      ". * . . . . . . * . . . . . . * .\n",
      "* . . . . . . . * . . . . . . . *\n"
     ]
    }
   ],
   "source": [
    "n = int(input())\n",
    "a = [[\".\"] * n for i in range(n)]\n",
    "for i in range(n):\n",
    "    a[i][i] = \"*\"\n",
    "    a[n - 1 - i][i] = \"*\"\n",
    "    a[i][n // 2] = \"*\"\n",
    "    a[n // 2][i] = \"*\"\n",
    "print('\\n'.join([' '.join([str(i) for i in row]) for row in a]))"
   ]
  },
  {
   "cell_type": "markdown",
   "id": "0cc4bf44-6c7a-4f68-8b44-6aeaaa5f097b",
   "metadata": {},
   "source": [
    "### Задача «Шахматная доска»\n",
    "#### Условие\n",
    "Даны два числа $n$ и $m$. Создайте двумерный массив размером n×m и заполните его символами \".\" и \"*\" в шахматном порядке. В левом верхнем углу должна стоять точка."
   ]
  },
  {
   "cell_type": "code",
   "execution_count": 32,
   "id": "ea4324f6-7fa1-49d8-a5a4-f36d160d7976",
   "metadata": {},
   "outputs": [
    {
     "name": "stdin",
     "output_type": "stream",
     "text": [
      " 5 5\n"
     ]
    },
    {
     "name": "stdout",
     "output_type": "stream",
     "text": [
      ". * . * .\n",
      "* . * . *\n",
      ". * . * .\n",
      "* . * . *\n",
      ". * . * .\n"
     ]
    }
   ],
   "source": [
    "n, m = [int(i) for i in input().split()]\n",
    "a = [[\".\"  for i in range(m)] for i in range(n)]\n",
    "\n",
    "for i in range(n):\n",
    "    for j in range(m):\n",
    "        if ((i == 0 or i % 2 == 0) and j % 2 !=0 ) or (i % 2 != 0 and j % 2 == 0):\n",
    "            a[i][j] = \"*\"\n",
    "        \n",
    "for element in a:\n",
    "    print(\" \".join(element))\n",
    "    \n",
    "# n, m = [int(i) for i in input().split()]\n",
    "# a = []\n",
    "# for i in range(n):\n",
    "#     a.append([])\n",
    "#     for j in range(m):\n",
    "#         if (i + j) % 2 == 0:\n",
    "#             a[i].append('.')\n",
    "#         else:\n",
    "#             a[i].append('*')\n",
    "# for row in a:\n",
    "#     print(' '.join(row))"
   ]
  },
  {
   "cell_type": "markdown",
   "id": "baa4c57d-ce0e-448d-a91f-1982f27ea2c0",
   "metadata": {},
   "source": [
    "### Задача «Диагонали, параллельные главной»\n",
    "#### Условие\n",
    "Дано число $n$. Создайте массив размером $n×n$ и заполните его по следующему правилу. На главной диагонали должны быть записаны числа 0. На двух диагоналях, прилегающих к главной, числа 1. На следующих двух диагоналях числа 2, и т.д."
   ]
  },
  {
   "cell_type": "code",
   "execution_count": 33,
   "id": "13d108c4-0e89-49e9-9e9c-9a94c34f2942",
   "metadata": {},
   "outputs": [
    {
     "name": "stdin",
     "output_type": "stream",
     "text": [
      " 5\n"
     ]
    },
    {
     "name": "stdout",
     "output_type": "stream",
     "text": [
      "0 1 2 3 4\n",
      "1 0 1 2 3\n",
      "2 1 0 1 2\n",
      "3 2 1 0 1\n",
      "4 3 2 1 0\n"
     ]
    }
   ],
   "source": [
    "n = int(input())\n",
    "a = [[abs(i - j) for j in range(n)] for i in range(n)]\n",
    "for row in a:\n",
    "    print(' '.join([str(i) for i in row]))"
   ]
  },
  {
   "cell_type": "markdown",
   "id": "c1010861-df43-4ac6-8f0c-032b9e34a5c1",
   "metadata": {},
   "source": [
    "### Задача «Побочная диагональ»\n",
    "#### Условие\n",
    "Дано число $n$. Создайте массив размером $n×n$ и заполните его по следующему правилу:\n",
    "\n",
    "Числа на диагонали, идущей из правого верхнего в левый нижний угол равны 1.\n",
    "\n",
    "Числа, стоящие выше этой диагонали, равны 0.\n",
    "\n",
    "Числа, стоящие ниже этой диагонали, равны 2.\n",
    "\n",
    "Полученный массив выведите на экран. Числа в строке разделяйте одним пробелом."
   ]
  },
  {
   "cell_type": "code",
   "execution_count": 35,
   "id": "1e83f99d-6fac-4a11-b07f-b54a877586ff",
   "metadata": {},
   "outputs": [
    {
     "name": "stdin",
     "output_type": "stream",
     "text": [
      " 4\n"
     ]
    },
    {
     "name": "stdout",
     "output_type": "stream",
     "text": [
      "0 0 0 1\n",
      "0 0 1 2\n",
      "0 1 2 2\n",
      "1 2 2 2\n"
     ]
    }
   ],
   "source": [
    "n = int(input())\n",
    "a = [[0 for i in range(n)]for s in range(n)]\n",
    "for i in range(n):\n",
    "    for j in range(n):\n",
    "        if i + j == n - 1:\n",
    "            a[i][j] = 1\n",
    "        elif i + j > n - 1:\n",
    "            a[i][j] = 2\n",
    "for row in a:\n",
    "    print(' '.join([str(s) for s in row]))"
   ]
  },
  {
   "cell_type": "markdown",
   "id": "1463a07d-062d-4087-83bd-b9ea33b255dc",
   "metadata": {},
   "source": [
    "### Задача «Поменять столбцы»\n",
    "#### Условие\n",
    "Дан двумерный массив и два числа: i и j. Поменяйте в массиве столбцы с номерами i и j и выведите результат.\n",
    "\n",
    "Программа получает на вход размеры массива n и m, затем элементы массива, затем числа i и j.\n",
    "\n",
    "Решение оформите в виде функции swap_columns(a, i, j)."
   ]
  },
  {
   "cell_type": "code",
   "execution_count": 42,
   "id": "928d700d-dd44-44a5-b146-b9ef2f35cd67",
   "metadata": {},
   "outputs": [
    {
     "name": "stdin",
     "output_type": "stream",
     "text": [
      " 3 4\n",
      " 11 12 13 14\n",
      " 21 22 23 24\n",
      " 31 32 33 34\n",
      " 0 1\n"
     ]
    },
    {
     "name": "stdout",
     "output_type": "stream",
     "text": [
      "12 11 13 14\n",
      "22 21 23 24\n",
      "32 31 33 34\n"
     ]
    }
   ],
   "source": [
    "def swap_columns(a, i, j):\n",
    "    for row in a:\n",
    "        row[i], row[j] = row[j], row[i]\n",
    "    return a\n",
    "\n",
    "n, m = [int(k) for k in input().split()]\n",
    "a = [[int(j) for j in input().split()] for i in range(n)]\n",
    "i, j = [int(k) for k in input().split()]\n",
    "\n",
    "for row in swap_columns(a, i, j):\n",
    "    print(' '.join([str(i) for i in row]))"
   ]
  }
 ],
 "metadata": {
  "kernelspec": {
   "display_name": "Python 3 (ipykernel)",
   "language": "python",
   "name": "python3"
  },
  "language_info": {
   "codemirror_mode": {
    "name": "ipython",
    "version": 3
   },
   "file_extension": ".py",
   "mimetype": "text/x-python",
   "name": "python",
   "nbconvert_exporter": "python",
   "pygments_lexer": "ipython3",
   "version": "3.9.12"
  }
 },
 "nbformat": 4,
 "nbformat_minor": 5
}
