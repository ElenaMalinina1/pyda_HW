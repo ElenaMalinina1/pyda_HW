{
 "cells": [
  {
   "cell_type": "markdown",
   "id": "9dc218a0-dcf8-4856-bb4d-4f3c5bf0c677",
   "metadata": {},
   "source": [
    "# Занятие 8. Функции и рекурсия\n",
    "### Задача «Длина отрезка»\n",
    "#### Условие\n",
    "Даны четыре действительных числа: x1, y1, x2, y2. Напишите функцию distance(x1, y1, x2, y2), вычисляющая расстояние между точкой (x1,y1) и (x2,y2). Считайте четыре действительных числа и выведите результат работы этой функции.\n",
    "Если вы не знаете, как решить эту задачу, то вы, возможно, не изучали в школе теорему Пифагора. Попробуйте прочитать о ней на Википедии."
   ]
  },
  {
   "cell_type": "code",
   "execution_count": 19,
   "id": "14c92aef-ffb2-403a-947c-852b7b840138",
   "metadata": {},
   "outputs": [
    {
     "name": "stdin",
     "output_type": "stream",
     "text": [
      " 1\n",
      " 1\n",
      " 0\n",
      " 0\n"
     ]
    },
    {
     "data": {
      "text/plain": [
       "1.41421"
      ]
     },
     "execution_count": 19,
     "metadata": {},
     "output_type": "execute_result"
    }
   ],
   "source": [
    "import math\n",
    "def distance(x_1, y_1, x_2, y_2):\n",
    "    return round(math.sqrt(((x_1 - x_2) ** 2) + ((y_1 - y_2) ** 2)), 5)\n",
    "\n",
    "x_1, y_1, x_2, y_2 = [float(input()) for i in range(4)]\n",
    "distance(x_1, y_1, x_2, y_2)"
   ]
  },
  {
   "cell_type": "markdown",
   "id": "a96654c8-3a6f-40be-a203-0f3f257925de",
   "metadata": {},
   "source": [
    "### Задача «Отрицательная степень»\n",
    "#### Условие\n",
    "Дано действительное положительное число a и целоe число n.\n",
    "\n",
    "Вычислите an. Решение оформите в виде функции power(a, n).\n",
    "\n",
    "Стандартной функцией возведения в степень пользоваться нельзя."
   ]
  },
  {
   "cell_type": "code",
   "execution_count": 39,
   "id": "e8d57fe8-329e-471a-b007-fe29aa7523e3",
   "metadata": {},
   "outputs": [
    {
     "name": "stdin",
     "output_type": "stream",
     "text": [
      " 3\n",
      " -4\n"
     ]
    },
    {
     "data": {
      "text/plain": [
       "0.012345679012345678"
      ]
     },
     "execution_count": 39,
     "metadata": {},
     "output_type": "execute_result"
    }
   ],
   "source": [
    "# def power(a, n):\n",
    "#     return math.pow(a, n)\n",
    "\n",
    "def power(a, n):\n",
    "    res = 1\n",
    "    for num in range(0, abs(n)):\n",
    "        res *= a\n",
    "    if n >= 0:\n",
    "        return res\n",
    "    else:\n",
    "        return 1 / res\n",
    "    \n",
    "a = float(input())\n",
    "n = int(input())\n",
    "power(a, n)"
   ]
  },
  {
   "cell_type": "markdown",
   "id": "5bf698bc-3ce7-43ce-941b-a63c2b191545",
   "metadata": {},
   "source": [
    "### Задача «Большие буквы»\n",
    "#### Условие\n",
    "Напишите функцию capitalize(), которая принимает слово из маленьких латинских букв и возвращает его же, меняя первую букву на большую.\n",
    "Например, print(capitalize('word')) должно печатать слово Word.\n",
    "\n",
    "На вход подаётся строка, состоящая из слов, разделённых одним пробелом. Слова состоят из маленьких латинских букв. Напечатайте исходную строку, сделав так, чтобы каждое слово начиналось с большой буквы. При этом используйте вашу функцию capitalize().\n",
    "\n",
    "Напомним, что в Питоне есть функция ord(), которая по символу возвращает его код в таблице ASCII, и функция chr(), которая по коду символа возвращает сам символ. Например, ord('a') == 97, chr(97) == 'a'."
   ]
  },
  {
   "cell_type": "code",
   "execution_count": 52,
   "id": "07a2b7bf-745a-46cb-b906-1c08301fc376",
   "metadata": {},
   "outputs": [
    {
     "name": "stdin",
     "output_type": "stream",
     "text": [
      " harry potter\n"
     ]
    },
    {
     "name": "stdout",
     "output_type": "stream",
     "text": [
      "Harry Potter\n"
     ]
    }
   ],
   "source": [
    "# def capitalize(string):\n",
    "#     return chr(ord(string[0]) - 32) + string[1:]\n",
    "\n",
    "# print(' '.join([capitalize(word) for word in input().split()]))\n",
    "\n",
    "def capitalize(string):\n",
    "    string = string.title()\n",
    "    return string\n",
    "\n",
    "s = str(input())\n",
    "print(capitalize(s))"
   ]
  },
  {
   "cell_type": "markdown",
   "id": "66f25dcb-a63a-4b6b-bfd2-bbeab6ac9867",
   "metadata": {},
   "source": [
    "### Задача «Возведение в степень»\n",
    "#### Условие\n",
    "Дано действительное положительное число a и целое неотрицательное число n. Вычислите $a^n$ не используя циклы, возведение в степень через ** и функцию math.pow(), а используя рекуррентное соотношение $an=a⋅a^n-1$.\n",
    "\n",
    "Решение оформите в виде функции power(a, n)."
   ]
  },
  {
   "cell_type": "code",
   "execution_count": 2,
   "id": "7cce3e47-c150-4aaa-be06-aad95916aef4",
   "metadata": {},
   "outputs": [
    {
     "name": "stdin",
     "output_type": "stream",
     "text": [
      " 2\n",
      " 3\n"
     ]
    },
    {
     "name": "stdout",
     "output_type": "stream",
     "text": [
      "8\n"
     ]
    }
   ],
   "source": [
    "def power(a, n):\n",
    "    if n == 0:\n",
    "        return 1\n",
    "    else:\n",
    "        return a * power(a, n - 1)\n",
    "    \n",
    "a = float(input())\n",
    "n = int(input())\n",
    "print(power(a,n))"
   ]
  },
  {
   "cell_type": "markdown",
   "id": "bcc2d5b2-6a05-4775-8e89-1dc4e6cefe8d",
   "metadata": {},
   "source": [
    "### Задача «Разворот последовательности»\n",
    "#### Условие\n",
    "Дана последовательность целых чисел, заканчивающаяся числом 0. Выведите эту последовательность в обратном порядке.\n",
    "При решении этой задачи нельзя пользоваться массивами и прочими динамическими структурами данных. Рекурсия вам поможет.\n",
    "\n",
    "Эту задачу невозможно решить самостоятельно. Обратитесь к своему преподавателю за помощью.\n"
   ]
  },
  {
   "cell_type": "code",
   "execution_count": 16,
   "id": "af0ccc89-3b8c-40e1-bb23-738ca3df7f5c",
   "metadata": {},
   "outputs": [
    {
     "name": "stdin",
     "output_type": "stream",
     "text": [
      " 1\n",
      " 2\n",
      " 3\n",
      " 0\n"
     ]
    },
    {
     "name": "stdout",
     "output_type": "stream",
     "text": [
      "0\n",
      "3\n",
      "2\n",
      "1\n"
     ]
    }
   ],
   "source": [
    "def reverse():\n",
    "    x = int(input())\n",
    "    if x != 0:\n",
    "        reverse()\n",
    "    print(x)\n",
    "\n",
    "reverse()"
   ]
  },
  {
   "cell_type": "markdown",
   "id": "18d7e123-ae3b-40e9-8855-c7f04a82ac16",
   "metadata": {},
   "source": [
    "### Задача «Числа Фибоначчи»\n",
    "#### Условие\n",
    "Напишите функцию $fib(n)$, которая по данному целому неотрицательному $n$ возвращает $n$-e число Фибоначчи. В этой задаче нельзя использовать циклы — используйте рекурсию."
   ]
  },
  {
   "cell_type": "code",
   "execution_count": 1,
   "id": "dac859d6-5c3a-4517-8cb8-21e9d99382d1",
   "metadata": {},
   "outputs": [
    {
     "data": {
      "text/plain": [
       "8"
      ]
     },
     "execution_count": 1,
     "metadata": {},
     "output_type": "execute_result"
    }
   ],
   "source": [
    "def fib(n):\n",
    "    if n == 1 or n == 2:\n",
    "        return 1\n",
    "    else:\n",
    "        return fib(n - 1) + fib(n - 2)\n",
    "fib(6)"
   ]
  }
 ],
 "metadata": {
  "kernelspec": {
   "display_name": "Python 3 (ipykernel)",
   "language": "python",
   "name": "python3"
  },
  "language_info": {
   "codemirror_mode": {
    "name": "ipython",
    "version": 3
   },
   "file_extension": ".py",
   "mimetype": "text/x-python",
   "name": "python",
   "nbconvert_exporter": "python",
   "pygments_lexer": "ipython3",
   "version": "3.9.12"
  }
 },
 "nbformat": 4,
 "nbformat_minor": 5
}
