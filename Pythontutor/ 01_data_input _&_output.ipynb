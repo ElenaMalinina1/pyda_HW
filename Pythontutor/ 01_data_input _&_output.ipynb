{
 "cells": [
  {
   "cell_type": "markdown",
   "id": "22095964-d261-4fc3-b9b8-71af8230ff14",
   "metadata": {},
   "source": [
    "## Занятие 1. Ввод и вывод данных\n",
    "### Задача «Сумма трёх чисел»\n",
    "### Условие\n",
    "Напишите программу, которая считывает три числа и выводит их сумму. Каждое число записано в отдельной строке."
   ]
  },
  {
   "cell_type": "code",
   "execution_count": 1,
   "id": "7f3e6790-fc40-49b8-9614-bf517476ee10",
   "metadata": {},
   "outputs": [
    {
     "name": "stdin",
     "output_type": "stream",
     "text": [
      " 23\n",
      " 5\n",
      " 6\n"
     ]
    },
    {
     "name": "stdout",
     "output_type": "stream",
     "text": [
      "34\n"
     ]
    }
   ],
   "source": [
    "# Можете ли вы изменить её, чтобы она складывала три числа?\n",
    "a = int(input())\n",
    "b = int(input())\n",
    "c = int(input())\n",
    "print(a + b + c)"
   ]
  },
  {
   "cell_type": "markdown",
   "id": "daa8ddeb-37be-4bdd-a5c8-87a19a3545d8",
   "metadata": {},
   "source": [
    "### Задача «Площадь прямоугольного треугольника»\n",
    "### Условие\n",
    "Напишите программу, которая считывает длины двух катетов в прямоугольном треугольнике и выводит его площадь. Каждое число записано в отдельной строке.\n",
    "<p style=\"align: center;\"><img align=center src=\"https://pythontutor.ru/static/images/right_triangle.gif\"  width=500></p>"
   ]
  },
  {
   "cell_type": "code",
   "execution_count": 2,
   "id": "c3285247-3064-4257-8f95-eb1e5ac93d17",
   "metadata": {},
   "outputs": [
    {
     "name": "stdin",
     "output_type": "stream",
     "text": [
      " 34\n",
      " 78\n"
     ]
    },
    {
     "name": "stdout",
     "output_type": "stream",
     "text": [
      "1326.0\n"
     ]
    }
   ],
   "source": [
    "# Числа b и h можно считывать так:\n",
    "b = int(input())\n",
    "h = int(input())\n",
    "# Выводите результат через print()\n",
    "print(b*h /2 )"
   ]
  },
  {
   "cell_type": "markdown",
   "id": "5e1dffd9-9818-49dc-bf38-c3545d2047e4",
   "metadata": {},
   "source": [
    "### Задача «Дележ яблок»\n",
    "### Условие\n",
    "$n$ школьников делят $k$ яблок поровну, неделящийся остаток остается в корзинке. Сколько яблок достанется каждому школьнику? Сколько яблок останется в корзинке? Программа получает на вход числа $n$ и $k$ и должна вывести искомое количество яблок (два числа)."
   ]
  },
  {
   "cell_type": "code",
   "execution_count": 3,
   "id": "88970932-4422-48bc-a9da-f31e1daf473d",
   "metadata": {},
   "outputs": [
    {
     "name": "stdin",
     "output_type": "stream",
     "text": [
      " 56\n",
      " 23\n"
     ]
    },
    {
     "name": "stdout",
     "output_type": "stream",
     "text": [
      "0\n",
      "23\n"
     ]
    }
   ],
   "source": [
    "# Число n можно считать так:\n",
    "n = int(input())\n",
    "k = int(input())\n",
    "# Выводите результат через print()\n",
    "print(k // n)\n",
    "print(k % n)"
   ]
  },
  {
   "cell_type": "markdown",
   "id": "71573033-6db4-4cf5-8144-4d06b57a001a",
   "metadata": {},
   "source": [
    "### Задача «Электронные часы»\n",
    "### Условие\n",
    "Дано число n. С начала суток прошло n минут. Определите, сколько часов и минут будут показывать электронные часы в этот момент. Программа должна вывести два числа: количество часов (от 0 до 23) и количество минут (от 0 до 59). Учтите, что число n может быть больше, чем количество минут в сутках."
   ]
  },
  {
   "cell_type": "code",
   "execution_count": 4,
   "id": "1fd129ac-4f3f-4282-a0ab-ffc4cc11bb89",
   "metadata": {},
   "outputs": [
    {
     "name": "stdin",
     "output_type": "stream",
     "text": [
      " 34\n"
     ]
    },
    {
     "name": "stdout",
     "output_type": "stream",
     "text": [
      "0 34\n"
     ]
    }
   ],
   "source": [
    "n = int(input())\n",
    "h = n % (60 *24) //60\n",
    "m = n % 60\n",
    "print(h, m)"
   ]
  },
  {
   "cell_type": "markdown",
   "id": "c1c0f986-4e18-497a-8906-b6026e5a559f",
   "metadata": {},
   "source": [
    "### Задача «Hello, Harry!»\n",
    "### Условие\n",
    "Напишите программу, которая приветствует пользователя, выводя слово Hello, введенное имя и знаки препинания по образцу:"
   ]
  },
  {
   "cell_type": "code",
   "execution_count": 5,
   "id": "f7ec46e0-88c5-4124-b605-fe6dd5993c1d",
   "metadata": {},
   "outputs": [
    {
     "name": "stdin",
     "output_type": "stream",
     "text": [
      " 64\n"
     ]
    },
    {
     "name": "stdout",
     "output_type": "stream",
     "text": [
      "Hello, 64!\n"
     ]
    }
   ],
   "source": [
    "name = input()\n",
    "print('Hello, '+ name +'!')"
   ]
  },
  {
   "cell_type": "markdown",
   "id": "a1311572-f606-4d82-a4a7-5e79c10479c2",
   "metadata": {},
   "source": [
    "### Задача «Следующее и предыдущее»\n",
    "### Условие\n",
    "Напишите программу, которая считывает целое число и выводит текст, аналогичный приведенному в примере (пробелы важны!)."
   ]
  },
  {
   "cell_type": "code",
   "execution_count": 6,
   "id": "14b0d0e3-06ac-4187-80dc-6e232d13f6de",
   "metadata": {},
   "outputs": [
    {
     "name": "stdin",
     "output_type": "stream",
     "text": [
      " 34\n"
     ]
    },
    {
     "name": "stdout",
     "output_type": "stream",
     "text": [
      "The next number for the number 34 is 35.\n",
      "The previous number for the number 34 is 33.\n"
     ]
    }
   ],
   "source": [
    "i = int(input())\n",
    "\n",
    "print('The next number for the number ' + str(i) + ' is ' + str(i + 1) + '.')\n",
    "print('The previous number for the number ' + str(i) + ' is ' + str(i-1) + '.')"
   ]
  },
  {
   "cell_type": "markdown",
   "id": "22c17f54-a7ca-4cf5-b1b8-d40c7781810d",
   "metadata": {},
   "source": [
    "### Задача «Парты»\n",
    "### Условие\n",
    "В школе решили набрать три новых математических класса. Так как занятия по математике у них проходят в одно и то же время, было решено выделить кабинет для каждого класса и купить в них новые парты. За каждой партой может сидеть не больше двух учеников. Известно количество учащихся в каждом из трёх классов. Сколько всего нужно закупить парт чтобы их хватило на всех учеников? Программа получает на вход три натуральных числа: количество учащихся в каждом из трех классов."
   ]
  },
  {
   "cell_type": "code",
   "execution_count": 7,
   "id": "11a8eb4b-ab53-461a-a2e3-313ed56310d9",
   "metadata": {},
   "outputs": [
    {
     "name": "stdin",
     "output_type": "stream",
     "text": [
      " 24\n",
      " 54\n",
      " 966\n"
     ]
    },
    {
     "name": "stdout",
     "output_type": "stream",
     "text": [
      "522\n"
     ]
    }
   ],
   "source": [
    "q = int(input())\n",
    "w = int(input())\n",
    "e = int(input())\n",
    "print(q // 2 + w// 2 + e // 2 + q % 2 + w % 2 + e % 2)"
   ]
  },
  {
   "cell_type": "markdown",
   "id": "52594b92-074d-439d-92dd-f71c7fc0d534",
   "metadata": {},
   "source": [
    "### Задача «Шнурки»\n",
    "### Условие\n",
    "Обувная фабрика собирается начать выпуск элитной модели ботинок. Дырочки для шнуровки будут расположены в два ряда, расстояние между рядами равно $a$\n",
    ", а расстояние между дырочками в ряду $b$\n",
    ". Количество дырочек в каждом ряду равно $N$\n",
    ". Шнуровка должна происходить элитным способом “наверх, по горизонтали в другой ряд, наверх, по горизонтали и т.д.” (см. рисунок). Кроме того, чтобы шнурки можно было завязать элитным бантиком, длина свободного конца шнурка должна быть $l$\n",
    ". Какова должна быть длина шнурка для этих ботинок?\n",
    "\n",
    "Программа получает на вход четыре натуральных числа $a$\n",
    ", $b$\n",
    ", $l$\n",
    " и $N$ - именно в таком порядке - и должна вывести одно число - искомую длину шнурка.\n",
    "<p style='aling: center;'><img aling=center src='https://pythontutor.ru/static/shoelace.gif' winght=500></p>"
   ]
  },
  {
   "cell_type": "code",
   "execution_count": 8,
   "id": "40955a20-4be3-4d6e-91f9-d9aa218c147b",
   "metadata": {},
   "outputs": [
    {
     "name": "stdin",
     "output_type": "stream",
     "text": [
      " 23\n",
      " 45\n",
      " 65\n",
      " 2\n"
     ]
    },
    {
     "name": "stdout",
     "output_type": "stream",
     "text": [
      "289\n"
     ]
    }
   ],
   "source": [
    "a = int(input())\n",
    "b = int(input())\n",
    "l = int(input())\n",
    "N = int(input())\n",
    "print(2 * l + (2 * N - 1) * a + 2 * (N - 1) * b)"
   ]
  }
 ],
 "metadata": {
  "kernelspec": {
   "display_name": "Python 3 (ipykernel)",
   "language": "python",
   "name": "python3"
  },
  "language_info": {
   "codemirror_mode": {
    "name": "ipython",
    "version": 3
   },
   "file_extension": ".py",
   "mimetype": "text/x-python",
   "name": "python",
   "nbconvert_exporter": "python",
   "pygments_lexer": "ipython3",
   "version": "3.9.12"
  }
 },
 "nbformat": 4,
 "nbformat_minor": 5
}
