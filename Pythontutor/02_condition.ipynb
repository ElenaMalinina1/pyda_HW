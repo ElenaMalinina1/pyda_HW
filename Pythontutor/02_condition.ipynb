{
 "cells": [
  {
   "cell_type": "markdown",
   "id": "e79f6b24-d116-401c-bde7-69466317d69b",
   "metadata": {},
   "source": [
    "## Занятие 2. Условия\n",
    "### Задача «Минимум из двух чисел»\n",
    "### Условие\n",
    "Даны два целых числа. Выведите значение наименьшего из них."
   ]
  },
  {
   "cell_type": "code",
   "execution_count": 1,
   "id": "efcb366e-5d34-4329-ba2a-81aca7d8b175",
   "metadata": {},
   "outputs": [
    {
     "name": "stdin",
     "output_type": "stream",
     "text": [
      " 37\n",
      " 5\n"
     ]
    },
    {
     "name": "stdout",
     "output_type": "stream",
     "text": [
      "5\n"
     ]
    }
   ],
   "source": [
    "a = int(input())\n",
    "b = int(input())\n",
    "if a < b:\n",
    "    print(a)\n",
    "else:\n",
    "    print(b)"
   ]
  },
  {
   "cell_type": "markdown",
   "id": "5965f914-e455-41e8-b58c-315fa30f965d",
   "metadata": {},
   "source": [
    "## Задача «Знак числа»\n",
    "## Условие\n",
    "В математике функция $sign(x)$ (знак числа) определена так:\n",
    "$sign(x)$ = 1, если $x$ > 0,\n",
    "$sign(x)$ = -1, если $x$ < 0,\n",
    "$sign(x)$ = 0, если $x$ = 0.\n",
    "Для данного числа $x$ выведите значение $sign(x)$. Эту задачу желательно решить с использованием каскадных инструкций if... elif... else."
   ]
  },
  {
   "cell_type": "code",
   "execution_count": 2,
   "id": "c7e0bcee-469a-41f9-a137-834fb1eef3c5",
   "metadata": {},
   "outputs": [
    {
     "name": "stdin",
     "output_type": "stream",
     "text": [
      " 45\n"
     ]
    },
    {
     "name": "stdout",
     "output_type": "stream",
     "text": [
      "1\n"
     ]
    }
   ],
   "source": [
    "a = int(input())\n",
    "if a > 0:\n",
    "    print(1)\n",
    "elif a < 0:\n",
    "    print(-1)\n",
    "else:\n",
    "    print(0)"
   ]
  },
  {
   "cell_type": "markdown",
   "id": "4f7d2193-dc2d-4a51-a707-119e964e3d0b",
   "metadata": {},
   "source": [
    "### Задача «Шахматная доска»\n",
    "### Условие\n",
    "Заданы две клетки шахматной доски. Если они покрашены в один цвет, то выведите слово YES, а если в разные цвета — то NO. Программа получает на вход четыре числа от 1 до 8 каждое, задающие номер столбца и номер строки сначала для первой клетки, потом для второй клетки."
   ]
  },
  {
   "cell_type": "code",
   "execution_count": 3,
   "id": "1e9fb050-ae98-4a04-94cd-c3b0339631fc",
   "metadata": {},
   "outputs": [
    {
     "name": "stdin",
     "output_type": "stream",
     "text": [
      " 34\n",
      " 2\n",
      " 2\n",
      " 1\n"
     ]
    },
    {
     "name": "stdout",
     "output_type": "stream",
     "text": [
      "NO\n"
     ]
    }
   ],
   "source": [
    "a = int(input())\n",
    "b = int(input())\n",
    "c = int(input())\n",
    "d = int(input())\n",
    "\n",
    "\n",
    "if (a + b + c + d) % 2 == 0:\n",
    "    print('YES')\n",
    "else:\n",
    "    print('NO')"
   ]
  },
  {
   "cell_type": "markdown",
   "id": "d243614d-f7c7-4386-8295-3a19a43c152e",
   "metadata": {},
   "source": [
    "### Задача «Високосный год»\n",
    "### Условие\n",
    "Дано натуральное число. Требуется определить, является ли год с данным номером високосным. Если год является високосным, то выведите YES, иначе выведите NO. Напомним, что в соответствии с григорианским календарем, год является високосным, если его номер кратен 4, но не кратен 100, а также если он кратен 400."
   ]
  },
  {
   "cell_type": "code",
   "execution_count": 4,
   "id": "b7499366-46af-4f43-9c01-eb035a5c79ca",
   "metadata": {},
   "outputs": [
    {
     "name": "stdin",
     "output_type": "stream",
     "text": [
      " 36\n"
     ]
    },
    {
     "name": "stdout",
     "output_type": "stream",
     "text": [
      "YES\n"
     ]
    }
   ],
   "source": [
    "x = int(input())\n",
    "\n",
    "if x % 4 == 0  and  x % 100 != 0  or x % 400 == 0:\n",
    "    print('YES')\n",
    "else:\n",
    "    print('NO')"
   ]
  },
  {
   "cell_type": "markdown",
   "id": "f108389a-0b96-4fd6-a14e-ace855ec4288",
   "metadata": {},
   "source": [
    "### Задача «Минимум из трех чисел»\n",
    "### Условие\n",
    "Даны три целых числа. Выведите значение наименьшего из них."
   ]
  },
  {
   "cell_type": "code",
   "execution_count": 5,
   "id": "bcab0bd1-5d29-4222-b425-b2396da2a274",
   "metadata": {},
   "outputs": [
    {
     "name": "stdin",
     "output_type": "stream",
     "text": [
      " 76\n",
      " 4\n",
      " 3\n"
     ]
    },
    {
     "name": "stdout",
     "output_type": "stream",
     "text": [
      "3\n"
     ]
    }
   ],
   "source": [
    "a = int(input())\n",
    "b = int(input())\n",
    "c = int(input())\n",
    "\n",
    "print(min(a,b,c))"
   ]
  },
  {
   "cell_type": "markdown",
   "id": "1ee07045-08fe-4793-913b-2daaf28a8e5d",
   "metadata": {},
   "source": [
    "### Задача «Сколько совпадает чисел»\n",
    "### Условие\n",
    "Даны три целых числа. Определите, сколько среди них совпадающих. Программа должна вывести одно из чисел: 3 (если все совпадают), 2 (если два совпадает) или 0 (если все числа различны)."
   ]
  },
  {
   "cell_type": "code",
   "execution_count": 6,
   "id": "a9265382-e704-4d0b-b8de-820173fd7212",
   "metadata": {},
   "outputs": [
    {
     "name": "stdin",
     "output_type": "stream",
     "text": [
      " 25\n",
      " 235\n",
      " 36\n"
     ]
    },
    {
     "name": "stdout",
     "output_type": "stream",
     "text": [
      "0\n"
     ]
    }
   ],
   "source": [
    "a = int(input())\n",
    "b = int(input())\n",
    "c = int(input())\n",
    "\n",
    "if a == b and a == c:\n",
    "    print(3)\n",
    "elif a == b or c == b or a ==c:\n",
    "    print(2)\n",
    "else:\n",
    "    print(0)"
   ]
  },
  {
   "cell_type": "markdown",
   "id": "94d91cc3-5954-4a0d-a8ff-98d134820e09",
   "metadata": {},
   "source": [
    "### Задача «Ход ладьи»\n",
    "### Условие\n",
    "Шахматная ладья ходит по горизонтали или вертикали. Даны две различные клетки шахматной доски, определите, может ли ладья попасть с первой клетки на вторую одним ходом. Программа получает на вход четыре числа от 1 до 8 каждое, задающие номер столбца и номер строки сначала для первой клетки, потом для второй клетки. Программа должна вывести YES, если из первой клетки ходом ладьи можно попасть во вторую или NO в противном случае."
   ]
  },
  {
   "cell_type": "code",
   "execution_count": 7,
   "id": "8765181f-3a80-4afd-b3b1-2a8e5c387794",
   "metadata": {},
   "outputs": [
    {
     "name": "stdin",
     "output_type": "stream",
     "text": [
      " 7\n",
      " 54\n",
      " 45\n",
      " 8\n"
     ]
    },
    {
     "name": "stdout",
     "output_type": "stream",
     "text": [
      "NO\n"
     ]
    }
   ],
   "source": [
    "a = int(input())\n",
    "b = int(input())\n",
    "c = int(input())\n",
    "d = int(input())\n",
    "\n",
    "\n",
    "if a == c or b == d:\n",
    "    print('YES')\n",
    "else:\n",
    "    print('NO')"
   ]
  },
  {
   "cell_type": "markdown",
   "id": "850fab33-db56-4079-8acc-e029c538c2f3",
   "metadata": {},
   "source": [
    "### Задача «Ход короля»\n",
    "### Условие\n",
    "Шахматный король ходит по горизонтали, вертикали и диагонали, но только на 1 клетку. Даны две различные клетки шахматной доски, определите, может ли король попасть с первой клетки на вторую одним ходом. Программа получает на вход четыре числа от 1 до 8 каждое, задающие номер столбца и номер строки сначала для первой клетки, потом для второй клетки. Программа должна вывести YES, если из первой клетки ходом короля можно попасть во вторую или NO в противном случае."
   ]
  },
  {
   "cell_type": "code",
   "execution_count": 8,
   "id": "f3caa4de-6486-45d5-83f5-059146394819",
   "metadata": {},
   "outputs": [
    {
     "name": "stdin",
     "output_type": "stream",
     "text": [
      " 687\n",
      " 45\n",
      " 45\n",
      " 3\n"
     ]
    },
    {
     "name": "stdout",
     "output_type": "stream",
     "text": [
      "NO\n"
     ]
    }
   ],
   "source": [
    "a = int(input())\n",
    "b = int(input())\n",
    "c = int(input())\n",
    "d = int(input())\n",
    "\n",
    "\n",
    "if abs(a - c) <=1 and abs(b - d) <=1:\n",
    "    print('YES')\n",
    "else:\n",
    "    print('NO')"
   ]
  },
  {
   "cell_type": "markdown",
   "id": "a440d6ed-63b1-4762-9cdc-c988c2451989",
   "metadata": {},
   "source": [
    "### Задача «Ход слона»\n",
    "### Условие\n",
    "Шахматный слон ходит по диагонали. Даны две различные клетки шахматной доски, определите, может ли слон попасть с первой клетки на вторую одним ходом."
   ]
  },
  {
   "cell_type": "code",
   "execution_count": 10,
   "id": "8f1af494-3918-4553-89b5-b3d221d116ad",
   "metadata": {},
   "outputs": [
    {
     "name": "stdin",
     "output_type": "stream",
     "text": [
      " 53\n",
      " 75\n",
      " 75\n",
      " 58\n"
     ]
    },
    {
     "name": "stdout",
     "output_type": "stream",
     "text": [
      "NO\n"
     ]
    }
   ],
   "source": [
    "a = int(input())\n",
    "b = int(input())\n",
    "c = int(input())\n",
    "d = int(input())\n",
    "\n",
    "\n",
    "if abs(a - c) == abs(b - d):\n",
    "    print('YES')\n",
    "else:\n",
    "    print('NO')"
   ]
  },
  {
   "cell_type": "markdown",
   "id": "c94bbc84-9c42-4dee-96cf-b56f19041721",
   "metadata": {},
   "source": [
    "### Задача «Ход ферзя»\n",
    "### Условие\n",
    "Шахматный ферзь ходит по диагонали, горизонтали или вертикали. Даны две различные клетки шахматной доски, определите, может ли ферзь попасть с первой клетки на вторую одним ходом."
   ]
  },
  {
   "cell_type": "code",
   "execution_count": 12,
   "id": "1b1d9e44-9978-45f5-b629-b8b7e1697a26",
   "metadata": {},
   "outputs": [
    {
     "name": "stdin",
     "output_type": "stream",
     "text": [
      " 24\n",
      " 134\n",
      " 747\n",
      " 3\n"
     ]
    },
    {
     "name": "stdout",
     "output_type": "stream",
     "text": [
      "NO\n"
     ]
    }
   ],
   "source": [
    "a = int(input())\n",
    "b = int(input())\n",
    "c = int(input())\n",
    "d = int(input())\n",
    "\n",
    "\n",
    "if abs(a - c) == abs(b - d) or a == c or b == d:\n",
    "    print('YES')\n",
    "else:\n",
    "    print('NO')"
   ]
  },
  {
   "cell_type": "markdown",
   "id": "a2be0212-4cc4-42fd-9056-43b7bc6489c7",
   "metadata": {},
   "source": [
    "### Задача «Ход коня»\n",
    "### Условие\n",
    "Шахматный конь ходит буквой “Г” — на две клетки по вертикали в любом направлении и на одну клетку по горизонтали, или наоборот. Даны две различные клетки шахматной доски, определите, может ли конь попасть с первой клетки на вторую одним ходом."
   ]
  },
  {
   "cell_type": "code",
   "execution_count": 14,
   "id": "a25f23bc-ee0f-4ff1-b618-cf70d3cc7034",
   "metadata": {},
   "outputs": [
    {
     "name": "stdin",
     "output_type": "stream",
     "text": [
      " 4\n",
      " 75\n",
      " 353\n",
      " 46\n"
     ]
    },
    {
     "name": "stdout",
     "output_type": "stream",
     "text": [
      "NO\n"
     ]
    }
   ],
   "source": [
    "a = int(input())\n",
    "b = int(input())\n",
    "c = int(input())\n",
    "d = int(input())\n",
    "\n",
    "\n",
    "if abs(a - c) == 1 and abs(b - d) == 2  or abs(a - c) == 2 and abs(b - d) == 1:\n",
    "    print('YES')\n",
    "else:\n",
    "    print('NO')"
   ]
  },
  {
   "cell_type": "markdown",
   "id": "5c170ce4-a4af-4c5b-bcc6-9d8d9a4774a2",
   "metadata": {},
   "source": [
    "### Задача «Шоколадка»\n",
    "### Условие\n",
    "Шоколадка имеет вид прямоугольника, разделенного на n×m долек. Шоколадку можно один раз разломить по прямой на две части. Определите, можно ли таким образом отломить от шоколадки часть, состоящую ровно из k долек. Программа получает на вход три числа: n, m, k и должна вывести YES или NO."
   ]
  },
  {
   "cell_type": "code",
   "execution_count": 15,
   "id": "ecb17875-e16d-402a-b1a0-8a735a36de03",
   "metadata": {},
   "outputs": [
    {
     "name": "stdin",
     "output_type": "stream",
     "text": [
      " 53\n",
      " 85\n",
      " 2\n"
     ]
    },
    {
     "name": "stdout",
     "output_type": "stream",
     "text": [
      "NO\n"
     ]
    }
   ],
   "source": [
    "n = int(input())\n",
    "m = int(input())\n",
    "k = int(input())\n",
    "\n",
    "if n*m>k:\n",
    "    if k%n==0 or k%m==0:\n",
    "        print('YES')\n",
    "    else:\n",
    "        print('NO')\n",
    "else:\n",
    "    print('NO')"
   ]
  },
  {
   "cell_type": "markdown",
   "id": "23e5f614-c6eb-4b99-83c0-467f6edffdc6",
   "metadata": {},
   "source": [
    "### Задача «Яша плавает в бассейне»\n",
    "### Условие\n",
    "Яша плавал в бассейне размером $N$ × $M$ метров и устал. В этот момент он обнаружил, что находится на расстоянии $x$ метров от одного из длинных бортиков (не обязательно от ближайшего) и y метров от одного из коротких бортиков. Какое минимальное расстояние должен проплыть Яша, чтобы выбраться из бассейна на бортик? Программа получает на вход числа $N$, $M$, $x$, $y$. Программа должна вывести число метров, которое нужно проплыть Яше до бортика."
   ]
  },
  {
   "cell_type": "code",
   "execution_count": 16,
   "id": "ad42ce7b-2b2a-4229-a45a-c710c94eac09",
   "metadata": {},
   "outputs": [
    {
     "name": "stdin",
     "output_type": "stream",
     "text": [
      " 535\n",
      " 5\n",
      " 345\n",
      " 23\n"
     ]
    },
    {
     "name": "stdout",
     "output_type": "stream",
     "text": [
      "-340\n"
     ]
    }
   ],
   "source": [
    "n = int(input())\n",
    "m = int(input())\n",
    "x = int(input())\n",
    "y = int(input())\n",
    "# n, m = min(n, m), max(n, m)\n",
    "if n > m:\n",
    "    n, m = m, n\n",
    "if x >= n / 2:\n",
    "    x = n - x\n",
    "if y >= m / 2:\n",
    "    y = m - y\n",
    "# print(min(x, y))\n",
    "if x < y:\n",
    "    print(x)\n",
    "else:\n",
    "    print(y)"
   ]
  }
 ],
 "metadata": {
  "kernelspec": {
   "display_name": "Python 3 (ipykernel)",
   "language": "python",
   "name": "python3"
  },
  "language_info": {
   "codemirror_mode": {
    "name": "ipython",
    "version": 3
   },
   "file_extension": ".py",
   "mimetype": "text/x-python",
   "name": "python",
   "nbconvert_exporter": "python",
   "pygments_lexer": "ipython3",
   "version": "3.9.12"
  }
 },
 "nbformat": 4,
 "nbformat_minor": 5
}
