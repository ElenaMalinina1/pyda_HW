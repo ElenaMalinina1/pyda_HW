{
 "cells": [
  {
   "cell_type": "markdown",
   "id": "422722c4-a994-4508-95f8-dc897e0400db",
   "metadata": {},
   "source": [
    "## Занятие 3. Вычисления\n",
    "### Задача «Последняя цифра числа»\n",
    "###  Условие\n",
    "Дано натуральное число. Выведите его последнюю цифру."
   ]
  },
  {
   "cell_type": "code",
   "execution_count": 1,
   "id": "806dfa2e-190f-404d-84b8-8eb29744b956",
   "metadata": {},
   "outputs": [
    {
     "name": "stdin",
     "output_type": "stream",
     "text": [
      " 45\n"
     ]
    },
    {
     "name": "stdout",
     "output_type": "stream",
     "text": [
      "5\n"
     ]
    }
   ],
   "source": [
    "from math import * \n",
    "\n",
    "x = int(input())\n",
    "\n",
    "print(x % 10)"
   ]
  },
  {
   "cell_type": "markdown",
   "id": "20d4a2a2-8035-4983-9df1-eaeab104649b",
   "metadata": {},
   "source": [
    "### Задача «МКАД»\n",
    "### Условие\n",
    "Длина Московской кольцевой автомобильной дороги —109 километров. Байкер Вася стартует с нулевого километра МКАД и едет со скоростью $v$\n",
    " километров в час. На какой отметке он остановится через $t$ часов?\n",
    "\n",
    "Программа получает на вход значение $v$\n",
    " и $t$\n",
    ". Если $v$>0\n",
    ", то Вася движется в положительном направлении по МКАД, если же значение $v$<0\n",
    ", то в отрицательном.\n",
    "\n",
    "Программа должна вывести целое число от 0 до 108 — номер отметки, на которой остановится Вася."
   ]
  },
  {
   "cell_type": "code",
   "execution_count": 2,
   "id": "0bd9999c-b591-4851-922c-461918afd770",
   "metadata": {},
   "outputs": [
    {
     "name": "stdin",
     "output_type": "stream",
     "text": [
      " 7\n",
      " 47\n"
     ]
    },
    {
     "name": "stdout",
     "output_type": "stream",
     "text": [
      "2\n"
     ]
    }
   ],
   "source": [
    "v = int(input())\n",
    "t = int(input())\n",
    "print((v * t) % 109)"
   ]
  },
  {
   "cell_type": "markdown",
   "id": "38e25823-f4f9-4fe8-8a4f-880708341eef",
   "metadata": {},
   "source": [
    "### Задача «Дробная часть»\n",
    "### Условие\n",
    "Дано положительное действительное число X. Выведите его дробную часть."
   ]
  },
  {
   "cell_type": "code",
   "execution_count": 3,
   "id": "ae1dc7aa-72c9-445f-a79c-de0799b889aa",
   "metadata": {},
   "outputs": [
    {
     "name": "stdin",
     "output_type": "stream",
     "text": [
      " 46\n"
     ]
    },
    {
     "name": "stdout",
     "output_type": "stream",
     "text": [
      "0.0\n"
     ]
    }
   ],
   "source": [
    "x = float(input())\n",
    "print(x - int(x))"
   ]
  },
  {
   "cell_type": "markdown",
   "id": "160b02c2-0b11-4818-84c6-aca492397e29",
   "metadata": {},
   "source": [
    "### Задача «Первая цифра после точки»\n",
    "### Условие\n",
    "Дано положительное действительное число X. Выведите его первую цифру после десятичной точки."
   ]
  },
  {
   "cell_type": "code",
   "execution_count": 4,
   "id": "ec1fe140-9923-4d5b-b27e-32647b72b752",
   "metadata": {},
   "outputs": [
    {
     "name": "stdin",
     "output_type": "stream",
     "text": [
      " 47\n"
     ]
    },
    {
     "name": "stdout",
     "output_type": "stream",
     "text": [
      "0\n"
     ]
    }
   ],
   "source": [
    "x = float(input())\n",
    "print(int(x * 10) %10)"
   ]
  },
  {
   "cell_type": "markdown",
   "id": "1ea83740-d86f-47b6-b9ed-6dd58898e372",
   "metadata": {},
   "source": [
    "### Задача «Конец уроков»\n",
    "### Условие\n",
    "В некоторой школе занятия начинаются в 9:00. Продолжительность урока — 45 минут, после 1-го, 3-го, 5-го и т.д. уроков перемена 5 минут, а после 2-го, 4-го, 6-го и т.д. — 15 минут.\n",
    "\n",
    "Дан номер урока (число от 1 до 10). Определите, когда заканчивается указанный урок.\n",
    "\n",
    "Выведите два целых числа: время окончания урока в часах и минутах."
   ]
  },
  {
   "cell_type": "code",
   "execution_count": 5,
   "id": "c4ab3778-e2f7-45ed-8c19-51549e9ded94",
   "metadata": {},
   "outputs": [
    {
     "name": "stdin",
     "output_type": "stream",
     "text": [
      " 47\n"
     ]
    },
    {
     "name": "stdout",
     "output_type": "stream",
     "text": [
      "51 55\n"
     ]
    }
   ],
   "source": [
    "a = int(input())\n",
    "small = a // 2\n",
    "long = a - small - 1\n",
    "time = a * 45 + small * 5 + long * 15\n",
    "\n",
    "hours = 9 + time // 60\n",
    "minutes = time % 60\n",
    "\n",
    "print(str(hours) + ' ' + str(minutes))"
   ]
  },
  {
   "cell_type": "markdown",
   "id": "629f0380-a2fe-41b4-a9b1-9413edcb4f35",
   "metadata": {},
   "source": [
    "### Задача «Автопробег»\n",
    "### Условие\n",
    "За день машина проезжает n километров. Сколько дней нужно, чтобы проехать маршрут длиной m километров? Программа получает на вход числа n и m."
   ]
  },
  {
   "cell_type": "code",
   "execution_count": 6,
   "id": "4b1f5133-27ec-4f5b-a216-8818f5592851",
   "metadata": {},
   "outputs": [
    {
     "name": "stdin",
     "output_type": "stream",
     "text": [
      " 47\n",
      " 47\n"
     ]
    },
    {
     "name": "stdout",
     "output_type": "stream",
     "text": [
      "1\n"
     ]
    }
   ],
   "source": [
    "import math\n",
    "n = float(input())\n",
    "m = float(input())\n",
    "\n",
    "print(math.ceil(m/n))"
   ]
  },
  {
   "cell_type": "markdown",
   "id": "9e10c85a-12ec-4395-9ef0-3f96356ef6f5",
   "metadata": {},
   "source": [
    "### Задача «Стоимость покупки»\n",
    "### Условие\n",
    "Пирожок в столовой стоит $a$ рублей и $b$ копеек. Определите, сколько рублей и копеек нужно заплатить за $n$ пирожков. Программа получает на вход три числа: $a$, $b$, $n$, и должна вывести два числа: стоимость покупки в рублях и копейках."
   ]
  },
  {
   "cell_type": "code",
   "execution_count": 7,
   "id": "2fc59882-c06b-46ba-8707-b4aa1e636002",
   "metadata": {},
   "outputs": [
    {
     "name": "stdin",
     "output_type": "stream",
     "text": [
      " 25\n",
      " 6\n",
      " 2\n"
     ]
    },
    {
     "name": "stdout",
     "output_type": "stream",
     "text": [
      "50 12\n"
     ]
    }
   ],
   "source": [
    "a,b,n = [int(input()) for i in range(3)]\n",
    "\n",
    "cost = (a * 100 + b) * n\n",
    "rub = cost // 100\n",
    "kop = cost % 100\n",
    "\n",
    "print(rub, kop)"
   ]
  },
  {
   "cell_type": "markdown",
   "id": "9e7bacd2-7e79-4de0-911c-b355971cc9b2",
   "metadata": {},
   "source": [
    "### Задача «Разность времен»\n",
    "### Условие\n",
    "Даны значения двух моментов времени, принадлежащих одним и тем же суткам: часы, минуты и секунды для каждого из моментов времени. Известно, что второй момент времени наступил не раньше первого. Определите, сколько секунд прошло между двумя моментами времени.\n",
    "\n",
    "Программа на вход получает три целых числа: часы, минуты, секунды, задающие первый момент времени и три целых числа, задающих второй момент времени.\n",
    "\n",
    "Выведите число секунд между этими моментами времени."
   ]
  },
  {
   "cell_type": "code",
   "execution_count": 8,
   "id": "9cef0317-a6db-4b76-9197-73e0dbe935e2",
   "metadata": {},
   "outputs": [
    {
     "name": "stdin",
     "output_type": "stream",
     "text": [
      " 35\n",
      " 7\n",
      " 9\n",
      " 34\n",
      " 2\n",
      " 46\n"
     ]
    },
    {
     "name": "stdout",
     "output_type": "stream",
     "text": [
      "-3863\n"
     ]
    }
   ],
   "source": [
    "h1,m1,s1,h2,m2,s2 = [int(input()) for i in range(6)]\n",
    "\n",
    "sec1 = (h1 * 3600) + (m1 * 60) + s1\n",
    "sec2 = (h2 * 3600) + (m2 * 60) + s2\n",
    "\n",
    "delta = sec2 - sec1\n",
    "print(delta)"
   ]
  },
  {
   "cell_type": "markdown",
   "id": "a95b4c1c-bdd2-4951-835a-2b1cb73e6b43",
   "metadata": {},
   "source": [
    "### Задача «Улитка»\n",
    "### Условие\n",
    "Улитка ползет по вертикальному шесту высотой $h$\n",
    " метров, поднимаясь за день на $a$\n",
    " метров, а за ночь спускаясь на $b$\n",
    " метров. На какой день улитка доползет до вершины шеста?\n",
    "\n",
    "Программа получает на вход натуральные числа $h$\n",
    ", $a$\n",
    ", $b$\n",
    ".\n",
    "\n",
    "Программа должна вывести одно натуральное число. Гарантируется, что $a$>$b$\n",
    "."
   ]
  },
  {
   "cell_type": "code",
   "execution_count": 9,
   "id": "a84fc971-4140-471a-85f2-652a3da56800",
   "metadata": {},
   "outputs": [
    {
     "name": "stdin",
     "output_type": "stream",
     "text": [
      " 35\n",
      " 65\n",
      " 76\n"
     ]
    },
    {
     "name": "stdout",
     "output_type": "stream",
     "text": [
      "4\n"
     ]
    }
   ],
   "source": [
    "h,a,b = [int(input()) for i in range(3)]\n",
    "delta  = a - b\n",
    "res = ceil((h - a) / delta) + 1\n",
    "print(res)"
   ]
  },
  {
   "cell_type": "markdown",
   "id": "2904857c-7b35-43d3-a6a1-38a4cbc78586",
   "metadata": {},
   "source": [
    "### Задача «Число десятков»\n",
    "### Условие\n",
    "Дано натуральное число. Найдите число десятков в его десятичной записи."
   ]
  },
  {
   "cell_type": "code",
   "execution_count": 10,
   "id": "51b1ac8c-7731-4ec4-9746-df0e2f274962",
   "metadata": {},
   "outputs": [
    {
     "name": "stdin",
     "output_type": "stream",
     "text": [
      " 56\n"
     ]
    },
    {
     "name": "stdout",
     "output_type": "stream",
     "text": [
      "5\n"
     ]
    }
   ],
   "source": [
    "n = int(input())\n",
    "print(n // 10 % 10)"
   ]
  },
  {
   "cell_type": "markdown",
   "id": "dd231e0b-59f9-4d35-9bd8-ca031140c2c6",
   "metadata": {},
   "source": [
    "### Задача «Сумма цифр»\n",
    "### Условие\n",
    "Дано трехзначное число. Найдите сумму его цифр."
   ]
  },
  {
   "cell_type": "code",
   "execution_count": 16,
   "id": "bb3986d9-9b54-456c-9ee5-951984c1bdcb",
   "metadata": {},
   "outputs": [
    {
     "name": "stdin",
     "output_type": "stream",
     "text": [
      " 345\n"
     ]
    },
    {
     "name": "stdout",
     "output_type": "stream",
     "text": [
      "12\n"
     ]
    }
   ],
   "source": [
    "x = int(input())\n",
    "print((x // 100) + (x // 10 % 10) + (a % 10))"
   ]
  },
  {
   "cell_type": "markdown",
   "id": "2f8e4ba4-e054-4a0b-85f3-a45eb2962135",
   "metadata": {},
   "source": [
    "### Задача «Гипотенуза»\n",
    "### Условие\n",
    "Дано два числа $a$ и $b$. Выведите гипотенузу треугольника с заданными катетами."
   ]
  },
  {
   "cell_type": "code",
   "execution_count": 18,
   "id": "287502e8-fc1c-4235-a2d0-156b67c6a911",
   "metadata": {},
   "outputs": [
    {
     "name": "stdin",
     "output_type": "stream",
     "text": [
      " 4\n",
      " 6\n"
     ]
    },
    {
     "name": "stdout",
     "output_type": "stream",
     "text": [
      "7.211102550927978\n"
     ]
    }
   ],
   "source": [
    "import math\n",
    "\n",
    "a = int(input())\n",
    "b = int(input())\n",
    "c = math.sqrt(b * b + a * a)\n",
    "print(c)"
   ]
  },
  {
   "cell_type": "markdown",
   "id": "cd4e2475-82bf-424e-9387-907336c04700",
   "metadata": {},
   "source": [
    "### Задача «Часы - 1»\n",
    "### Условие\n",
    "С начала суток прошло $H$ часов, $M$ минут, S секунд (0 ≤ $H$ < 12, 0 ≤ $M$ < 60, 0 ≤ $S$ < 60). По данным числам $H$, $M$, $S$ определите угол (в градусах), на который повернулаcь часовая стрелка с начала суток и выведите его в виде действительного числа."
   ]
  },
  {
   "cell_type": "code",
   "execution_count": 19,
   "id": "b1a88ea6-1dca-4474-bbbc-a3d3a2b360e5",
   "metadata": {},
   "outputs": [
    {
     "name": "stdin",
     "output_type": "stream",
     "text": [
      " 4\n",
      " 7\n",
      " 2\n"
     ]
    },
    {
     "name": "stdout",
     "output_type": "stream",
     "text": [
      "123.51666666666667\n"
     ]
    }
   ],
   "source": [
    "h = int(input())\n",
    "m = int(input())\n",
    "s = int(input())\n",
    "\n",
    "print(h * 30 + m * 30 / 60 + s * 30 / 3600)"
   ]
  },
  {
   "cell_type": "markdown",
   "id": "2fcafe26-c458-474d-805c-0603d48824ec",
   "metadata": {},
   "source": [
    "### Задача «Часы - 2»\n",
    "### Условие\n",
    "С начала суток часовая стрелка повернулась на угол в α градусов. Определите на какой угол повернулась минутная стрелка с начала последнего часа. Входные и выходные данные — действительные числа."
   ]
  },
  {
   "cell_type": "code",
   "execution_count": 20,
   "id": "28798ef3-f64c-4050-85dc-73ffeab5afa3",
   "metadata": {},
   "outputs": [
    {
     "name": "stdin",
     "output_type": "stream",
     "text": [
      " 3\n"
     ]
    },
    {
     "name": "stdout",
     "output_type": "stream",
     "text": [
      "36.0\n"
     ]
    }
   ],
   "source": [
    "a = float(input())\n",
    "print(a % 30 * 12)"
   ]
  },
  {
   "cell_type": "markdown",
   "id": "30530464-00f6-43fd-bf1e-f9f7c9e378ae",
   "metadata": {},
   "source": [
    "### Задача «Часы - 3»\n",
    "### Условие\n",
    "С начала суток часовая стрелка повернулась на угол в α градусов. Определите сколько полных часов, минут и секунд прошло с начала суток, то есть решите задачу, обратную задаче «Часы - 1». Запишите ответ в три переменные и выведите их на экран."
   ]
  },
  {
   "cell_type": "code",
   "execution_count": 21,
   "id": "7f6b441d-49f0-4408-be07-b6dc50a5834d",
   "metadata": {},
   "outputs": [
    {
     "name": "stdin",
     "output_type": "stream",
     "text": [
      " 5\n"
     ]
    },
    {
     "name": "stdout",
     "output_type": "stream",
     "text": [
      "0 10 0\n"
     ]
    }
   ],
   "source": [
    "angle = float(input())\n",
    "print(int(angle // 30), int(angle % 30 * 2), int(angle % 0.5 * 120))"
   ]
  },
  {
   "cell_type": "markdown",
   "id": "222e4b3c-de23-458d-90d8-dc4411f14d2a",
   "metadata": {},
   "source": [
    "### Задача «Проценты»\n",
    "### Условие\n",
    "Процентная ставка по вкладу составляет $P$ процентов годовых, которые прибавляются к сумме вклада. Вклад составляет $X$ рублей $Y$ копеек. Определите размер вклада через год.\n",
    "Программа получает на вход целые числа $P$, $X$, $Y$ и должна вывести два числа: величину вклада через год в рублях и копейках. Дробная часть копеек отбрасывается."
   ]
  },
  {
   "cell_type": "code",
   "execution_count": 22,
   "id": "58de5067-38c6-4470-8bb5-dd0cea240bfd",
   "metadata": {},
   "outputs": [
    {
     "name": "stdin",
     "output_type": "stream",
     "text": [
      " 7\n",
      " 5\n",
      " 2\n"
     ]
    },
    {
     "name": "stdout",
     "output_type": "stream",
     "text": [
      "5 37\n"
     ]
    }
   ],
   "source": [
    "p = int(input())\n",
    "x = int(input())\n",
    "y = int(input())\n",
    "money_before = 100 * x + y\n",
    "money_after = int(money_before * (100 + p) / 100)\n",
    "print(money_after // 100, money_after % 100)"
   ]
  }
 ],
 "metadata": {
  "kernelspec": {
   "display_name": "Python 3 (ipykernel)",
   "language": "python",
   "name": "python3"
  },
  "language_info": {
   "codemirror_mode": {
    "name": "ipython",
    "version": 3
   },
   "file_extension": ".py",
   "mimetype": "text/x-python",
   "name": "python",
   "nbconvert_exporter": "python",
   "pygments_lexer": "ipython3",
   "version": "3.9.12"
  }
 },
 "nbformat": 4,
 "nbformat_minor": 5
}
