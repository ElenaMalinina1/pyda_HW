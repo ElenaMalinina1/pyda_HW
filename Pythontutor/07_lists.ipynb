{
 "cells": [
  {
   "cell_type": "markdown",
   "id": "36539c82-f14e-4e4d-98a2-f0a5e9fcea37",
   "metadata": {},
   "source": [
    "# Занятие 7. Списки \n",
    "### Задача «Четные индексы»\n",
    "#### Условие\n",
    "Выведите все элементы списка с четными индексами (то есть A[0], A[2], A[4], ...)."
   ]
  },
  {
   "cell_type": "code",
   "execution_count": null,
   "id": "9f4f668e-e3df-4074-9209-05a7baf87d90",
   "metadata": {},
   "outputs": [],
   "source": [
    "# my_list = [s for s in input().split()] #запрос + разделение строки на элементы\n",
    "# for indx in range(0, len(my_list), 2): #перебор списка в дипазоне с 0 на длину списка с шагом 2\n",
    "#     print(my_list[indx], end = ' ')\n",
    "\n",
    "my_list = [s for s in input().split()]\n",
    "for indx in range(0, len(my_list)):\n",
    "    if indx % 2 == 0:\n",
    "        print(my_list[indx], end = ' ')"
   ]
  },
  {
   "cell_type": "markdown",
   "id": "47a24093-a331-43f2-a1b2-e8348ca19e30",
   "metadata": {},
   "source": [
    "### Задача «Четные элементы»\n",
    "#### Условие\n",
    "Выведите все четные элементы списка. При этом используйте цикл for, перебирающий элементы списка, а не их индексы!"
   ]
  },
  {
   "cell_type": "code",
   "execution_count": null,
   "id": "b00ef854-43c6-4cfd-bda3-81d7ad0b5022",
   "metadata": {},
   "outputs": [],
   "source": [
    "my_list = [s for s in input().split()]\n",
    "for element in my_list:\n",
    "    if int(element) % 2 == 0:\n",
    "        print(element, end = ' ')"
   ]
  },
  {
   "cell_type": "markdown",
   "id": "19081d60-a5ef-4824-86ce-2c4a830c411a",
   "metadata": {},
   "source": [
    "### Задача «Больше предыдущего»\n",
    "#### Условие\n",
    "Дан список чисел. Выведите все элементы списка, которые больше предыдущего элемента."
   ]
  },
  {
   "cell_type": "code",
   "execution_count": null,
   "id": "bd60cd14-826e-425b-a71c-c80d6e52133d",
   "metadata": {},
   "outputs": [],
   "source": [
    "my_list = [int(s) for s in input().split()]\n",
    "for element in range(1, len(my_list)):\n",
    "    if my_list[element] > my_list[element - 1]:\n",
    "        print(my_list[element], end = ' ')"
   ]
  },
  {
   "cell_type": "markdown",
   "id": "9cfbbe23-4ca1-4261-9114-dbb1498de65f",
   "metadata": {},
   "source": [
    "### Задача «Соседи одного знака»\n",
    "#### Условие\n",
    "Дан список чисел. Если в нем есть два соседних элемента одного знака, выведите эти числа. Если соседних элементов одного знака нет — не выводите ничего. Если таких пар соседей несколько — выведите первую пару."
   ]
  },
  {
   "cell_type": "code",
   "execution_count": null,
   "id": "a4b9a0c5-6f00-4232-a5c9-7e6376bb822d",
   "metadata": {},
   "outputs": [],
   "source": [
    "my_list = [int(s) for s in input().split()]\n",
    "for element in range(len(my_list) - 1):\n",
    "     if my_list[element] * my_list[element + 1] > 0:\n",
    "        print(my_list[element],my_list[element + 1], end = ' ')\n",
    "        break"
   ]
  },
  {
   "cell_type": "markdown",
   "id": "08f5eb47-e398-400d-9d5e-32fce6df5a28",
   "metadata": {},
   "source": [
    "### Задача «Больше своих соседей»\n",
    "####  Условие\n",
    "Дан список чисел. Определите, сколько в этом списке элементов, которые больше двух своих соседей, и выведите количество таких элементов. Крайние элементы списка никогда не учитываются, поскольку у них недостаточно соседей."
   ]
  },
  {
   "cell_type": "code",
   "execution_count": null,
   "id": "d5ade4b1-c2d5-427d-bcf2-f931beb440bc",
   "metadata": {},
   "outputs": [],
   "source": [
    "my_list = [int(s) for s in input().split()]\n",
    "count = 0\n",
    "for element in range(1, len(my_list) - 1):\n",
    "     if my_list[element] > my_list[element + 1] and my_list[element] > my_list[element - 1]:\n",
    "            count += 1\n",
    "print(count,  end = ' ')\n",
    "\n",
    "# my_list = [int(s) for s in input().split()]\n",
    "# count = 0\n",
    "# for element in range(1, len(my_list) - 1):\n",
    "#      if my_list[element - 1] < my_list[element] > my_list[element + 1]:\n",
    "#             count += 1\n",
    "# print(count,  end = ' ')"
   ]
  },
  {
   "cell_type": "markdown",
   "id": "228d73fe-6d39-45d6-a874-f4092e34347f",
   "metadata": {},
   "source": [
    "### Задача «Наибольший элемент»\n",
    "#### Условие\n",
    "Дан список чисел. Выведите значение наибольшего элемента в списке, а затем индекс этого элемента в списке. Если наибольших элементов несколько, выведите индекс первого из них."
   ]
  },
  {
   "cell_type": "code",
   "execution_count": null,
   "id": "59f915c9-bc87-402d-bbef-c8a8f564fa96",
   "metadata": {},
   "outputs": [],
   "source": [
    "my_list = [int(s) for s in input().split()]\n",
    "for element in range(len(my_list)):\n",
    "    max_num = max(my_list)\n",
    "    print(max_num, my_list.index(max_num))\n",
    "    break"
   ]
  },
  {
   "cell_type": "markdown",
   "id": "5c9cf596-d37a-47c6-9162-063395aab4fe",
   "metadata": {},
   "source": [
    "### Задача «Шеренга»\n",
    "#### Условие\n",
    "Петя перешёл в другую школу. На уроке физкультуры ему понадобилось определить своё место в строю. Помогите ему это сделать.\n",
    "Программа получает на вход невозрастающую последовательность натуральных чисел, означающих рост каждого человека в строю. После этого вводится число $X$ – рост Пети. Все числа во входных данных натуральные и не превышают 200.\n",
    "\n",
    "Выведите номер, под которым Петя должен встать в строй. Если в строю есть люди с одинаковым ростом, таким же, как у Пети, то он должен встать после них."
   ]
  },
  {
   "cell_type": "code",
   "execution_count": null,
   "id": "a45c86a8-ab7f-40df-9c5a-dfef96fa8a7c",
   "metadata": {},
   "outputs": [],
   "source": [
    "height =  [int(s) for s in input().split()]\n",
    "petya = int(input())\n",
    "for element in range(len(height)):\n",
    "    if petya > height[element]:\n",
    "        print(element + 1)\n",
    "        break\n",
    "    else:\n",
    "        if element == len(height) - 1:\n",
    "            print(len(height) + 1)\n",
    "            \n",
    "# a = list(map(int,input().split()))\n",
    "# x = int(input())\n",
    "# n = 1\n",
    "# for i in range(len(a)):\n",
    "#     if a[i] >= x:\n",
    "#         n = i + 2\n",
    "# print(n)"
   ]
  },
  {
   "cell_type": "markdown",
   "id": "c393291c-4788-4e76-aa1d-bd4a54ea37fc",
   "metadata": {},
   "source": [
    "### Задача «Количество различных элементов»\n",
    "#### Условие\n",
    "Дан список, упорядоченный по неубыванию элементов в нем. Определите, сколько в нем различных элементов."
   ]
  },
  {
   "cell_type": "code",
   "execution_count": null,
   "id": "ceda01fc-2a2e-4d6e-a2a1-f52ac33e3f89",
   "metadata": {},
   "outputs": [],
   "source": [
    "numbers =  [int(s) for s in input().split()]\n",
    "my_list = []\n",
    "count = 0\n",
    "for number in range(len(numbers)):\n",
    "    if numbers[number] not in my_list:\n",
    "        my_list.append(numbers[number])\n",
    "        count += 1\n",
    "print(count)\n",
    "\n",
    "# numbers =  [int(s) for s in input().split()]\n",
    "# count = 1\n",
    "# for element in range(len(numbers) - 1):\n",
    "#     if numbers[element] != numbers[element + 1]:\n",
    "#         count += 1\n",
    "# print(count)"
   ]
  },
  {
   "cell_type": "markdown",
   "id": "6a09139b-440f-4bb5-8079-7687bdc2bf31",
   "metadata": {},
   "source": [
    "### Задача «Переставить соседние»\n",
    "#### Условие\n",
    "Переставьте соседние элементы списка (A[0] c A[1], A[2] c A[3] и т. д.). Если элементов нечетное число, то последний элемент остается на своем месте."
   ]
  },
  {
   "cell_type": "code",
   "execution_count": null,
   "id": "bb0e5f1c-b4b3-4938-8367-1bb764cf053d",
   "metadata": {},
   "outputs": [],
   "source": [
    "numbers =  [int(s) for s in input().split()]\n",
    "for element in range(0, len(numbers) - 1, 2):\n",
    "    numbers[element], numbers[element + 1] = numbers[element + 1], numbers[element]\n",
    "print(*numbers)"
   ]
  },
  {
   "cell_type": "markdown",
   "id": "f33a54b2-e8a4-4a73-be08-3f5f9bb7acee",
   "metadata": {},
   "source": [
    "### Задача «Переставить min и max»\n",
    "#### Условие\n",
    "В списке все элементы различны. Поменяйте местами минимальный и максимальный элемент этого списка."
   ]
  },
  {
   "cell_type": "code",
   "execution_count": 5,
   "id": "30aadc4f-1575-456a-981e-d56d5d9d58d3",
   "metadata": {},
   "outputs": [
    {
     "name": "stdin",
     "output_type": "stream",
     "text": [
      " 2147483647 -2147483648\n"
     ]
    },
    {
     "name": "stdout",
     "output_type": "stream",
     "text": [
      "-2147483648 2147483647\n"
     ]
    }
   ],
   "source": [
    "numbers =  [int(s) for s in input().split()]\n",
    "pos_maximum = numbers.index(max(numbers))\n",
    "pos_minimum = numbers.index(min(numbers))\n",
    "numbers[pos_maximum], numbers[pos_minimum] = numbers[pos_minimum], numbers[pos_maximum]\n",
    "# print(' '.join([str(i) for i in numbers]))\n",
    "print(*numbers)"
   ]
  },
  {
   "cell_type": "code",
   "execution_count": null,
   "id": "1aeb9a89-e3f1-48fc-b4ea-9cc92fc147c8",
   "metadata": {},
   "outputs": [],
   "source": [
    "2147483647 -2147483648"
   ]
  },
  {
   "cell_type": "markdown",
   "id": "368bf297-7ff2-49dc-9246-1008818dc6a1",
   "metadata": {},
   "source": [
    "### Задача «Удалить элемент»\n",
    "#### Условие\n",
    "Дан список из чисел и индекс элемента в списке $k$. Удалите из списка элемент с индексом $k$, сдвинув влево все элементы, стоящие правее элемента с индексом $k$.\n",
    "Программа получает на вход список, затем число $k$. Программа сдвигает все элементы, а после этого удаляет последний элемент списка при помощи метода pop() без параметров.\n",
    "\n",
    "Программа должна осуществлять сдвиг непосредственно в списке, а не делать это при выводе элементов. Также нельзя использовать дополнительный список. Также не следует использовать метод pop(k) с параметром."
   ]
  },
  {
   "cell_type": "code",
   "execution_count": 48,
   "id": "eeea1f82-b498-4569-9167-5da8adeca6e7",
   "metadata": {},
   "outputs": [
    {
     "name": "stdin",
     "output_type": "stream",
     "text": [
      " 7 6 5 4 3 2 1\n",
      " 2\n"
     ]
    },
    {
     "name": "stdout",
     "output_type": "stream",
     "text": [
      "7 6 4 3 2 1\n"
     ]
    }
   ],
   "source": [
    "numbers =  [int(s) for s in input().split()]\n",
    "k = int(input())\n",
    "for element in range(len(numbers)):\n",
    "    numbers.append(numbers.pop(k))\n",
    "    numbers.pop()\n",
    "    break\n",
    "print(*numbers)\n",
    "\n",
    "# a = [int(s) for s in input().split()]\n",
    "# k = int(input())\n",
    "# for i in range(k + 1, len(a)):\n",
    "#     a[i - 1] = a[i]\n",
    "# a.pop()\n",
    "# print(' '.join([str(i) for i in a]))"
   ]
  },
  {
   "cell_type": "markdown",
   "id": "91ccf9fc-09e0-4bc1-b987-a5f4db4ef4b5",
   "metadata": {},
   "source": [
    "### Задача «Вставить элемент»\n",
    "#### Условие\n",
    "Дан список целых чисел, число $k$ и значение $C$. Необходимо вставить в список на позицию с индексом $k$ элемент, равный $C$, сдвинув все элементы, имевшие индекс не менее $k$, вправо.\n",
    "Поскольку при этом количество элементов в списке увеличивается, после считывания списка в его конец нужно будет добавить новый элемент, используя метод append.\n",
    "\n",
    "Вставку необходимо осуществлять уже в считанном списке, не делая этого при выводе и не создавая дополнительного списка."
   ]
  },
  {
   "cell_type": "code",
   "execution_count": 33,
   "id": "ac46d36f-7fde-419d-baa6-ef48bd64817b",
   "metadata": {},
   "outputs": [
    {
     "name": "stdin",
     "output_type": "stream",
     "text": [
      " 7 6 5 4 3 2 1\n",
      " 2\n",
      " 0\n"
     ]
    },
    {
     "name": "stdout",
     "output_type": "stream",
     "text": [
      "7 6 0 5 4 3 2 1\n"
     ]
    }
   ],
   "source": [
    "# numbers =  [int(s) for s in input().split()]\n",
    "# k, c = [int(input()) for i in range(2)]\n",
    "# # k, c = [int(s) for s in input().split()]\n",
    "\n",
    "# for element in range(len(numbers)):\n",
    "#     numbers.insert(k, c)\n",
    "#     break\n",
    "# print(' '.join([str(element) for element in numbers]))\n",
    "\n",
    "numbers =  [int(s) for s in input().split()]\n",
    "k, c = [int(input()) for i in range(2)]\n",
    "\n",
    "numbers.insert(k, c)\n",
    "print(' '.join([str(element) for element in numbers]))"
   ]
  },
  {
   "cell_type": "markdown",
   "id": "f207f282-996d-4ae5-98ea-3fe563942d31",
   "metadata": {},
   "source": [
    "### Задача «Количество совпадающих пар»\n",
    "#### Условие\n",
    "Дан список чисел. Посчитайте, сколько в нем пар элементов, равных друг другу. Считается, что любые два элемента, равные друг другу образуют одну пару, которую необходимо посчитать."
   ]
  },
  {
   "cell_type": "code",
   "execution_count": 64,
   "id": "8252e007-f9ad-4861-ab5f-6a05990a4f98",
   "metadata": {},
   "outputs": [
    {
     "name": "stdin",
     "output_type": "stream",
     "text": [
      " 1 2 3 2 3\n"
     ]
    },
    {
     "name": "stdout",
     "output_type": "stream",
     "text": [
      "2\n"
     ]
    }
   ],
   "source": [
    "numbers =  [int(s) for s in input().split()]\n",
    "count = 0\n",
    "\n",
    "for element in range(len(numbers)):\n",
    "    for number in range(element + 1, len(numbers)):\n",
    "        if numbers[number] == numbers[element]:\n",
    "            count += 1\n",
    "print(count)"
   ]
  },
  {
   "cell_type": "markdown",
   "id": "b2f55eaa-d6cb-4d51-a4d6-4bd77d9249e8",
   "metadata": {},
   "source": [
    "### Задача «Уникальные элементы»\n",
    "#### Условие\n",
    "Дан список. Выведите те его элементы, которые встречаются в списке только один раз. Элементы нужно выводить в том порядке, в котором они встречаются в списке.1 2 3 2 3"
   ]
  },
  {
   "cell_type": "code",
   "execution_count": 73,
   "id": "76cfd05e-68d1-45ca-bfc9-4b5d198d0361",
   "metadata": {},
   "outputs": [
    {
     "name": "stdin",
     "output_type": "stream",
     "text": [
      " 4 3 5 2 5 1 3 5\n"
     ]
    },
    {
     "name": "stdout",
     "output_type": "stream",
     "text": [
      "4 2 1\n"
     ]
    }
   ],
   "source": [
    "numbers =  [str(s) for s in input().split()]\n",
    "my_list = []\n",
    "for num in numbers:\n",
    "    if numbers.count(num) == 1:\n",
    "        my_list.append(num)\n",
    "print(' '.join(str(i) for i in my_list))"
   ]
  },
  {
   "cell_type": "markdown",
   "id": "8846cd4b-5cd6-4b46-a6fa-89bbce8a4543",
   "metadata": {},
   "source": [
    "### Задача «Кегельбан»\n",
    "#### Условие\n",
    "$N$ кеглей выставили в один ряд, занумеровав их слева направо числами от 1 до $N$. Затем по этому ряду бросили $K$ шаров, при этом i-й шар сбил все кегли с номерами от $li$ до $ri$ включительно. Определите, какие кегли остались стоять на месте.\n",
    "Программа получает на вход количество кеглей $N$ и количество бросков $K$. Далее идет $K$ пар чисел $li$, $ri$, при этом $1$ ≤ $li$ ≤ $ri$ ≤ $N$.\n",
    "\n",
    "Программа должна вывести последовательность из $N$ символов, где $j$-й символ есть “$I$”, если $j$-я кегля осталась стоять, или “.”, если $j$-я кегля была сбита."
   ]
  },
  {
   "cell_type": "code",
   "execution_count": 74,
   "id": "6a4cfede-eae1-4b42-a924-7c3fb59c36ed",
   "metadata": {},
   "outputs": [
    {
     "name": "stdin",
     "output_type": "stream",
     "text": [
      " 10 3\n",
      " 8 10\n",
      " 2 5\n",
      " 3 6\n"
     ]
    },
    {
     "name": "stdout",
     "output_type": "stream",
     "text": [
      "I.....I...\n"
     ]
    }
   ],
   "source": [
    "n, k = [int(s) for s in input().split()] \n",
    "bahn = ['I'] * n\n",
    "for el in range(k):\n",
    "    left, right = [int(s) for s in input().split()]\n",
    "    for num in range(left - 1, right):\n",
    "        bahn[num] = '.'\n",
    "print(''.join(bahn))"
   ]
  },
  {
   "cell_type": "markdown",
   "id": "4964ef56-8957-4269-afe8-c9a72214434e",
   "metadata": {},
   "source": [
    "### Задача «Ферзи»\n",
    "#### Условие\n",
    "Известно, что на доске 8×8 можно расставить 8 ферзей так, чтобы они не били друг друга. Вам дана расстановка 8 ферзей на доске, определите, есть ли среди них пара бьющих друг друга.\n",
    "Программа получает на вход восемь пар чисел, каждое число от 1 до 8 — координаты 8 ферзей. Если ферзи не бьют друг друга, выведите слово NO, иначе выведите YES."
   ]
  },
  {
   "cell_type": "code",
   "execution_count": 76,
   "id": "54750bd8-24b5-4524-a2ad-a34badd12999",
   "metadata": {},
   "outputs": [
    {
     "name": "stdin",
     "output_type": "stream",
     "text": [
      " 1 7\n",
      " 2 4\n",
      " 3 2\n",
      " 4 8\n",
      " 5 6\n",
      " 6 1\n",
      " 7 3\n",
      " 8 5\n"
     ]
    },
    {
     "name": "stdout",
     "output_type": "stream",
     "text": [
      "NO\n"
     ]
    }
   ],
   "source": [
    "n = 8\n",
    "x = []\n",
    "y = []\n",
    "for i in range(n):\n",
    "    new_x, new_y = [int(s) for s in input().split()]\n",
    "    x.append(new_x)\n",
    "    y.append(new_y)\n",
    "\n",
    "correct = True\n",
    "for i in range(n):\n",
    "    for j in range(i + 1, n):\n",
    "        if x[i] == x[j] or y[i] == y[j] or abs(x[i] - x[j]) == abs(y[i] - y[j]):\n",
    "            correct = False\n",
    "\n",
    "if correct:\n",
    "    print('NO')\n",
    "else:\n",
    "    print('YES')"
   ]
  }
 ],
 "metadata": {
  "kernelspec": {
   "display_name": "Python 3 (ipykernel)",
   "language": "python",
   "name": "python3"
  },
  "language_info": {
   "codemirror_mode": {
    "name": "ipython",
    "version": 3
   },
   "file_extension": ".py",
   "mimetype": "text/x-python",
   "name": "python",
   "nbconvert_exporter": "python",
   "pygments_lexer": "ipython3",
   "version": "3.9.12"
  }
 },
 "nbformat": 4,
 "nbformat_minor": 5
}
