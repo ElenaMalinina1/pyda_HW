{
 "cells": [
  {
   "cell_type": "markdown",
   "id": "6862c7a0-808c-4388-939d-526b38f0f9be",
   "metadata": {},
   "source": [
    "## Занятие 5. Строки\n",
    "\n",
    "### 5.1 Задача «Делаем срезы»\n",
    "\n",
    "### Условие: \n",
    "Дана строка.\n",
    "\n",
    "Сначала выведите третий символ этой строки.\n",
    "\n",
    "Во второй строке выведите предпоследний символ этой строки.\n",
    "\n",
    "В третьей строке выведите первые пять символов этой строки.\n",
    "\n",
    "В четвертой строке выведите всю строку, кроме последних двух символов.\n",
    "\n",
    "В пятой строке выведите все символы с четными индексами (считая, что индексация начинается с 0, поэтому символы выводятся начиная с первого).\n",
    "\n",
    "В шестой строке выведите все символы с нечетными индексами, то есть начиная со второго символа строки.\n",
    "\n",
    "В седьмой строке выведите все символы в обратном порядке.\n",
    "\n",
    "В восьмой строке выведите все символы строки через один в обратном порядке, начиная с последнего.\n",
    "\n",
    "В девятой строке выведите длину данной строки."
   ]
  },
  {
   "cell_type": "code",
   "execution_count": 65,
   "id": "e4fb6ec9-a3b6-48d1-b441-51976385c063",
   "metadata": {},
   "outputs": [
    {
     "name": "stdout",
     "output_type": "stream",
     "text": [
      "r\n",
      "r\n",
      "Abrak\n",
      "Abrakadab\n",
      "Arkdba\n",
      "baaar\n",
      "arbadakarbA\n",
      "abdkrA\n",
      "11\n"
     ]
    }
   ],
   "source": [
    "s = 'Abrakadabra'\n",
    "\n",
    "print(s[2])\n",
    "print(s[-2])\n",
    "print(s[:5])\n",
    "print(s[:-2])\n",
    "print(s[0::2])\n",
    "print(s[1::2])\n",
    "print(s[::-1])\n",
    "print(s[-1::-2])\n",
    "print(len(s))"
   ]
  },
  {
   "cell_type": "markdown",
   "id": "7dafaab5-5b5a-4b26-9464-26c5e46e59ec",
   "metadata": {},
   "source": [
    "### 5.2 Задача «Количество слов»\n",
    "### Условие\n",
    "Дана строка, состоящая из слов, разделенных пробелами. Определите, сколько в ней слов. Используйте для решения задачи метод count."
   ]
  },
  {
   "cell_type": "code",
   "execution_count": 66,
   "id": "0b6b9b17-a0b0-4fcf-9464-ddd48e2d8423",
   "metadata": {},
   "outputs": [
    {
     "name": "stdout",
     "output_type": "stream",
     "text": [
      "2\n"
     ]
    }
   ],
   "source": [
    "s = 'Hello world'\n",
    "\n",
    "print(s.count(' ')+1)"
   ]
  },
  {
   "cell_type": "markdown",
   "id": "10dd6606-fd91-4f4d-975c-ce770b371a0b",
   "metadata": {},
   "source": [
    "## 5.3 Задача «Две половинки»\n",
    "### Условие\n",
    "Дана строка. Разрежьте ее на две равные части (если длина строки — четная, а если длина строки нечетная, то длина первой части должна быть на один символ больше). Переставьте эти две части местами, результат запишите в новую строку и выведите на экран.\n",
    "\n",
    "При решении этой задачи не стоит пользоваться инструкцией if."
   ]
  },
  {
   "cell_type": "code",
   "execution_count": 67,
   "id": "44f88026-be77-4fc3-9f32-16ef6ac6ac73",
   "metadata": {},
   "outputs": [
    {
     "name": "stdout",
     "output_type": "stream",
     "text": [
      "worldHello \n"
     ]
    }
   ],
   "source": [
    "s = 'Hello world'\n",
    "length =  len(s) + 1\n",
    "part_1 = s[:length // 2]\n",
    "part_2 = s[length // 2:]\n",
    "roll = part_2 + part_1\n",
    "print(roll)"
   ]
  },
  {
   "cell_type": "markdown",
   "id": "1eb47c83-ab56-40e8-9e71-f30774fa2026",
   "metadata": {},
   "source": [
    "### Задача 5.4 «Переставить два слова»\n",
    "### Условие\n",
    "Дана строка, состоящая ровно из двух слов, разделенных пробелом. Переставьте эти слова местами. Результат запишите в строку и выведите получившуюся строку.\n",
    "\n",
    "При решении этой задачи не стоит пользоваться циклами и инструкцией if."
   ]
  },
  {
   "cell_type": "code",
   "execution_count": 68,
   "id": "6db09703-20f1-4633-a11e-acd2128d201e",
   "metadata": {},
   "outputs": [
    {
     "name": "stdout",
     "output_type": "stream",
     "text": [
      "world! Hello,\n"
     ]
    }
   ],
   "source": [
    "s = 'Hello, world!'\n",
    "slice = s.split(' ')\n",
    "string = slice[1] + ' ' + slice[0]\n",
    "print(string)"
   ]
  },
  {
   "cell_type": "markdown",
   "id": "d31fac4d-00a4-43c0-9b11-e7a5817bcb9e",
   "metadata": {},
   "source": [
    "### Задача 5.5 «Первое и последнее вхождения»\n",
    "### Условие\n",
    "Дана строка. Если в этой строке буква f встречается только один раз, выведите её индекс. Если она встречается два и более раз, выведите индекс её первого и последнего появления. Если буква f в данной строке не встречается, ничего не выводите.\n",
    "\n",
    "При решении этой задачи не стоит использовать циклы."
   ]
  },
  {
   "cell_type": "code",
   "execution_count": 69,
   "id": "6fce1160-2032-46c5-908d-31427c747841",
   "metadata": {},
   "outputs": [
    {
     "name": "stdout",
     "output_type": "stream",
     "text": [
      "1 2\n"
     ]
    }
   ],
   "source": [
    "s = 'office'\n",
    "word = 'f'\n",
    "if s.count(word) == 1:\n",
    "    print(s.find(word))\n",
    "elif s.count(word) >= 2:\n",
    "    print(s.find(word), s.rfind(word))\n",
    "else:\n",
    "    print('')"
   ]
  },
  {
   "cell_type": "markdown",
   "id": "3d32b394-ca9d-496d-b2e6-136bbcce6cd2",
   "metadata": {},
   "source": [
    "### Задача 5.6 «Второе вхождение»\n",
    "### Условие\n",
    "Дана строка. Найдите в этой строке второе вхождение буквы f, и выведите индекс этого вхождения. Если буква f в данной строке встречается только один раз, выведите число -1, а если не встречается ни разу, выведите число -2."
   ]
  },
  {
   "cell_type": "code",
   "execution_count": 70,
   "id": "6a470b83-62d2-4f2b-abb6-6acb2a347bff",
   "metadata": {},
   "outputs": [
    {
     "name": "stdout",
     "output_type": "stream",
     "text": [
      "2\n"
     ]
    }
   ],
   "source": [
    "s = 'office'\n",
    "word = 'f'\n",
    "if s.count(word) == 1:\n",
    "    print('-1')\n",
    "elif s.count(word) == 0:\n",
    "        print('-2')\n",
    "else:\n",
    "    print(s.find(word, s.find(word) + 1))"
   ]
  },
  {
   "cell_type": "markdown",
   "id": "5473c852-0a50-4563-86e9-1820be24fd72",
   "metadata": {},
   "source": [
    "### 5.7 Задача «Удаление фрагмента»\n",
    "### Условие\n",
    "Дана строка, в которой буква h встречается минимум два раза. Удалите из этой строки первое и последнее вхождение буквы h, а также все символы, находящиеся между ними."
   ]
  },
  {
   "cell_type": "code",
   "execution_count": 71,
   "id": "369de0aa-d3cd-4777-839b-f76f2a2f6b30",
   "metadata": {},
   "outputs": [
    {
     "name": "stdout",
     "output_type": "stream",
     "text": [
      "In tobbit\n"
     ]
    }
   ],
   "source": [
    "s = 'In the hole in the ground there lived a hobbit'\n",
    "word = 'h'\n",
    "print(s[:s.find(word)] + s[s.rfind(word) + 1:])"
   ]
  },
  {
   "cell_type": "markdown",
   "id": "875de4d9-d7b4-409a-82d8-5f17ee1f6264",
   "metadata": {},
   "source": [
    "### Задача 5.8 «Обращение фрагмента»\n",
    "### Условие\n",
    "Дана строка, в которой буква h встречается как минимум два раза. Разверните последовательность символов, заключенную между первым и последним появлением буквы h, в противоположном порядке."
   ]
  },
  {
   "cell_type": "code",
   "execution_count": 72,
   "id": "f1590f4f-c0e8-46a8-a337-cacd9987b3e7",
   "metadata": {},
   "outputs": [
    {
     "name": "stdout",
     "output_type": "stream",
     "text": [
      "In th a devil ereht dnuorg eht ni eloh ehobbit\n"
     ]
    }
   ],
   "source": [
    "s = 'In the hole in the ground there lived a hobbit'\n",
    "word = 'h'\n",
    "part_1 = s[:s.find(word)]\n",
    "part_2 = s[s.rfind(word): s.find(word):-1]\n",
    "part_3 = s[s.rfind(word):]\n",
    "print(part_1 + part_2 + part_3)"
   ]
  },
  {
   "cell_type": "markdown",
   "id": "0471e726-9c4d-4009-bdae-4b6f23f99cd1",
   "metadata": {},
   "source": [
    "### Задача 5.9 «Замена подстроки»\n",
    "### Условие\n",
    "Дана строка. Замените в этой строке все цифры 1 на слово one."
   ]
  },
  {
   "cell_type": "code",
   "execution_count": 73,
   "id": "7e8e4144-859e-43c2-92d6-346753fa828e",
   "metadata": {},
   "outputs": [
    {
     "name": "stdout",
     "output_type": "stream",
     "text": [
      "one+one=2\n"
     ]
    }
   ],
   "source": [
    "s = '1+1=2'\n",
    "print(s.replace('1', 'one'))"
   ]
  },
  {
   "cell_type": "markdown",
   "id": "57a50afd-7002-4415-997a-a9df2865af00",
   "metadata": {},
   "source": [
    "### Задача 5.10 «Удаление символа»\n",
    "### Условие\n",
    "Дана строка. Удалите из этой строки все символы @."
   ]
  },
  {
   "cell_type": "code",
   "execution_count": 74,
   "id": "fb8a0683-e2ad-4308-b345-9b644e897041",
   "metadata": {},
   "outputs": [
    {
     "name": "stdout",
     "output_type": "stream",
     "text": [
      "Bilbo.Bagginsbagend.hobbiton.shire.me\n"
     ]
    }
   ],
   "source": [
    "s = 'Bilbo.Baggins@bagend.hobbiton.shire.me'\n",
    "print(s.replace('@', ''))"
   ]
  },
  {
   "cell_type": "markdown",
   "id": "013e973b-8270-4daf-bdcf-e84b70d04559",
   "metadata": {},
   "source": [
    "### Задача 5.11 «Замена внутри фрагмента»\n",
    "### Условие\n",
    "Дана строка. Замените в этой строке все появления буквы h на букву H, кроме первого и последнего вхождения."
   ]
  },
  {
   "cell_type": "code",
   "execution_count": 75,
   "id": "5e9ccac6-bb33-493c-b746-15428346e90b",
   "metadata": {},
   "outputs": [
    {
     "name": "stdout",
     "output_type": "stream",
     "text": [
      "In the Hole in tHe ground tHere lived a hobbit\n"
     ]
    }
   ],
   "source": [
    "s = 'In the hole in the ground there lived a hobbit'\n",
    "word = 'h'\n",
    "part_1 = s[:s.find(word) + 1]\n",
    "part_2 = s[s.find(word) + 1: s.rfind(word)]\n",
    "part_3 = s[s.rfind(word):]\n",
    "print(part_1 + part_2.replace(word, 'H') + part_3)"
   ]
  },
  {
   "cell_type": "markdown",
   "id": "19ecc39f-b244-46a4-8cfc-11f09ad68772",
   "metadata": {},
   "source": [
    "### Задача 5.12 «Удалить каждый третий символ»\n",
    "### Условие\n",
    "Дана строка. Удалите из нее все символы, чьи индексы делятся на 3."
   ]
  },
  {
   "cell_type": "code",
   "execution_count": 76,
   "id": "71494f56-4656-4c05-abaf-603fe84b7e54",
   "metadata": {},
   "outputs": [
    {
     "name": "stdout",
     "output_type": "stream",
     "text": [
      "yton"
     ]
    }
   ],
   "source": [
    "s = 'Python'\n",
    "for i in range(1, len(s)):\n",
    "    if i % 3 != 0:\n",
    "        print(s[i], end = '')"
   ]
  }
 ],
 "metadata": {
  "kernelspec": {
   "display_name": "Python 3 (ipykernel)",
   "language": "python",
   "name": "python3"
  },
  "language_info": {
   "codemirror_mode": {
    "name": "ipython",
    "version": 3
   },
   "file_extension": ".py",
   "mimetype": "text/x-python",
   "name": "python",
   "nbconvert_exporter": "python",
   "pygments_lexer": "ipython3",
   "version": "3.9.12"
  }
 },
 "nbformat": 4,
 "nbformat_minor": 5
}
